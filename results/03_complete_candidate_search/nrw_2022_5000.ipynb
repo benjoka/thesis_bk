{
 "cells": [
  {
   "metadata": {},
   "cell_type": "markdown",
   "source": [
    "# Complete candidate search (nrw_2022, 5,000 sequences)\n",
    "This notebook contains the evaluation of the complete candidate search concerning the aggregate due_2022 with 5,000 sequences. Breadth search and depth search results were taken into account.\n",
    "The distance matrices were evaluated in terms of infection recall. Furthermore, the mst structure was evaluated based on community ARI, lineage purity and mean edge weight. MSTs were generated to compare the results with the MST of the optimized algorithm regarding the distribution of outbreak-related attributes."
   ],
   "id": "bddb39545f74fc1"
  },
  {
   "cell_type": "code",
   "execution_count": 1,
   "id": "b2c3d2f8-d7a0-4f5f-a76c-d484d076de38",
   "metadata": {},
   "outputs": [
    {
     "name": "stdout",
     "output_type": "stream",
     "text": [
      "\u001B[33mWARNING: Ignoring invalid distribution ~entrain (/Users/benkraling/Library/jupyterlab-desktop/jlab_server/lib/python3.12/site-packages)\u001B[0m\u001B[33m\n",
      "\u001B[0mProcessing /Users/benkraling/code/thesis/gentrain\n",
      "  Preparing metadata (setup.py) ... \u001B[?25ldone\n",
      "\u001B[?25hRequirement already satisfied: biopython in /Users/benkraling/Library/jupyterlab-desktop/jlab_server/lib/python3.12/site-packages (from gentrain==0.1.2) (1.85)\n",
      "Requirement already satisfied: networkx in /Users/benkraling/Library/jupyterlab-desktop/jlab_server/lib/python3.12/site-packages (from gentrain==0.1.2) (3.4.2)\n",
      "Requirement already satisfied: matplotlib in /Users/benkraling/Library/jupyterlab-desktop/jlab_server/lib/python3.12/site-packages (from gentrain==0.1.2) (3.9.2)\n",
      "Requirement already satisfied: pandas in /Users/benkraling/Library/jupyterlab-desktop/jlab_server/lib/python3.12/site-packages (from gentrain==0.1.2) (2.2.2)\n",
      "Requirement already satisfied: numpy in /Users/benkraling/Library/jupyterlab-desktop/jlab_server/lib/python3.12/site-packages (from gentrain==0.1.2) (2.1.0)\n",
      "Requirement already satisfied: contourpy>=1.0.1 in /Users/benkraling/Library/jupyterlab-desktop/jlab_server/lib/python3.12/site-packages (from matplotlib->gentrain==0.1.2) (1.2.1)\n",
      "Requirement already satisfied: cycler>=0.10 in /Users/benkraling/Library/jupyterlab-desktop/jlab_server/lib/python3.12/site-packages (from matplotlib->gentrain==0.1.2) (0.12.1)\n",
      "Requirement already satisfied: fonttools>=4.22.0 in /Users/benkraling/Library/jupyterlab-desktop/jlab_server/lib/python3.12/site-packages (from matplotlib->gentrain==0.1.2) (4.53.1)\n",
      "Requirement already satisfied: kiwisolver>=1.3.1 in /Users/benkraling/Library/jupyterlab-desktop/jlab_server/lib/python3.12/site-packages (from matplotlib->gentrain==0.1.2) (1.4.5)\n",
      "Requirement already satisfied: packaging>=20.0 in /Users/benkraling/Library/jupyterlab-desktop/jlab_server/lib/python3.12/site-packages (from matplotlib->gentrain==0.1.2) (25.0)\n",
      "Requirement already satisfied: pillow>=8 in /Users/benkraling/Library/jupyterlab-desktop/jlab_server/lib/python3.12/site-packages (from matplotlib->gentrain==0.1.2) (10.4.0)\n",
      "Requirement already satisfied: pyparsing>=2.3.1 in /Users/benkraling/Library/jupyterlab-desktop/jlab_server/lib/python3.12/site-packages (from matplotlib->gentrain==0.1.2) (3.1.4)\n",
      "Requirement already satisfied: python-dateutil>=2.7 in /Users/benkraling/Library/jupyterlab-desktop/jlab_server/lib/python3.12/site-packages (from matplotlib->gentrain==0.1.2) (2.9.0)\n",
      "Requirement already satisfied: pytz>=2020.1 in /Users/benkraling/Library/jupyterlab-desktop/jlab_server/lib/python3.12/site-packages (from pandas->gentrain==0.1.2) (2024.1)\n",
      "Requirement already satisfied: tzdata>=2022.7 in /Users/benkraling/Library/jupyterlab-desktop/jlab_server/lib/python3.12/site-packages (from pandas->gentrain==0.1.2) (2024.1)\n",
      "Requirement already satisfied: six>=1.5 in /Users/benkraling/Library/jupyterlab-desktop/jlab_server/lib/python3.12/site-packages (from python-dateutil>=2.7->matplotlib->gentrain==0.1.2) (1.16.0)\n",
      "Building wheels for collected packages: gentrain\n",
      "  Building wheel for gentrain (setup.py) ... \u001B[?25ldone\n",
      "\u001B[?25h  Created wheel for gentrain: filename=gentrain-0.1.2-py3-none-any.whl size=26677 sha256=16241c3b3bc2dafcfc1099a4f1f8d5a9973f4d8cbf9458f521d73895b7d8adb7\n",
      "  Stored in directory: /private/var/folders/2h/923cq6912sqb0snfvqqfdnmm0000gn/T/pip-ephem-wheel-cache-f_znmrgd/wheels/cf/e4/57/91c03db2e8c043adeefe35dd0969d3049f61ae0218be0acc9f\n",
      "Successfully built gentrain\n",
      "\u001B[33mWARNING: Ignoring invalid distribution ~entrain (/Users/benkraling/Library/jupyterlab-desktop/jlab_server/lib/python3.12/site-packages)\u001B[0m\u001B[33m\n",
      "\u001B[0mInstalling collected packages: gentrain\n",
      "  Attempting uninstall: gentrain\n",
      "    Found existing installation: gentrain 0.1.2\n",
      "    Uninstalling gentrain-0.1.2:\n",
      "      Successfully uninstalled gentrain-0.1.2\n",
      "\u001B[33mWARNING: Ignoring invalid distribution ~entrain (/Users/benkraling/Library/jupyterlab-desktop/jlab_server/lib/python3.12/site-packages)\u001B[0m\u001B[33m\n",
      "\u001B[0mSuccessfully installed gentrain-0.1.2\n"
     ]
    }
   ],
   "source": [
    "!pip install ../../gentrain/."
   ]
  },
  {
   "cell_type": "code",
   "execution_count": 2,
   "id": "f44740de-5142-4e08-bce3-d5bc45c50668",
   "metadata": {},
   "outputs": [],
   "source": [
    "import pandas as pd\n",
    "import plotly.express as px\n",
    "import plotly.graph_objects as go\n",
    "import re\n",
    "from sklearn.preprocessing import MultiLabelBinarizer\n",
    "from sklearn.metrics import adjusted_rand_score\n",
    "from sklearn.preprocessing import LabelEncoder\n",
    "import numpy as np\n",
    "import pickle\n",
    "from gentrain.evaluation import get_computation_rate_plot, candidate_evaluation_and_matrices, get_candidate_evaluation_and_export_mst\n",
    "from sklearn.preprocessing import MultiLabelBinarizer\n",
    "from sklearn.preprocessing import LabelEncoder\n",
    "from gentrain.encoding import get_nucleotide_sensitive_encodings, get_mutation_sensitive_encodings, generate_one_hot_encoding\n",
    "from gentrain.nextclade import get_mutations_from_dataframe\n",
    "from gentrain.candidate_sourcing import bitwise_xor_candidates\n",
    "from gentrain.graph import build_mst, export_graph_gexf, mean_edge_weight, get_outbreak_community_labels, build_graph\n",
    "from scipy.spatial.distance import pdist\n",
    "import community as community_louvain\n",
    "import umap\n",
    "import faiss\n",
    "from sklearn.cluster import DBSCAN\n",
    "from sklearn.metrics import pairwise_distances_argmin\n",
    "import os\n",
    "import shutil"
   ]
  },
  {
   "cell_type": "code",
   "execution_count": 3,
   "id": "5f2a8da5-9870-496c-a865-a88ad17c4e67",
   "metadata": {},
   "outputs": [],
   "source": [
    "aggregate = \"nrw_2022\"\n",
    "size = 5000"
   ]
  },
  {
   "cell_type": "code",
   "execution_count": 4,
   "id": "50d5222f-0e59-4b0c-a168-81ce45a7712b",
   "metadata": {},
   "outputs": [],
   "source": [
    "graph_path = f\"graphs/{aggregate}/{size}\"\n",
    "if os.path.exists(f\"graphs/{aggregate}/{size}\") and os.path.isdir(f\"graphs/{aggregate}/{size}\"):\n",
    "    shutil.rmtree(f\"graphs/{aggregate}/{size}\")\n",
    "if not os.path.exists(f\"graphs/{aggregate}\"):\n",
    "    os.mkdir(f\"graphs/{aggregate}\")\n",
    "os.mkdir(f\"graphs/{aggregate}/{size}\")"
   ]
  },
  {
   "cell_type": "code",
   "execution_count": 5,
   "id": "3cf8da80-ea93-4ca0-9697-f1eb2587b47e",
   "metadata": {},
   "outputs": [],
   "source": [
    "sequences_df = pd.read_csv(f\"../00_data_understanding_and_preparation/aggregates/{aggregate}/{size}/sequences_and_metadata.csv\", delimiter=\";\").set_index(\"igs_id\").sort_index()\n",
    "sequences_count = len(sequences_df)"
   ]
  },
  {
   "cell_type": "code",
   "execution_count": 6,
   "id": "078e2f36-de8b-4d3b-a2e9-9c87a45a71de",
   "metadata": {},
   "outputs": [],
   "source": [
    "mutations_df = get_mutations_from_dataframe(sequences_df)"
   ]
  },
  {
   "cell_type": "code",
   "execution_count": 7,
   "id": "d50663f5-014f-4f9f-9c78-d436762132db",
   "metadata": {},
   "outputs": [],
   "source": [
    "distance_matrix_df = pd.read_csv(f\"../01_algorithm_optimization/distance_matrices/{aggregate}/{size}/distance_matrix.csv\", delimiter=\";\",\n",
    "                                     index_col=\"Unnamed: 0\").sort_index()\n",
    "distance_matrix_df = distance_matrix_df[~distance_matrix_df.index.duplicated(keep=\"first\")]\n",
    "distance_matrix_df = distance_matrix_df.loc[sequences_df.index, sequences_df.index]\n",
    "distance_matrix = distance_matrix_df.to_numpy()"
   ]
  },
  {
   "cell_type": "code",
   "execution_count": 8,
   "id": "3b35e69d-4761-462e-9d3b-092b08fb6b4b",
   "metadata": {},
   "outputs": [
    {
     "name": "stdout",
     "output_type": "stream",
     "text": [
      "mst generation time: 94.67s\n"
     ]
    }
   ],
   "source": [
    "gentrain_graph = build_graph(distance_matrix)\n",
    "gentrain_mst = build_mst(gentrain_graph)\n",
    "gentrain_community_labels = get_outbreak_community_labels(gentrain_mst)\n",
    "datetime_sampling_dates = pd.to_datetime(sequences_df[\"date_of_sampling\"])\n",
    "numeric_dates = (datetime_sampling_dates - datetime_sampling_dates.min()).dt.days\n",
    "export_graph_gexf(gentrain_mst, gentrain_community_labels, sequences_df, f\"{graph_path}/brute_force\")"
   ]
  },
  {
   "cell_type": "code",
   "execution_count": 9,
   "id": "c504fa21-2b4c-4180-b99c-a40c21076af3",
   "metadata": {},
   "outputs": [],
   "source": [
    "mask = np.triu(np.ones(distance_matrix_df.shape), k=1).astype(bool)\n",
    "filtered = distance_matrix_df.where(mask)\n",
    "infections_count = (filtered < 2).sum().sum()\n",
    "distances_count = filtered.count().sum()"
   ]
  },
  {
   "cell_type": "markdown",
   "id": "66f0ca76-b701-46c3-b74c-e42d9d0b5fbf",
   "metadata": {},
   "source": [
    "## Encoding"
   ]
  },
  {
   "cell_type": "code",
   "execution_count": 10,
   "id": "ac49fd8d-c708-423b-8e1d-5bcf1545e11a",
   "metadata": {},
   "outputs": [
    {
     "name": "stdout",
     "output_type": "stream",
     "text": [
      "execution time: 73.74s\n"
     ]
    }
   ],
   "source": [
    "encodings_N_frequency_filter = get_mutation_sensitive_encodings(sequences_df, exclude_indels=False, use_frequency_filtering=False, filter_N=True)"
   ]
  },
  {
   "cell_type": "code",
   "execution_count": 11,
   "id": "a4c9d825-a963-426d-99cb-adb91b379589",
   "metadata": {},
   "outputs": [
    {
     "name": "stdout",
     "output_type": "stream",
     "text": [
      "execution time: 71.24s\n"
     ]
    }
   ],
   "source": [
    "encodings_N_and_SNV_frequency_filter = get_mutation_sensitive_encodings(sequences_df, exclude_indels=False, use_frequency_filtering=True, filter_N=True)"
   ]
  },
  {
   "cell_type": "markdown",
   "id": "57fd76ff-715d-4385-afe0-9f1e29098bf0",
   "metadata": {},
   "source": [
    "## Accurate candidate search"
   ]
  },
  {
   "cell_type": "markdown",
   "id": "591d789d-df98-4206-9f1d-e3c5228e3611",
   "metadata": {},
   "source": [
    "### Depth search with N frequency filter"
   ]
  },
  {
   "cell_type": "code",
   "execution_count": 12,
   "id": "01485fed-0015-4967-8418-df04fead5129",
   "metadata": {},
   "outputs": [
    {
     "name": "stdout",
     "output_type": "stream",
     "text": [
      "execution time xor distance calculation: 86.37s\n",
      "execution time depth search: 8.95s\n",
      "execution time 624875: 98.07s\n",
      "mst generation time: 4.95s\n",
      "execution time xor distance calculation: 86.05s\n",
      "execution time depth search: 10.32s\n",
      "execution time 1249750: 98.15s\n",
      "mst generation time: 6.7s\n",
      "execution time xor distance calculation: 84.66s\n",
      "execution time depth search: 11.18s\n",
      "execution time 1874625: 97.79s\n",
      "mst generation time: 14.25s\n",
      "execution time xor distance calculation: 84.21s\n",
      "execution time depth search: 10.18s\n",
      "execution time 2499500: 96.45s\n",
      "mst generation time: 17.46s\n"
     ]
    }
   ],
   "source": [
    "depth_search_N_frequency_filter = []\n",
    "for computation_rate in [0.05, 0.1, 0.15, 0.2]:\n",
    "    limit = int(computation_rate*distances_count)\n",
    "    candidates, runtime = bitwise_xor_candidates(encodings_N_frequency_filter, limit, \"depth\")\n",
    "    depth_search_N_frequency_filter.append(get_candidate_evaluation_and_export_mst(\"depth_N\", candidates, graph_path, distance_matrix, gentrain_community_labels, gentrain_mst, list(sequences_df[\"clade\"]), sequences_df, runtime))"
   ]
  },
  {
   "cell_type": "code",
   "execution_count": 13,
   "id": "50ea1450-35f7-4b56-bd2b-b2f1a1a76fd6",
   "metadata": {},
   "outputs": [
    {
     "data": {
      "text/html": [
       "<div>\n",
       "<style scoped>\n",
       "    .dataframe tbody tr th:only-of-type {\n",
       "        vertical-align: middle;\n",
       "    }\n",
       "\n",
       "    .dataframe tbody tr th {\n",
       "        vertical-align: top;\n",
       "    }\n",
       "\n",
       "    .dataframe thead th {\n",
       "        text-align: right;\n",
       "    }\n",
       "</style>\n",
       "<table border=\"1\" class=\"dataframe\">\n",
       "  <thead>\n",
       "    <tr style=\"text-align: right;\">\n",
       "      <th></th>\n",
       "      <th>computation_rate</th>\n",
       "      <th>infection_detection_rate</th>\n",
       "      <th>infection_recall</th>\n",
       "      <th>infection_precision</th>\n",
       "      <th>infection_f1</th>\n",
       "      <th>runtime</th>\n",
       "      <th>mean_edge_weight</th>\n",
       "      <th>mean_edge_weight_diff</th>\n",
       "      <th>max_edge_weight</th>\n",
       "      <th>subgraph_count</th>\n",
       "      <th>adjusted_rand_index</th>\n",
       "      <th>lineage_purity</th>\n",
       "      <th>lineage_purity_diff</th>\n",
       "    </tr>\n",
       "  </thead>\n",
       "  <tbody>\n",
       "    <tr>\n",
       "      <th>0</th>\n",
       "      <td>0.05</td>\n",
       "      <td>0.912987</td>\n",
       "      <td>1.0</td>\n",
       "      <td>1.0</td>\n",
       "      <td>0.912987</td>\n",
       "      <td>98.07</td>\n",
       "      <td>3.233542</td>\n",
       "      <td>-0.194444</td>\n",
       "      <td>15.0</td>\n",
       "      <td>358</td>\n",
       "      <td>0.372452</td>\n",
       "      <td>0.983308</td>\n",
       "      <td>0.028308</td>\n",
       "    </tr>\n",
       "    <tr>\n",
       "      <th>1</th>\n",
       "      <td>0.10</td>\n",
       "      <td>0.969776</td>\n",
       "      <td>1.0</td>\n",
       "      <td>1.0</td>\n",
       "      <td>0.969776</td>\n",
       "      <td>98.15</td>\n",
       "      <td>3.331951</td>\n",
       "      <td>-0.096034</td>\n",
       "      <td>19.0</td>\n",
       "      <td>152</td>\n",
       "      <td>0.626862</td>\n",
       "      <td>0.968332</td>\n",
       "      <td>0.013332</td>\n",
       "    </tr>\n",
       "    <tr>\n",
       "      <th>2</th>\n",
       "      <td>0.15</td>\n",
       "      <td>0.986541</td>\n",
       "      <td>1.0</td>\n",
       "      <td>1.0</td>\n",
       "      <td>0.986541</td>\n",
       "      <td>97.79</td>\n",
       "      <td>3.314154</td>\n",
       "      <td>-0.113831</td>\n",
       "      <td>19.0</td>\n",
       "      <td>111</td>\n",
       "      <td>0.776623</td>\n",
       "      <td>0.959975</td>\n",
       "      <td>0.004975</td>\n",
       "    </tr>\n",
       "    <tr>\n",
       "      <th>3</th>\n",
       "      <td>0.20</td>\n",
       "      <td>0.990909</td>\n",
       "      <td>1.0</td>\n",
       "      <td>1.0</td>\n",
       "      <td>0.990909</td>\n",
       "      <td>96.45</td>\n",
       "      <td>3.337897</td>\n",
       "      <td>-0.090089</td>\n",
       "      <td>22.0</td>\n",
       "      <td>84</td>\n",
       "      <td>0.817148</td>\n",
       "      <td>0.954268</td>\n",
       "      <td>-0.000732</td>\n",
       "    </tr>\n",
       "  </tbody>\n",
       "</table>\n",
       "</div>"
      ],
      "text/plain": [
       "   computation_rate  infection_detection_rate  infection_recall  \\\n",
       "0              0.05                  0.912987               1.0   \n",
       "1              0.10                  0.969776               1.0   \n",
       "2              0.15                  0.986541               1.0   \n",
       "3              0.20                  0.990909               1.0   \n",
       "\n",
       "   infection_precision  infection_f1  runtime  mean_edge_weight  \\\n",
       "0                  1.0      0.912987    98.07          3.233542   \n",
       "1                  1.0      0.969776    98.15          3.331951   \n",
       "2                  1.0      0.986541    97.79          3.314154   \n",
       "3                  1.0      0.990909    96.45          3.337897   \n",
       "\n",
       "   mean_edge_weight_diff  max_edge_weight  subgraph_count  \\\n",
       "0              -0.194444             15.0             358   \n",
       "1              -0.096034             19.0             152   \n",
       "2              -0.113831             19.0             111   \n",
       "3              -0.090089             22.0              84   \n",
       "\n",
       "   adjusted_rand_index  lineage_purity  lineage_purity_diff  \n",
       "0             0.372452        0.983308             0.028308  \n",
       "1             0.626862        0.968332             0.013332  \n",
       "2             0.776623        0.959975             0.004975  \n",
       "3             0.817148        0.954268            -0.000732  "
      ]
     },
     "execution_count": 13,
     "metadata": {},
     "output_type": "execute_result"
    }
   ],
   "source": [
    "pd.DataFrame(depth_search_N_frequency_filter)"
   ]
  },
  {
   "cell_type": "markdown",
   "id": "8fcc2ca5-54ca-4b7b-98df-db24eef06c19",
   "metadata": {},
   "source": [
    "### Breadth search with N frequency filter"
   ]
  },
  {
   "cell_type": "code",
   "execution_count": 14,
   "id": "347c5384-4535-4c9b-a5f1-8edb46ae0cfe",
   "metadata": {},
   "outputs": [
    {
     "name": "stdout",
     "output_type": "stream",
     "text": [
      "matrix generation time: 64.75s\n",
      "execution time distance collection: 14.53s\n",
      "execution time breadth search: 12.5s\n",
      "execution time 624875: 93.78s\n",
      "mst generation time: 4.34s\n",
      "matrix generation time: 61.69s\n",
      "execution time distance collection: 14.47s\n",
      "execution time breadth search: 12.41s\n",
      "execution time 1249750: 90.83s\n",
      "mst generation time: 6.75s\n",
      "matrix generation time: 63.64s\n",
      "execution time distance collection: 13.85s\n",
      "execution time breadth search: 12.34s\n",
      "execution time 1874625: 91.7s\n",
      "mst generation time: 10.52s\n",
      "matrix generation time: 63.99s\n",
      "execution time distance collection: 13.41s\n",
      "execution time breadth search: 12.1s\n",
      "execution time 2499500: 91.38s\n",
      "mst generation time: 12.71s\n"
     ]
    }
   ],
   "source": [
    "breadth_search_N_frequency_filter = []\n",
    "for computation_rate in [0.05, 0.1, 0.15, 0.2]:\n",
    "    limit = int(computation_rate*distances_count)\n",
    "    candidates, runtime = bitwise_xor_candidates(encodings_N_frequency_filter, limit, \"breadth\")\n",
    "    breadth_search_N_frequency_filter.append(get_candidate_evaluation_and_export_mst(\"breadth_N\", candidates, graph_path, distance_matrix, gentrain_community_labels, gentrain_mst, list(sequences_df[\"clade\"]), sequences_df, runtime))"
   ]
  },
  {
   "cell_type": "code",
   "execution_count": 15,
   "id": "b1395206-26ed-4505-aa61-c5e1d9a2f9aa",
   "metadata": {},
   "outputs": [
    {
     "data": {
      "text/html": [
       "<div>\n",
       "<style scoped>\n",
       "    .dataframe tbody tr th:only-of-type {\n",
       "        vertical-align: middle;\n",
       "    }\n",
       "\n",
       "    .dataframe tbody tr th {\n",
       "        vertical-align: top;\n",
       "    }\n",
       "\n",
       "    .dataframe thead th {\n",
       "        text-align: right;\n",
       "    }\n",
       "</style>\n",
       "<table border=\"1\" class=\"dataframe\">\n",
       "  <thead>\n",
       "    <tr style=\"text-align: right;\">\n",
       "      <th></th>\n",
       "      <th>computation_rate</th>\n",
       "      <th>infection_detection_rate</th>\n",
       "      <th>infection_recall</th>\n",
       "      <th>infection_precision</th>\n",
       "      <th>infection_f1</th>\n",
       "      <th>runtime</th>\n",
       "      <th>mean_edge_weight</th>\n",
       "      <th>mean_edge_weight_diff</th>\n",
       "      <th>max_edge_weight</th>\n",
       "      <th>subgraph_count</th>\n",
       "      <th>adjusted_rand_index</th>\n",
       "      <th>lineage_purity</th>\n",
       "      <th>lineage_purity_diff</th>\n",
       "    </tr>\n",
       "  </thead>\n",
       "  <tbody>\n",
       "    <tr>\n",
       "      <th>0</th>\n",
       "      <td>0.049380</td>\n",
       "      <td>0.775207</td>\n",
       "      <td>1.0</td>\n",
       "      <td>1.0</td>\n",
       "      <td>0.775207</td>\n",
       "      <td>93.78</td>\n",
       "      <td>3.634947</td>\n",
       "      <td>0.206961</td>\n",
       "      <td>74.0</td>\n",
       "      <td>1</td>\n",
       "      <td>0.383423</td>\n",
       "      <td>0.9678</td>\n",
       "      <td>0.0128</td>\n",
       "    </tr>\n",
       "    <tr>\n",
       "      <th>1</th>\n",
       "      <td>0.097510</td>\n",
       "      <td>0.880756</td>\n",
       "      <td>1.0</td>\n",
       "      <td>1.0</td>\n",
       "      <td>0.880756</td>\n",
       "      <td>90.83</td>\n",
       "      <td>3.563973</td>\n",
       "      <td>0.135987</td>\n",
       "      <td>74.0</td>\n",
       "      <td>1</td>\n",
       "      <td>0.488546</td>\n",
       "      <td>0.9646</td>\n",
       "      <td>0.0096</td>\n",
       "    </tr>\n",
       "    <tr>\n",
       "      <th>2</th>\n",
       "      <td>0.144389</td>\n",
       "      <td>0.928571</td>\n",
       "      <td>1.0</td>\n",
       "      <td>1.0</td>\n",
       "      <td>0.928571</td>\n",
       "      <td>91.70</td>\n",
       "      <td>3.521184</td>\n",
       "      <td>0.093199</td>\n",
       "      <td>74.0</td>\n",
       "      <td>1</td>\n",
       "      <td>0.585905</td>\n",
       "      <td>0.9644</td>\n",
       "      <td>0.0094</td>\n",
       "    </tr>\n",
       "    <tr>\n",
       "      <th>3</th>\n",
       "      <td>0.190018</td>\n",
       "      <td>0.951948</td>\n",
       "      <td>1.0</td>\n",
       "      <td>1.0</td>\n",
       "      <td>0.951948</td>\n",
       "      <td>91.38</td>\n",
       "      <td>3.498280</td>\n",
       "      <td>0.070294</td>\n",
       "      <td>74.0</td>\n",
       "      <td>1</td>\n",
       "      <td>0.662671</td>\n",
       "      <td>0.9600</td>\n",
       "      <td>0.0050</td>\n",
       "    </tr>\n",
       "  </tbody>\n",
       "</table>\n",
       "</div>"
      ],
      "text/plain": [
       "   computation_rate  infection_detection_rate  infection_recall  \\\n",
       "0          0.049380                  0.775207               1.0   \n",
       "1          0.097510                  0.880756               1.0   \n",
       "2          0.144389                  0.928571               1.0   \n",
       "3          0.190018                  0.951948               1.0   \n",
       "\n",
       "   infection_precision  infection_f1  runtime  mean_edge_weight  \\\n",
       "0                  1.0      0.775207    93.78          3.634947   \n",
       "1                  1.0      0.880756    90.83          3.563973   \n",
       "2                  1.0      0.928571    91.70          3.521184   \n",
       "3                  1.0      0.951948    91.38          3.498280   \n",
       "\n",
       "   mean_edge_weight_diff  max_edge_weight  subgraph_count  \\\n",
       "0               0.206961             74.0               1   \n",
       "1               0.135987             74.0               1   \n",
       "2               0.093199             74.0               1   \n",
       "3               0.070294             74.0               1   \n",
       "\n",
       "   adjusted_rand_index  lineage_purity  lineage_purity_diff  \n",
       "0             0.383423          0.9678               0.0128  \n",
       "1             0.488546          0.9646               0.0096  \n",
       "2             0.585905          0.9644               0.0094  \n",
       "3             0.662671          0.9600               0.0050  "
      ]
     },
     "execution_count": 15,
     "metadata": {},
     "output_type": "execute_result"
    }
   ],
   "source": [
    "pd.DataFrame(breadth_search_N_frequency_filter)"
   ]
  },
  {
   "cell_type": "markdown",
   "id": "44439e0e-6a3d-40f4-9b99-c7f28105d2ff",
   "metadata": {},
   "source": [
    "### Depth search with N and SNV frequency filter"
   ]
  },
  {
   "cell_type": "code",
   "execution_count": 16,
   "id": "313f3f19-82a5-4378-a621-687117e95cfb",
   "metadata": {},
   "outputs": [
    {
     "name": "stdout",
     "output_type": "stream",
     "text": [
      "execution time xor distance calculation: 52.0s\n",
      "execution time depth search: 8.7s\n",
      "execution time 624875: 62.32s\n",
      "mst generation time: 3.47s\n",
      "execution time xor distance calculation: 51.76s\n",
      "execution time depth search: 8.79s\n",
      "execution time 1249750: 62.09s\n",
      "mst generation time: 6.36s\n",
      "execution time xor distance calculation: 50.66s\n",
      "execution time depth search: 8.78s\n",
      "execution time 1874625: 61.01s\n",
      "mst generation time: 9.52s\n",
      "execution time xor distance calculation: 50.58s\n",
      "execution time depth search: 8.84s\n",
      "execution time 2499500: 60.96s\n",
      "mst generation time: 14.1s\n"
     ]
    }
   ],
   "source": [
    "depth_search_N_and_SNV_frequency_filter = []\n",
    "for computation_rate in [0.05, 0.1, 0.15, 0.2]:\n",
    "    limit = int(computation_rate*distances_count)\n",
    "    candidates, runtime = bitwise_xor_candidates(encodings_N_and_SNV_frequency_filter, limit, \"depth\")\n",
    "    depth_search_N_and_SNV_frequency_filter.append(get_candidate_evaluation_and_export_mst(\"depth_N_and_SNV\", candidates, graph_path, distance_matrix, gentrain_community_labels, gentrain_mst, list(sequences_df[\"clade\"]), sequences_df, runtime))"
   ]
  },
  {
   "cell_type": "code",
   "execution_count": 17,
   "id": "581d199a-3264-49f2-9bde-485494cb5576",
   "metadata": {},
   "outputs": [
    {
     "data": {
      "text/html": [
       "<div>\n",
       "<style scoped>\n",
       "    .dataframe tbody tr th:only-of-type {\n",
       "        vertical-align: middle;\n",
       "    }\n",
       "\n",
       "    .dataframe tbody tr th {\n",
       "        vertical-align: top;\n",
       "    }\n",
       "\n",
       "    .dataframe thead th {\n",
       "        text-align: right;\n",
       "    }\n",
       "</style>\n",
       "<table border=\"1\" class=\"dataframe\">\n",
       "  <thead>\n",
       "    <tr style=\"text-align: right;\">\n",
       "      <th></th>\n",
       "      <th>computation_rate</th>\n",
       "      <th>infection_detection_rate</th>\n",
       "      <th>infection_recall</th>\n",
       "      <th>infection_precision</th>\n",
       "      <th>infection_f1</th>\n",
       "      <th>runtime</th>\n",
       "      <th>mean_edge_weight</th>\n",
       "      <th>mean_edge_weight_diff</th>\n",
       "      <th>max_edge_weight</th>\n",
       "      <th>subgraph_count</th>\n",
       "      <th>adjusted_rand_index</th>\n",
       "      <th>lineage_purity</th>\n",
       "      <th>lineage_purity_diff</th>\n",
       "    </tr>\n",
       "  </thead>\n",
       "  <tbody>\n",
       "    <tr>\n",
       "      <th>0</th>\n",
       "      <td>0.05</td>\n",
       "      <td>0.942385</td>\n",
       "      <td>1.0</td>\n",
       "      <td>1.0</td>\n",
       "      <td>0.942385</td>\n",
       "      <td>62.32</td>\n",
       "      <td>3.213547</td>\n",
       "      <td>-0.214438</td>\n",
       "      <td>22.0</td>\n",
       "      <td>357</td>\n",
       "      <td>0.422696</td>\n",
       "      <td>0.972921</td>\n",
       "      <td>0.017921</td>\n",
       "    </tr>\n",
       "    <tr>\n",
       "      <th>1</th>\n",
       "      <td>0.10</td>\n",
       "      <td>0.978985</td>\n",
       "      <td>1.0</td>\n",
       "      <td>1.0</td>\n",
       "      <td>0.978985</td>\n",
       "      <td>62.09</td>\n",
       "      <td>3.304535</td>\n",
       "      <td>-0.123450</td>\n",
       "      <td>20.0</td>\n",
       "      <td>171</td>\n",
       "      <td>0.601214</td>\n",
       "      <td>0.969247</td>\n",
       "      <td>0.014247</td>\n",
       "    </tr>\n",
       "    <tr>\n",
       "      <th>2</th>\n",
       "      <td>0.15</td>\n",
       "      <td>0.992798</td>\n",
       "      <td>1.0</td>\n",
       "      <td>1.0</td>\n",
       "      <td>0.992798</td>\n",
       "      <td>61.01</td>\n",
       "      <td>3.317772</td>\n",
       "      <td>-0.110213</td>\n",
       "      <td>22.0</td>\n",
       "      <td>116</td>\n",
       "      <td>0.770286</td>\n",
       "      <td>0.960163</td>\n",
       "      <td>0.005163</td>\n",
       "    </tr>\n",
       "    <tr>\n",
       "      <th>3</th>\n",
       "      <td>0.20</td>\n",
       "      <td>0.994923</td>\n",
       "      <td>1.0</td>\n",
       "      <td>1.0</td>\n",
       "      <td>0.994923</td>\n",
       "      <td>60.96</td>\n",
       "      <td>3.322666</td>\n",
       "      <td>-0.105319</td>\n",
       "      <td>21.0</td>\n",
       "      <td>94</td>\n",
       "      <td>0.853284</td>\n",
       "      <td>0.959715</td>\n",
       "      <td>0.004715</td>\n",
       "    </tr>\n",
       "  </tbody>\n",
       "</table>\n",
       "</div>"
      ],
      "text/plain": [
       "   computation_rate  infection_detection_rate  infection_recall  \\\n",
       "0              0.05                  0.942385               1.0   \n",
       "1              0.10                  0.978985               1.0   \n",
       "2              0.15                  0.992798               1.0   \n",
       "3              0.20                  0.994923               1.0   \n",
       "\n",
       "   infection_precision  infection_f1  runtime  mean_edge_weight  \\\n",
       "0                  1.0      0.942385    62.32          3.213547   \n",
       "1                  1.0      0.978985    62.09          3.304535   \n",
       "2                  1.0      0.992798    61.01          3.317772   \n",
       "3                  1.0      0.994923    60.96          3.322666   \n",
       "\n",
       "   mean_edge_weight_diff  max_edge_weight  subgraph_count  \\\n",
       "0              -0.214438             22.0             357   \n",
       "1              -0.123450             20.0             171   \n",
       "2              -0.110213             22.0             116   \n",
       "3              -0.105319             21.0              94   \n",
       "\n",
       "   adjusted_rand_index  lineage_purity  lineage_purity_diff  \n",
       "0             0.422696        0.972921             0.017921  \n",
       "1             0.601214        0.969247             0.014247  \n",
       "2             0.770286        0.960163             0.005163  \n",
       "3             0.853284        0.959715             0.004715  "
      ]
     },
     "execution_count": 17,
     "metadata": {},
     "output_type": "execute_result"
    }
   ],
   "source": [
    "pd.DataFrame(depth_search_N_and_SNV_frequency_filter)"
   ]
  },
  {
   "cell_type": "markdown",
   "id": "14227b79-424f-49c7-b4e3-a007f0f5a728",
   "metadata": {},
   "source": [
    "### Breadth search with N and SNV frequency filter"
   ]
  },
  {
   "cell_type": "code",
   "execution_count": 18,
   "id": "7447eed2-3d49-4d22-bb2f-ca69d594aab8",
   "metadata": {},
   "outputs": [
    {
     "name": "stdout",
     "output_type": "stream",
     "text": [
      "matrix generation time: 33.98s\n",
      "execution time distance collection: 13.08s\n",
      "execution time breadth search: 11.65s\n",
      "execution time 624875: 60.52s\n",
      "mst generation time: 3.1s\n",
      "matrix generation time: 34.36s\n",
      "execution time distance collection: 13.97s\n",
      "execution time breadth search: 12.39s\n",
      "execution time 1249750: 62.5s\n",
      "mst generation time: 7.03s\n",
      "matrix generation time: 34.26s\n",
      "execution time distance collection: 13.26s\n",
      "execution time breadth search: 12.05s\n",
      "execution time 1874625: 61.47s\n",
      "mst generation time: 9.55s\n",
      "matrix generation time: 34.57s\n",
      "execution time distance collection: 14.17s\n",
      "execution time breadth search: 12.31s\n",
      "execution time 2499500: 62.84s\n",
      "mst generation time: 12.46s\n"
     ]
    }
   ],
   "source": [
    "breadth_search_N_and_SNV_frequency_filter = []\n",
    "for computation_rate in [0.05, 0.1, 0.15, 0.2]:\n",
    "    limit = int(computation_rate*distances_count)\n",
    "    candidates, runtime = bitwise_xor_candidates(encodings_N_and_SNV_frequency_filter, limit, \"breadth\")\n",
    "    breadth_search_N_and_SNV_frequency_filter.append(get_candidate_evaluation_and_export_mst(\"breadth_N_and_SNV\", candidates, graph_path, distance_matrix, gentrain_community_labels, gentrain_mst, list(sequences_df[\"clade\"]), sequences_df, runtime))"
   ]
  },
  {
   "cell_type": "code",
   "execution_count": 19,
   "id": "d3cb0ea4-d428-4ee4-bb7f-7f2dfbafc840",
   "metadata": {},
   "outputs": [
    {
     "data": {
      "text/html": [
       "<div>\n",
       "<style scoped>\n",
       "    .dataframe tbody tr th:only-of-type {\n",
       "        vertical-align: middle;\n",
       "    }\n",
       "\n",
       "    .dataframe tbody tr th {\n",
       "        vertical-align: top;\n",
       "    }\n",
       "\n",
       "    .dataframe thead th {\n",
       "        text-align: right;\n",
       "    }\n",
       "</style>\n",
       "<table border=\"1\" class=\"dataframe\">\n",
       "  <thead>\n",
       "    <tr style=\"text-align: right;\">\n",
       "      <th></th>\n",
       "      <th>computation_rate</th>\n",
       "      <th>infection_detection_rate</th>\n",
       "      <th>infection_recall</th>\n",
       "      <th>infection_precision</th>\n",
       "      <th>infection_f1</th>\n",
       "      <th>runtime</th>\n",
       "      <th>mean_edge_weight</th>\n",
       "      <th>mean_edge_weight_diff</th>\n",
       "      <th>max_edge_weight</th>\n",
       "      <th>subgraph_count</th>\n",
       "      <th>adjusted_rand_index</th>\n",
       "      <th>lineage_purity</th>\n",
       "      <th>lineage_purity_diff</th>\n",
       "    </tr>\n",
       "  </thead>\n",
       "  <tbody>\n",
       "    <tr>\n",
       "      <th>0</th>\n",
       "      <td>0.049380</td>\n",
       "      <td>0.808501</td>\n",
       "      <td>1.0</td>\n",
       "      <td>1.0</td>\n",
       "      <td>0.808501</td>\n",
       "      <td>60.52</td>\n",
       "      <td>3.612482</td>\n",
       "      <td>0.184497</td>\n",
       "      <td>74.0</td>\n",
       "      <td>1</td>\n",
       "      <td>0.389345</td>\n",
       "      <td>0.9634</td>\n",
       "      <td>0.0084</td>\n",
       "    </tr>\n",
       "    <tr>\n",
       "      <th>1</th>\n",
       "      <td>0.097510</td>\n",
       "      <td>0.914758</td>\n",
       "      <td>1.0</td>\n",
       "      <td>1.0</td>\n",
       "      <td>0.914758</td>\n",
       "      <td>62.50</td>\n",
       "      <td>3.556531</td>\n",
       "      <td>0.128546</td>\n",
       "      <td>74.0</td>\n",
       "      <td>1</td>\n",
       "      <td>0.492223</td>\n",
       "      <td>0.9622</td>\n",
       "      <td>0.0072</td>\n",
       "    </tr>\n",
       "    <tr>\n",
       "      <th>2</th>\n",
       "      <td>0.144389</td>\n",
       "      <td>0.956198</td>\n",
       "      <td>1.0</td>\n",
       "      <td>1.0</td>\n",
       "      <td>0.956198</td>\n",
       "      <td>61.47</td>\n",
       "      <td>3.518604</td>\n",
       "      <td>0.090618</td>\n",
       "      <td>74.0</td>\n",
       "      <td>1</td>\n",
       "      <td>0.591070</td>\n",
       "      <td>0.9590</td>\n",
       "      <td>0.0040</td>\n",
       "    </tr>\n",
       "    <tr>\n",
       "      <th>3</th>\n",
       "      <td>0.190018</td>\n",
       "      <td>0.971547</td>\n",
       "      <td>1.0</td>\n",
       "      <td>1.0</td>\n",
       "      <td>0.971547</td>\n",
       "      <td>62.84</td>\n",
       "      <td>3.503081</td>\n",
       "      <td>0.075095</td>\n",
       "      <td>74.0</td>\n",
       "      <td>1</td>\n",
       "      <td>0.653711</td>\n",
       "      <td>0.9586</td>\n",
       "      <td>0.0036</td>\n",
       "    </tr>\n",
       "  </tbody>\n",
       "</table>\n",
       "</div>"
      ],
      "text/plain": [
       "   computation_rate  infection_detection_rate  infection_recall  \\\n",
       "0          0.049380                  0.808501               1.0   \n",
       "1          0.097510                  0.914758               1.0   \n",
       "2          0.144389                  0.956198               1.0   \n",
       "3          0.190018                  0.971547               1.0   \n",
       "\n",
       "   infection_precision  infection_f1  runtime  mean_edge_weight  \\\n",
       "0                  1.0      0.808501    60.52          3.612482   \n",
       "1                  1.0      0.914758    62.50          3.556531   \n",
       "2                  1.0      0.956198    61.47          3.518604   \n",
       "3                  1.0      0.971547    62.84          3.503081   \n",
       "\n",
       "   mean_edge_weight_diff  max_edge_weight  subgraph_count  \\\n",
       "0               0.184497             74.0               1   \n",
       "1               0.128546             74.0               1   \n",
       "2               0.090618             74.0               1   \n",
       "3               0.075095             74.0               1   \n",
       "\n",
       "   adjusted_rand_index  lineage_purity  lineage_purity_diff  \n",
       "0             0.389345          0.9634               0.0084  \n",
       "1             0.492223          0.9622               0.0072  \n",
       "2             0.591070          0.9590               0.0040  \n",
       "3             0.653711          0.9586               0.0036  "
      ]
     },
     "execution_count": 19,
     "metadata": {},
     "output_type": "execute_result"
    }
   ],
   "source": [
    "pd.DataFrame(breadth_search_N_and_SNV_frequency_filter)"
   ]
  },
  {
   "cell_type": "code",
   "execution_count": 20,
   "id": "f4e54761-806d-47fb-8147-ed4329153159",
   "metadata": {},
   "outputs": [],
   "source": [
    "depth_search_evaluation = {\n",
    "    \"N frequency filter\": {\"values\": {evaluation[\"computation_rate\"]: evaluation for evaluation in depth_search_N_frequency_filter}, \"stroke\": \"dash\", \"color\": \"black\"},\n",
    "    \"N & SNV frequency filter\": {\"values\": {evaluation[\"computation_rate\"]: evaluation for evaluation in depth_search_N_and_SNV_frequency_filter}, \"stroke\": \"dot\", \"color\": \"black\"}\n",
    "}"
   ]
  },
  {
   "cell_type": "code",
   "execution_count": 21,
   "id": "20eb1f2e-87f0-473a-8349-9480f12cd8af",
   "metadata": {},
   "outputs": [],
   "source": [
    "breadth_search_evaluation = {\n",
    "    \"N frequency filter\": {\"values\": {evaluation[\"computation_rate\"]: evaluation for evaluation in breadth_search_N_frequency_filter}, \"stroke\": \"dash\", \"color\": \"black\"},\n",
    "    \"N & SNV frequency filter\": {\"values\": {evaluation[\"computation_rate\"]: evaluation for evaluation in breadth_search_N_and_SNV_frequency_filter}, \"stroke\": \"dot\", \"color\": \"black\"}\n",
    "}"
   ]
  },
  {
   "cell_type": "markdown",
   "id": "356535d0-0c8a-4b32-95e3-1e78a9f062fb",
   "metadata": {},
   "source": [
    "### Infection recall for different filters and computation rates using depth search"
   ]
  },
  {
   "cell_type": "code",
   "execution_count": 22,
   "id": "99cd3d30-cb22-4a18-9f38-c7efb78784ad",
   "metadata": {},
   "outputs": [
    {
     "data": {
      "application/vnd.plotly.v1+json": {
       "config": {
        "plotlyServerURL": "https://plot.ly"
       },
       "data": [
        {
         "line": {
          "color": "black",
          "dash": "dash",
          "width": 4
         },
         "mode": "lines",
         "name": "N frequency filter",
         "type": "scatter",
         "x": [
          0.05,
          0.1,
          0.15,
          0.2
         ],
         "y": [
          0.912987012987013,
          0.969775678866588,
          0.9865407319952775,
          0.990909090909091
         ]
        },
        {
         "marker": {
          "color": "black",
          "size": 8,
          "symbol": "circle"
         },
         "mode": "markers",
         "showlegend": false,
         "text": "",
         "type": "scatter",
         "x": [
          0.05
         ],
         "y": [
          0.912987012987013
         ]
        },
        {
         "marker": {
          "color": "black",
          "size": 8,
          "symbol": "circle"
         },
         "mode": "markers",
         "showlegend": false,
         "text": "",
         "type": "scatter",
         "x": [
          0.1
         ],
         "y": [
          0.969775678866588
         ]
        },
        {
         "marker": {
          "color": "black",
          "size": 8,
          "symbol": "circle"
         },
         "mode": "markers",
         "showlegend": false,
         "text": "",
         "type": "scatter",
         "x": [
          0.15
         ],
         "y": [
          0.9865407319952775
         ]
        },
        {
         "marker": {
          "color": "black",
          "size": 8,
          "symbol": "circle"
         },
         "mode": "markers",
         "showlegend": false,
         "text": "",
         "type": "scatter",
         "x": [
          0.2
         ],
         "y": [
          0.990909090909091
         ]
        },
        {
         "line": {
          "color": "black",
          "dash": "dot",
          "width": 4
         },
         "mode": "lines",
         "name": "N & SNV frequency filter",
         "type": "scatter",
         "x": [
          0.05,
          0.1,
          0.15,
          0.2
         ],
         "y": [
          0.9423848878394333,
          0.9789846517119244,
          0.9927981109799292,
          0.9949232585596222
         ]
        },
        {
         "marker": {
          "color": "black",
          "size": 8,
          "symbol": "circle"
         },
         "mode": "markers",
         "showlegend": false,
         "text": "",
         "type": "scatter",
         "x": [
          0.05
         ],
         "y": [
          0.9423848878394333
         ]
        },
        {
         "marker": {
          "color": "black",
          "size": 8,
          "symbol": "circle"
         },
         "mode": "markers",
         "showlegend": false,
         "text": "",
         "type": "scatter",
         "x": [
          0.1
         ],
         "y": [
          0.9789846517119244
         ]
        },
        {
         "marker": {
          "color": "black",
          "size": 8,
          "symbol": "circle"
         },
         "mode": "markers",
         "showlegend": false,
         "text": "",
         "type": "scatter",
         "x": [
          0.15
         ],
         "y": [
          0.9927981109799292
         ]
        },
        {
         "marker": {
          "color": "black",
          "size": 8,
          "symbol": "circle"
         },
         "mode": "markers",
         "showlegend": false,
         "text": "",
         "type": "scatter",
         "x": [
          0.2
         ],
         "y": [
          0.9949232585596222
         ]
        }
       ],
       "layout": {
        "font": {
         "size": 25
        },
        "height": 700,
        "legend": {
         "font": {
          "size": 30
         },
         "itemwidth": 60,
         "x": 0.85,
         "xanchor": "left",
         "y": 0,
         "yanchor": "bottom"
        },
        "margin": {
         "b": 80,
         "l": 110,
         "r": 0,
         "t": 0
        },
        "template": {
         "data": {
          "pie": [
           {
            "automargin": true,
            "type": "pie"
           }
          ],
          "scatter": [
           {
            "line": {
             "width": 3
            },
            "marker": {
             "size": 9
            },
            "type": "scatter"
           }
          ],
          "scatter3d": [
           {
            "line": {
             "width": 3
            },
            "marker": {
             "size": 9
            },
            "type": "scatter3d"
           }
          ],
          "scattergeo": [
           {
            "line": {
             "width": 3
            },
            "marker": {
             "size": 9
            },
            "type": "scattergeo"
           }
          ],
          "scattergl": [
           {
            "line": {
             "width": 3
            },
            "marker": {
             "size": 9
            },
            "type": "scattergl"
           }
          ],
          "scatterpolar": [
           {
            "line": {
             "width": 3
            },
            "marker": {
             "size": 9
            },
            "type": "scatterpolar"
           }
          ],
          "scatterpolargl": [
           {
            "line": {
             "width": 3
            },
            "marker": {
             "size": 9
            },
            "type": "scatterpolargl"
           }
          ],
          "scatterternary": [
           {
            "line": {
             "width": 3
            },
            "marker": {
             "size": 9
            },
            "type": "scatterternary"
           }
          ],
          "table": [
           {
            "cells": {
             "height": 30
            },
            "header": {
             "height": 36
            },
            "type": "table"
           }
          ]
         },
         "layout": {
          "font": {
           "size": 18
          },
          "xaxis": {
           "title": {
            "standoff": 15
           }
          },
          "yaxis": {
           "title": {
            "standoff": 15
           }
          }
         }
        },
        "width": 1200,
        "xaxis": {
         "autorange": true,
         "range": [
          0.04043026706231454,
          0.20956973293768547
         ],
         "tickmode": "array",
         "tickvals": [
          0.05,
          0.1,
          0.15,
          0.2
         ],
         "title": {
          "text": "Computation rate"
         },
         "type": "linear"
        },
        "yaxis": {
         "autorange": true,
         "range": [
          0.9076043399201993,
          1.000305931626436
         ],
         "title": {
          "text": "Infection recall"
         },
         "type": "linear"
        }
       }
      }
     },
     "metadata": {},
     "output_type": "display_data"
    }
   ],
   "source": [
    "sub_fig = get_computation_rate_plot(\"infection_detection_rate\", depth_search_evaluation, \"Infection recall\", dict(\n",
    "            x=0.85,\n",
    "            y=0,\n",
    "            itemwidth=60,\n",
    "            xanchor=\"left\",\n",
    "            yanchor=\"bottom\",\n",
    "            font=dict(size=30),\n",
    "        ))\n",
    "\n",
    "sub_fig.show()"
   ]
  },
  {
   "cell_type": "markdown",
   "id": "60ae3e60-01c1-4d5c-a9ab-94a97468191b",
   "metadata": {},
   "source": [
    "### Community ARI for different filters and computation rates using depth search"
   ]
  },
  {
   "cell_type": "code",
   "execution_count": 23,
   "id": "908ca4d5-07c7-4b82-9db4-c723d72b4a56",
   "metadata": {},
   "outputs": [
    {
     "data": {
      "application/vnd.plotly.v1+json": {
       "config": {
        "plotlyServerURL": "https://plot.ly"
       },
       "data": [
        {
         "line": {
          "color": "black",
          "dash": "dash",
          "width": 4
         },
         "mode": "lines",
         "name": "N frequency filter",
         "type": "scatter",
         "x": [
          0.05,
          0.1,
          0.15,
          0.2
         ],
         "y": [
          0.3724518570325264,
          0.6268623243184788,
          0.7766231239189514,
          0.8171475509949561
         ]
        },
        {
         "marker": {
          "color": "black",
          "size": 8,
          "symbol": "circle"
         },
         "mode": "markers",
         "showlegend": false,
         "text": "",
         "type": "scatter",
         "x": [
          0.05
         ],
         "y": [
          0.3724518570325264
         ]
        },
        {
         "marker": {
          "color": "black",
          "size": 8,
          "symbol": "circle"
         },
         "mode": "markers",
         "showlegend": false,
         "text": "",
         "type": "scatter",
         "x": [
          0.1
         ],
         "y": [
          0.6268623243184788
         ]
        },
        {
         "marker": {
          "color": "black",
          "size": 8,
          "symbol": "circle"
         },
         "mode": "markers",
         "showlegend": false,
         "text": "",
         "type": "scatter",
         "x": [
          0.15
         ],
         "y": [
          0.7766231239189514
         ]
        },
        {
         "marker": {
          "color": "black",
          "size": 8,
          "symbol": "circle"
         },
         "mode": "markers",
         "showlegend": false,
         "text": "",
         "type": "scatter",
         "x": [
          0.2
         ],
         "y": [
          0.8171475509949561
         ]
        },
        {
         "line": {
          "color": "black",
          "dash": "dot",
          "width": 4
         },
         "mode": "lines",
         "name": "N & SNV frequency filter",
         "type": "scatter",
         "x": [
          0.05,
          0.1,
          0.15,
          0.2
         ],
         "y": [
          0.4226955659056292,
          0.6012136319781386,
          0.7702855476140308,
          0.8532836613006238
         ]
        },
        {
         "marker": {
          "color": "black",
          "size": 8,
          "symbol": "circle"
         },
         "mode": "markers",
         "showlegend": false,
         "text": "",
         "type": "scatter",
         "x": [
          0.05
         ],
         "y": [
          0.4226955659056292
         ]
        },
        {
         "marker": {
          "color": "black",
          "size": 8,
          "symbol": "circle"
         },
         "mode": "markers",
         "showlegend": false,
         "text": "",
         "type": "scatter",
         "x": [
          0.1
         ],
         "y": [
          0.6012136319781386
         ]
        },
        {
         "marker": {
          "color": "black",
          "size": 8,
          "symbol": "circle"
         },
         "mode": "markers",
         "showlegend": false,
         "text": "",
         "type": "scatter",
         "x": [
          0.15
         ],
         "y": [
          0.7702855476140308
         ]
        },
        {
         "marker": {
          "color": "black",
          "size": 8,
          "symbol": "circle"
         },
         "mode": "markers",
         "showlegend": false,
         "text": "",
         "type": "scatter",
         "x": [
          0.2
         ],
         "y": [
          0.8532836613006238
         ]
        }
       ],
       "layout": {
        "font": {
         "size": 25
        },
        "height": 700,
        "legend": {
         "font": {
          "size": 30
         },
         "itemwidth": 60,
         "x": 0.85,
         "xanchor": "left",
         "y": 0,
         "yanchor": "bottom"
        },
        "margin": {
         "b": 80,
         "l": 110,
         "r": 0,
         "t": 0
        },
        "template": {
         "data": {
          "pie": [
           {
            "automargin": true,
            "type": "pie"
           }
          ],
          "scatter": [
           {
            "line": {
             "width": 3
            },
            "marker": {
             "size": 9
            },
            "type": "scatter"
           }
          ],
          "scatter3d": [
           {
            "line": {
             "width": 3
            },
            "marker": {
             "size": 9
            },
            "type": "scatter3d"
           }
          ],
          "scattergeo": [
           {
            "line": {
             "width": 3
            },
            "marker": {
             "size": 9
            },
            "type": "scattergeo"
           }
          ],
          "scattergl": [
           {
            "line": {
             "width": 3
            },
            "marker": {
             "size": 9
            },
            "type": "scattergl"
           }
          ],
          "scatterpolar": [
           {
            "line": {
             "width": 3
            },
            "marker": {
             "size": 9
            },
            "type": "scatterpolar"
           }
          ],
          "scatterpolargl": [
           {
            "line": {
             "width": 3
            },
            "marker": {
             "size": 9
            },
            "type": "scatterpolargl"
           }
          ],
          "scatterternary": [
           {
            "line": {
             "width": 3
            },
            "marker": {
             "size": 9
            },
            "type": "scatterternary"
           }
          ],
          "table": [
           {
            "cells": {
             "height": 30
            },
            "header": {
             "height": 36
            },
            "type": "table"
           }
          ]
         },
         "layout": {
          "font": {
           "size": 18
          },
          "xaxis": {
           "title": {
            "standoff": 15
           }
          },
          "yaxis": {
           "title": {
            "standoff": 15
           }
          }
         }
        },
        "width": 1200,
        "xaxis": {
         "autorange": true,
         "range": [
          0.04043026706231454,
          0.20956973293768547
         ],
         "tickmode": "array",
         "tickvals": [
          0.05,
          0.1,
          0.15,
          0.2
         ],
         "title": {
          "text": "Computation rate"
         },
         "type": "linear"
        },
        "yaxis": {
         "autorange": true,
         "range": [
          0.34086436624119154,
          0.8848711520919587
         ],
         "title": {
          "text": "Community ARI"
         },
         "type": "linear"
        }
       }
      }
     },
     "metadata": {},
     "output_type": "display_data"
    }
   ],
   "source": [
    "sub_fig = get_computation_rate_plot(\"adjusted_rand_index\", depth_search_evaluation, \"Community ARI\", dict(\n",
    "            x=0.85,\n",
    "            y=0,\n",
    "            itemwidth=60,\n",
    "            xanchor=\"left\",\n",
    "            yanchor=\"bottom\",\n",
    "            font=dict(size=30),\n",
    "        ))\n",
    "\n",
    "sub_fig.show()"
   ]
  },
  {
   "cell_type": "markdown",
   "id": "2a0efc3b-1a9d-484c-9baf-c4b3a60944b6",
   "metadata": {},
   "source": [
    "### Infection recall for different filters and computation rates using breadth search"
   ]
  },
  {
   "cell_type": "code",
   "execution_count": 24,
   "id": "f729759c-183c-4d20-ba84-3aefe341f254",
   "metadata": {},
   "outputs": [
    {
     "data": {
      "application/vnd.plotly.v1+json": {
       "config": {
        "plotlyServerURL": "https://plot.ly"
       },
       "data": [
        {
         "line": {
          "color": "black",
          "dash": "dash",
          "width": 4
         },
         "mode": "lines",
         "name": "N frequency filter",
         "type": "scatter",
         "x": [
          0.04937987597519504,
          0.09750950190038007,
          0.14438887777555512,
          0.19001800360072013
         ],
         "y": [
          0.775206611570248,
          0.8807556080283353,
          0.9285714285714286,
          0.951948051948052
         ]
        },
        {
         "marker": {
          "color": "black",
          "size": 8,
          "symbol": "circle"
         },
         "mode": "markers",
         "showlegend": false,
         "text": "",
         "type": "scatter",
         "x": [
          0.04937987597519504
         ],
         "y": [
          0.775206611570248
         ]
        },
        {
         "marker": {
          "color": "black",
          "size": 8,
          "symbol": "circle"
         },
         "mode": "markers",
         "showlegend": false,
         "text": "",
         "type": "scatter",
         "x": [
          0.09750950190038007
         ],
         "y": [
          0.8807556080283353
         ]
        },
        {
         "marker": {
          "color": "black",
          "size": 8,
          "symbol": "circle"
         },
         "mode": "markers",
         "showlegend": false,
         "text": "",
         "type": "scatter",
         "x": [
          0.14438887777555512
         ],
         "y": [
          0.9285714285714286
         ]
        },
        {
         "marker": {
          "color": "black",
          "size": 8,
          "symbol": "circle"
         },
         "mode": "markers",
         "showlegend": false,
         "text": "",
         "type": "scatter",
         "x": [
          0.19001800360072013
         ],
         "y": [
          0.951948051948052
         ]
        },
        {
         "line": {
          "color": "black",
          "dash": "dot",
          "width": 4
         },
         "mode": "lines",
         "name": "N & SNV frequency filter",
         "type": "scatter",
         "x": [
          0.04937987597519504,
          0.09750950190038007,
          0.14438887777555512,
          0.19001800360072013
         ],
         "y": [
          0.8085005903187721,
          0.9147579693034239,
          0.956198347107438,
          0.9715466351829988
         ]
        },
        {
         "marker": {
          "color": "black",
          "size": 8,
          "symbol": "circle"
         },
         "mode": "markers",
         "showlegend": false,
         "text": "",
         "type": "scatter",
         "x": [
          0.04937987597519504
         ],
         "y": [
          0.8085005903187721
         ]
        },
        {
         "marker": {
          "color": "black",
          "size": 8,
          "symbol": "circle"
         },
         "mode": "markers",
         "showlegend": false,
         "text": "",
         "type": "scatter",
         "x": [
          0.09750950190038007
         ],
         "y": [
          0.9147579693034239
         ]
        },
        {
         "marker": {
          "color": "black",
          "size": 8,
          "symbol": "circle"
         },
         "mode": "markers",
         "showlegend": false,
         "text": "",
         "type": "scatter",
         "x": [
          0.14438887777555512
         ],
         "y": [
          0.956198347107438
         ]
        },
        {
         "marker": {
          "color": "black",
          "size": 8,
          "symbol": "circle"
         },
         "mode": "markers",
         "showlegend": false,
         "text": "",
         "type": "scatter",
         "x": [
          0.19001800360072013
         ],
         "y": [
          0.9715466351829988
         ]
        }
       ],
       "layout": {
        "font": {
         "size": 25
        },
        "height": 700,
        "legend": {
         "font": {
          "size": 35
         },
         "x": 0.65,
         "xanchor": "left",
         "y": 0.05,
         "yanchor": "bottom"
        },
        "margin": {
         "b": 80,
         "l": 110,
         "r": 0,
         "t": 0
        },
        "template": {
         "data": {
          "pie": [
           {
            "automargin": true,
            "type": "pie"
           }
          ],
          "scatter": [
           {
            "line": {
             "width": 3
            },
            "marker": {
             "size": 9
            },
            "type": "scatter"
           }
          ],
          "scatter3d": [
           {
            "line": {
             "width": 3
            },
            "marker": {
             "size": 9
            },
            "type": "scatter3d"
           }
          ],
          "scattergeo": [
           {
            "line": {
             "width": 3
            },
            "marker": {
             "size": 9
            },
            "type": "scattergeo"
           }
          ],
          "scattergl": [
           {
            "line": {
             "width": 3
            },
            "marker": {
             "size": 9
            },
            "type": "scattergl"
           }
          ],
          "scatterpolar": [
           {
            "line": {
             "width": 3
            },
            "marker": {
             "size": 9
            },
            "type": "scatterpolar"
           }
          ],
          "scatterpolargl": [
           {
            "line": {
             "width": 3
            },
            "marker": {
             "size": 9
            },
            "type": "scatterpolargl"
           }
          ],
          "scatterternary": [
           {
            "line": {
             "width": 3
            },
            "marker": {
             "size": 9
            },
            "type": "scatterternary"
           }
          ],
          "table": [
           {
            "cells": {
             "height": 30
            },
            "header": {
             "height": 36
            },
            "type": "table"
           }
          ]
         },
         "layout": {
          "font": {
           "size": 18
          },
          "xaxis": {
           "title": {
            "standoff": 15
           }
          },
          "yaxis": {
           "title": {
            "standoff": 15
           }
          }
         }
        },
        "width": 1200,
        "xaxis": {
         "autorange": true,
         "range": [
          0.040637053645113316,
          0.19876082593080185
         ],
         "tickmode": "array",
         "tickvals": [
          0.05,
          0.1,
          0.15,
          0.2
         ],
         "title": {
          "text": "Computation rate"
         },
         "type": "linear"
        },
        "yaxis": {
         "autorange": true,
         "range": [
          0.7623083618438629,
          0.9844448849093839
         ],
         "title": {
          "text": "Infection recall"
         },
         "type": "linear"
        }
       }
      }
     },
     "metadata": {},
     "output_type": "display_data"
    }
   ],
   "source": [
    "sub_fig = get_computation_rate_plot(\"infection_detection_rate\", breadth_search_evaluation, \"Infection recall\", legend=dict(\n",
    "            x=0.65,\n",
    "            y=0.05,\n",
    "            xanchor=\"left\",\n",
    "            yanchor=\"bottom\",\n",
    "            font=dict(size=35),\n",
    "        ))\n",
    "sub_fig.show()"
   ]
  },
  {
   "cell_type": "markdown",
   "id": "89420831-1def-4eca-824e-0da5a81e94b6",
   "metadata": {},
   "source": [
    "### Community ARI for different filters and computation rates using breadth search"
   ]
  },
  {
   "cell_type": "code",
   "execution_count": 25,
   "id": "203133c2-1c05-47b5-9f5d-5898432945c2",
   "metadata": {},
   "outputs": [
    {
     "data": {
      "application/vnd.plotly.v1+json": {
       "config": {
        "plotlyServerURL": "https://plot.ly"
       },
       "data": [
        {
         "line": {
          "color": "black",
          "dash": "dash",
          "width": 4
         },
         "mode": "lines",
         "name": "N frequency filter",
         "type": "scatter",
         "x": [
          0.04937987597519504,
          0.09750950190038007,
          0.14438887777555512,
          0.19001800360072013
         ],
         "y": [
          0.3834233259960487,
          0.48854649492456986,
          0.5859048801423804,
          0.6626712981664532
         ]
        },
        {
         "marker": {
          "color": "black",
          "size": 8,
          "symbol": "circle"
         },
         "mode": "markers",
         "showlegend": false,
         "text": "",
         "type": "scatter",
         "x": [
          0.04937987597519504
         ],
         "y": [
          0.3834233259960487
         ]
        },
        {
         "marker": {
          "color": "black",
          "size": 8,
          "symbol": "circle"
         },
         "mode": "markers",
         "showlegend": false,
         "text": "",
         "type": "scatter",
         "x": [
          0.09750950190038007
         ],
         "y": [
          0.48854649492456986
         ]
        },
        {
         "marker": {
          "color": "black",
          "size": 8,
          "symbol": "circle"
         },
         "mode": "markers",
         "showlegend": false,
         "text": "",
         "type": "scatter",
         "x": [
          0.14438887777555512
         ],
         "y": [
          0.5859048801423804
         ]
        },
        {
         "marker": {
          "color": "black",
          "size": 8,
          "symbol": "circle"
         },
         "mode": "markers",
         "showlegend": false,
         "text": "",
         "type": "scatter",
         "x": [
          0.19001800360072013
         ],
         "y": [
          0.6626712981664532
         ]
        },
        {
         "line": {
          "color": "black",
          "dash": "dot",
          "width": 4
         },
         "mode": "lines",
         "name": "N & SNV frequency filter",
         "type": "scatter",
         "x": [
          0.04937987597519504,
          0.09750950190038007,
          0.14438887777555512,
          0.19001800360072013
         ],
         "y": [
          0.38934501027606483,
          0.492222981810266,
          0.5910703239907681,
          0.6537107398923755
         ]
        },
        {
         "marker": {
          "color": "black",
          "size": 8,
          "symbol": "circle"
         },
         "mode": "markers",
         "showlegend": false,
         "text": "",
         "type": "scatter",
         "x": [
          0.04937987597519504
         ],
         "y": [
          0.38934501027606483
         ]
        },
        {
         "marker": {
          "color": "black",
          "size": 8,
          "symbol": "circle"
         },
         "mode": "markers",
         "showlegend": false,
         "text": "",
         "type": "scatter",
         "x": [
          0.09750950190038007
         ],
         "y": [
          0.492222981810266
         ]
        },
        {
         "marker": {
          "color": "black",
          "size": 8,
          "symbol": "circle"
         },
         "mode": "markers",
         "showlegend": false,
         "text": "",
         "type": "scatter",
         "x": [
          0.14438887777555512
         ],
         "y": [
          0.5910703239907681
         ]
        },
        {
         "marker": {
          "color": "black",
          "size": 8,
          "symbol": "circle"
         },
         "mode": "markers",
         "showlegend": false,
         "text": "",
         "type": "scatter",
         "x": [
          0.19001800360072013
         ],
         "y": [
          0.6537107398923755
         ]
        }
       ],
       "layout": {
        "font": {
         "size": 25
        },
        "height": 700,
        "legend": {
         "font": {
          "size": 35
         },
         "x": 0.55,
         "xanchor": "left",
         "y": 0.02,
         "yanchor": "bottom"
        },
        "margin": {
         "b": 80,
         "l": 110,
         "r": 0,
         "t": 0
        },
        "template": {
         "data": {
          "pie": [
           {
            "automargin": true,
            "type": "pie"
           }
          ],
          "scatter": [
           {
            "line": {
             "width": 3
            },
            "marker": {
             "size": 9
            },
            "type": "scatter"
           }
          ],
          "scatter3d": [
           {
            "line": {
             "width": 3
            },
            "marker": {
             "size": 9
            },
            "type": "scatter3d"
           }
          ],
          "scattergeo": [
           {
            "line": {
             "width": 3
            },
            "marker": {
             "size": 9
            },
            "type": "scattergeo"
           }
          ],
          "scattergl": [
           {
            "line": {
             "width": 3
            },
            "marker": {
             "size": 9
            },
            "type": "scattergl"
           }
          ],
          "scatterpolar": [
           {
            "line": {
             "width": 3
            },
            "marker": {
             "size": 9
            },
            "type": "scatterpolar"
           }
          ],
          "scatterpolargl": [
           {
            "line": {
             "width": 3
            },
            "marker": {
             "size": 9
            },
            "type": "scatterpolargl"
           }
          ],
          "scatterternary": [
           {
            "line": {
             "width": 3
            },
            "marker": {
             "size": 9
            },
            "type": "scatterternary"
           }
          ],
          "table": [
           {
            "cells": {
             "height": 30
            },
            "header": {
             "height": 36
            },
            "type": "table"
           }
          ]
         },
         "layout": {
          "font": {
           "size": 18
          },
          "xaxis": {
           "title": {
            "standoff": 15
           }
          },
          "yaxis": {
           "title": {
            "standoff": 15
           }
          }
         }
        },
        "width": 1200,
        "xaxis": {
         "autorange": true,
         "range": [
          0.04076198864901714,
          0.19863589092689804
         ],
         "tickmode": "array",
         "tickvals": [
          0.05,
          0.1,
          0.15,
          0.2
         ],
         "title": {
          "text": "Computation rate"
         },
         "type": "linear"
        },
        "yaxis": {
         "autorange": true,
         "range": [
          0.36507856870018274,
          0.6810160554623192
         ],
         "title": {
          "text": "Community ARI"
         },
         "type": "linear"
        }
       }
      }
     },
     "metadata": {},
     "output_type": "display_data"
    }
   ],
   "source": [
    "sub_fig = get_computation_rate_plot(\"adjusted_rand_index\", breadth_search_evaluation, \"Community ARI\", legend=dict(\n",
    "            x=0.55,\n",
    "            y=0.02,\n",
    "            xanchor=\"left\",\n",
    "            yanchor=\"bottom\",\n",
    "            font=dict(size=35),\n",
    "        ))\n",
    "sub_fig.show()"
   ]
  },
  {
   "cell_type": "code",
   "execution_count": 26,
   "id": "a2527af6-911c-4ba6-a4ff-ed2c416bc3b6",
   "metadata": {},
   "outputs": [],
   "source": [
    "depth_vs_breadth_search_evaluation = {\n",
    "    \"Depth search\": {\"values\": {evaluation[\"computation_rate\"]: evaluation for evaluation in depth_search_N_and_SNV_frequency_filter}, \"stroke\": \"solid\", \"color\": \"blue\"},\n",
    "    \"Breadth search\": {\"values\": {evaluation[\"computation_rate\"]: evaluation for evaluation in breadth_search_N_and_SNV_frequency_filter}, \"stroke\": \"solid\", \"color\": \"green\"},  \n",
    "}"
   ]
  },
  {
   "cell_type": "markdown",
   "id": "3ff60961-3a76-4abe-992b-3f351c87d047",
   "metadata": {},
   "source": [
    "### Infection recall for different computation rates using depth search and breadth search (N and SNV frequency filter)"
   ]
  },
  {
   "cell_type": "code",
   "execution_count": 27,
   "id": "a888b187-43f9-4e72-a7bb-e1d39756b694",
   "metadata": {},
   "outputs": [
    {
     "data": {
      "application/vnd.plotly.v1+json": {
       "config": {
        "plotlyServerURL": "https://plot.ly"
       },
       "data": [
        {
         "line": {
          "color": "blue",
          "dash": "solid",
          "width": 4
         },
         "mode": "lines",
         "name": "Depth search",
         "type": "scatter",
         "x": [
          0.05,
          0.1,
          0.15,
          0.2
         ],
         "y": [
          0.9423848878394333,
          0.9789846517119244,
          0.9927981109799292,
          0.9949232585596222
         ]
        },
        {
         "marker": {
          "color": "blue",
          "size": 8,
          "symbol": "circle"
         },
         "mode": "markers",
         "showlegend": false,
         "text": "",
         "type": "scatter",
         "x": [
          0.05
         ],
         "y": [
          0.9423848878394333
         ]
        },
        {
         "marker": {
          "color": "blue",
          "size": 8,
          "symbol": "circle"
         },
         "mode": "markers",
         "showlegend": false,
         "text": "",
         "type": "scatter",
         "x": [
          0.1
         ],
         "y": [
          0.9789846517119244
         ]
        },
        {
         "marker": {
          "color": "blue",
          "size": 8,
          "symbol": "circle"
         },
         "mode": "markers",
         "showlegend": false,
         "text": "",
         "type": "scatter",
         "x": [
          0.15
         ],
         "y": [
          0.9927981109799292
         ]
        },
        {
         "marker": {
          "color": "blue",
          "size": 8,
          "symbol": "circle"
         },
         "mode": "markers",
         "showlegend": false,
         "text": "",
         "type": "scatter",
         "x": [
          0.2
         ],
         "y": [
          0.9949232585596222
         ]
        },
        {
         "line": {
          "color": "green",
          "dash": "solid",
          "width": 4
         },
         "mode": "lines",
         "name": "Breadth search",
         "type": "scatter",
         "x": [
          0.04937987597519504,
          0.09750950190038007,
          0.14438887777555512,
          0.19001800360072013
         ],
         "y": [
          0.8085005903187721,
          0.9147579693034239,
          0.956198347107438,
          0.9715466351829988
         ]
        },
        {
         "marker": {
          "color": "green",
          "size": 8,
          "symbol": "circle"
         },
         "mode": "markers",
         "showlegend": false,
         "text": "",
         "type": "scatter",
         "x": [
          0.04937987597519504
         ],
         "y": [
          0.8085005903187721
         ]
        },
        {
         "marker": {
          "color": "green",
          "size": 8,
          "symbol": "circle"
         },
         "mode": "markers",
         "showlegend": false,
         "text": "",
         "type": "scatter",
         "x": [
          0.09750950190038007
         ],
         "y": [
          0.9147579693034239
         ]
        },
        {
         "marker": {
          "color": "green",
          "size": 8,
          "symbol": "circle"
         },
         "mode": "markers",
         "showlegend": false,
         "text": "",
         "type": "scatter",
         "x": [
          0.14438887777555512
         ],
         "y": [
          0.956198347107438
         ]
        },
        {
         "marker": {
          "color": "green",
          "size": 8,
          "symbol": "circle"
         },
         "mode": "markers",
         "showlegend": false,
         "text": "",
         "type": "scatter",
         "x": [
          0.19001800360072013
         ],
         "y": [
          0.9715466351829988
         ]
        }
       ],
       "layout": {
        "font": {
         "size": 25
        },
        "height": 700,
        "legend": {
         "font": {
          "size": 35
         },
         "x": 0.7,
         "xanchor": "left",
         "y": 0.1,
         "yanchor": "bottom"
        },
        "margin": {
         "b": 80,
         "l": 110,
         "r": 0,
         "t": 0
        },
        "template": {
         "data": {
          "pie": [
           {
            "automargin": true,
            "type": "pie"
           }
          ],
          "scatter": [
           {
            "line": {
             "width": 3
            },
            "marker": {
             "size": 9
            },
            "type": "scatter"
           }
          ],
          "scatter3d": [
           {
            "line": {
             "width": 3
            },
            "marker": {
             "size": 9
            },
            "type": "scatter3d"
           }
          ],
          "scattergeo": [
           {
            "line": {
             "width": 3
            },
            "marker": {
             "size": 9
            },
            "type": "scattergeo"
           }
          ],
          "scattergl": [
           {
            "line": {
             "width": 3
            },
            "marker": {
             "size": 9
            },
            "type": "scattergl"
           }
          ],
          "scatterpolar": [
           {
            "line": {
             "width": 3
            },
            "marker": {
             "size": 9
            },
            "type": "scatterpolar"
           }
          ],
          "scatterpolargl": [
           {
            "line": {
             "width": 3
            },
            "marker": {
             "size": 9
            },
            "type": "scatterpolargl"
           }
          ],
          "scatterternary": [
           {
            "line": {
             "width": 3
            },
            "marker": {
             "size": 9
            },
            "type": "scatterternary"
           }
          ],
          "table": [
           {
            "cells": {
             "height": 30
            },
            "header": {
             "height": 36
            },
            "type": "table"
           }
          ]
         },
         "layout": {
          "font": {
           "size": 18
          },
          "xaxis": {
           "title": {
            "standoff": 15
           }
          },
          "yaxis": {
           "title": {
            "standoff": 15
           }
          }
         }
        },
        "width": 1200,
        "xaxis": {
         "autorange": true,
         "range": [
          0.04015032151641451,
          0.20922955445878055
         ],
         "tickmode": "array",
         "tickvals": [
          0.05,
          0.1,
          0.15,
          0.2
         ],
         "title": {
          "text": "Computation rate"
         },
         "type": "linear"
        },
        "yaxis": {
         "autorange": true,
         "range": [
          0.7962538456898112,
          1.007170003188583
         ],
         "title": {
          "text": "Infection recall"
         },
         "type": "linear"
        }
       }
      }
     },
     "metadata": {},
     "output_type": "display_data"
    }
   ],
   "source": [
    "sub_fig = get_computation_rate_plot(\"infection_detection_rate\", depth_vs_breadth_search_evaluation, \"Infection recall\", legend=dict(\n",
    "            x=0.7,\n",
    "            y=0.1,\n",
    "            xanchor=\"left\",\n",
    "            yanchor=\"bottom\",\n",
    "            font=dict(size=35),\n",
    "        ))\n",
    "sub_fig.show()"
   ]
  },
  {
   "cell_type": "markdown",
   "id": "0ba52540-a7f4-449c-ad65-ad9780668c09",
   "metadata": {},
   "source": [
    "### Community ARI for different computation rates using depth search and breadth search (N and SNV frequency filter)"
   ]
  },
  {
   "cell_type": "code",
   "execution_count": 28,
   "id": "1248ca7b-aee5-4e18-a400-9e5be429770e",
   "metadata": {},
   "outputs": [
    {
     "data": {
      "application/vnd.plotly.v1+json": {
       "config": {
        "plotlyServerURL": "https://plot.ly"
       },
       "data": [
        {
         "line": {
          "color": "blue",
          "dash": "solid",
          "width": 4
         },
         "mode": "lines",
         "name": "Depth search",
         "type": "scatter",
         "x": [
          0.05,
          0.1,
          0.15,
          0.2
         ],
         "y": [
          0.4226955659056292,
          0.6012136319781386,
          0.7702855476140308,
          0.8532836613006238
         ]
        },
        {
         "marker": {
          "color": "blue",
          "size": 8,
          "symbol": "circle"
         },
         "mode": "markers",
         "showlegend": false,
         "text": "",
         "type": "scatter",
         "x": [
          0.05
         ],
         "y": [
          0.4226955659056292
         ]
        },
        {
         "marker": {
          "color": "blue",
          "size": 8,
          "symbol": "circle"
         },
         "mode": "markers",
         "showlegend": false,
         "text": "",
         "type": "scatter",
         "x": [
          0.1
         ],
         "y": [
          0.6012136319781386
         ]
        },
        {
         "marker": {
          "color": "blue",
          "size": 8,
          "symbol": "circle"
         },
         "mode": "markers",
         "showlegend": false,
         "text": "",
         "type": "scatter",
         "x": [
          0.15
         ],
         "y": [
          0.7702855476140308
         ]
        },
        {
         "marker": {
          "color": "blue",
          "size": 8,
          "symbol": "circle"
         },
         "mode": "markers",
         "showlegend": false,
         "text": "",
         "type": "scatter",
         "x": [
          0.2
         ],
         "y": [
          0.8532836613006238
         ]
        },
        {
         "line": {
          "color": "green",
          "dash": "solid",
          "width": 4
         },
         "mode": "lines",
         "name": "Breadth search",
         "type": "scatter",
         "x": [
          0.04937987597519504,
          0.09750950190038007,
          0.14438887777555512,
          0.19001800360072013
         ],
         "y": [
          0.38934501027606483,
          0.492222981810266,
          0.5910703239907681,
          0.6537107398923755
         ]
        },
        {
         "marker": {
          "color": "green",
          "size": 8,
          "symbol": "circle"
         },
         "mode": "markers",
         "showlegend": false,
         "text": "",
         "type": "scatter",
         "x": [
          0.04937987597519504
         ],
         "y": [
          0.38934501027606483
         ]
        },
        {
         "marker": {
          "color": "green",
          "size": 8,
          "symbol": "circle"
         },
         "mode": "markers",
         "showlegend": false,
         "text": "",
         "type": "scatter",
         "x": [
          0.09750950190038007
         ],
         "y": [
          0.492222981810266
         ]
        },
        {
         "marker": {
          "color": "green",
          "size": 8,
          "symbol": "circle"
         },
         "mode": "markers",
         "showlegend": false,
         "text": "",
         "type": "scatter",
         "x": [
          0.14438887777555512
         ],
         "y": [
          0.5910703239907681
         ]
        },
        {
         "marker": {
          "color": "green",
          "size": 8,
          "symbol": "circle"
         },
         "mode": "markers",
         "showlegend": false,
         "text": "",
         "type": "scatter",
         "x": [
          0.19001800360072013
         ],
         "y": [
          0.6537107398923755
         ]
        }
       ],
       "layout": {
        "font": {
         "size": 25
        },
        "height": 700,
        "legend": {
         "font": {
          "size": 35
         },
         "x": 0.7,
         "xanchor": "left",
         "y": 0.1,
         "yanchor": "bottom"
        },
        "margin": {
         "b": 80,
         "l": 110,
         "r": 0,
         "t": 0
        },
        "template": {
         "data": {
          "pie": [
           {
            "automargin": true,
            "type": "pie"
           }
          ],
          "scatter": [
           {
            "line": {
             "width": 3
            },
            "marker": {
             "size": 9
            },
            "type": "scatter"
           }
          ],
          "scatter3d": [
           {
            "line": {
             "width": 3
            },
            "marker": {
             "size": 9
            },
            "type": "scatter3d"
           }
          ],
          "scattergeo": [
           {
            "line": {
             "width": 3
            },
            "marker": {
             "size": 9
            },
            "type": "scattergeo"
           }
          ],
          "scattergl": [
           {
            "line": {
             "width": 3
            },
            "marker": {
             "size": 9
            },
            "type": "scattergl"
           }
          ],
          "scatterpolar": [
           {
            "line": {
             "width": 3
            },
            "marker": {
             "size": 9
            },
            "type": "scatterpolar"
           }
          ],
          "scatterpolargl": [
           {
            "line": {
             "width": 3
            },
            "marker": {
             "size": 9
            },
            "type": "scatterpolargl"
           }
          ],
          "scatterternary": [
           {
            "line": {
             "width": 3
            },
            "marker": {
             "size": 9
            },
            "type": "scatterternary"
           }
          ],
          "table": [
           {
            "cells": {
             "height": 30
            },
            "header": {
             "height": 36
            },
            "type": "table"
           }
          ]
         },
         "layout": {
          "font": {
           "size": 18
          },
          "xaxis": {
           "title": {
            "standoff": 15
           }
          },
          "yaxis": {
           "title": {
            "standoff": 15
           }
          }
         }
        },
        "width": 1200,
        "xaxis": {
         "autorange": true,
         "range": [
          0.04015032151641451,
          0.20922955445878055
         ],
         "tickmode": "array",
         "tickvals": [
          0.05,
          0.1,
          0.15,
          0.2
         ],
         "title": {
          "text": "Computation rate"
         },
         "type": "linear"
        },
        "yaxis": {
         "autorange": true,
         "range": [
          0.35886728867591133,
          0.8837613829007773
         ],
         "title": {
          "text": "Community ARI"
         },
         "type": "linear"
        }
       }
      }
     },
     "metadata": {},
     "output_type": "display_data"
    }
   ],
   "source": [
    "sub_fig = get_computation_rate_plot(\"adjusted_rand_index\", depth_vs_breadth_search_evaluation, \"Community ARI\", legend=dict(\n",
    "            x=0.7,\n",
    "            y=0.1,\n",
    "            xanchor=\"left\",\n",
    "            yanchor=\"bottom\",\n",
    "            font=dict(size=35),\n",
    "        ))\n",
    "sub_fig.show()"
   ]
  },
  {
   "cell_type": "code",
   "execution_count": null,
   "id": "a63a6d28-2a26-46c3-be22-e8f118cb5926",
   "metadata": {},
   "outputs": [],
   "source": []
  }
 ],
 "metadata": {
  "kernelspec": {
   "display_name": "Python 3 (ipykernel)",
   "language": "python",
   "name": "python3"
  },
  "language_info": {
   "codemirror_mode": {
    "name": "ipython",
    "version": 3
   },
   "file_extension": ".py",
   "mimetype": "text/x-python",
   "name": "python",
   "nbconvert_exporter": "python",
   "pygments_lexer": "ipython3",
   "version": "3.12.5"
  }
 },
 "nbformat": 4,
 "nbformat_minor": 5
}
