{
 "cells": [
  {
   "metadata": {},
   "cell_type": "markdown",
   "source": [
    "# Complete candidate search (due_202203, 2,500 sequences)\n",
    "This notebook contains the evaluation of the complete candidate search concerning the aggregate due_202203 with 2,500 sequences. Breadth search and depth search results were taken into account.\n",
    "The distance matrices were evaluated in terms of infection recall. Furthermore, the mst structure was evaluated based on community ARI, lineage purity and mean edge weight. MSTs were generated to compare the results with the MST of the optimized algorithm regarding the distribution of outbreak-related attributes."
   ],
   "id": "bb88f0c0787df150"
  },
  {
   "cell_type": "code",
   "execution_count": 1,
   "id": "b2c3d2f8-d7a0-4f5f-a76c-d484d076de38",
   "metadata": {},
   "outputs": [
    {
     "name": "stdout",
     "output_type": "stream",
     "text": [
      "\u001B[33mWARNING: Ignoring invalid distribution ~entrain (/Users/benkraling/Library/jupyterlab-desktop/jlab_server/lib/python3.12/site-packages)\u001B[0m\u001B[33m\n",
      "\u001B[0mProcessing /Users/benkraling/code/thesis/gentrain\n",
      "  Preparing metadata (setup.py) ... \u001B[?25ldone\n",
      "\u001B[?25hRequirement already satisfied: biopython in /Users/benkraling/Library/jupyterlab-desktop/jlab_server/lib/python3.12/site-packages (from gentrain==0.1.2) (1.85)\n",
      "Requirement already satisfied: networkx in /Users/benkraling/Library/jupyterlab-desktop/jlab_server/lib/python3.12/site-packages (from gentrain==0.1.2) (3.4.2)\n",
      "Requirement already satisfied: matplotlib in /Users/benkraling/Library/jupyterlab-desktop/jlab_server/lib/python3.12/site-packages (from gentrain==0.1.2) (3.9.2)\n",
      "Requirement already satisfied: pandas in /Users/benkraling/Library/jupyterlab-desktop/jlab_server/lib/python3.12/site-packages (from gentrain==0.1.2) (2.2.2)\n",
      "Requirement already satisfied: numpy in /Users/benkraling/Library/jupyterlab-desktop/jlab_server/lib/python3.12/site-packages (from gentrain==0.1.2) (2.1.0)\n",
      "Requirement already satisfied: contourpy>=1.0.1 in /Users/benkraling/Library/jupyterlab-desktop/jlab_server/lib/python3.12/site-packages (from matplotlib->gentrain==0.1.2) (1.2.1)\n",
      "Requirement already satisfied: cycler>=0.10 in /Users/benkraling/Library/jupyterlab-desktop/jlab_server/lib/python3.12/site-packages (from matplotlib->gentrain==0.1.2) (0.12.1)\n",
      "Requirement already satisfied: fonttools>=4.22.0 in /Users/benkraling/Library/jupyterlab-desktop/jlab_server/lib/python3.12/site-packages (from matplotlib->gentrain==0.1.2) (4.53.1)\n",
      "Requirement already satisfied: kiwisolver>=1.3.1 in /Users/benkraling/Library/jupyterlab-desktop/jlab_server/lib/python3.12/site-packages (from matplotlib->gentrain==0.1.2) (1.4.5)\n",
      "Requirement already satisfied: packaging>=20.0 in /Users/benkraling/Library/jupyterlab-desktop/jlab_server/lib/python3.12/site-packages (from matplotlib->gentrain==0.1.2) (25.0)\n",
      "Requirement already satisfied: pillow>=8 in /Users/benkraling/Library/jupyterlab-desktop/jlab_server/lib/python3.12/site-packages (from matplotlib->gentrain==0.1.2) (10.4.0)\n",
      "Requirement already satisfied: pyparsing>=2.3.1 in /Users/benkraling/Library/jupyterlab-desktop/jlab_server/lib/python3.12/site-packages (from matplotlib->gentrain==0.1.2) (3.1.4)\n",
      "Requirement already satisfied: python-dateutil>=2.7 in /Users/benkraling/Library/jupyterlab-desktop/jlab_server/lib/python3.12/site-packages (from matplotlib->gentrain==0.1.2) (2.9.0)\n",
      "Requirement already satisfied: pytz>=2020.1 in /Users/benkraling/Library/jupyterlab-desktop/jlab_server/lib/python3.12/site-packages (from pandas->gentrain==0.1.2) (2024.1)\n",
      "Requirement already satisfied: tzdata>=2022.7 in /Users/benkraling/Library/jupyterlab-desktop/jlab_server/lib/python3.12/site-packages (from pandas->gentrain==0.1.2) (2024.1)\n",
      "Requirement already satisfied: six>=1.5 in /Users/benkraling/Library/jupyterlab-desktop/jlab_server/lib/python3.12/site-packages (from python-dateutil>=2.7->matplotlib->gentrain==0.1.2) (1.16.0)\n",
      "Building wheels for collected packages: gentrain\n",
      "  Building wheel for gentrain (setup.py) ... \u001B[?25ldone\n",
      "\u001B[?25h  Created wheel for gentrain: filename=gentrain-0.1.2-py3-none-any.whl size=26677 sha256=e032d785b567b78c4b77580ea6ea720a96437621b092a80493063dde1a7fd095\n",
      "  Stored in directory: /private/var/folders/2h/923cq6912sqb0snfvqqfdnmm0000gn/T/pip-ephem-wheel-cache-btqjssb_/wheels/cf/e4/57/91c03db2e8c043adeefe35dd0969d3049f61ae0218be0acc9f\n",
      "Successfully built gentrain\n",
      "\u001B[33mWARNING: Ignoring invalid distribution ~entrain (/Users/benkraling/Library/jupyterlab-desktop/jlab_server/lib/python3.12/site-packages)\u001B[0m\u001B[33m\n",
      "\u001B[0mInstalling collected packages: gentrain\n",
      "  Attempting uninstall: gentrain\n",
      "    Found existing installation: gentrain 0.1.2\n",
      "    Uninstalling gentrain-0.1.2:\n",
      "      Successfully uninstalled gentrain-0.1.2\n",
      "\u001B[33mWARNING: Ignoring invalid distribution ~entrain (/Users/benkraling/Library/jupyterlab-desktop/jlab_server/lib/python3.12/site-packages)\u001B[0m\u001B[33m\n",
      "\u001B[0mSuccessfully installed gentrain-0.1.2\n"
     ]
    }
   ],
   "source": [
    "!pip install ../../gentrain/."
   ]
  },
  {
   "cell_type": "code",
   "execution_count": 2,
   "id": "f44740de-5142-4e08-bce3-d5bc45c50668",
   "metadata": {},
   "outputs": [],
   "source": [
    "import pandas as pd\n",
    "import plotly.express as px\n",
    "import plotly.graph_objects as go\n",
    "import re\n",
    "from sklearn.preprocessing import MultiLabelBinarizer\n",
    "from sklearn.metrics import adjusted_rand_score\n",
    "from sklearn.preprocessing import LabelEncoder\n",
    "import numpy as np\n",
    "from collections import Counter\n",
    "import pickle\n",
    "from gentrain.evaluation import get_computation_rate_plot, candidate_evaluation_and_matrices, get_candidate_evaluation_and_export_mst\n",
    "from sklearn.preprocessing import MultiLabelBinarizer\n",
    "from sklearn.preprocessing import LabelEncoder\n",
    "from gentrain.encoding import get_nucleotide_sensitive_encodings, get_mutation_sensitive_encodings, generate_one_hot_encoding\n",
    "from gentrain.nextclade import get_mutations_from_dataframe\n",
    "from gentrain.candidate_sourcing import bitwise_xor_candidates\n",
    "from gentrain.graph import build_mst, export_graph_gexf, mean_edge_weight, get_outbreak_community_labels, build_graph\n",
    "from scipy.spatial.distance import pdist\n",
    "import community as community_louvain\n",
    "import umap\n",
    "import faiss\n",
    "from sklearn.cluster import DBSCAN\n",
    "from sklearn.metrics import pairwise_distances_argmin\n",
    "import os\n",
    "import shutil"
   ]
  },
  {
   "cell_type": "code",
   "execution_count": 3,
   "id": "5f2a8da5-9870-496c-a865-a88ad17c4e67",
   "metadata": {},
   "outputs": [],
   "source": [
    "aggregate = \"due_202203\"\n",
    "size = 2500"
   ]
  },
  {
   "cell_type": "code",
   "execution_count": 4,
   "id": "50d5222f-0e59-4b0c-a168-81ce45a7712b",
   "metadata": {},
   "outputs": [],
   "source": [
    "graph_path = f\"graphs/{aggregate}/{size}\"\n",
    "if os.path.exists(f\"graphs/{aggregate}/{size}\") and os.path.isdir(f\"graphs/{aggregate}/{size}\"):\n",
    "    shutil.rmtree(f\"graphs/{aggregate}/{size}\")\n",
    "if not os.path.exists(f\"graphs/{aggregate}\"):\n",
    "    os.mkdir(f\"graphs/{aggregate}\")\n",
    "os.mkdir(f\"graphs/{aggregate}/{size}\")"
   ]
  },
  {
   "cell_type": "code",
   "execution_count": 5,
   "id": "3cf8da80-ea93-4ca0-9697-f1eb2587b47e",
   "metadata": {},
   "outputs": [],
   "source": [
    "sequences_df = pd.read_csv(f\"../00_data_understanding_and_preparation/aggregates/{aggregate}/{size}/sequences_and_metadata.csv\", delimiter=\";\").set_index(\"igs_id\").sort_index()\n",
    "sequences_count = len(sequences_df)"
   ]
  },
  {
   "cell_type": "code",
   "execution_count": 6,
   "id": "078e2f36-de8b-4d3b-a2e9-9c87a45a71de",
   "metadata": {},
   "outputs": [],
   "source": [
    "mutations_df = get_mutations_from_dataframe(sequences_df)"
   ]
  },
  {
   "cell_type": "code",
   "execution_count": 7,
   "id": "d50663f5-014f-4f9f-9c78-d436762132db",
   "metadata": {},
   "outputs": [],
   "source": [
    "distance_matrix_df = pd.read_csv(f\"../01_algorithm_optimization/distance_matrices/{aggregate}/{size}/distance_matrix.csv\", delimiter=\";\",\n",
    "                                     index_col=\"Unnamed: 0\").sort_index()\n",
    "distance_matrix_df = distance_matrix_df[~distance_matrix_df.index.duplicated(keep=\"first\")]\n",
    "distance_matrix_df = distance_matrix_df.loc[sequences_df.index, sequences_df.index]\n",
    "distance_matrix = distance_matrix_df.to_numpy()"
   ]
  },
  {
   "cell_type": "code",
   "execution_count": 8,
   "id": "3b35e69d-4761-462e-9d3b-092b08fb6b4b",
   "metadata": {},
   "outputs": [
    {
     "name": "stdout",
     "output_type": "stream",
     "text": [
      "mst generation time: 8.97s\n"
     ]
    }
   ],
   "source": [
    "gentrain_graph = build_graph(distance_matrix)\n",
    "gentrain_mst = build_mst(gentrain_graph)\n",
    "gentrain_community_labels = get_outbreak_community_labels(gentrain_mst)\n",
    "datetime_sampling_dates = pd.to_datetime(sequences_df[\"date_of_sampling\"])\n",
    "numeric_dates = (datetime_sampling_dates - datetime_sampling_dates.min()).dt.days\n",
    "export_graph_gexf(gentrain_mst, gentrain_community_labels, sequences_df, f\"{graph_path}/brute_force_mst\")"
   ]
  },
  {
   "cell_type": "code",
   "execution_count": 9,
   "id": "d11b154c-aff4-4ad4-b272-f8236b2b5210",
   "metadata": {},
   "outputs": [
    {
     "data": {
      "text/plain": [
       "111"
      ]
     },
     "execution_count": 9,
     "metadata": {},
     "output_type": "execute_result"
    }
   ],
   "source": [
    "communities_count = len(Counter(gentrain_community_labels))\n",
    "communities_count"
   ]
  },
  {
   "cell_type": "code",
   "execution_count": 10,
   "id": "c504fa21-2b4c-4180-b99c-a40c21076af3",
   "metadata": {},
   "outputs": [],
   "source": [
    "mask = np.triu(np.ones(distance_matrix_df.shape), k=1).astype(bool)\n",
    "filtered = distance_matrix_df.where(mask)\n",
    "infections_count = (filtered < 2).sum().sum()\n",
    "distances_count = filtered.count().sum()"
   ]
  },
  {
   "cell_type": "markdown",
   "id": "66f0ca76-b701-46c3-b74c-e42d9d0b5fbf",
   "metadata": {},
   "source": [
    "## Encoding"
   ]
  },
  {
   "cell_type": "code",
   "execution_count": 11,
   "id": "ac49fd8d-c708-423b-8e1d-5bcf1545e11a",
   "metadata": {},
   "outputs": [
    {
     "name": "stdout",
     "output_type": "stream",
     "text": [
      "execution time: 40.61s\n"
     ]
    }
   ],
   "source": [
    "encodings_N_frequency_filter = get_mutation_sensitive_encodings(sequences_df, exclude_indels=False, use_frequency_filtering=False, filter_N=True)"
   ]
  },
  {
   "cell_type": "code",
   "execution_count": 12,
   "id": "a4c9d825-a963-426d-99cb-adb91b379589",
   "metadata": {},
   "outputs": [
    {
     "name": "stdout",
     "output_type": "stream",
     "text": [
      "execution time: 45.29s\n"
     ]
    }
   ],
   "source": [
    "encodings_N_and_SNV_frequency_filter = get_mutation_sensitive_encodings(sequences_df, exclude_indels=False, use_frequency_filtering=True, filter_N=True)"
   ]
  },
  {
   "cell_type": "markdown",
   "id": "57fd76ff-715d-4385-afe0-9f1e29098bf0",
   "metadata": {},
   "source": [
    "## Accurate candidate search"
   ]
  },
  {
   "cell_type": "markdown",
   "id": "591d789d-df98-4206-9f1d-e3c5228e3611",
   "metadata": {},
   "source": [
    "### Depth search with N frequency filter"
   ]
  },
  {
   "cell_type": "code",
   "execution_count": 13,
   "id": "01485fed-0015-4967-8418-df04fead5129",
   "metadata": {},
   "outputs": [
    {
     "name": "stdout",
     "output_type": "stream",
     "text": [
      "execution time xor distance calculation: 10.0s\n",
      "execution time depth search: 1.99s\n",
      "execution time 156187: 12.38s\n",
      "mst generation time: 0.31s\n",
      "execution time xor distance calculation: 9.45s\n",
      "execution time depth search: 2.09s\n",
      "execution time 312375: 11.92s\n",
      "mst generation time: 1.24s\n",
      "execution time xor distance calculation: 9.05s\n",
      "execution time depth search: 2.13s\n",
      "execution time 468562: 11.58s\n",
      "mst generation time: 1.93s\n",
      "execution time xor distance calculation: 9.18s\n",
      "execution time depth search: 2.1s\n",
      "execution time 624750: 11.67s\n",
      "mst generation time: 2.42s\n"
     ]
    }
   ],
   "source": [
    "depth_search_N_frequency_filter = []\n",
    "for computation_rate in [0.05, 0.1, 0.15, 0.2]:\n",
    "    limit = int(computation_rate*distances_count)\n",
    "    candidates, runtime = bitwise_xor_candidates(encodings_N_frequency_filter, limit, \"depth\")\n",
    "    depth_search_N_frequency_filter.append(get_candidate_evaluation_and_export_mst(\"depth_N\", candidates, graph_path, distance_matrix, gentrain_community_labels, gentrain_mst, list(sequences_df[\"clade\"]), sequences_df, runtime))"
   ]
  },
  {
   "cell_type": "code",
   "execution_count": 14,
   "id": "50ea1450-35f7-4b56-bd2b-b2f1a1a76fd6",
   "metadata": {},
   "outputs": [
    {
     "data": {
      "text/html": [
       "<div>\n",
       "<style scoped>\n",
       "    .dataframe tbody tr th:only-of-type {\n",
       "        vertical-align: middle;\n",
       "    }\n",
       "\n",
       "    .dataframe tbody tr th {\n",
       "        vertical-align: top;\n",
       "    }\n",
       "\n",
       "    .dataframe thead th {\n",
       "        text-align: right;\n",
       "    }\n",
       "</style>\n",
       "<table border=\"1\" class=\"dataframe\">\n",
       "  <thead>\n",
       "    <tr style=\"text-align: right;\">\n",
       "      <th></th>\n",
       "      <th>computation_rate</th>\n",
       "      <th>infection_detection_rate</th>\n",
       "      <th>infection_recall</th>\n",
       "      <th>infection_precision</th>\n",
       "      <th>infection_f1</th>\n",
       "      <th>runtime</th>\n",
       "      <th>mean_edge_weight</th>\n",
       "      <th>mean_edge_weight_diff</th>\n",
       "      <th>max_edge_weight</th>\n",
       "      <th>subgraph_count</th>\n",
       "      <th>adjusted_rand_index</th>\n",
       "      <th>lineage_purity</th>\n",
       "      <th>lineage_purity_diff</th>\n",
       "    </tr>\n",
       "  </thead>\n",
       "  <tbody>\n",
       "    <tr>\n",
       "      <th>0</th>\n",
       "      <td>0.05</td>\n",
       "      <td>0.750871</td>\n",
       "      <td>1.0</td>\n",
       "      <td>1.0</td>\n",
       "      <td>0.750871</td>\n",
       "      <td>12.38</td>\n",
       "      <td>1.092953</td>\n",
       "      <td>-0.468351</td>\n",
       "      <td>6.0</td>\n",
       "      <td>641</td>\n",
       "      <td>0.355879</td>\n",
       "      <td>0.998457</td>\n",
       "      <td>0.024057</td>\n",
       "    </tr>\n",
       "    <tr>\n",
       "      <th>1</th>\n",
       "      <td>0.10</td>\n",
       "      <td>0.796227</td>\n",
       "      <td>1.0</td>\n",
       "      <td>1.0</td>\n",
       "      <td>0.796227</td>\n",
       "      <td>11.92</td>\n",
       "      <td>1.287209</td>\n",
       "      <td>-0.274096</td>\n",
       "      <td>8.0</td>\n",
       "      <td>397</td>\n",
       "      <td>0.424790</td>\n",
       "      <td>0.997222</td>\n",
       "      <td>0.022822</td>\n",
       "    </tr>\n",
       "    <tr>\n",
       "      <th>2</th>\n",
       "      <td>0.15</td>\n",
       "      <td>0.808558</td>\n",
       "      <td>1.0</td>\n",
       "      <td>1.0</td>\n",
       "      <td>0.808558</td>\n",
       "      <td>11.58</td>\n",
       "      <td>1.428055</td>\n",
       "      <td>-0.133249</td>\n",
       "      <td>7.0</td>\n",
       "      <td>258</td>\n",
       "      <td>0.446889</td>\n",
       "      <td>0.996928</td>\n",
       "      <td>0.022528</td>\n",
       "    </tr>\n",
       "    <tr>\n",
       "      <th>3</th>\n",
       "      <td>0.20</td>\n",
       "      <td>0.816617</td>\n",
       "      <td>1.0</td>\n",
       "      <td>1.0</td>\n",
       "      <td>0.816617</td>\n",
       "      <td>11.67</td>\n",
       "      <td>1.486513</td>\n",
       "      <td>-0.074791</td>\n",
       "      <td>7.0</td>\n",
       "      <td>194</td>\n",
       "      <td>0.476270</td>\n",
       "      <td>0.995287</td>\n",
       "      <td>0.020887</td>\n",
       "    </tr>\n",
       "  </tbody>\n",
       "</table>\n",
       "</div>"
      ],
      "text/plain": [
       "   computation_rate  infection_detection_rate  infection_recall  \\\n",
       "0              0.05                  0.750871               1.0   \n",
       "1              0.10                  0.796227               1.0   \n",
       "2              0.15                  0.808558               1.0   \n",
       "3              0.20                  0.816617               1.0   \n",
       "\n",
       "   infection_precision  infection_f1  runtime  mean_edge_weight  \\\n",
       "0                  1.0      0.750871    12.38          1.092953   \n",
       "1                  1.0      0.796227    11.92          1.287209   \n",
       "2                  1.0      0.808558    11.58          1.428055   \n",
       "3                  1.0      0.816617    11.67          1.486513   \n",
       "\n",
       "   mean_edge_weight_diff  max_edge_weight  subgraph_count  \\\n",
       "0              -0.468351              6.0             641   \n",
       "1              -0.274096              8.0             397   \n",
       "2              -0.133249              7.0             258   \n",
       "3              -0.074791              7.0             194   \n",
       "\n",
       "   adjusted_rand_index  lineage_purity  lineage_purity_diff  \n",
       "0             0.355879        0.998457             0.024057  \n",
       "1             0.424790        0.997222             0.022822  \n",
       "2             0.446889        0.996928             0.022528  \n",
       "3             0.476270        0.995287             0.020887  "
      ]
     },
     "execution_count": 14,
     "metadata": {},
     "output_type": "execute_result"
    }
   ],
   "source": [
    "pd.DataFrame(depth_search_N_frequency_filter)"
   ]
  },
  {
   "cell_type": "markdown",
   "id": "8fcc2ca5-54ca-4b7b-98df-db24eef06c19",
   "metadata": {},
   "source": [
    "### Breadth search with N frequency filter"
   ]
  },
  {
   "cell_type": "code",
   "execution_count": 15,
   "id": "347c5384-4535-4c9b-a5f1-8edb46ae0cfe",
   "metadata": {},
   "outputs": [
    {
     "name": "stdout",
     "output_type": "stream",
     "text": [
      "matrix generation time: 5.86s\n",
      "execution time distance collection: 3.43s\n",
      "execution time breadth search: 2.63s\n",
      "execution time 156187: 12.35s\n",
      "mst generation time: 0.51s\n",
      "matrix generation time: 5.34s\n",
      "execution time distance collection: 4.08s\n",
      "execution time breadth search: 2.96s\n",
      "execution time 312375: 12.83s\n",
      "mst generation time: 2.32s\n",
      "matrix generation time: 5.47s\n",
      "execution time distance collection: 3.38s\n",
      "execution time breadth search: 3.04s\n",
      "execution time 468562: 12.38s\n",
      "mst generation time: 2.07s\n",
      "matrix generation time: 5.19s\n",
      "execution time distance collection: 3.44s\n",
      "execution time breadth search: 2.88s\n",
      "execution time 624750: 11.93s\n",
      "mst generation time: 2.38s\n"
     ]
    }
   ],
   "source": [
    "breadth_search_N_frequency_filter = []\n",
    "for computation_rate in [0.05, 0.1, 0.15, 0.2]:\n",
    "    limit = int(computation_rate*distances_count)\n",
    "    candidates, runtime = bitwise_xor_candidates(encodings_N_frequency_filter, limit, \"breadth\")\n",
    "    breadth_search_N_frequency_filter.append(get_candidate_evaluation_and_export_mst(\"depth_N\", candidates, graph_path, distance_matrix, gentrain_community_labels, gentrain_mst, list(sequences_df[\"clade\"]), sequences_df, runtime))"
   ]
  },
  {
   "cell_type": "code",
   "execution_count": 16,
   "id": "b1395206-26ed-4505-aa61-c5e1d9a2f9aa",
   "metadata": {},
   "outputs": [
    {
     "data": {
      "text/html": [
       "<div>\n",
       "<style scoped>\n",
       "    .dataframe tbody tr th:only-of-type {\n",
       "        vertical-align: middle;\n",
       "    }\n",
       "\n",
       "    .dataframe tbody tr th {\n",
       "        vertical-align: top;\n",
       "    }\n",
       "\n",
       "    .dataframe thead th {\n",
       "        text-align: right;\n",
       "    }\n",
       "</style>\n",
       "<table border=\"1\" class=\"dataframe\">\n",
       "  <thead>\n",
       "    <tr style=\"text-align: right;\">\n",
       "      <th></th>\n",
       "      <th>computation_rate</th>\n",
       "      <th>infection_detection_rate</th>\n",
       "      <th>infection_recall</th>\n",
       "      <th>infection_precision</th>\n",
       "      <th>infection_f1</th>\n",
       "      <th>runtime</th>\n",
       "      <th>mean_edge_weight</th>\n",
       "      <th>mean_edge_weight_diff</th>\n",
       "      <th>max_edge_weight</th>\n",
       "      <th>subgraph_count</th>\n",
       "      <th>adjusted_rand_index</th>\n",
       "      <th>lineage_purity</th>\n",
       "      <th>lineage_purity_diff</th>\n",
       "    </tr>\n",
       "  </thead>\n",
       "  <tbody>\n",
       "    <tr>\n",
       "      <th>0</th>\n",
       "      <td>0.049775</td>\n",
       "      <td>0.461826</td>\n",
       "      <td>1.0</td>\n",
       "      <td>1.0</td>\n",
       "      <td>0.461826</td>\n",
       "      <td>12.35</td>\n",
       "      <td>1.754102</td>\n",
       "      <td>0.192797</td>\n",
       "      <td>11.0</td>\n",
       "      <td>1</td>\n",
       "      <td>0.175794</td>\n",
       "      <td>0.9936</td>\n",
       "      <td>0.0192</td>\n",
       "    </tr>\n",
       "    <tr>\n",
       "      <th>1</th>\n",
       "      <td>0.097519</td>\n",
       "      <td>0.632929</td>\n",
       "      <td>1.0</td>\n",
       "      <td>1.0</td>\n",
       "      <td>0.632929</td>\n",
       "      <td>12.83</td>\n",
       "      <td>1.701881</td>\n",
       "      <td>0.140576</td>\n",
       "      <td>11.0</td>\n",
       "      <td>1</td>\n",
       "      <td>0.242678</td>\n",
       "      <td>0.9936</td>\n",
       "      <td>0.0192</td>\n",
       "    </tr>\n",
       "    <tr>\n",
       "      <th>2</th>\n",
       "      <td>0.144773</td>\n",
       "      <td>0.735921</td>\n",
       "      <td>1.0</td>\n",
       "      <td>1.0</td>\n",
       "      <td>0.735921</td>\n",
       "      <td>12.38</td>\n",
       "      <td>1.674310</td>\n",
       "      <td>0.113005</td>\n",
       "      <td>11.0</td>\n",
       "      <td>1</td>\n",
       "      <td>0.310190</td>\n",
       "      <td>0.9908</td>\n",
       "      <td>0.0164</td>\n",
       "    </tr>\n",
       "    <tr>\n",
       "      <th>3</th>\n",
       "      <td>0.190036</td>\n",
       "      <td>0.795337</td>\n",
       "      <td>1.0</td>\n",
       "      <td>1.0</td>\n",
       "      <td>0.795337</td>\n",
       "      <td>11.93</td>\n",
       "      <td>1.652301</td>\n",
       "      <td>0.090996</td>\n",
       "      <td>11.0</td>\n",
       "      <td>1</td>\n",
       "      <td>0.366199</td>\n",
       "      <td>0.9904</td>\n",
       "      <td>0.0160</td>\n",
       "    </tr>\n",
       "  </tbody>\n",
       "</table>\n",
       "</div>"
      ],
      "text/plain": [
       "   computation_rate  infection_detection_rate  infection_recall  \\\n",
       "0          0.049775                  0.461826               1.0   \n",
       "1          0.097519                  0.632929               1.0   \n",
       "2          0.144773                  0.735921               1.0   \n",
       "3          0.190036                  0.795337               1.0   \n",
       "\n",
       "   infection_precision  infection_f1  runtime  mean_edge_weight  \\\n",
       "0                  1.0      0.461826    12.35          1.754102   \n",
       "1                  1.0      0.632929    12.83          1.701881   \n",
       "2                  1.0      0.735921    12.38          1.674310   \n",
       "3                  1.0      0.795337    11.93          1.652301   \n",
       "\n",
       "   mean_edge_weight_diff  max_edge_weight  subgraph_count  \\\n",
       "0               0.192797             11.0               1   \n",
       "1               0.140576             11.0               1   \n",
       "2               0.113005             11.0               1   \n",
       "3               0.090996             11.0               1   \n",
       "\n",
       "   adjusted_rand_index  lineage_purity  lineage_purity_diff  \n",
       "0             0.175794          0.9936               0.0192  \n",
       "1             0.242678          0.9936               0.0192  \n",
       "2             0.310190          0.9908               0.0164  \n",
       "3             0.366199          0.9904               0.0160  "
      ]
     },
     "execution_count": 16,
     "metadata": {},
     "output_type": "execute_result"
    }
   ],
   "source": [
    "pd.DataFrame(breadth_search_N_frequency_filter)"
   ]
  },
  {
   "cell_type": "markdown",
   "id": "44439e0e-6a3d-40f4-9b99-c7f28105d2ff",
   "metadata": {},
   "source": [
    "### Depth search with N and SNV frequency filter"
   ]
  },
  {
   "cell_type": "code",
   "execution_count": 17,
   "id": "313f3f19-82a5-4378-a621-687117e95cfb",
   "metadata": {},
   "outputs": [
    {
     "name": "stdout",
     "output_type": "stream",
     "text": [
      "execution time xor distance calculation: 6.51s\n",
      "execution time depth search: 2.01s\n",
      "execution time 156187: 8.9s\n",
      "mst generation time: 0.66s\n",
      "execution time xor distance calculation: 6.04s\n",
      "execution time depth search: 1.96s\n",
      "execution time 312375: 8.37s\n",
      "mst generation time: 1.11s\n",
      "execution time xor distance calculation: 6.07s\n",
      "execution time depth search: 2.01s\n",
      "execution time 468562: 8.45s\n",
      "mst generation time: 1.74s\n",
      "execution time xor distance calculation: 6.49s\n",
      "execution time depth search: 2.03s\n",
      "execution time 624750: 8.9s\n",
      "mst generation time: 2.23s\n"
     ]
    }
   ],
   "source": [
    "depth_search_N_and_SNV_frequency_filter = []\n",
    "for computation_rate in [0.05, 0.1, 0.15, 0.2]:\n",
    "    limit = int(computation_rate*distances_count)\n",
    "    candidates, runtime = bitwise_xor_candidates(encodings_N_and_SNV_frequency_filter, limit, \"depth\")\n",
    "    depth_search_N_and_SNV_frequency_filter.append(get_candidate_evaluation_and_export_mst(\"depth_N_and_SNV\", candidates, graph_path, distance_matrix, gentrain_community_labels, gentrain_mst, list(sequences_df[\"clade\"]), sequences_df, runtime))"
   ]
  },
  {
   "cell_type": "code",
   "execution_count": 18,
   "id": "581d199a-3264-49f2-9bde-485494cb5576",
   "metadata": {},
   "outputs": [
    {
     "data": {
      "text/html": [
       "<div>\n",
       "<style scoped>\n",
       "    .dataframe tbody tr th:only-of-type {\n",
       "        vertical-align: middle;\n",
       "    }\n",
       "\n",
       "    .dataframe tbody tr th {\n",
       "        vertical-align: top;\n",
       "    }\n",
       "\n",
       "    .dataframe thead th {\n",
       "        text-align: right;\n",
       "    }\n",
       "</style>\n",
       "<table border=\"1\" class=\"dataframe\">\n",
       "  <thead>\n",
       "    <tr style=\"text-align: right;\">\n",
       "      <th></th>\n",
       "      <th>computation_rate</th>\n",
       "      <th>infection_detection_rate</th>\n",
       "      <th>infection_recall</th>\n",
       "      <th>infection_precision</th>\n",
       "      <th>infection_f1</th>\n",
       "      <th>runtime</th>\n",
       "      <th>mean_edge_weight</th>\n",
       "      <th>mean_edge_weight_diff</th>\n",
       "      <th>max_edge_weight</th>\n",
       "      <th>subgraph_count</th>\n",
       "      <th>adjusted_rand_index</th>\n",
       "      <th>lineage_purity</th>\n",
       "      <th>lineage_purity_diff</th>\n",
       "    </tr>\n",
       "  </thead>\n",
       "  <tbody>\n",
       "    <tr>\n",
       "      <th>0</th>\n",
       "      <td>0.05</td>\n",
       "      <td>0.763278</td>\n",
       "      <td>1.0</td>\n",
       "      <td>1.0</td>\n",
       "      <td>0.763278</td>\n",
       "      <td>8.90</td>\n",
       "      <td>1.371645</td>\n",
       "      <td>-0.189659</td>\n",
       "      <td>16.0</td>\n",
       "      <td>458</td>\n",
       "      <td>0.480052</td>\n",
       "      <td>0.991248</td>\n",
       "      <td>0.016848</td>\n",
       "    </tr>\n",
       "    <tr>\n",
       "      <th>1</th>\n",
       "      <td>0.10</td>\n",
       "      <td>0.857448</td>\n",
       "      <td>1.0</td>\n",
       "      <td>1.0</td>\n",
       "      <td>0.857448</td>\n",
       "      <td>8.37</td>\n",
       "      <td>1.476184</td>\n",
       "      <td>-0.085120</td>\n",
       "      <td>16.0</td>\n",
       "      <td>241</td>\n",
       "      <td>0.671509</td>\n",
       "      <td>0.990150</td>\n",
       "      <td>0.015750</td>\n",
       "    </tr>\n",
       "    <tr>\n",
       "      <th>2</th>\n",
       "      <td>0.15</td>\n",
       "      <td>0.913737</td>\n",
       "      <td>1.0</td>\n",
       "      <td>1.0</td>\n",
       "      <td>0.913737</td>\n",
       "      <td>8.45</td>\n",
       "      <td>1.505115</td>\n",
       "      <td>-0.056190</td>\n",
       "      <td>16.0</td>\n",
       "      <td>193</td>\n",
       "      <td>0.695646</td>\n",
       "      <td>0.989460</td>\n",
       "      <td>0.015060</td>\n",
       "    </tr>\n",
       "    <tr>\n",
       "      <th>3</th>\n",
       "      <td>0.20</td>\n",
       "      <td>0.941144</td>\n",
       "      <td>1.0</td>\n",
       "      <td>1.0</td>\n",
       "      <td>0.941144</td>\n",
       "      <td>8.90</td>\n",
       "      <td>1.549684</td>\n",
       "      <td>-0.011620</td>\n",
       "      <td>16.0</td>\n",
       "      <td>123</td>\n",
       "      <td>0.757750</td>\n",
       "      <td>0.987169</td>\n",
       "      <td>0.012769</td>\n",
       "    </tr>\n",
       "  </tbody>\n",
       "</table>\n",
       "</div>"
      ],
      "text/plain": [
       "   computation_rate  infection_detection_rate  infection_recall  \\\n",
       "0              0.05                  0.763278               1.0   \n",
       "1              0.10                  0.857448               1.0   \n",
       "2              0.15                  0.913737               1.0   \n",
       "3              0.20                  0.941144               1.0   \n",
       "\n",
       "   infection_precision  infection_f1  runtime  mean_edge_weight  \\\n",
       "0                  1.0      0.763278     8.90          1.371645   \n",
       "1                  1.0      0.857448     8.37          1.476184   \n",
       "2                  1.0      0.913737     8.45          1.505115   \n",
       "3                  1.0      0.941144     8.90          1.549684   \n",
       "\n",
       "   mean_edge_weight_diff  max_edge_weight  subgraph_count  \\\n",
       "0              -0.189659             16.0             458   \n",
       "1              -0.085120             16.0             241   \n",
       "2              -0.056190             16.0             193   \n",
       "3              -0.011620             16.0             123   \n",
       "\n",
       "   adjusted_rand_index  lineage_purity  lineage_purity_diff  \n",
       "0             0.480052        0.991248             0.016848  \n",
       "1             0.671509        0.990150             0.015750  \n",
       "2             0.695646        0.989460             0.015060  \n",
       "3             0.757750        0.987169             0.012769  "
      ]
     },
     "execution_count": 18,
     "metadata": {},
     "output_type": "execute_result"
    }
   ],
   "source": [
    "pd.DataFrame(depth_search_N_and_SNV_frequency_filter)"
   ]
  },
  {
   "cell_type": "markdown",
   "id": "14227b79-424f-49c7-b4e3-a007f0f5a728",
   "metadata": {},
   "source": [
    "### Breadth search with N and SNV frequency filter"
   ]
  },
  {
   "cell_type": "code",
   "execution_count": 19,
   "id": "7447eed2-3d49-4d22-bb2f-ca69d594aab8",
   "metadata": {},
   "outputs": [
    {
     "name": "stdout",
     "output_type": "stream",
     "text": [
      "matrix generation time: 2.44s\n",
      "execution time distance collection: 3.13s\n",
      "execution time breadth search: 2.42s\n",
      "execution time 156187: 8.38s\n",
      "mst generation time: 0.61s\n",
      "matrix generation time: 1.98s\n",
      "execution time distance collection: 3.44s\n",
      "execution time breadth search: 2.66s\n",
      "execution time 312375: 8.49s\n",
      "mst generation time: 1.31s\n",
      "matrix generation time: 1.99s\n",
      "execution time distance collection: 3.49s\n",
      "execution time breadth search: 2.48s\n",
      "execution time 468562: 8.33s\n",
      "mst generation time: 1.51s\n",
      "matrix generation time: 2.1s\n",
      "execution time distance collection: 3.64s\n",
      "execution time breadth search: 2.63s\n",
      "execution time 624750: 8.78s\n",
      "mst generation time: 2.43s\n"
     ]
    }
   ],
   "source": [
    "breadth_search_N_and_SNV_frequency_filter = []\n",
    "for computation_rate in [0.05, 0.1, 0.15, 0.2]:\n",
    "    limit = int(computation_rate*distances_count)\n",
    "    candidates, runtime = bitwise_xor_candidates(encodings_N_and_SNV_frequency_filter, limit, \"breadth\")\n",
    "    breadth_search_N_and_SNV_frequency_filter.append(get_candidate_evaluation_and_export_mst(\"breadth_N_and_SNV\", candidates, graph_path, distance_matrix, gentrain_community_labels, gentrain_mst, list(sequences_df[\"clade\"]), sequences_df, runtime))"
   ]
  },
  {
   "cell_type": "code",
   "execution_count": 20,
   "id": "d3cb0ea4-d428-4ee4-bb7f-7f2dfbafc840",
   "metadata": {},
   "outputs": [
    {
     "data": {
      "text/html": [
       "<div>\n",
       "<style scoped>\n",
       "    .dataframe tbody tr th:only-of-type {\n",
       "        vertical-align: middle;\n",
       "    }\n",
       "\n",
       "    .dataframe tbody tr th {\n",
       "        vertical-align: top;\n",
       "    }\n",
       "\n",
       "    .dataframe thead th {\n",
       "        text-align: right;\n",
       "    }\n",
       "</style>\n",
       "<table border=\"1\" class=\"dataframe\">\n",
       "  <thead>\n",
       "    <tr style=\"text-align: right;\">\n",
       "      <th></th>\n",
       "      <th>computation_rate</th>\n",
       "      <th>infection_detection_rate</th>\n",
       "      <th>infection_recall</th>\n",
       "      <th>infection_precision</th>\n",
       "      <th>infection_f1</th>\n",
       "      <th>runtime</th>\n",
       "      <th>mean_edge_weight</th>\n",
       "      <th>mean_edge_weight_diff</th>\n",
       "      <th>max_edge_weight</th>\n",
       "      <th>subgraph_count</th>\n",
       "      <th>adjusted_rand_index</th>\n",
       "      <th>lineage_purity</th>\n",
       "      <th>lineage_purity_diff</th>\n",
       "    </tr>\n",
       "  </thead>\n",
       "  <tbody>\n",
       "    <tr>\n",
       "      <th>0</th>\n",
       "      <td>0.049775</td>\n",
       "      <td>0.406554</td>\n",
       "      <td>1.0</td>\n",
       "      <td>1.0</td>\n",
       "      <td>0.406554</td>\n",
       "      <td>8.38</td>\n",
       "      <td>1.713485</td>\n",
       "      <td>0.152181</td>\n",
       "      <td>12.0</td>\n",
       "      <td>1</td>\n",
       "      <td>0.229914</td>\n",
       "      <td>0.9916</td>\n",
       "      <td>0.0172</td>\n",
       "    </tr>\n",
       "    <tr>\n",
       "      <th>1</th>\n",
       "      <td>0.097519</td>\n",
       "      <td>0.596751</td>\n",
       "      <td>1.0</td>\n",
       "      <td>1.0</td>\n",
       "      <td>0.596751</td>\n",
       "      <td>8.49</td>\n",
       "      <td>1.662025</td>\n",
       "      <td>0.100720</td>\n",
       "      <td>11.0</td>\n",
       "      <td>1</td>\n",
       "      <td>0.283506</td>\n",
       "      <td>0.9912</td>\n",
       "      <td>0.0168</td>\n",
       "    </tr>\n",
       "    <tr>\n",
       "      <th>2</th>\n",
       "      <td>0.144773</td>\n",
       "      <td>0.708921</td>\n",
       "      <td>1.0</td>\n",
       "      <td>1.0</td>\n",
       "      <td>0.708921</td>\n",
       "      <td>8.33</td>\n",
       "      <td>1.649140</td>\n",
       "      <td>0.087835</td>\n",
       "      <td>11.0</td>\n",
       "      <td>1</td>\n",
       "      <td>0.316049</td>\n",
       "      <td>0.9896</td>\n",
       "      <td>0.0152</td>\n",
       "    </tr>\n",
       "    <tr>\n",
       "      <th>3</th>\n",
       "      <td>0.190036</td>\n",
       "      <td>0.785651</td>\n",
       "      <td>1.0</td>\n",
       "      <td>1.0</td>\n",
       "      <td>0.785651</td>\n",
       "      <td>8.78</td>\n",
       "      <td>1.635534</td>\n",
       "      <td>0.074230</td>\n",
       "      <td>11.0</td>\n",
       "      <td>1</td>\n",
       "      <td>0.374757</td>\n",
       "      <td>0.9868</td>\n",
       "      <td>0.0124</td>\n",
       "    </tr>\n",
       "  </tbody>\n",
       "</table>\n",
       "</div>"
      ],
      "text/plain": [
       "   computation_rate  infection_detection_rate  infection_recall  \\\n",
       "0          0.049775                  0.406554               1.0   \n",
       "1          0.097519                  0.596751               1.0   \n",
       "2          0.144773                  0.708921               1.0   \n",
       "3          0.190036                  0.785651               1.0   \n",
       "\n",
       "   infection_precision  infection_f1  runtime  mean_edge_weight  \\\n",
       "0                  1.0      0.406554     8.38          1.713485   \n",
       "1                  1.0      0.596751     8.49          1.662025   \n",
       "2                  1.0      0.708921     8.33          1.649140   \n",
       "3                  1.0      0.785651     8.78          1.635534   \n",
       "\n",
       "   mean_edge_weight_diff  max_edge_weight  subgraph_count  \\\n",
       "0               0.152181             12.0               1   \n",
       "1               0.100720             11.0               1   \n",
       "2               0.087835             11.0               1   \n",
       "3               0.074230             11.0               1   \n",
       "\n",
       "   adjusted_rand_index  lineage_purity  lineage_purity_diff  \n",
       "0             0.229914          0.9916               0.0172  \n",
       "1             0.283506          0.9912               0.0168  \n",
       "2             0.316049          0.9896               0.0152  \n",
       "3             0.374757          0.9868               0.0124  "
      ]
     },
     "execution_count": 20,
     "metadata": {},
     "output_type": "execute_result"
    }
   ],
   "source": [
    "pd.DataFrame(breadth_search_N_and_SNV_frequency_filter)"
   ]
  },
  {
   "cell_type": "code",
   "execution_count": 21,
   "id": "f4e54761-806d-47fb-8147-ed4329153159",
   "metadata": {},
   "outputs": [],
   "source": [
    "depth_search_evaluation = {\n",
    "    \"N frequency filter\": {\"values\": {evaluation[\"computation_rate\"]: evaluation for evaluation in depth_search_N_frequency_filter}, \"stroke\": \"dash\", \"color\": \"black\"},\n",
    "    \"N & SNV frequency filter\": {\"values\": {evaluation[\"computation_rate\"]: evaluation for evaluation in depth_search_N_and_SNV_frequency_filter}, \"stroke\": \"dot\", \"color\": \"black\"}\n",
    "}"
   ]
  },
  {
   "cell_type": "code",
   "execution_count": 22,
   "id": "20eb1f2e-87f0-473a-8349-9480f12cd8af",
   "metadata": {},
   "outputs": [],
   "source": [
    "breadth_search_evaluation = {\n",
    "    \"N frequency filter\": {\"values\": {evaluation[\"computation_rate\"]: evaluation for evaluation in breadth_search_N_frequency_filter}, \"stroke\": \"dash\", \"color\": \"black\"},\n",
    "    \"N & SNV frequency filter\": {\"values\": {evaluation[\"computation_rate\"]: evaluation for evaluation in breadth_search_N_and_SNV_frequency_filter}, \"stroke\": \"dot\", \"color\": \"black\"}\n",
    "}"
   ]
  },
  {
   "cell_type": "markdown",
   "id": "356535d0-0c8a-4b32-95e3-1e78a9f062fb",
   "metadata": {},
   "source": [
    "### Infection recall for different filters and computation rates using depth search"
   ]
  },
  {
   "cell_type": "code",
   "execution_count": 23,
   "id": "99cd3d30-cb22-4a18-9f38-c7efb78784ad",
   "metadata": {},
   "outputs": [
    {
     "data": {
      "application/vnd.plotly.v1+json": {
       "config": {
        "plotlyServerURL": "https://plot.ly"
       },
       "data": [
        {
         "line": {
          "color": "black",
          "dash": "dash",
          "width": 4
         },
         "mode": "lines",
         "name": "N frequency filter",
         "type": "scatter",
         "x": [
          0.04999983993597439,
          0.1,
          0.14999983993597438,
          0.2
         ],
         "y": [
          0.750870770091272,
          0.796227086670226,
          0.8085576996415224,
          0.8166170899753388
         ]
        },
        {
         "marker": {
          "color": "black",
          "size": 8,
          "symbol": "circle"
         },
         "mode": "markers",
         "showlegend": false,
         "text": "",
         "type": "scatter",
         "x": [
          0.04999983993597439
         ],
         "y": [
          0.750870770091272
         ]
        },
        {
         "marker": {
          "color": "black",
          "size": 8,
          "symbol": "circle"
         },
         "mode": "markers",
         "showlegend": false,
         "text": "",
         "type": "scatter",
         "x": [
          0.1
         ],
         "y": [
          0.796227086670226
         ]
        },
        {
         "marker": {
          "color": "black",
          "size": 8,
          "symbol": "circle"
         },
         "mode": "markers",
         "showlegend": false,
         "text": "",
         "type": "scatter",
         "x": [
          0.14999983993597438
         ],
         "y": [
          0.8085576996415224
         ]
        },
        {
         "marker": {
          "color": "black",
          "size": 8,
          "symbol": "circle"
         },
         "mode": "markers",
         "showlegend": false,
         "text": "",
         "type": "scatter",
         "x": [
          0.2
         ],
         "y": [
          0.8166170899753388
         ]
        },
        {
         "line": {
          "color": "black",
          "dash": "dot",
          "width": 4
         },
         "mode": "lines",
         "name": "N & SNV frequency filter",
         "type": "scatter",
         "x": [
          0.04999983993597439,
          0.1,
          0.14999983993597438,
          0.2
         ],
         "y": [
          0.7632776548953805,
          0.8574479444741057,
          0.9137365570894669,
          0.9411435690132968
         ]
        },
        {
         "marker": {
          "color": "black",
          "size": 8,
          "symbol": "circle"
         },
         "mode": "markers",
         "showlegend": false,
         "text": "",
         "type": "scatter",
         "x": [
          0.04999983993597439
         ],
         "y": [
          0.7632776548953805
         ]
        },
        {
         "marker": {
          "color": "black",
          "size": 8,
          "symbol": "circle"
         },
         "mode": "markers",
         "showlegend": false,
         "text": "",
         "type": "scatter",
         "x": [
          0.1
         ],
         "y": [
          0.8574479444741057
         ]
        },
        {
         "marker": {
          "color": "black",
          "size": 8,
          "symbol": "circle"
         },
         "mode": "markers",
         "showlegend": false,
         "text": "",
         "type": "scatter",
         "x": [
          0.14999983993597438
         ],
         "y": [
          0.9137365570894669
         ]
        },
        {
         "marker": {
          "color": "black",
          "size": 8,
          "symbol": "circle"
         },
         "mode": "markers",
         "showlegend": false,
         "text": "",
         "type": "scatter",
         "x": [
          0.2
         ],
         "y": [
          0.9411435690132968
         ]
        }
       ],
       "layout": {
        "font": {
         "size": 25
        },
        "height": 700,
        "legend": {
         "font": {
          "size": 30
         },
         "itemwidth": 60,
         "x": 0.85,
         "xanchor": "left",
         "y": 0,
         "yanchor": "bottom"
        },
        "margin": {
         "b": 80,
         "l": 110,
         "r": 0,
         "t": 0
        },
        "template": {
         "data": {
          "pie": [
           {
            "automargin": true,
            "type": "pie"
           }
          ],
          "scatter": [
           {
            "line": {
             "width": 3
            },
            "marker": {
             "size": 9
            },
            "type": "scatter"
           }
          ],
          "scatter3d": [
           {
            "line": {
             "width": 3
            },
            "marker": {
             "size": 9
            },
            "type": "scatter3d"
           }
          ],
          "scattergeo": [
           {
            "line": {
             "width": 3
            },
            "marker": {
             "size": 9
            },
            "type": "scattergeo"
           }
          ],
          "scattergl": [
           {
            "line": {
             "width": 3
            },
            "marker": {
             "size": 9
            },
            "type": "scattergl"
           }
          ],
          "scatterpolar": [
           {
            "line": {
             "width": 3
            },
            "marker": {
             "size": 9
            },
            "type": "scatterpolar"
           }
          ],
          "scatterpolargl": [
           {
            "line": {
             "width": 3
            },
            "marker": {
             "size": 9
            },
            "type": "scatterpolargl"
           }
          ],
          "scatterternary": [
           {
            "line": {
             "width": 3
            },
            "marker": {
             "size": 9
            },
            "type": "scatterternary"
           }
          ],
          "table": [
           {
            "cells": {
             "height": 30
            },
            "header": {
             "height": 36
            },
            "type": "table"
           }
          ]
         },
         "layout": {
          "font": {
           "size": 18
          },
          "xaxis": {
           "title": {
            "standoff": 15
           }
          },
          "yaxis": {
           "title": {
            "standoff": 15
           }
          }
         }
        },
        "width": 1200,
        "xaxis": {
         "autorange": true,
         "range": [
          0.04043009678648908,
          0.20956974314948532
         ],
         "tickmode": "array",
         "tickvals": [
          0.05,
          0.1,
          0.15,
          0.2
         ],
         "title": {
          "text": "Computation rate"
         },
         "type": "linear"
        },
        "yaxis": {
         "autorange": true,
         "range": [
          0.7383710971693872,
          0.9536432419351816
         ],
         "title": {
          "text": "Infection recall"
         },
         "type": "linear"
        }
       }
      }
     },
     "metadata": {},
     "output_type": "display_data"
    }
   ],
   "source": [
    "sub_fig = get_computation_rate_plot(\"infection_detection_rate\", depth_search_evaluation, \"Infection recall\", dict(\n",
    "            x=0.85,\n",
    "            y=0,\n",
    "            itemwidth=60,\n",
    "            xanchor=\"left\",\n",
    "            yanchor=\"bottom\",\n",
    "            font=dict(size=30),\n",
    "        ))\n",
    "\n",
    "sub_fig.show()"
   ]
  },
  {
   "cell_type": "markdown",
   "id": "60ae3e60-01c1-4d5c-a9ab-94a97468191b",
   "metadata": {},
   "source": [
    "### Community ARI for different filters and computation rates using depth search"
   ]
  },
  {
   "cell_type": "code",
   "execution_count": 24,
   "id": "908ca4d5-07c7-4b82-9db4-c723d72b4a56",
   "metadata": {},
   "outputs": [
    {
     "data": {
      "application/vnd.plotly.v1+json": {
       "config": {
        "plotlyServerURL": "https://plot.ly"
       },
       "data": [
        {
         "line": {
          "color": "black",
          "dash": "dash",
          "width": 4
         },
         "mode": "lines",
         "name": "N frequency filter",
         "type": "scatter",
         "x": [
          0.04999983993597439,
          0.1,
          0.14999983993597438,
          0.2
         ],
         "y": [
          0.35587854519905554,
          0.42479003951701505,
          0.4468885803468553,
          0.4762698952929619
         ]
        },
        {
         "marker": {
          "color": "black",
          "size": 8,
          "symbol": "circle"
         },
         "mode": "markers",
         "showlegend": false,
         "text": "",
         "type": "scatter",
         "x": [
          0.04999983993597439
         ],
         "y": [
          0.35587854519905554
         ]
        },
        {
         "marker": {
          "color": "black",
          "size": 8,
          "symbol": "circle"
         },
         "mode": "markers",
         "showlegend": false,
         "text": "",
         "type": "scatter",
         "x": [
          0.1
         ],
         "y": [
          0.42479003951701505
         ]
        },
        {
         "marker": {
          "color": "black",
          "size": 8,
          "symbol": "circle"
         },
         "mode": "markers",
         "showlegend": false,
         "text": "",
         "type": "scatter",
         "x": [
          0.14999983993597438
         ],
         "y": [
          0.4468885803468553
         ]
        },
        {
         "marker": {
          "color": "black",
          "size": 8,
          "symbol": "circle"
         },
         "mode": "markers",
         "showlegend": false,
         "text": "",
         "type": "scatter",
         "x": [
          0.2
         ],
         "y": [
          0.4762698952929619
         ]
        },
        {
         "line": {
          "color": "black",
          "dash": "dot",
          "width": 4
         },
         "mode": "lines",
         "name": "N & SNV frequency filter",
         "type": "scatter",
         "x": [
          0.04999983993597439,
          0.1,
          0.14999983993597438,
          0.2
         ],
         "y": [
          0.480051520693983,
          0.6715087269436005,
          0.6956455672329709,
          0.757749578334482
         ]
        },
        {
         "marker": {
          "color": "black",
          "size": 8,
          "symbol": "circle"
         },
         "mode": "markers",
         "showlegend": false,
         "text": "",
         "type": "scatter",
         "x": [
          0.04999983993597439
         ],
         "y": [
          0.480051520693983
         ]
        },
        {
         "marker": {
          "color": "black",
          "size": 8,
          "symbol": "circle"
         },
         "mode": "markers",
         "showlegend": false,
         "text": "",
         "type": "scatter",
         "x": [
          0.1
         ],
         "y": [
          0.6715087269436005
         ]
        },
        {
         "marker": {
          "color": "black",
          "size": 8,
          "symbol": "circle"
         },
         "mode": "markers",
         "showlegend": false,
         "text": "",
         "type": "scatter",
         "x": [
          0.14999983993597438
         ],
         "y": [
          0.6956455672329709
         ]
        },
        {
         "marker": {
          "color": "black",
          "size": 8,
          "symbol": "circle"
         },
         "mode": "markers",
         "showlegend": false,
         "text": "",
         "type": "scatter",
         "x": [
          0.2
         ],
         "y": [
          0.757749578334482
         ]
        }
       ],
       "layout": {
        "font": {
         "size": 25
        },
        "height": 700,
        "legend": {
         "font": {
          "size": 30
         },
         "itemwidth": 60,
         "x": 0.85,
         "xanchor": "left",
         "y": 0,
         "yanchor": "bottom"
        },
        "margin": {
         "b": 80,
         "l": 110,
         "r": 0,
         "t": 0
        },
        "template": {
         "data": {
          "pie": [
           {
            "automargin": true,
            "type": "pie"
           }
          ],
          "scatter": [
           {
            "line": {
             "width": 3
            },
            "marker": {
             "size": 9
            },
            "type": "scatter"
           }
          ],
          "scatter3d": [
           {
            "line": {
             "width": 3
            },
            "marker": {
             "size": 9
            },
            "type": "scatter3d"
           }
          ],
          "scattergeo": [
           {
            "line": {
             "width": 3
            },
            "marker": {
             "size": 9
            },
            "type": "scattergeo"
           }
          ],
          "scattergl": [
           {
            "line": {
             "width": 3
            },
            "marker": {
             "size": 9
            },
            "type": "scattergl"
           }
          ],
          "scatterpolar": [
           {
            "line": {
             "width": 3
            },
            "marker": {
             "size": 9
            },
            "type": "scatterpolar"
           }
          ],
          "scatterpolargl": [
           {
            "line": {
             "width": 3
            },
            "marker": {
             "size": 9
            },
            "type": "scatterpolargl"
           }
          ],
          "scatterternary": [
           {
            "line": {
             "width": 3
            },
            "marker": {
             "size": 9
            },
            "type": "scatterternary"
           }
          ],
          "table": [
           {
            "cells": {
             "height": 30
            },
            "header": {
             "height": 36
            },
            "type": "table"
           }
          ]
         },
         "layout": {
          "font": {
           "size": 18
          },
          "xaxis": {
           "title": {
            "standoff": 15
           }
          },
          "yaxis": {
           "title": {
            "standoff": 15
           }
          }
         }
        },
        "width": 1200,
        "xaxis": {
         "autorange": true,
         "range": [
          0.04043009678648908,
          0.20956974314948532
         ],
         "tickmode": "array",
         "tickvals": [
          0.05,
          0.1,
          0.15,
          0.2
         ],
         "title": {
          "text": "Computation rate"
         },
         "type": "linear"
        },
        "yaxis": {
         "autorange": true,
         "range": [
          0.32947825835074285,
          0.7841498651827946
         ],
         "title": {
          "text": "Community ARI"
         },
         "type": "linear"
        }
       }
      }
     },
     "metadata": {},
     "output_type": "display_data"
    }
   ],
   "source": [
    "sub_fig = get_computation_rate_plot(\"adjusted_rand_index\", depth_search_evaluation, \"Community ARI\", dict(\n",
    "            x=0.85,\n",
    "            y=0,\n",
    "            itemwidth=60,\n",
    "            xanchor=\"left\",\n",
    "            yanchor=\"bottom\",\n",
    "            font=dict(size=30),\n",
    "        ))\n",
    "\n",
    "sub_fig.show()"
   ]
  },
  {
   "cell_type": "markdown",
   "id": "2a0efc3b-1a9d-484c-9baf-c4b3a60944b6",
   "metadata": {},
   "source": [
    "### Infection recall for different filters and computation rates using breadth search"
   ]
  },
  {
   "cell_type": "code",
   "execution_count": 25,
   "id": "f729759c-183c-4d20-ba84-3aefe341f254",
   "metadata": {},
   "outputs": [
    {
     "data": {
      "application/vnd.plotly.v1+json": {
       "config": {
        "plotlyServerURL": "https://plot.ly"
       },
       "data": [
        {
         "line": {
          "color": "black",
          "dash": "dash",
          "width": 4
         },
         "mode": "lines",
         "name": "N frequency filter",
         "type": "scatter",
         "x": [
          0.049774789915966386,
          0.09751900760304122,
          0.14477278911564626,
          0.19003601440576232
         ],
         "y": [
          0.46182594767752266,
          0.632929092619429,
          0.7359214908600921,
          0.7953372486207511
         ]
        },
        {
         "marker": {
          "color": "black",
          "size": 8,
          "symbol": "circle"
         },
         "mode": "markers",
         "showlegend": false,
         "text": "",
         "type": "scatter",
         "x": [
          0.049774789915966386
         ],
         "y": [
          0.46182594767752266
         ]
        },
        {
         "marker": {
          "color": "black",
          "size": 8,
          "symbol": "circle"
         },
         "mode": "markers",
         "showlegend": false,
         "text": "",
         "type": "scatter",
         "x": [
          0.09751900760304122
         ],
         "y": [
          0.632929092619429
         ]
        },
        {
         "marker": {
          "color": "black",
          "size": 8,
          "symbol": "circle"
         },
         "mode": "markers",
         "showlegend": false,
         "text": "",
         "type": "scatter",
         "x": [
          0.14477278911564626
         ],
         "y": [
          0.7359214908600921
         ]
        },
        {
         "marker": {
          "color": "black",
          "size": 8,
          "symbol": "circle"
         },
         "mode": "markers",
         "showlegend": false,
         "text": "",
         "type": "scatter",
         "x": [
          0.19003601440576232
         ],
         "y": [
          0.7953372486207511
         ]
        },
        {
         "line": {
          "color": "black",
          "dash": "dot",
          "width": 4
         },
         "mode": "lines",
         "name": "N & SNV frequency filter",
         "type": "scatter",
         "x": [
          0.049774789915966386,
          0.09751900760304122,
          0.14477278911564626,
          0.19003601440576232
         ],
         "y": [
          0.4065542928329901,
          0.5967508199222027,
          0.7089212620445936,
          0.785650725853609
         ]
        },
        {
         "marker": {
          "color": "black",
          "size": 8,
          "symbol": "circle"
         },
         "mode": "markers",
         "showlegend": false,
         "text": "",
         "type": "scatter",
         "x": [
          0.049774789915966386
         ],
         "y": [
          0.4065542928329901
         ]
        },
        {
         "marker": {
          "color": "black",
          "size": 8,
          "symbol": "circle"
         },
         "mode": "markers",
         "showlegend": false,
         "text": "",
         "type": "scatter",
         "x": [
          0.09751900760304122
         ],
         "y": [
          0.5967508199222027
         ]
        },
        {
         "marker": {
          "color": "black",
          "size": 8,
          "symbol": "circle"
         },
         "mode": "markers",
         "showlegend": false,
         "text": "",
         "type": "scatter",
         "x": [
          0.14477278911564626
         ],
         "y": [
          0.7089212620445936
         ]
        },
        {
         "marker": {
          "color": "black",
          "size": 8,
          "symbol": "circle"
         },
         "mode": "markers",
         "showlegend": false,
         "text": "",
         "type": "scatter",
         "x": [
          0.19003601440576232
         ],
         "y": [
          0.785650725853609
         ]
        }
       ],
       "layout": {
        "font": {
         "size": 25
        },
        "height": 700,
        "legend": {
         "font": {
          "size": 35
         },
         "x": 0.65,
         "xanchor": "left",
         "y": 0.05,
         "yanchor": "bottom"
        },
        "margin": {
         "b": 80,
         "l": 110,
         "r": 0,
         "t": 0
        },
        "template": {
         "data": {
          "pie": [
           {
            "automargin": true,
            "type": "pie"
           }
          ],
          "scatter": [
           {
            "line": {
             "width": 3
            },
            "marker": {
             "size": 9
            },
            "type": "scatter"
           }
          ],
          "scatter3d": [
           {
            "line": {
             "width": 3
            },
            "marker": {
             "size": 9
            },
            "type": "scatter3d"
           }
          ],
          "scattergeo": [
           {
            "line": {
             "width": 3
            },
            "marker": {
             "size": 9
            },
            "type": "scattergeo"
           }
          ],
          "scattergl": [
           {
            "line": {
             "width": 3
            },
            "marker": {
             "size": 9
            },
            "type": "scattergl"
           }
          ],
          "scatterpolar": [
           {
            "line": {
             "width": 3
            },
            "marker": {
             "size": 9
            },
            "type": "scatterpolar"
           }
          ],
          "scatterpolargl": [
           {
            "line": {
             "width": 3
            },
            "marker": {
             "size": 9
            },
            "type": "scatterpolargl"
           }
          ],
          "scatterternary": [
           {
            "line": {
             "width": 3
            },
            "marker": {
             "size": 9
            },
            "type": "scatterternary"
           }
          ],
          "table": [
           {
            "cells": {
             "height": 30
            },
            "header": {
             "height": 36
            },
            "type": "table"
           }
          ]
         },
         "layout": {
          "font": {
           "size": 18
          },
          "xaxis": {
           "title": {
            "standoff": 15
           }
          },
          "yaxis": {
           "title": {
            "standoff": 15
           }
          }
         }
        },
        "width": 1200,
        "xaxis": {
         "autorange": true,
         "range": [
          0.04105539791169293,
          0.19875540641003578
         ],
         "tickmode": "array",
         "tickvals": [
          0.05,
          0.1,
          0.15,
          0.2
         ],
         "title": {
          "text": "Computation rate"
         },
         "type": "linear"
        },
        "yaxis": {
         "autorange": true,
         "range": [
          0.3810138066863489,
          0.8208777347673923
         ],
         "title": {
          "text": "Infection recall"
         },
         "type": "linear"
        }
       }
      }
     },
     "metadata": {},
     "output_type": "display_data"
    }
   ],
   "source": [
    "sub_fig = get_computation_rate_plot(\"infection_detection_rate\", breadth_search_evaluation, \"Infection recall\", legend=dict(\n",
    "            x=0.65,\n",
    "            y=0.05,\n",
    "            xanchor=\"left\",\n",
    "            yanchor=\"bottom\",\n",
    "            font=dict(size=35),\n",
    "        ))\n",
    "sub_fig.show()"
   ]
  },
  {
   "cell_type": "markdown",
   "id": "89420831-1def-4eca-824e-0da5a81e94b6",
   "metadata": {},
   "source": [
    "### Community ARI for different filters and computation rates using breadth search"
   ]
  },
  {
   "cell_type": "code",
   "execution_count": 26,
   "id": "203133c2-1c05-47b5-9f5d-5898432945c2",
   "metadata": {},
   "outputs": [
    {
     "data": {
      "application/vnd.plotly.v1+json": {
       "config": {
        "plotlyServerURL": "https://plot.ly"
       },
       "data": [
        {
         "line": {
          "color": "black",
          "dash": "dash",
          "width": 4
         },
         "mode": "lines",
         "name": "N frequency filter",
         "type": "scatter",
         "x": [
          0.049774789915966386,
          0.09751900760304122,
          0.14477278911564626,
          0.19003601440576232
         ],
         "y": [
          0.17579389243817878,
          0.2426783911588462,
          0.31019005455177034,
          0.3661994443144551
         ]
        },
        {
         "marker": {
          "color": "black",
          "size": 8,
          "symbol": "circle"
         },
         "mode": "markers",
         "showlegend": false,
         "text": "",
         "type": "scatter",
         "x": [
          0.049774789915966386
         ],
         "y": [
          0.17579389243817878
         ]
        },
        {
         "marker": {
          "color": "black",
          "size": 8,
          "symbol": "circle"
         },
         "mode": "markers",
         "showlegend": false,
         "text": "",
         "type": "scatter",
         "x": [
          0.09751900760304122
         ],
         "y": [
          0.2426783911588462
         ]
        },
        {
         "marker": {
          "color": "black",
          "size": 8,
          "symbol": "circle"
         },
         "mode": "markers",
         "showlegend": false,
         "text": "",
         "type": "scatter",
         "x": [
          0.14477278911564626
         ],
         "y": [
          0.31019005455177034
         ]
        },
        {
         "marker": {
          "color": "black",
          "size": 8,
          "symbol": "circle"
         },
         "mode": "markers",
         "showlegend": false,
         "text": "",
         "type": "scatter",
         "x": [
          0.19003601440576232
         ],
         "y": [
          0.3661994443144551
         ]
        },
        {
         "line": {
          "color": "black",
          "dash": "dot",
          "width": 4
         },
         "mode": "lines",
         "name": "N & SNV frequency filter",
         "type": "scatter",
         "x": [
          0.049774789915966386,
          0.09751900760304122,
          0.14477278911564626,
          0.19003601440576232
         ],
         "y": [
          0.22991388208951258,
          0.28350591117196144,
          0.31604867451502383,
          0.3747565629713678
         ]
        },
        {
         "marker": {
          "color": "black",
          "size": 8,
          "symbol": "circle"
         },
         "mode": "markers",
         "showlegend": false,
         "text": "",
         "type": "scatter",
         "x": [
          0.049774789915966386
         ],
         "y": [
          0.22991388208951258
         ]
        },
        {
         "marker": {
          "color": "black",
          "size": 8,
          "symbol": "circle"
         },
         "mode": "markers",
         "showlegend": false,
         "text": "",
         "type": "scatter",
         "x": [
          0.09751900760304122
         ],
         "y": [
          0.28350591117196144
         ]
        },
        {
         "marker": {
          "color": "black",
          "size": 8,
          "symbol": "circle"
         },
         "mode": "markers",
         "showlegend": false,
         "text": "",
         "type": "scatter",
         "x": [
          0.14477278911564626
         ],
         "y": [
          0.31604867451502383
         ]
        },
        {
         "marker": {
          "color": "black",
          "size": 8,
          "symbol": "circle"
         },
         "mode": "markers",
         "showlegend": false,
         "text": "",
         "type": "scatter",
         "x": [
          0.19003601440576232
         ],
         "y": [
          0.3747565629713678
         ]
        }
       ],
       "layout": {
        "font": {
         "size": 25
        },
        "height": 700,
        "legend": {
         "font": {
          "size": 35
         },
         "x": 0.55,
         "xanchor": "left",
         "y": 0.02,
         "yanchor": "bottom"
        },
        "margin": {
         "b": 80,
         "l": 110,
         "r": 0,
         "t": 0
        },
        "template": {
         "data": {
          "pie": [
           {
            "automargin": true,
            "type": "pie"
           }
          ],
          "scatter": [
           {
            "line": {
             "width": 3
            },
            "marker": {
             "size": 9
            },
            "type": "scatter"
           }
          ],
          "scatter3d": [
           {
            "line": {
             "width": 3
            },
            "marker": {
             "size": 9
            },
            "type": "scatter3d"
           }
          ],
          "scattergeo": [
           {
            "line": {
             "width": 3
            },
            "marker": {
             "size": 9
            },
            "type": "scattergeo"
           }
          ],
          "scattergl": [
           {
            "line": {
             "width": 3
            },
            "marker": {
             "size": 9
            },
            "type": "scattergl"
           }
          ],
          "scatterpolar": [
           {
            "line": {
             "width": 3
            },
            "marker": {
             "size": 9
            },
            "type": "scatterpolar"
           }
          ],
          "scatterpolargl": [
           {
            "line": {
             "width": 3
            },
            "marker": {
             "size": 9
            },
            "type": "scatterpolargl"
           }
          ],
          "scatterternary": [
           {
            "line": {
             "width": 3
            },
            "marker": {
             "size": 9
            },
            "type": "scatterternary"
           }
          ],
          "table": [
           {
            "cells": {
             "height": 30
            },
            "header": {
             "height": 36
            },
            "type": "table"
           }
          ]
         },
         "layout": {
          "font": {
           "size": 18
          },
          "xaxis": {
           "title": {
            "standoff": 15
           }
          },
          "yaxis": {
           "title": {
            "standoff": 15
           }
          }
         }
        },
        "width": 1200,
        "xaxis": {
         "autorange": true,
         "range": [
          0.04117999809604583,
          0.19863080622568288
         ],
         "tickmode": "array",
         "tickvals": [
          0.05,
          0.1,
          0.15,
          0.2
         ],
         "title": {
          "text": "Computation rate"
         },
         "type": "linear"
        },
        "yaxis": {
         "autorange": true,
         "range": [
          0.16272335203818827,
          0.3878271033713583
         ],
         "title": {
          "text": "Community ARI"
         },
         "type": "linear"
        }
       }
      }
     },
     "metadata": {},
     "output_type": "display_data"
    }
   ],
   "source": [
    "sub_fig = get_computation_rate_plot(\"adjusted_rand_index\", breadth_search_evaluation, \"Community ARI\", legend=dict(\n",
    "            x=0.55,\n",
    "            y=0.02,\n",
    "            xanchor=\"left\",\n",
    "            yanchor=\"bottom\",\n",
    "            font=dict(size=35),\n",
    "        ))\n",
    "sub_fig.show()"
   ]
  },
  {
   "cell_type": "code",
   "execution_count": 27,
   "id": "a2527af6-911c-4ba6-a4ff-ed2c416bc3b6",
   "metadata": {},
   "outputs": [],
   "source": [
    "depth_vs_breadth_search_evaluation = {\n",
    "    \"Depth search\": {\"values\": {evaluation[\"computation_rate\"]: evaluation for evaluation in depth_search_N_and_SNV_frequency_filter}, \"stroke\": \"solid\", \"color\": \"blue\"},\n",
    "    \"Breadth search\": {\"values\": {evaluation[\"computation_rate\"]: evaluation for evaluation in breadth_search_N_and_SNV_frequency_filter}, \"stroke\": \"solid\", \"color\": \"green\"},  \n",
    "}"
   ]
  },
  {
   "cell_type": "markdown",
   "id": "3ff60961-3a76-4abe-992b-3f351c87d047",
   "metadata": {},
   "source": [
    "### Infection recall for different computation rates using depth search and breadth search (N and SNV frequency filter)"
   ]
  },
  {
   "cell_type": "code",
   "execution_count": 28,
   "id": "a888b187-43f9-4e72-a7bb-e1d39756b694",
   "metadata": {},
   "outputs": [
    {
     "data": {
      "application/vnd.plotly.v1+json": {
       "config": {
        "plotlyServerURL": "https://plot.ly"
       },
       "data": [
        {
         "line": {
          "color": "blue",
          "dash": "solid",
          "width": 4
         },
         "mode": "lines",
         "name": "Depth search",
         "type": "scatter",
         "x": [
          0.04999983993597439,
          0.1,
          0.14999983993597438,
          0.2
         ],
         "y": [
          0.7632776548953805,
          0.8574479444741057,
          0.9137365570894669,
          0.9411435690132968
         ]
        },
        {
         "marker": {
          "color": "blue",
          "size": 8,
          "symbol": "circle"
         },
         "mode": "markers",
         "showlegend": false,
         "text": "",
         "type": "scatter",
         "x": [
          0.04999983993597439
         ],
         "y": [
          0.7632776548953805
         ]
        },
        {
         "marker": {
          "color": "blue",
          "size": 8,
          "symbol": "circle"
         },
         "mode": "markers",
         "showlegend": false,
         "text": "",
         "type": "scatter",
         "x": [
          0.1
         ],
         "y": [
          0.8574479444741057
         ]
        },
        {
         "marker": {
          "color": "blue",
          "size": 8,
          "symbol": "circle"
         },
         "mode": "markers",
         "showlegend": false,
         "text": "",
         "type": "scatter",
         "x": [
          0.14999983993597438
         ],
         "y": [
          0.9137365570894669
         ]
        },
        {
         "marker": {
          "color": "blue",
          "size": 8,
          "symbol": "circle"
         },
         "mode": "markers",
         "showlegend": false,
         "text": "",
         "type": "scatter",
         "x": [
          0.2
         ],
         "y": [
          0.9411435690132968
         ]
        },
        {
         "line": {
          "color": "green",
          "dash": "solid",
          "width": 4
         },
         "mode": "lines",
         "name": "Breadth search",
         "type": "scatter",
         "x": [
          0.049774789915966386,
          0.09751900760304122,
          0.14477278911564626,
          0.19003601440576232
         ],
         "y": [
          0.4065542928329901,
          0.5967508199222027,
          0.7089212620445936,
          0.785650725853609
         ]
        },
        {
         "marker": {
          "color": "green",
          "size": 8,
          "symbol": "circle"
         },
         "mode": "markers",
         "showlegend": false,
         "text": "",
         "type": "scatter",
         "x": [
          0.049774789915966386
         ],
         "y": [
          0.4065542928329901
         ]
        },
        {
         "marker": {
          "color": "green",
          "size": 8,
          "symbol": "circle"
         },
         "mode": "markers",
         "showlegend": false,
         "text": "",
         "type": "scatter",
         "x": [
          0.09751900760304122
         ],
         "y": [
          0.5967508199222027
         ]
        },
        {
         "marker": {
          "color": "green",
          "size": 8,
          "symbol": "circle"
         },
         "mode": "markers",
         "showlegend": false,
         "text": "",
         "type": "scatter",
         "x": [
          0.14477278911564626
         ],
         "y": [
          0.7089212620445936
         ]
        },
        {
         "marker": {
          "color": "green",
          "size": 8,
          "symbol": "circle"
         },
         "mode": "markers",
         "showlegend": false,
         "text": "",
         "type": "scatter",
         "x": [
          0.19003601440576232
         ],
         "y": [
          0.785650725853609
         ]
        }
       ],
       "layout": {
        "font": {
         "size": 25
        },
        "height": 700,
        "legend": {
         "font": {
          "size": 35
         },
         "x": 0.7,
         "xanchor": "left",
         "y": 0.1,
         "yanchor": "bottom"
        },
        "margin": {
         "b": 80,
         "l": 110,
         "r": 0,
         "t": 0
        },
        "template": {
         "data": {
          "pie": [
           {
            "automargin": true,
            "type": "pie"
           }
          ],
          "scatter": [
           {
            "line": {
             "width": 3
            },
            "marker": {
             "size": 9
            },
            "type": "scatter"
           }
          ],
          "scatter3d": [
           {
            "line": {
             "width": 3
            },
            "marker": {
             "size": 9
            },
            "type": "scatter3d"
           }
          ],
          "scattergeo": [
           {
            "line": {
             "width": 3
            },
            "marker": {
             "size": 9
            },
            "type": "scattergeo"
           }
          ],
          "scattergl": [
           {
            "line": {
             "width": 3
            },
            "marker": {
             "size": 9
            },
            "type": "scattergl"
           }
          ],
          "scatterpolar": [
           {
            "line": {
             "width": 3
            },
            "marker": {
             "size": 9
            },
            "type": "scatterpolar"
           }
          ],
          "scatterpolargl": [
           {
            "line": {
             "width": 3
            },
            "marker": {
             "size": 9
            },
            "type": "scatterpolargl"
           }
          ],
          "scatterternary": [
           {
            "line": {
             "width": 3
            },
            "marker": {
             "size": 9
            },
            "type": "scatterternary"
           }
          ],
          "table": [
           {
            "cells": {
             "height": 30
            },
            "header": {
             "height": 36
            },
            "type": "table"
           }
          ]
         },
         "layout": {
          "font": {
           "size": 18
          },
          "xaxis": {
           "title": {
            "standoff": 15
           }
          },
          "yaxis": {
           "title": {
            "standoff": 15
           }
          }
         }
        },
        "width": 1200,
        "xaxis": {
         "autorange": true,
         "range": [
          0.04056943461215588,
          0.20920535530381051
         ],
         "tickmode": "array",
         "tickvals": [
          0.05,
          0.1,
          0.15,
          0.2
         ],
         "title": {
          "text": "Computation rate"
         },
         "type": "linear"
        },
        "yaxis": {
         "autorange": true,
         "range": [
          0.37143528928829844,
          0.9762625725579884
         ],
         "title": {
          "text": "Infection recall"
         },
         "type": "linear"
        }
       }
      }
     },
     "metadata": {},
     "output_type": "display_data"
    }
   ],
   "source": [
    "sub_fig = get_computation_rate_plot(\"infection_detection_rate\", depth_vs_breadth_search_evaluation, \"Infection recall\", legend=dict(\n",
    "            x=0.7,\n",
    "            y=0.1,\n",
    "            xanchor=\"left\",\n",
    "            yanchor=\"bottom\",\n",
    "            font=dict(size=35),\n",
    "        ))\n",
    "sub_fig.show()"
   ]
  },
  {
   "cell_type": "markdown",
   "id": "0ba52540-a7f4-449c-ad65-ad9780668c09",
   "metadata": {},
   "source": [
    "### Community ARI for different computation rates using depth search and breadth search (N and SNV frequency filter)"
   ]
  },
  {
   "cell_type": "code",
   "execution_count": 29,
   "id": "1248ca7b-aee5-4e18-a400-9e5be429770e",
   "metadata": {},
   "outputs": [
    {
     "data": {
      "application/vnd.plotly.v1+json": {
       "config": {
        "plotlyServerURL": "https://plot.ly"
       },
       "data": [
        {
         "line": {
          "color": "blue",
          "dash": "solid",
          "width": 4
         },
         "mode": "lines",
         "name": "Depth search",
         "type": "scatter",
         "x": [
          0.04999983993597439,
          0.1,
          0.14999983993597438,
          0.2
         ],
         "y": [
          0.480051520693983,
          0.6715087269436005,
          0.6956455672329709,
          0.757749578334482
         ]
        },
        {
         "marker": {
          "color": "blue",
          "size": 8,
          "symbol": "circle"
         },
         "mode": "markers",
         "showlegend": false,
         "text": "",
         "type": "scatter",
         "x": [
          0.04999983993597439
         ],
         "y": [
          0.480051520693983
         ]
        },
        {
         "marker": {
          "color": "blue",
          "size": 8,
          "symbol": "circle"
         },
         "mode": "markers",
         "showlegend": false,
         "text": "",
         "type": "scatter",
         "x": [
          0.1
         ],
         "y": [
          0.6715087269436005
         ]
        },
        {
         "marker": {
          "color": "blue",
          "size": 8,
          "symbol": "circle"
         },
         "mode": "markers",
         "showlegend": false,
         "text": "",
         "type": "scatter",
         "x": [
          0.14999983993597438
         ],
         "y": [
          0.6956455672329709
         ]
        },
        {
         "marker": {
          "color": "blue",
          "size": 8,
          "symbol": "circle"
         },
         "mode": "markers",
         "showlegend": false,
         "text": "",
         "type": "scatter",
         "x": [
          0.2
         ],
         "y": [
          0.757749578334482
         ]
        },
        {
         "line": {
          "color": "green",
          "dash": "solid",
          "width": 4
         },
         "mode": "lines",
         "name": "Breadth search",
         "type": "scatter",
         "x": [
          0.049774789915966386,
          0.09751900760304122,
          0.14477278911564626,
          0.19003601440576232
         ],
         "y": [
          0.22991388208951258,
          0.28350591117196144,
          0.31604867451502383,
          0.3747565629713678
         ]
        },
        {
         "marker": {
          "color": "green",
          "size": 8,
          "symbol": "circle"
         },
         "mode": "markers",
         "showlegend": false,
         "text": "",
         "type": "scatter",
         "x": [
          0.049774789915966386
         ],
         "y": [
          0.22991388208951258
         ]
        },
        {
         "marker": {
          "color": "green",
          "size": 8,
          "symbol": "circle"
         },
         "mode": "markers",
         "showlegend": false,
         "text": "",
         "type": "scatter",
         "x": [
          0.09751900760304122
         ],
         "y": [
          0.28350591117196144
         ]
        },
        {
         "marker": {
          "color": "green",
          "size": 8,
          "symbol": "circle"
         },
         "mode": "markers",
         "showlegend": false,
         "text": "",
         "type": "scatter",
         "x": [
          0.14477278911564626
         ],
         "y": [
          0.31604867451502383
         ]
        },
        {
         "marker": {
          "color": "green",
          "size": 8,
          "symbol": "circle"
         },
         "mode": "markers",
         "showlegend": false,
         "text": "",
         "type": "scatter",
         "x": [
          0.19003601440576232
         ],
         "y": [
          0.3747565629713678
         ]
        }
       ],
       "layout": {
        "font": {
         "size": 25
        },
        "height": 700,
        "legend": {
         "font": {
          "size": 35
         },
         "x": 0.7,
         "xanchor": "left",
         "y": 0.1,
         "yanchor": "bottom"
        },
        "margin": {
         "b": 80,
         "l": 110,
         "r": 0,
         "t": 0
        },
        "template": {
         "data": {
          "pie": [
           {
            "automargin": true,
            "type": "pie"
           }
          ],
          "scatter": [
           {
            "line": {
             "width": 3
            },
            "marker": {
             "size": 9
            },
            "type": "scatter"
           }
          ],
          "scatter3d": [
           {
            "line": {
             "width": 3
            },
            "marker": {
             "size": 9
            },
            "type": "scatter3d"
           }
          ],
          "scattergeo": [
           {
            "line": {
             "width": 3
            },
            "marker": {
             "size": 9
            },
            "type": "scattergeo"
           }
          ],
          "scattergl": [
           {
            "line": {
             "width": 3
            },
            "marker": {
             "size": 9
            },
            "type": "scattergl"
           }
          ],
          "scatterpolar": [
           {
            "line": {
             "width": 3
            },
            "marker": {
             "size": 9
            },
            "type": "scatterpolar"
           }
          ],
          "scatterpolargl": [
           {
            "line": {
             "width": 3
            },
            "marker": {
             "size": 9
            },
            "type": "scatterpolargl"
           }
          ],
          "scatterternary": [
           {
            "line": {
             "width": 3
            },
            "marker": {
             "size": 9
            },
            "type": "scatterternary"
           }
          ],
          "table": [
           {
            "cells": {
             "height": 30
            },
            "header": {
             "height": 36
            },
            "type": "table"
           }
          ]
         },
         "layout": {
          "font": {
           "size": 18
          },
          "xaxis": {
           "title": {
            "standoff": 15
           }
          },
          "yaxis": {
           "title": {
            "standoff": 15
           }
          }
         }
        },
        "width": 1200,
        "xaxis": {
         "autorange": true,
         "range": [
          0.04056943461215588,
          0.20920535530381051
         ],
         "tickmode": "array",
         "tickvals": [
          0.05,
          0.1,
          0.15,
          0.2
         ],
         "title": {
          "text": "Computation rate"
         },
         "type": "linear"
        },
        "yaxis": {
         "autorange": true,
         "range": [
          0.19523854437998905,
          0.7924249160440056
         ],
         "title": {
          "text": "Community ARI"
         },
         "type": "linear"
        }
       }
      }
     },
     "metadata": {},
     "output_type": "display_data"
    }
   ],
   "source": [
    "sub_fig = get_computation_rate_plot(\"adjusted_rand_index\", depth_vs_breadth_search_evaluation, \"Community ARI\", legend=dict(\n",
    "            x=0.7,\n",
    "            y=0.1,\n",
    "            xanchor=\"left\",\n",
    "            yanchor=\"bottom\",\n",
    "            font=dict(size=35),\n",
    "        ))\n",
    "sub_fig.show()"
   ]
  },
  {
   "cell_type": "code",
   "execution_count": null,
   "id": "df22ea81-90c0-43ee-a047-f54f76db1ba7",
   "metadata": {},
   "outputs": [],
   "source": []
  }
 ],
 "metadata": {
  "kernelspec": {
   "display_name": "Python 3 (ipykernel)",
   "language": "python",
   "name": "python3"
  },
  "language_info": {
   "codemirror_mode": {
    "name": "ipython",
    "version": 3
   },
   "file_extension": ".py",
   "mimetype": "text/x-python",
   "name": "python",
   "nbconvert_exporter": "python",
   "pygments_lexer": "ipython3",
   "version": "3.12.5"
  }
 },
 "nbformat": 4,
 "nbformat_minor": 5
}
