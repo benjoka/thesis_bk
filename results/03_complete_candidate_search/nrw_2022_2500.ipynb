{
 "cells": [
  {
   "metadata": {},
   "cell_type": "markdown",
   "source": [
    "# Complete candidate search (nrw_2022, 2,500 sequences)\n",
    "This notebook contains the evaluation of the complete candidate search concerning the aggregate nrw_2022 with 2,500 sequences. Breadth search and depth search results were taken into account.\n",
    "The distance matrices were evaluated in terms of infection recall. Furthermore, the mst structure was evaluated based on community ARI, lineage purity and mean edge weight. MSTs were generated to compare the results with the MST of the optimized algorithm regarding the distribution of outbreak-related attributes."
   ],
   "id": "337ca84510204b6d"
  },
  {
   "cell_type": "code",
   "execution_count": 1,
   "id": "b2c3d2f8-d7a0-4f5f-a76c-d484d076de38",
   "metadata": {},
   "outputs": [
    {
     "name": "stdout",
     "output_type": "stream",
     "text": [
      "\u001B[33mWARNING: Ignoring invalid distribution ~entrain (/Users/benkraling/Library/jupyterlab-desktop/jlab_server/lib/python3.12/site-packages)\u001B[0m\u001B[33m\n",
      "\u001B[0mProcessing /Users/benkraling/code/thesis/gentrain\n",
      "  Preparing metadata (setup.py) ... \u001B[?25ldone\n",
      "\u001B[?25hRequirement already satisfied: biopython in /Users/benkraling/Library/jupyterlab-desktop/jlab_server/lib/python3.12/site-packages (from gentrain==0.1.2) (1.85)\n",
      "Requirement already satisfied: networkx in /Users/benkraling/Library/jupyterlab-desktop/jlab_server/lib/python3.12/site-packages (from gentrain==0.1.2) (3.4.2)\n",
      "Requirement already satisfied: matplotlib in /Users/benkraling/Library/jupyterlab-desktop/jlab_server/lib/python3.12/site-packages (from gentrain==0.1.2) (3.9.2)\n",
      "Requirement already satisfied: pandas in /Users/benkraling/Library/jupyterlab-desktop/jlab_server/lib/python3.12/site-packages (from gentrain==0.1.2) (2.2.2)\n",
      "Requirement already satisfied: numpy in /Users/benkraling/Library/jupyterlab-desktop/jlab_server/lib/python3.12/site-packages (from gentrain==0.1.2) (2.1.0)\n",
      "Requirement already satisfied: contourpy>=1.0.1 in /Users/benkraling/Library/jupyterlab-desktop/jlab_server/lib/python3.12/site-packages (from matplotlib->gentrain==0.1.2) (1.2.1)\n",
      "Requirement already satisfied: cycler>=0.10 in /Users/benkraling/Library/jupyterlab-desktop/jlab_server/lib/python3.12/site-packages (from matplotlib->gentrain==0.1.2) (0.12.1)\n",
      "Requirement already satisfied: fonttools>=4.22.0 in /Users/benkraling/Library/jupyterlab-desktop/jlab_server/lib/python3.12/site-packages (from matplotlib->gentrain==0.1.2) (4.53.1)\n",
      "Requirement already satisfied: kiwisolver>=1.3.1 in /Users/benkraling/Library/jupyterlab-desktop/jlab_server/lib/python3.12/site-packages (from matplotlib->gentrain==0.1.2) (1.4.5)\n",
      "Requirement already satisfied: packaging>=20.0 in /Users/benkraling/Library/jupyterlab-desktop/jlab_server/lib/python3.12/site-packages (from matplotlib->gentrain==0.1.2) (25.0)\n",
      "Requirement already satisfied: pillow>=8 in /Users/benkraling/Library/jupyterlab-desktop/jlab_server/lib/python3.12/site-packages (from matplotlib->gentrain==0.1.2) (10.4.0)\n",
      "Requirement already satisfied: pyparsing>=2.3.1 in /Users/benkraling/Library/jupyterlab-desktop/jlab_server/lib/python3.12/site-packages (from matplotlib->gentrain==0.1.2) (3.1.4)\n",
      "Requirement already satisfied: python-dateutil>=2.7 in /Users/benkraling/Library/jupyterlab-desktop/jlab_server/lib/python3.12/site-packages (from matplotlib->gentrain==0.1.2) (2.9.0)\n",
      "Requirement already satisfied: pytz>=2020.1 in /Users/benkraling/Library/jupyterlab-desktop/jlab_server/lib/python3.12/site-packages (from pandas->gentrain==0.1.2) (2024.1)\n",
      "Requirement already satisfied: tzdata>=2022.7 in /Users/benkraling/Library/jupyterlab-desktop/jlab_server/lib/python3.12/site-packages (from pandas->gentrain==0.1.2) (2024.1)\n",
      "Requirement already satisfied: six>=1.5 in /Users/benkraling/Library/jupyterlab-desktop/jlab_server/lib/python3.12/site-packages (from python-dateutil>=2.7->matplotlib->gentrain==0.1.2) (1.16.0)\n",
      "Building wheels for collected packages: gentrain\n",
      "  Building wheel for gentrain (setup.py) ... \u001B[?25ldone\n",
      "\u001B[?25h  Created wheel for gentrain: filename=gentrain-0.1.2-py3-none-any.whl size=26677 sha256=08221447055efe7d0be9ed549afa6ca5d2958d264e692ea6390f9c39c17c9ee7\n",
      "  Stored in directory: /private/var/folders/2h/923cq6912sqb0snfvqqfdnmm0000gn/T/pip-ephem-wheel-cache-gw556wm2/wheels/cf/e4/57/91c03db2e8c043adeefe35dd0969d3049f61ae0218be0acc9f\n",
      "Successfully built gentrain\n",
      "\u001B[33mWARNING: Ignoring invalid distribution ~entrain (/Users/benkraling/Library/jupyterlab-desktop/jlab_server/lib/python3.12/site-packages)\u001B[0m\u001B[33m\n",
      "\u001B[0mInstalling collected packages: gentrain\n",
      "  Attempting uninstall: gentrain\n",
      "    Found existing installation: gentrain 0.1.2\n",
      "    Uninstalling gentrain-0.1.2:\n",
      "      Successfully uninstalled gentrain-0.1.2\n",
      "\u001B[33mWARNING: Ignoring invalid distribution ~entrain (/Users/benkraling/Library/jupyterlab-desktop/jlab_server/lib/python3.12/site-packages)\u001B[0m\u001B[33m\n",
      "\u001B[0mSuccessfully installed gentrain-0.1.2\n"
     ]
    }
   ],
   "source": "!pip install ../../gentrain/."
  },
  {
   "cell_type": "code",
   "execution_count": 2,
   "id": "f44740de-5142-4e08-bce3-d5bc45c50668",
   "metadata": {},
   "outputs": [],
   "source": [
    "import pandas as pd\n",
    "import plotly.express as px\n",
    "import plotly.graph_objects as go\n",
    "import re\n",
    "from sklearn.preprocessing import MultiLabelBinarizer\n",
    "from sklearn.metrics import adjusted_rand_score\n",
    "from sklearn.preprocessing import LabelEncoder\n",
    "import numpy as np\n",
    "import pickle\n",
    "from gentrain.evaluation import get_computation_rate_plot, candidate_evaluation_and_matrices, get_candidate_evaluation_and_export_mst\n",
    "from sklearn.preprocessing import MultiLabelBinarizer\n",
    "from sklearn.preprocessing import LabelEncoder\n",
    "from gentrain.encoding import get_nucleotide_sensitive_encodings, get_mutation_sensitive_encodings, generate_one_hot_encoding\n",
    "from gentrain.nextclade import get_mutations_from_dataframe\n",
    "from gentrain.candidate_sourcing import bitwise_xor_candidates\n",
    "from gentrain.graph import build_mst, export_graph_gexf, mean_edge_weight, get_outbreak_community_labels, build_graph\n",
    "from scipy.spatial.distance import pdist\n",
    "import community as community_louvain\n",
    "import umap\n",
    "import faiss\n",
    "from sklearn.cluster import DBSCAN\n",
    "from sklearn.metrics import pairwise_distances_argmin\n",
    "import os\n",
    "import shutil"
   ]
  },
  {
   "cell_type": "code",
   "execution_count": 3,
   "id": "5f2a8da5-9870-496c-a865-a88ad17c4e67",
   "metadata": {},
   "outputs": [],
   "source": [
    "aggregate = \"nrw_2022\"\n",
    "size = 2500"
   ]
  },
  {
   "cell_type": "code",
   "execution_count": 4,
   "id": "50d5222f-0e59-4b0c-a168-81ce45a7712b",
   "metadata": {},
   "outputs": [],
   "source": [
    "graph_path = f\"graphs/{aggregate}/{size}\"\n",
    "if os.path.exists(f\"graphs/{aggregate}/{size}\") and os.path.isdir(f\"graphs/{aggregate}/{size}\"):\n",
    "    shutil.rmtree(f\"graphs/{aggregate}/{size}\")\n",
    "if not os.path.exists(f\"graphs/{aggregate}\"):\n",
    "    os.mkdir(f\"graphs/{aggregate}\")\n",
    "os.mkdir(f\"graphs/{aggregate}/{size}\")"
   ]
  },
  {
   "cell_type": "code",
   "execution_count": 5,
   "id": "3cf8da80-ea93-4ca0-9697-f1eb2587b47e",
   "metadata": {},
   "outputs": [],
   "source": [
    "sequences_df = pd.read_csv(f\"../00_data_understanding_and_preparation/aggregates/{aggregate}/{size}/sequences_and_metadata.csv\", delimiter=\";\").set_index(\"igs_id\").sort_index()\n",
    "sequences_count = len(sequences_df)"
   ]
  },
  {
   "cell_type": "code",
   "execution_count": 6,
   "id": "078e2f36-de8b-4d3b-a2e9-9c87a45a71de",
   "metadata": {},
   "outputs": [],
   "source": [
    "mutations_df = get_mutations_from_dataframe(sequences_df)"
   ]
  },
  {
   "cell_type": "code",
   "execution_count": 7,
   "id": "d50663f5-014f-4f9f-9c78-d436762132db",
   "metadata": {},
   "outputs": [],
   "source": [
    "distance_matrix_df = pd.read_csv(f\"../01_algorithm_optimization/distance_matrices/{aggregate}/{size}/distance_matrix.csv\", delimiter=\";\",\n",
    "                                     index_col=\"Unnamed: 0\").sort_index()\n",
    "distance_matrix_df = distance_matrix_df[~distance_matrix_df.index.duplicated(keep=\"first\")]\n",
    "distance_matrix_df = distance_matrix_df.loc[sequences_df.index, sequences_df.index]\n",
    "distance_matrix = distance_matrix_df.to_numpy()"
   ]
  },
  {
   "cell_type": "code",
   "execution_count": 8,
   "id": "3b35e69d-4761-462e-9d3b-092b08fb6b4b",
   "metadata": {},
   "outputs": [
    {
     "name": "stdout",
     "output_type": "stream",
     "text": [
      "mst generation time: 13.72s\n"
     ]
    }
   ],
   "source": [
    "gentrain_graph = build_graph(distance_matrix)\n",
    "gentrain_mst = build_mst(gentrain_graph)\n",
    "gentrain_community_labels = get_outbreak_community_labels(gentrain_mst)\n",
    "datetime_sampling_dates = pd.to_datetime(sequences_df[\"date_of_sampling\"])\n",
    "numeric_dates = (datetime_sampling_dates - datetime_sampling_dates.min()).dt.days\n",
    "export_graph_gexf(gentrain_mst, gentrain_community_labels, sequences_df, f\"{graph_path}/brute_force\")"
   ]
  },
  {
   "cell_type": "code",
   "execution_count": 9,
   "id": "c504fa21-2b4c-4180-b99c-a40c21076af3",
   "metadata": {},
   "outputs": [],
   "source": [
    "mask = np.triu(np.ones(distance_matrix_df.shape), k=1).astype(bool)\n",
    "filtered = distance_matrix_df.where(mask)\n",
    "infections_count = (filtered < 2).sum().sum()\n",
    "distances_count = filtered.count().sum()"
   ]
  },
  {
   "cell_type": "markdown",
   "id": "e45778a5-57b2-41ba-bad9-3050f402086b",
   "metadata": {},
   "source": [
    "## Encoding"
   ]
  },
  {
   "cell_type": "code",
   "execution_count": 10,
   "id": "ac49fd8d-c708-423b-8e1d-5bcf1545e11a",
   "metadata": {},
   "outputs": [
    {
     "name": "stdout",
     "output_type": "stream",
     "text": [
      "execution time: 49.23s\n"
     ]
    }
   ],
   "source": [
    "encodings_N_frequency_filter = get_mutation_sensitive_encodings(sequences_df, exclude_indels=False, use_frequency_filtering=False, filter_N=True)"
   ]
  },
  {
   "cell_type": "code",
   "execution_count": 11,
   "id": "a4c9d825-a963-426d-99cb-adb91b379589",
   "metadata": {},
   "outputs": [
    {
     "name": "stdout",
     "output_type": "stream",
     "text": [
      "execution time: 43.29s\n"
     ]
    }
   ],
   "source": [
    "encodings_N_and_SNV_frequency_filter = get_mutation_sensitive_encodings(sequences_df, exclude_indels=False, use_frequency_filtering=True, filter_N=True)"
   ]
  },
  {
   "cell_type": "markdown",
   "id": "307bef1c-cebb-45d0-9412-689a537df14b",
   "metadata": {},
   "source": [
    "## Accurate candidate search"
   ]
  },
  {
   "cell_type": "markdown",
   "id": "591d789d-df98-4206-9f1d-e3c5228e3611",
   "metadata": {},
   "source": [
    "### Depth search with N frequency filter"
   ]
  },
  {
   "cell_type": "code",
   "execution_count": 12,
   "id": "01485fed-0015-4967-8418-df04fead5129",
   "metadata": {},
   "outputs": [
    {
     "name": "stdout",
     "output_type": "stream",
     "text": [
      "execution time xor distance calculation: 16.23s\n",
      "execution time depth search: 1.96s\n",
      "execution time 156187: 18.55s\n",
      "mst generation time: 0.27s\n",
      "execution time xor distance calculation: 14.73s\n",
      "execution time depth search: 2.77s\n",
      "execution time 312375: 17.94s\n",
      "mst generation time: 1.26s\n",
      "execution time xor distance calculation: 14.82s\n",
      "execution time depth search: 2.49s\n",
      "execution time 468562: 17.69s\n",
      "mst generation time: 2.11s\n",
      "execution time xor distance calculation: 13.96s\n",
      "execution time depth search: 2.34s\n",
      "execution time 624750: 16.74s\n",
      "mst generation time: 2.43s\n"
     ]
    }
   ],
   "source": [
    "depth_search_N_frequency_filter = []\n",
    "for computation_rate in [0.05, 0.1, 0.15, 0.2]:\n",
    "    limit = int(computation_rate*distances_count)\n",
    "    candidates, runtime = bitwise_xor_candidates(encodings_N_frequency_filter, limit, \"depth\")\n",
    "    depth_search_N_frequency_filter.append(get_candidate_evaluation_and_export_mst(\"depth_N\", candidates, graph_path, distance_matrix, gentrain_community_labels, gentrain_mst, list(sequences_df[\"clade\"]), sequences_df, runtime))"
   ]
  },
  {
   "cell_type": "code",
   "execution_count": 13,
   "id": "50ea1450-35f7-4b56-bd2b-b2f1a1a76fd6",
   "metadata": {},
   "outputs": [
    {
     "data": {
      "text/html": [
       "<div>\n",
       "<style scoped>\n",
       "    .dataframe tbody tr th:only-of-type {\n",
       "        vertical-align: middle;\n",
       "    }\n",
       "\n",
       "    .dataframe tbody tr th {\n",
       "        vertical-align: top;\n",
       "    }\n",
       "\n",
       "    .dataframe thead th {\n",
       "        text-align: right;\n",
       "    }\n",
       "</style>\n",
       "<table border=\"1\" class=\"dataframe\">\n",
       "  <thead>\n",
       "    <tr style=\"text-align: right;\">\n",
       "      <th></th>\n",
       "      <th>computation_rate</th>\n",
       "      <th>infection_detection_rate</th>\n",
       "      <th>infection_recall</th>\n",
       "      <th>infection_precision</th>\n",
       "      <th>infection_f1</th>\n",
       "      <th>runtime</th>\n",
       "      <th>mean_edge_weight</th>\n",
       "      <th>mean_edge_weight_diff</th>\n",
       "      <th>max_edge_weight</th>\n",
       "      <th>subgraph_count</th>\n",
       "      <th>adjusted_rand_index</th>\n",
       "      <th>lineage_purity</th>\n",
       "      <th>lineage_purity_diff</th>\n",
       "    </tr>\n",
       "  </thead>\n",
       "  <tbody>\n",
       "    <tr>\n",
       "      <th>0</th>\n",
       "      <td>0.05</td>\n",
       "      <td>0.901632</td>\n",
       "      <td>1.0</td>\n",
       "      <td>1.0</td>\n",
       "      <td>0.901632</td>\n",
       "      <td>18.55</td>\n",
       "      <td>3.530692</td>\n",
       "      <td>-0.296959</td>\n",
       "      <td>14.0</td>\n",
       "      <td>216</td>\n",
       "      <td>0.480901</td>\n",
       "      <td>0.987386</td>\n",
       "      <td>0.028186</td>\n",
       "    </tr>\n",
       "    <tr>\n",
       "      <th>1</th>\n",
       "      <td>0.10</td>\n",
       "      <td>0.969697</td>\n",
       "      <td>1.0</td>\n",
       "      <td>1.0</td>\n",
       "      <td>0.969697</td>\n",
       "      <td>17.94</td>\n",
       "      <td>3.662017</td>\n",
       "      <td>-0.165634</td>\n",
       "      <td>15.0</td>\n",
       "      <td>91</td>\n",
       "      <td>0.701814</td>\n",
       "      <td>0.970637</td>\n",
       "      <td>0.011437</td>\n",
       "    </tr>\n",
       "    <tr>\n",
       "      <th>2</th>\n",
       "      <td>0.15</td>\n",
       "      <td>0.992075</td>\n",
       "      <td>1.0</td>\n",
       "      <td>1.0</td>\n",
       "      <td>0.992075</td>\n",
       "      <td>17.69</td>\n",
       "      <td>3.674908</td>\n",
       "      <td>-0.152743</td>\n",
       "      <td>16.0</td>\n",
       "      <td>61</td>\n",
       "      <td>0.840369</td>\n",
       "      <td>0.965264</td>\n",
       "      <td>0.006064</td>\n",
       "    </tr>\n",
       "    <tr>\n",
       "      <th>3</th>\n",
       "      <td>0.20</td>\n",
       "      <td>0.996270</td>\n",
       "      <td>1.0</td>\n",
       "      <td>1.0</td>\n",
       "      <td>0.996270</td>\n",
       "      <td>16.74</td>\n",
       "      <td>3.697023</td>\n",
       "      <td>-0.130628</td>\n",
       "      <td>26.0</td>\n",
       "      <td>48</td>\n",
       "      <td>0.883093</td>\n",
       "      <td>0.958079</td>\n",
       "      <td>-0.001121</td>\n",
       "    </tr>\n",
       "  </tbody>\n",
       "</table>\n",
       "</div>"
      ],
      "text/plain": [
       "   computation_rate  infection_detection_rate  infection_recall  \\\n",
       "0              0.05                  0.901632               1.0   \n",
       "1              0.10                  0.969697               1.0   \n",
       "2              0.15                  0.992075               1.0   \n",
       "3              0.20                  0.996270               1.0   \n",
       "\n",
       "   infection_precision  infection_f1  runtime  mean_edge_weight  \\\n",
       "0                  1.0      0.901632    18.55          3.530692   \n",
       "1                  1.0      0.969697    17.94          3.662017   \n",
       "2                  1.0      0.992075    17.69          3.674908   \n",
       "3                  1.0      0.996270    16.74          3.697023   \n",
       "\n",
       "   mean_edge_weight_diff  max_edge_weight  subgraph_count  \\\n",
       "0              -0.296959             14.0             216   \n",
       "1              -0.165634             15.0              91   \n",
       "2              -0.152743             16.0              61   \n",
       "3              -0.130628             26.0              48   \n",
       "\n",
       "   adjusted_rand_index  lineage_purity  lineage_purity_diff  \n",
       "0             0.480901        0.987386             0.028186  \n",
       "1             0.701814        0.970637             0.011437  \n",
       "2             0.840369        0.965264             0.006064  \n",
       "3             0.883093        0.958079            -0.001121  "
      ]
     },
     "execution_count": 13,
     "metadata": {},
     "output_type": "execute_result"
    }
   ],
   "source": [
    "pd.DataFrame(depth_search_N_frequency_filter)"
   ]
  },
  {
   "cell_type": "markdown",
   "id": "8fcc2ca5-54ca-4b7b-98df-db24eef06c19",
   "metadata": {},
   "source": [
    "### Breadth search with N frequency filter"
   ]
  },
  {
   "cell_type": "code",
   "execution_count": 14,
   "id": "347c5384-4535-4c9b-a5f1-8edb46ae0cfe",
   "metadata": {},
   "outputs": [
    {
     "name": "stdout",
     "output_type": "stream",
     "text": [
      "matrix generation time: 9.29s\n",
      "execution time distance collection: 3.3s\n",
      "execution time breadth search: 2.96s\n",
      "execution time 156187: 16.05s\n",
      "mst generation time: 0.87s\n",
      "matrix generation time: 9.9s\n",
      "execution time distance collection: 4.23s\n",
      "execution time breadth search: 3.12s\n",
      "execution time 312375: 17.72s\n",
      "mst generation time: 1.05s\n",
      "matrix generation time: 9.49s\n",
      "execution time distance collection: 3.39s\n",
      "execution time breadth search: 2.97s\n",
      "execution time 468562: 16.32s\n",
      "mst generation time: 1.68s\n",
      "matrix generation time: 9.31s\n",
      "execution time distance collection: 3.6s\n",
      "execution time breadth search: 2.95s\n",
      "execution time 624750: 16.34s\n",
      "mst generation time: 2.62s\n"
     ]
    }
   ],
   "source": [
    "breadth_search_N_frequency_filter = []\n",
    "for computation_rate in [0.05, 0.1, 0.15, 0.2]:\n",
    "    limit = int(computation_rate*distances_count)\n",
    "    candidates, runtime = bitwise_xor_candidates(encodings_N_frequency_filter, limit, \"breadth\")\n",
    "    breadth_search_N_frequency_filter.append(get_candidate_evaluation_and_export_mst(\"breadth_N\", candidates, graph_path, distance_matrix, gentrain_community_labels, gentrain_mst, list(sequences_df[\"clade\"]), sequences_df, runtime))"
   ]
  },
  {
   "cell_type": "code",
   "execution_count": 15,
   "id": "b1395206-26ed-4505-aa61-c5e1d9a2f9aa",
   "metadata": {},
   "outputs": [
    {
     "data": {
      "text/html": [
       "<div>\n",
       "<style scoped>\n",
       "    .dataframe tbody tr th:only-of-type {\n",
       "        vertical-align: middle;\n",
       "    }\n",
       "\n",
       "    .dataframe tbody tr th {\n",
       "        vertical-align: top;\n",
       "    }\n",
       "\n",
       "    .dataframe thead th {\n",
       "        text-align: right;\n",
       "    }\n",
       "</style>\n",
       "<table border=\"1\" class=\"dataframe\">\n",
       "  <thead>\n",
       "    <tr style=\"text-align: right;\">\n",
       "      <th></th>\n",
       "      <th>computation_rate</th>\n",
       "      <th>infection_detection_rate</th>\n",
       "      <th>infection_recall</th>\n",
       "      <th>infection_precision</th>\n",
       "      <th>infection_f1</th>\n",
       "      <th>runtime</th>\n",
       "      <th>mean_edge_weight</th>\n",
       "      <th>mean_edge_weight_diff</th>\n",
       "      <th>max_edge_weight</th>\n",
       "      <th>subgraph_count</th>\n",
       "      <th>adjusted_rand_index</th>\n",
       "      <th>lineage_purity</th>\n",
       "      <th>lineage_purity_diff</th>\n",
       "    </tr>\n",
       "  </thead>\n",
       "  <tbody>\n",
       "    <tr>\n",
       "      <th>0</th>\n",
       "      <td>0.049775</td>\n",
       "      <td>0.760839</td>\n",
       "      <td>1.0</td>\n",
       "      <td>1.0</td>\n",
       "      <td>0.760839</td>\n",
       "      <td>16.05</td>\n",
       "      <td>4.067787</td>\n",
       "      <td>0.240136</td>\n",
       "      <td>74.0</td>\n",
       "      <td>1</td>\n",
       "      <td>0.417044</td>\n",
       "      <td>0.9556</td>\n",
       "      <td>-0.0036</td>\n",
       "    </tr>\n",
       "    <tr>\n",
       "      <th>1</th>\n",
       "      <td>0.097519</td>\n",
       "      <td>0.862937</td>\n",
       "      <td>1.0</td>\n",
       "      <td>1.0</td>\n",
       "      <td>0.862937</td>\n",
       "      <td>17.72</td>\n",
       "      <td>3.991236</td>\n",
       "      <td>0.163585</td>\n",
       "      <td>74.0</td>\n",
       "      <td>1</td>\n",
       "      <td>0.514469</td>\n",
       "      <td>0.9536</td>\n",
       "      <td>-0.0056</td>\n",
       "    </tr>\n",
       "    <tr>\n",
       "      <th>2</th>\n",
       "      <td>0.144773</td>\n",
       "      <td>0.911888</td>\n",
       "      <td>1.0</td>\n",
       "      <td>1.0</td>\n",
       "      <td>0.911888</td>\n",
       "      <td>16.32</td>\n",
       "      <td>3.950260</td>\n",
       "      <td>0.122609</td>\n",
       "      <td>74.0</td>\n",
       "      <td>1</td>\n",
       "      <td>0.612700</td>\n",
       "      <td>0.9508</td>\n",
       "      <td>-0.0084</td>\n",
       "    </tr>\n",
       "    <tr>\n",
       "      <th>3</th>\n",
       "      <td>0.190036</td>\n",
       "      <td>0.937529</td>\n",
       "      <td>1.0</td>\n",
       "      <td>1.0</td>\n",
       "      <td>0.937529</td>\n",
       "      <td>16.34</td>\n",
       "      <td>3.923489</td>\n",
       "      <td>0.095838</td>\n",
       "      <td>74.0</td>\n",
       "      <td>1</td>\n",
       "      <td>0.663349</td>\n",
       "      <td>0.9516</td>\n",
       "      <td>-0.0076</td>\n",
       "    </tr>\n",
       "  </tbody>\n",
       "</table>\n",
       "</div>"
      ],
      "text/plain": [
       "   computation_rate  infection_detection_rate  infection_recall  \\\n",
       "0          0.049775                  0.760839               1.0   \n",
       "1          0.097519                  0.862937               1.0   \n",
       "2          0.144773                  0.911888               1.0   \n",
       "3          0.190036                  0.937529               1.0   \n",
       "\n",
       "   infection_precision  infection_f1  runtime  mean_edge_weight  \\\n",
       "0                  1.0      0.760839    16.05          4.067787   \n",
       "1                  1.0      0.862937    17.72          3.991236   \n",
       "2                  1.0      0.911888    16.32          3.950260   \n",
       "3                  1.0      0.937529    16.34          3.923489   \n",
       "\n",
       "   mean_edge_weight_diff  max_edge_weight  subgraph_count  \\\n",
       "0               0.240136             74.0               1   \n",
       "1               0.163585             74.0               1   \n",
       "2               0.122609             74.0               1   \n",
       "3               0.095838             74.0               1   \n",
       "\n",
       "   adjusted_rand_index  lineage_purity  lineage_purity_diff  \n",
       "0             0.417044          0.9556              -0.0036  \n",
       "1             0.514469          0.9536              -0.0056  \n",
       "2             0.612700          0.9508              -0.0084  \n",
       "3             0.663349          0.9516              -0.0076  "
      ]
     },
     "execution_count": 15,
     "metadata": {},
     "output_type": "execute_result"
    }
   ],
   "source": [
    "pd.DataFrame(breadth_search_N_frequency_filter)"
   ]
  },
  {
   "cell_type": "markdown",
   "id": "44439e0e-6a3d-40f4-9b99-c7f28105d2ff",
   "metadata": {},
   "source": [
    "### Depth search with N and SNV frequency filter"
   ]
  },
  {
   "cell_type": "code",
   "execution_count": 16,
   "id": "313f3f19-82a5-4378-a621-687117e95cfb",
   "metadata": {},
   "outputs": [
    {
     "name": "stdout",
     "output_type": "stream",
     "text": [
      "execution time xor distance calculation: 9.94s\n",
      "execution time depth search: 2.22s\n",
      "execution time 156187: 12.6s\n",
      "mst generation time: 0.52s\n",
      "execution time xor distance calculation: 10.31s\n",
      "execution time depth search: 2.2s\n",
      "execution time 312375: 12.93s\n",
      "mst generation time: 1.3s\n",
      "execution time xor distance calculation: 9.7s\n",
      "execution time depth search: 2.21s\n",
      "execution time 468562: 12.34s\n",
      "mst generation time: 2.09s\n",
      "execution time xor distance calculation: 9.89s\n",
      "execution time depth search: 2.29s\n",
      "execution time 624750: 12.65s\n",
      "mst generation time: 2.78s\n"
     ]
    }
   ],
   "source": [
    "depth_search_N_and_SNV_frequency_filter = []\n",
    "for computation_rate in [0.05, 0.1, 0.15, 0.2]:\n",
    "    limit = int(computation_rate*distances_count)\n",
    "    candidates, runtime = bitwise_xor_candidates(encodings_N_and_SNV_frequency_filter, limit, \"depth\")\n",
    "    depth_search_N_and_SNV_frequency_filter.append(get_candidate_evaluation_and_export_mst(\"depth_N_and_SNV\", candidates, graph_path, distance_matrix, gentrain_community_labels, gentrain_mst, list(sequences_df[\"clade\"]), sequences_df, runtime))"
   ]
  },
  {
   "cell_type": "code",
   "execution_count": 17,
   "id": "581d199a-3264-49f2-9bde-485494cb5576",
   "metadata": {},
   "outputs": [
    {
     "data": {
      "text/html": [
       "<div>\n",
       "<style scoped>\n",
       "    .dataframe tbody tr th:only-of-type {\n",
       "        vertical-align: middle;\n",
       "    }\n",
       "\n",
       "    .dataframe tbody tr th {\n",
       "        vertical-align: top;\n",
       "    }\n",
       "\n",
       "    .dataframe thead th {\n",
       "        text-align: right;\n",
       "    }\n",
       "</style>\n",
       "<table border=\"1\" class=\"dataframe\">\n",
       "  <thead>\n",
       "    <tr style=\"text-align: right;\">\n",
       "      <th></th>\n",
       "      <th>computation_rate</th>\n",
       "      <th>infection_detection_rate</th>\n",
       "      <th>infection_recall</th>\n",
       "      <th>infection_precision</th>\n",
       "      <th>infection_f1</th>\n",
       "      <th>runtime</th>\n",
       "      <th>mean_edge_weight</th>\n",
       "      <th>mean_edge_weight_diff</th>\n",
       "      <th>max_edge_weight</th>\n",
       "      <th>subgraph_count</th>\n",
       "      <th>adjusted_rand_index</th>\n",
       "      <th>lineage_purity</th>\n",
       "      <th>lineage_purity_diff</th>\n",
       "    </tr>\n",
       "  </thead>\n",
       "  <tbody>\n",
       "    <tr>\n",
       "      <th>0</th>\n",
       "      <td>0.05</td>\n",
       "      <td>0.919814</td>\n",
       "      <td>1.0</td>\n",
       "      <td>1.0</td>\n",
       "      <td>0.919814</td>\n",
       "      <td>12.60</td>\n",
       "      <td>3.544318</td>\n",
       "      <td>-0.283333</td>\n",
       "      <td>22.0</td>\n",
       "      <td>212</td>\n",
       "      <td>0.492901</td>\n",
       "      <td>0.980603</td>\n",
       "      <td>0.021403</td>\n",
       "    </tr>\n",
       "    <tr>\n",
       "      <th>1</th>\n",
       "      <td>0.10</td>\n",
       "      <td>0.975758</td>\n",
       "      <td>1.0</td>\n",
       "      <td>1.0</td>\n",
       "      <td>0.975758</td>\n",
       "      <td>12.93</td>\n",
       "      <td>3.632286</td>\n",
       "      <td>-0.195365</td>\n",
       "      <td>22.0</td>\n",
       "      <td>112</td>\n",
       "      <td>0.692157</td>\n",
       "      <td>0.967541</td>\n",
       "      <td>0.008341</td>\n",
       "    </tr>\n",
       "    <tr>\n",
       "      <th>2</th>\n",
       "      <td>0.15</td>\n",
       "      <td>0.990210</td>\n",
       "      <td>1.0</td>\n",
       "      <td>1.0</td>\n",
       "      <td>0.990210</td>\n",
       "      <td>12.34</td>\n",
       "      <td>3.674092</td>\n",
       "      <td>-0.153559</td>\n",
       "      <td>19.0</td>\n",
       "      <td>76</td>\n",
       "      <td>0.787432</td>\n",
       "      <td>0.958882</td>\n",
       "      <td>-0.000318</td>\n",
       "    </tr>\n",
       "    <tr>\n",
       "      <th>3</th>\n",
       "      <td>0.20</td>\n",
       "      <td>0.995338</td>\n",
       "      <td>1.0</td>\n",
       "      <td>1.0</td>\n",
       "      <td>0.995338</td>\n",
       "      <td>12.65</td>\n",
       "      <td>3.710180</td>\n",
       "      <td>-0.117471</td>\n",
       "      <td>19.0</td>\n",
       "      <td>54</td>\n",
       "      <td>0.872120</td>\n",
       "      <td>0.959217</td>\n",
       "      <td>0.000017</td>\n",
       "    </tr>\n",
       "  </tbody>\n",
       "</table>\n",
       "</div>"
      ],
      "text/plain": [
       "   computation_rate  infection_detection_rate  infection_recall  \\\n",
       "0              0.05                  0.919814               1.0   \n",
       "1              0.10                  0.975758               1.0   \n",
       "2              0.15                  0.990210               1.0   \n",
       "3              0.20                  0.995338               1.0   \n",
       "\n",
       "   infection_precision  infection_f1  runtime  mean_edge_weight  \\\n",
       "0                  1.0      0.919814    12.60          3.544318   \n",
       "1                  1.0      0.975758    12.93          3.632286   \n",
       "2                  1.0      0.990210    12.34          3.674092   \n",
       "3                  1.0      0.995338    12.65          3.710180   \n",
       "\n",
       "   mean_edge_weight_diff  max_edge_weight  subgraph_count  \\\n",
       "0              -0.283333             22.0             212   \n",
       "1              -0.195365             22.0             112   \n",
       "2              -0.153559             19.0              76   \n",
       "3              -0.117471             19.0              54   \n",
       "\n",
       "   adjusted_rand_index  lineage_purity  lineage_purity_diff  \n",
       "0             0.492901        0.980603             0.021403  \n",
       "1             0.692157        0.967541             0.008341  \n",
       "2             0.787432        0.958882            -0.000318  \n",
       "3             0.872120        0.959217             0.000017  "
      ]
     },
     "execution_count": 17,
     "metadata": {},
     "output_type": "execute_result"
    }
   ],
   "source": [
    "pd.DataFrame(depth_search_N_and_SNV_frequency_filter)"
   ]
  },
  {
   "cell_type": "markdown",
   "id": "14227b79-424f-49c7-b4e3-a007f0f5a728",
   "metadata": {},
   "source": [
    "### Breadth search with N and SNV frequency filter"
   ]
  },
  {
   "cell_type": "code",
   "execution_count": 18,
   "id": "7447eed2-3d49-4d22-bb2f-ca69d594aab8",
   "metadata": {},
   "outputs": [
    {
     "name": "stdout",
     "output_type": "stream",
     "text": [
      "matrix generation time: 5.38s\n",
      "execution time distance collection: 4.33s\n",
      "execution time breadth search: 2.59s\n",
      "execution time 156187: 12.77s\n",
      "mst generation time: 0.83s\n",
      "matrix generation time: 5.68s\n",
      "execution time distance collection: 3.78s\n",
      "execution time breadth search: 2.93s\n",
      "execution time 312375: 12.88s\n",
      "mst generation time: 1.39s\n",
      "matrix generation time: 5.42s\n",
      "execution time distance collection: 3.74s\n",
      "execution time breadth search: 3.28s\n",
      "execution time 468562: 12.89s\n",
      "mst generation time: 2.15s\n",
      "matrix generation time: 6.0s\n",
      "execution time distance collection: 3.79s\n",
      "execution time breadth search: 2.87s\n",
      "execution time 624750: 13.12s\n",
      "mst generation time: 2.32s\n"
     ]
    }
   ],
   "source": [
    "breadth_search_N_and_SNV_frequency_filter = []\n",
    "for computation_rate in [0.05, 0.1, 0.15, 0.2]:\n",
    "    limit = int(computation_rate*distances_count)\n",
    "    candidates, runtime = bitwise_xor_candidates(encodings_N_and_SNV_frequency_filter, limit, \"breadth\")\n",
    "    breadth_search_N_and_SNV_frequency_filter.append(get_candidate_evaluation_and_export_mst(\"breadth_N_and_SNV\", candidates, graph_path, distance_matrix, gentrain_community_labels, gentrain_mst, list(sequences_df[\"clade\"]), sequences_df, runtime))"
   ]
  },
  {
   "cell_type": "code",
   "execution_count": 19,
   "id": "d3cb0ea4-d428-4ee4-bb7f-7f2dfbafc840",
   "metadata": {},
   "outputs": [
    {
     "data": {
      "text/html": [
       "<div>\n",
       "<style scoped>\n",
       "    .dataframe tbody tr th:only-of-type {\n",
       "        vertical-align: middle;\n",
       "    }\n",
       "\n",
       "    .dataframe tbody tr th {\n",
       "        vertical-align: top;\n",
       "    }\n",
       "\n",
       "    .dataframe thead th {\n",
       "        text-align: right;\n",
       "    }\n",
       "</style>\n",
       "<table border=\"1\" class=\"dataframe\">\n",
       "  <thead>\n",
       "    <tr style=\"text-align: right;\">\n",
       "      <th></th>\n",
       "      <th>computation_rate</th>\n",
       "      <th>infection_detection_rate</th>\n",
       "      <th>infection_recall</th>\n",
       "      <th>infection_precision</th>\n",
       "      <th>infection_f1</th>\n",
       "      <th>runtime</th>\n",
       "      <th>mean_edge_weight</th>\n",
       "      <th>mean_edge_weight_diff</th>\n",
       "      <th>max_edge_weight</th>\n",
       "      <th>subgraph_count</th>\n",
       "      <th>adjusted_rand_index</th>\n",
       "      <th>lineage_purity</th>\n",
       "      <th>lineage_purity_diff</th>\n",
       "    </tr>\n",
       "  </thead>\n",
       "  <tbody>\n",
       "    <tr>\n",
       "      <th>0</th>\n",
       "      <td>0.049775</td>\n",
       "      <td>0.772494</td>\n",
       "      <td>1.0</td>\n",
       "      <td>1.0</td>\n",
       "      <td>0.772494</td>\n",
       "      <td>12.77</td>\n",
       "      <td>4.043497</td>\n",
       "      <td>0.215846</td>\n",
       "      <td>74.0</td>\n",
       "      <td>1</td>\n",
       "      <td>0.439836</td>\n",
       "      <td>0.9540</td>\n",
       "      <td>-0.0052</td>\n",
       "    </tr>\n",
       "    <tr>\n",
       "      <th>1</th>\n",
       "      <td>0.097519</td>\n",
       "      <td>0.882051</td>\n",
       "      <td>1.0</td>\n",
       "      <td>1.0</td>\n",
       "      <td>0.882051</td>\n",
       "      <td>12.88</td>\n",
       "      <td>3.986595</td>\n",
       "      <td>0.158944</td>\n",
       "      <td>74.0</td>\n",
       "      <td>1</td>\n",
       "      <td>0.558261</td>\n",
       "      <td>0.9488</td>\n",
       "      <td>-0.0104</td>\n",
       "    </tr>\n",
       "    <tr>\n",
       "      <th>2</th>\n",
       "      <td>0.144773</td>\n",
       "      <td>0.931935</td>\n",
       "      <td>1.0</td>\n",
       "      <td>1.0</td>\n",
       "      <td>0.931935</td>\n",
       "      <td>12.89</td>\n",
       "      <td>3.961144</td>\n",
       "      <td>0.133493</td>\n",
       "      <td>74.0</td>\n",
       "      <td>1</td>\n",
       "      <td>0.627435</td>\n",
       "      <td>0.9484</td>\n",
       "      <td>-0.0108</td>\n",
       "    </tr>\n",
       "    <tr>\n",
       "      <th>3</th>\n",
       "      <td>0.190036</td>\n",
       "      <td>0.958508</td>\n",
       "      <td>1.0</td>\n",
       "      <td>1.0</td>\n",
       "      <td>0.958508</td>\n",
       "      <td>13.12</td>\n",
       "      <td>3.936335</td>\n",
       "      <td>0.108683</td>\n",
       "      <td>74.0</td>\n",
       "      <td>1</td>\n",
       "      <td>0.687580</td>\n",
       "      <td>0.9476</td>\n",
       "      <td>-0.0116</td>\n",
       "    </tr>\n",
       "  </tbody>\n",
       "</table>\n",
       "</div>"
      ],
      "text/plain": [
       "   computation_rate  infection_detection_rate  infection_recall  \\\n",
       "0          0.049775                  0.772494               1.0   \n",
       "1          0.097519                  0.882051               1.0   \n",
       "2          0.144773                  0.931935               1.0   \n",
       "3          0.190036                  0.958508               1.0   \n",
       "\n",
       "   infection_precision  infection_f1  runtime  mean_edge_weight  \\\n",
       "0                  1.0      0.772494    12.77          4.043497   \n",
       "1                  1.0      0.882051    12.88          3.986595   \n",
       "2                  1.0      0.931935    12.89          3.961144   \n",
       "3                  1.0      0.958508    13.12          3.936335   \n",
       "\n",
       "   mean_edge_weight_diff  max_edge_weight  subgraph_count  \\\n",
       "0               0.215846             74.0               1   \n",
       "1               0.158944             74.0               1   \n",
       "2               0.133493             74.0               1   \n",
       "3               0.108683             74.0               1   \n",
       "\n",
       "   adjusted_rand_index  lineage_purity  lineage_purity_diff  \n",
       "0             0.439836          0.9540              -0.0052  \n",
       "1             0.558261          0.9488              -0.0104  \n",
       "2             0.627435          0.9484              -0.0108  \n",
       "3             0.687580          0.9476              -0.0116  "
      ]
     },
     "execution_count": 19,
     "metadata": {},
     "output_type": "execute_result"
    }
   ],
   "source": [
    "pd.DataFrame(breadth_search_N_and_SNV_frequency_filter)"
   ]
  },
  {
   "cell_type": "code",
   "execution_count": 20,
   "id": "f4e54761-806d-47fb-8147-ed4329153159",
   "metadata": {},
   "outputs": [],
   "source": [
    "depth_search_evaluation = {\n",
    "    \"N frequency filter\": {\"values\": {evaluation[\"computation_rate\"]: evaluation for evaluation in depth_search_N_frequency_filter}, \"stroke\": \"dash\", \"color\": \"black\"},\n",
    "    \"N & SNV frequency filter\": {\"values\": {evaluation[\"computation_rate\"]: evaluation for evaluation in depth_search_N_and_SNV_frequency_filter}, \"stroke\": \"dot\", \"color\": \"black\"}\n",
    "}"
   ]
  },
  {
   "cell_type": "code",
   "execution_count": 21,
   "id": "20eb1f2e-87f0-473a-8349-9480f12cd8af",
   "metadata": {},
   "outputs": [],
   "source": [
    "breadth_search_evaluation = {\n",
    "    \"N frequency filter\": {\"values\": {evaluation[\"computation_rate\"]: evaluation for evaluation in breadth_search_N_frequency_filter}, \"stroke\": \"dash\", \"color\": \"black\"},\n",
    "    \"N & SNV frequency filter\": {\"values\": {evaluation[\"computation_rate\"]: evaluation for evaluation in breadth_search_N_and_SNV_frequency_filter}, \"stroke\": \"dot\", \"color\": \"black\"}\n",
    "}"
   ]
  },
  {
   "cell_type": "markdown",
   "id": "356535d0-0c8a-4b32-95e3-1e78a9f062fb",
   "metadata": {},
   "source": [
    "### Infection recall for different filters and computation rates using depth search"
   ]
  },
  {
   "cell_type": "code",
   "execution_count": 22,
   "id": "99cd3d30-cb22-4a18-9f38-c7efb78784ad",
   "metadata": {},
   "outputs": [
    {
     "data": {
      "application/vnd.plotly.v1+json": {
       "config": {
        "plotlyServerURL": "https://plot.ly"
       },
       "data": [
        {
         "line": {
          "color": "black",
          "dash": "dash",
          "width": 4
         },
         "mode": "lines",
         "name": "N frequency filter",
         "type": "scatter",
         "x": [
          0.04999983993597439,
          0.1,
          0.14999983993597438,
          0.2
         ],
         "y": [
          0.9016317016317016,
          0.9696969696969697,
          0.992074592074592,
          0.9962703962703963
         ]
        },
        {
         "marker": {
          "color": "black",
          "size": 8,
          "symbol": "circle"
         },
         "mode": "markers",
         "showlegend": false,
         "text": "",
         "type": "scatter",
         "x": [
          0.04999983993597439
         ],
         "y": [
          0.9016317016317016
         ]
        },
        {
         "marker": {
          "color": "black",
          "size": 8,
          "symbol": "circle"
         },
         "mode": "markers",
         "showlegend": false,
         "text": "",
         "type": "scatter",
         "x": [
          0.1
         ],
         "y": [
          0.9696969696969697
         ]
        },
        {
         "marker": {
          "color": "black",
          "size": 8,
          "symbol": "circle"
         },
         "mode": "markers",
         "showlegend": false,
         "text": "",
         "type": "scatter",
         "x": [
          0.14999983993597438
         ],
         "y": [
          0.992074592074592
         ]
        },
        {
         "marker": {
          "color": "black",
          "size": 8,
          "symbol": "circle"
         },
         "mode": "markers",
         "showlegend": false,
         "text": "",
         "type": "scatter",
         "x": [
          0.2
         ],
         "y": [
          0.9962703962703963
         ]
        },
        {
         "line": {
          "color": "black",
          "dash": "dot",
          "width": 4
         },
         "mode": "lines",
         "name": "N & SNV frequency filter",
         "type": "scatter",
         "x": [
          0.04999983993597439,
          0.1,
          0.14999983993597438,
          0.2
         ],
         "y": [
          0.9198135198135198,
          0.9757575757575757,
          0.9902097902097902,
          0.9953379953379954
         ]
        },
        {
         "marker": {
          "color": "black",
          "size": 8,
          "symbol": "circle"
         },
         "mode": "markers",
         "showlegend": false,
         "text": "",
         "type": "scatter",
         "x": [
          0.04999983993597439
         ],
         "y": [
          0.9198135198135198
         ]
        },
        {
         "marker": {
          "color": "black",
          "size": 8,
          "symbol": "circle"
         },
         "mode": "markers",
         "showlegend": false,
         "text": "",
         "type": "scatter",
         "x": [
          0.1
         ],
         "y": [
          0.9757575757575757
         ]
        },
        {
         "marker": {
          "color": "black",
          "size": 8,
          "symbol": "circle"
         },
         "mode": "markers",
         "showlegend": false,
         "text": "",
         "type": "scatter",
         "x": [
          0.14999983993597438
         ],
         "y": [
          0.9902097902097902
         ]
        },
        {
         "marker": {
          "color": "black",
          "size": 8,
          "symbol": "circle"
         },
         "mode": "markers",
         "showlegend": false,
         "text": "",
         "type": "scatter",
         "x": [
          0.2
         ],
         "y": [
          0.9953379953379954
         ]
        }
       ],
       "layout": {
        "font": {
         "size": 25
        },
        "height": 700,
        "legend": {
         "font": {
          "size": 30
         },
         "itemwidth": 60,
         "x": 0.85,
         "xanchor": "left",
         "y": 0,
         "yanchor": "bottom"
        },
        "margin": {
         "b": 80,
         "l": 110,
         "r": 0,
         "t": 0
        },
        "template": {
         "data": {
          "pie": [
           {
            "automargin": true,
            "type": "pie"
           }
          ],
          "scatter": [
           {
            "line": {
             "width": 3
            },
            "marker": {
             "size": 9
            },
            "type": "scatter"
           }
          ],
          "scatter3d": [
           {
            "line": {
             "width": 3
            },
            "marker": {
             "size": 9
            },
            "type": "scatter3d"
           }
          ],
          "scattergeo": [
           {
            "line": {
             "width": 3
            },
            "marker": {
             "size": 9
            },
            "type": "scattergeo"
           }
          ],
          "scattergl": [
           {
            "line": {
             "width": 3
            },
            "marker": {
             "size": 9
            },
            "type": "scattergl"
           }
          ],
          "scatterpolar": [
           {
            "line": {
             "width": 3
            },
            "marker": {
             "size": 9
            },
            "type": "scatterpolar"
           }
          ],
          "scatterpolargl": [
           {
            "line": {
             "width": 3
            },
            "marker": {
             "size": 9
            },
            "type": "scatterpolargl"
           }
          ],
          "scatterternary": [
           {
            "line": {
             "width": 3
            },
            "marker": {
             "size": 9
            },
            "type": "scatterternary"
           }
          ],
          "table": [
           {
            "cells": {
             "height": 30
            },
            "header": {
             "height": 36
            },
            "type": "table"
           }
          ]
         },
         "layout": {
          "font": {
           "size": 18
          },
          "xaxis": {
           "title": {
            "standoff": 15
           }
          },
          "yaxis": {
           "title": {
            "standoff": 15
           }
          }
         }
        },
        "width": 1200,
        "xaxis": {
         "autorange": true,
         "range": [
          0.04043009678648908,
          0.20956974314948532
         ],
         "tickmode": "array",
         "tickvals": [
          0.05,
          0.1,
          0.15,
          0.2
         ],
         "title": {
          "text": "Computation rate"
         },
         "type": "linear"
        },
        "yaxis": {
         "autorange": true,
         "range": [
          0.8954145611079917,
          1.0024875367941062
         ],
         "title": {
          "text": "Infection recall"
         },
         "type": "linear"
        }
       }
      }
     },
     "metadata": {},
     "output_type": "display_data"
    }
   ],
   "source": [
    "sub_fig = get_computation_rate_plot(\"infection_detection_rate\", depth_search_evaluation, \"Infection recall\", dict(\n",
    "            x=0.85,\n",
    "            y=0,\n",
    "            itemwidth=60,\n",
    "            xanchor=\"left\",\n",
    "            yanchor=\"bottom\",\n",
    "            font=dict(size=30),\n",
    "        ))\n",
    "\n",
    "sub_fig.show()"
   ]
  },
  {
   "cell_type": "markdown",
   "id": "60ae3e60-01c1-4d5c-a9ab-94a97468191b",
   "metadata": {},
   "source": [
    "### Community ARI for different filters and computation rates using depth search"
   ]
  },
  {
   "cell_type": "code",
   "execution_count": 23,
   "id": "908ca4d5-07c7-4b82-9db4-c723d72b4a56",
   "metadata": {},
   "outputs": [
    {
     "data": {
      "application/vnd.plotly.v1+json": {
       "config": {
        "plotlyServerURL": "https://plot.ly"
       },
       "data": [
        {
         "line": {
          "color": "black",
          "dash": "dash",
          "width": 4
         },
         "mode": "lines",
         "name": "N frequency filter",
         "type": "scatter",
         "x": [
          0.04999983993597439,
          0.1,
          0.14999983993597438,
          0.2
         ],
         "y": [
          0.48090139534910076,
          0.7018135665247897,
          0.8403686088951191,
          0.8830930607406833
         ]
        },
        {
         "marker": {
          "color": "black",
          "size": 8,
          "symbol": "circle"
         },
         "mode": "markers",
         "showlegend": false,
         "text": "",
         "type": "scatter",
         "x": [
          0.04999983993597439
         ],
         "y": [
          0.48090139534910076
         ]
        },
        {
         "marker": {
          "color": "black",
          "size": 8,
          "symbol": "circle"
         },
         "mode": "markers",
         "showlegend": false,
         "text": "",
         "type": "scatter",
         "x": [
          0.1
         ],
         "y": [
          0.7018135665247897
         ]
        },
        {
         "marker": {
          "color": "black",
          "size": 8,
          "symbol": "circle"
         },
         "mode": "markers",
         "showlegend": false,
         "text": "",
         "type": "scatter",
         "x": [
          0.14999983993597438
         ],
         "y": [
          0.8403686088951191
         ]
        },
        {
         "marker": {
          "color": "black",
          "size": 8,
          "symbol": "circle"
         },
         "mode": "markers",
         "showlegend": false,
         "text": "",
         "type": "scatter",
         "x": [
          0.2
         ],
         "y": [
          0.8830930607406833
         ]
        },
        {
         "line": {
          "color": "black",
          "dash": "dot",
          "width": 4
         },
         "mode": "lines",
         "name": "N & SNV frequency filter",
         "type": "scatter",
         "x": [
          0.04999983993597439,
          0.1,
          0.14999983993597438,
          0.2
         ],
         "y": [
          0.49290124192858775,
          0.6921565580186992,
          0.787432471756631,
          0.8721203267054223
         ]
        },
        {
         "marker": {
          "color": "black",
          "size": 8,
          "symbol": "circle"
         },
         "mode": "markers",
         "showlegend": false,
         "text": "",
         "type": "scatter",
         "x": [
          0.04999983993597439
         ],
         "y": [
          0.49290124192858775
         ]
        },
        {
         "marker": {
          "color": "black",
          "size": 8,
          "symbol": "circle"
         },
         "mode": "markers",
         "showlegend": false,
         "text": "",
         "type": "scatter",
         "x": [
          0.1
         ],
         "y": [
          0.6921565580186992
         ]
        },
        {
         "marker": {
          "color": "black",
          "size": 8,
          "symbol": "circle"
         },
         "mode": "markers",
         "showlegend": false,
         "text": "",
         "type": "scatter",
         "x": [
          0.14999983993597438
         ],
         "y": [
          0.787432471756631
         ]
        },
        {
         "marker": {
          "color": "black",
          "size": 8,
          "symbol": "circle"
         },
         "mode": "markers",
         "showlegend": false,
         "text": "",
         "type": "scatter",
         "x": [
          0.2
         ],
         "y": [
          0.8721203267054223
         ]
        }
       ],
       "layout": {
        "font": {
         "size": 25
        },
        "height": 700,
        "legend": {
         "font": {
          "size": 30
         },
         "itemwidth": 60,
         "x": 0.85,
         "xanchor": "left",
         "y": 0,
         "yanchor": "bottom"
        },
        "margin": {
         "b": 80,
         "l": 110,
         "r": 0,
         "t": 0
        },
        "template": {
         "data": {
          "pie": [
           {
            "automargin": true,
            "type": "pie"
           }
          ],
          "scatter": [
           {
            "line": {
             "width": 3
            },
            "marker": {
             "size": 9
            },
            "type": "scatter"
           }
          ],
          "scatter3d": [
           {
            "line": {
             "width": 3
            },
            "marker": {
             "size": 9
            },
            "type": "scatter3d"
           }
          ],
          "scattergeo": [
           {
            "line": {
             "width": 3
            },
            "marker": {
             "size": 9
            },
            "type": "scattergeo"
           }
          ],
          "scattergl": [
           {
            "line": {
             "width": 3
            },
            "marker": {
             "size": 9
            },
            "type": "scattergl"
           }
          ],
          "scatterpolar": [
           {
            "line": {
             "width": 3
            },
            "marker": {
             "size": 9
            },
            "type": "scatterpolar"
           }
          ],
          "scatterpolargl": [
           {
            "line": {
             "width": 3
            },
            "marker": {
             "size": 9
            },
            "type": "scatterpolargl"
           }
          ],
          "scatterternary": [
           {
            "line": {
             "width": 3
            },
            "marker": {
             "size": 9
            },
            "type": "scatterternary"
           }
          ],
          "table": [
           {
            "cells": {
             "height": 30
            },
            "header": {
             "height": 36
            },
            "type": "table"
           }
          ]
         },
         "layout": {
          "font": {
           "size": 18
          },
          "xaxis": {
           "title": {
            "standoff": 15
           }
          },
          "yaxis": {
           "title": {
            "standoff": 15
           }
          }
         }
        },
        "width": 1200,
        "xaxis": {
         "autorange": true,
         "range": [
          0.04043009678648908,
          0.20956974314948532
         ],
         "tickmode": "array",
         "tickvals": [
          0.05,
          0.1,
          0.15,
          0.2
         ],
         "title": {
          "text": "Computation rate"
         },
         "type": "linear"
        },
        "yaxis": {
         "autorange": true,
         "range": [
          0.4544800450679019,
          0.9095144110218821
         ],
         "title": {
          "text": "Community ARI"
         },
         "type": "linear"
        }
       }
      }
     },
     "metadata": {},
     "output_type": "display_data"
    }
   ],
   "source": [
    "sub_fig = get_computation_rate_plot(\"adjusted_rand_index\", depth_search_evaluation, \"Community ARI\", dict(\n",
    "            x=0.85,\n",
    "            y=0,\n",
    "            itemwidth=60,\n",
    "            xanchor=\"left\",\n",
    "            yanchor=\"bottom\",\n",
    "            font=dict(size=30),\n",
    "        ))\n",
    "\n",
    "sub_fig.show()"
   ]
  },
  {
   "cell_type": "markdown",
   "id": "2a0efc3b-1a9d-484c-9baf-c4b3a60944b6",
   "metadata": {},
   "source": [
    "### Infection recall for different filters and computation rates using breadth search"
   ]
  },
  {
   "cell_type": "code",
   "execution_count": 24,
   "id": "f729759c-183c-4d20-ba84-3aefe341f254",
   "metadata": {},
   "outputs": [
    {
     "data": {
      "application/vnd.plotly.v1+json": {
       "config": {
        "plotlyServerURL": "https://plot.ly"
       },
       "data": [
        {
         "line": {
          "color": "black",
          "dash": "dash",
          "width": 4
         },
         "mode": "lines",
         "name": "N frequency filter",
         "type": "scatter",
         "x": [
          0.049774789915966386,
          0.09751900760304122,
          0.14477278911564626,
          0.19003601440576232
         ],
         "y": [
          0.7608391608391608,
          0.862937062937063,
          0.9118881118881119,
          0.9375291375291376
         ]
        },
        {
         "marker": {
          "color": "black",
          "size": 8,
          "symbol": "circle"
         },
         "mode": "markers",
         "showlegend": false,
         "text": "",
         "type": "scatter",
         "x": [
          0.049774789915966386
         ],
         "y": [
          0.7608391608391608
         ]
        },
        {
         "marker": {
          "color": "black",
          "size": 8,
          "symbol": "circle"
         },
         "mode": "markers",
         "showlegend": false,
         "text": "",
         "type": "scatter",
         "x": [
          0.09751900760304122
         ],
         "y": [
          0.862937062937063
         ]
        },
        {
         "marker": {
          "color": "black",
          "size": 8,
          "symbol": "circle"
         },
         "mode": "markers",
         "showlegend": false,
         "text": "",
         "type": "scatter",
         "x": [
          0.14477278911564626
         ],
         "y": [
          0.9118881118881119
         ]
        },
        {
         "marker": {
          "color": "black",
          "size": 8,
          "symbol": "circle"
         },
         "mode": "markers",
         "showlegend": false,
         "text": "",
         "type": "scatter",
         "x": [
          0.19003601440576232
         ],
         "y": [
          0.9375291375291376
         ]
        },
        {
         "line": {
          "color": "black",
          "dash": "dot",
          "width": 4
         },
         "mode": "lines",
         "name": "N & SNV frequency filter",
         "type": "scatter",
         "x": [
          0.049774789915966386,
          0.09751900760304122,
          0.14477278911564626,
          0.19003601440576232
         ],
         "y": [
          0.7724941724941725,
          0.882051282051282,
          0.931934731934732,
          0.9585081585081585
         ]
        },
        {
         "marker": {
          "color": "black",
          "size": 8,
          "symbol": "circle"
         },
         "mode": "markers",
         "showlegend": false,
         "text": "",
         "type": "scatter",
         "x": [
          0.049774789915966386
         ],
         "y": [
          0.7724941724941725
         ]
        },
        {
         "marker": {
          "color": "black",
          "size": 8,
          "symbol": "circle"
         },
         "mode": "markers",
         "showlegend": false,
         "text": "",
         "type": "scatter",
         "x": [
          0.09751900760304122
         ],
         "y": [
          0.882051282051282
         ]
        },
        {
         "marker": {
          "color": "black",
          "size": 8,
          "symbol": "circle"
         },
         "mode": "markers",
         "showlegend": false,
         "text": "",
         "type": "scatter",
         "x": [
          0.14477278911564626
         ],
         "y": [
          0.931934731934732
         ]
        },
        {
         "marker": {
          "color": "black",
          "size": 8,
          "symbol": "circle"
         },
         "mode": "markers",
         "showlegend": false,
         "text": "",
         "type": "scatter",
         "x": [
          0.19003601440576232
         ],
         "y": [
          0.9585081585081585
         ]
        }
       ],
       "layout": {
        "font": {
         "size": 25
        },
        "height": 700,
        "legend": {
         "font": {
          "size": 35
         },
         "x": 0.65,
         "xanchor": "left",
         "y": 0.05,
         "yanchor": "bottom"
        },
        "margin": {
         "b": 80,
         "l": 110,
         "r": 0,
         "t": 0
        },
        "template": {
         "data": {
          "pie": [
           {
            "automargin": true,
            "type": "pie"
           }
          ],
          "scatter": [
           {
            "line": {
             "width": 3
            },
            "marker": {
             "size": 9
            },
            "type": "scatter"
           }
          ],
          "scatter3d": [
           {
            "line": {
             "width": 3
            },
            "marker": {
             "size": 9
            },
            "type": "scatter3d"
           }
          ],
          "scattergeo": [
           {
            "line": {
             "width": 3
            },
            "marker": {
             "size": 9
            },
            "type": "scattergeo"
           }
          ],
          "scattergl": [
           {
            "line": {
             "width": 3
            },
            "marker": {
             "size": 9
            },
            "type": "scattergl"
           }
          ],
          "scatterpolar": [
           {
            "line": {
             "width": 3
            },
            "marker": {
             "size": 9
            },
            "type": "scatterpolar"
           }
          ],
          "scatterpolargl": [
           {
            "line": {
             "width": 3
            },
            "marker": {
             "size": 9
            },
            "type": "scatterpolargl"
           }
          ],
          "scatterternary": [
           {
            "line": {
             "width": 3
            },
            "marker": {
             "size": 9
            },
            "type": "scatterternary"
           }
          ],
          "table": [
           {
            "cells": {
             "height": 30
            },
            "header": {
             "height": 36
            },
            "type": "table"
           }
          ]
         },
         "layout": {
          "font": {
           "size": 18
          },
          "xaxis": {
           "title": {
            "standoff": 15
           }
          },
          "yaxis": {
           "title": {
            "standoff": 15
           }
          }
         }
        },
        "width": 1200,
        "xaxis": {
         "autorange": true,
         "range": [
          0.04105539791169293,
          0.19875540641003578
         ],
         "tickmode": "array",
         "tickvals": [
          0.05,
          0.1,
          0.15,
          0.2
         ],
         "title": {
          "text": "Computation rate"
         },
         "type": "linear"
        },
        "yaxis": {
         "autorange": true,
         "range": [
          0.7478536062477668,
          0.9714937130995526
         ],
         "title": {
          "text": "Infection recall"
         },
         "type": "linear"
        }
       }
      }
     },
     "metadata": {},
     "output_type": "display_data"
    }
   ],
   "source": [
    "sub_fig = get_computation_rate_plot(\"infection_detection_rate\", breadth_search_evaluation, \"Infection recall\", legend=dict(\n",
    "            x=0.65,\n",
    "            y=0.05,\n",
    "            xanchor=\"left\",\n",
    "            yanchor=\"bottom\",\n",
    "            font=dict(size=35),\n",
    "        ))\n",
    "sub_fig.show()"
   ]
  },
  {
   "cell_type": "markdown",
   "id": "89420831-1def-4eca-824e-0da5a81e94b6",
   "metadata": {},
   "source": [
    "### Community ARI for different filters and computation rates using breadth search"
   ]
  },
  {
   "cell_type": "code",
   "execution_count": 25,
   "id": "203133c2-1c05-47b5-9f5d-5898432945c2",
   "metadata": {},
   "outputs": [
    {
     "data": {
      "application/vnd.plotly.v1+json": {
       "config": {
        "plotlyServerURL": "https://plot.ly"
       },
       "data": [
        {
         "line": {
          "color": "black",
          "dash": "dash",
          "width": 4
         },
         "mode": "lines",
         "name": "N frequency filter",
         "type": "scatter",
         "x": [
          0.049774789915966386,
          0.09751900760304122,
          0.14477278911564626,
          0.19003601440576232
         ],
         "y": [
          0.4170438877046458,
          0.5144688980139464,
          0.6126995838929036,
          0.6633489188900112
         ]
        },
        {
         "marker": {
          "color": "black",
          "size": 8,
          "symbol": "circle"
         },
         "mode": "markers",
         "showlegend": false,
         "text": "",
         "type": "scatter",
         "x": [
          0.049774789915966386
         ],
         "y": [
          0.4170438877046458
         ]
        },
        {
         "marker": {
          "color": "black",
          "size": 8,
          "symbol": "circle"
         },
         "mode": "markers",
         "showlegend": false,
         "text": "",
         "type": "scatter",
         "x": [
          0.09751900760304122
         ],
         "y": [
          0.5144688980139464
         ]
        },
        {
         "marker": {
          "color": "black",
          "size": 8,
          "symbol": "circle"
         },
         "mode": "markers",
         "showlegend": false,
         "text": "",
         "type": "scatter",
         "x": [
          0.14477278911564626
         ],
         "y": [
          0.6126995838929036
         ]
        },
        {
         "marker": {
          "color": "black",
          "size": 8,
          "symbol": "circle"
         },
         "mode": "markers",
         "showlegend": false,
         "text": "",
         "type": "scatter",
         "x": [
          0.19003601440576232
         ],
         "y": [
          0.6633489188900112
         ]
        },
        {
         "line": {
          "color": "black",
          "dash": "dot",
          "width": 4
         },
         "mode": "lines",
         "name": "N & SNV frequency filter",
         "type": "scatter",
         "x": [
          0.049774789915966386,
          0.09751900760304122,
          0.14477278911564626,
          0.19003601440576232
         ],
         "y": [
          0.4398360363571159,
          0.5582614551346012,
          0.6274350285136213,
          0.6875798064900099
         ]
        },
        {
         "marker": {
          "color": "black",
          "size": 8,
          "symbol": "circle"
         },
         "mode": "markers",
         "showlegend": false,
         "text": "",
         "type": "scatter",
         "x": [
          0.049774789915966386
         ],
         "y": [
          0.4398360363571159
         ]
        },
        {
         "marker": {
          "color": "black",
          "size": 8,
          "symbol": "circle"
         },
         "mode": "markers",
         "showlegend": false,
         "text": "",
         "type": "scatter",
         "x": [
          0.09751900760304122
         ],
         "y": [
          0.5582614551346012
         ]
        },
        {
         "marker": {
          "color": "black",
          "size": 8,
          "symbol": "circle"
         },
         "mode": "markers",
         "showlegend": false,
         "text": "",
         "type": "scatter",
         "x": [
          0.14477278911564626
         ],
         "y": [
          0.6274350285136213
         ]
        },
        {
         "marker": {
          "color": "black",
          "size": 8,
          "symbol": "circle"
         },
         "mode": "markers",
         "showlegend": false,
         "text": "",
         "type": "scatter",
         "x": [
          0.19003601440576232
         ],
         "y": [
          0.6875798064900099
         ]
        }
       ],
       "layout": {
        "font": {
         "size": 25
        },
        "height": 700,
        "legend": {
         "font": {
          "size": 35
         },
         "x": 0.55,
         "xanchor": "left",
         "y": 0.02,
         "yanchor": "bottom"
        },
        "margin": {
         "b": 80,
         "l": 110,
         "r": 0,
         "t": 0
        },
        "template": {
         "data": {
          "pie": [
           {
            "automargin": true,
            "type": "pie"
           }
          ],
          "scatter": [
           {
            "line": {
             "width": 3
            },
            "marker": {
             "size": 9
            },
            "type": "scatter"
           }
          ],
          "scatter3d": [
           {
            "line": {
             "width": 3
            },
            "marker": {
             "size": 9
            },
            "type": "scatter3d"
           }
          ],
          "scattergeo": [
           {
            "line": {
             "width": 3
            },
            "marker": {
             "size": 9
            },
            "type": "scattergeo"
           }
          ],
          "scattergl": [
           {
            "line": {
             "width": 3
            },
            "marker": {
             "size": 9
            },
            "type": "scattergl"
           }
          ],
          "scatterpolar": [
           {
            "line": {
             "width": 3
            },
            "marker": {
             "size": 9
            },
            "type": "scatterpolar"
           }
          ],
          "scatterpolargl": [
           {
            "line": {
             "width": 3
            },
            "marker": {
             "size": 9
            },
            "type": "scatterpolargl"
           }
          ],
          "scatterternary": [
           {
            "line": {
             "width": 3
            },
            "marker": {
             "size": 9
            },
            "type": "scatterternary"
           }
          ],
          "table": [
           {
            "cells": {
             "height": 30
            },
            "header": {
             "height": 36
            },
            "type": "table"
           }
          ]
         },
         "layout": {
          "font": {
           "size": 18
          },
          "xaxis": {
           "title": {
            "standoff": 15
           }
          },
          "yaxis": {
           "title": {
            "standoff": 15
           }
          }
         }
        },
        "width": 1200,
        "xaxis": {
         "autorange": true,
         "range": [
          0.04117999809604583,
          0.19863080622568288
         ],
         "tickmode": "array",
         "tickvals": [
          0.05,
          0.1,
          0.15,
          0.2
         ],
         "title": {
          "text": "Computation rate"
         },
         "type": "linear"
        },
        "yaxis": {
         "autorange": true,
         "range": [
          0.3992714550837095,
          0.7053522391109462
         ],
         "title": {
          "text": "Community ARI"
         },
         "type": "linear"
        }
       }
      }
     },
     "metadata": {},
     "output_type": "display_data"
    }
   ],
   "source": [
    "sub_fig = get_computation_rate_plot(\"adjusted_rand_index\", breadth_search_evaluation, \"Community ARI\", legend=dict(\n",
    "            x=0.55,\n",
    "            y=0.02,\n",
    "            xanchor=\"left\",\n",
    "            yanchor=\"bottom\",\n",
    "            font=dict(size=35),\n",
    "        ))\n",
    "sub_fig.show()"
   ]
  },
  {
   "cell_type": "code",
   "execution_count": 26,
   "id": "a2527af6-911c-4ba6-a4ff-ed2c416bc3b6",
   "metadata": {},
   "outputs": [],
   "source": [
    "depth_vs_breadth_search_evaluation = {\n",
    "    \"Depth search\": {\"values\": {evaluation[\"computation_rate\"]: evaluation for evaluation in depth_search_N_and_SNV_frequency_filter}, \"stroke\": \"solid\", \"color\": \"blue\"},\n",
    "    \"Breadth search\": {\"values\": {evaluation[\"computation_rate\"]: evaluation for evaluation in breadth_search_N_and_SNV_frequency_filter}, \"stroke\": \"solid\", \"color\": \"green\"},  \n",
    "}"
   ]
  },
  {
   "cell_type": "markdown",
   "id": "3ff60961-3a76-4abe-992b-3f351c87d047",
   "metadata": {},
   "source": [
    "### Infection recall for different computation rates using depth search and breadth search (N and SNV frequency filter)"
   ]
  },
  {
   "cell_type": "code",
   "execution_count": 27,
   "id": "a888b187-43f9-4e72-a7bb-e1d39756b694",
   "metadata": {},
   "outputs": [
    {
     "data": {
      "application/vnd.plotly.v1+json": {
       "config": {
        "plotlyServerURL": "https://plot.ly"
       },
       "data": [
        {
         "line": {
          "color": "blue",
          "dash": "solid",
          "width": 4
         },
         "mode": "lines",
         "name": "Depth search",
         "type": "scatter",
         "x": [
          0.04999983993597439,
          0.1,
          0.14999983993597438,
          0.2
         ],
         "y": [
          0.9198135198135198,
          0.9757575757575757,
          0.9902097902097902,
          0.9953379953379954
         ]
        },
        {
         "marker": {
          "color": "blue",
          "size": 8,
          "symbol": "circle"
         },
         "mode": "markers",
         "showlegend": false,
         "text": "",
         "type": "scatter",
         "x": [
          0.04999983993597439
         ],
         "y": [
          0.9198135198135198
         ]
        },
        {
         "marker": {
          "color": "blue",
          "size": 8,
          "symbol": "circle"
         },
         "mode": "markers",
         "showlegend": false,
         "text": "",
         "type": "scatter",
         "x": [
          0.1
         ],
         "y": [
          0.9757575757575757
         ]
        },
        {
         "marker": {
          "color": "blue",
          "size": 8,
          "symbol": "circle"
         },
         "mode": "markers",
         "showlegend": false,
         "text": "",
         "type": "scatter",
         "x": [
          0.14999983993597438
         ],
         "y": [
          0.9902097902097902
         ]
        },
        {
         "marker": {
          "color": "blue",
          "size": 8,
          "symbol": "circle"
         },
         "mode": "markers",
         "showlegend": false,
         "text": "",
         "type": "scatter",
         "x": [
          0.2
         ],
         "y": [
          0.9953379953379954
         ]
        },
        {
         "line": {
          "color": "green",
          "dash": "solid",
          "width": 4
         },
         "mode": "lines",
         "name": "Breadth search",
         "type": "scatter",
         "x": [
          0.049774789915966386,
          0.09751900760304122,
          0.14477278911564626,
          0.19003601440576232
         ],
         "y": [
          0.7724941724941725,
          0.882051282051282,
          0.931934731934732,
          0.9585081585081585
         ]
        },
        {
         "marker": {
          "color": "green",
          "size": 8,
          "symbol": "circle"
         },
         "mode": "markers",
         "showlegend": false,
         "text": "",
         "type": "scatter",
         "x": [
          0.049774789915966386
         ],
         "y": [
          0.7724941724941725
         ]
        },
        {
         "marker": {
          "color": "green",
          "size": 8,
          "symbol": "circle"
         },
         "mode": "markers",
         "showlegend": false,
         "text": "",
         "type": "scatter",
         "x": [
          0.09751900760304122
         ],
         "y": [
          0.882051282051282
         ]
        },
        {
         "marker": {
          "color": "green",
          "size": 8,
          "symbol": "circle"
         },
         "mode": "markers",
         "showlegend": false,
         "text": "",
         "type": "scatter",
         "x": [
          0.14477278911564626
         ],
         "y": [
          0.931934731934732
         ]
        },
        {
         "marker": {
          "color": "green",
          "size": 8,
          "symbol": "circle"
         },
         "mode": "markers",
         "showlegend": false,
         "text": "",
         "type": "scatter",
         "x": [
          0.19003601440576232
         ],
         "y": [
          0.9585081585081585
         ]
        }
       ],
       "layout": {
        "font": {
         "size": 25
        },
        "height": 700,
        "legend": {
         "font": {
          "size": 35
         },
         "x": 0.7,
         "xanchor": "left",
         "y": 0.1,
         "yanchor": "bottom"
        },
        "margin": {
         "b": 80,
         "l": 110,
         "r": 0,
         "t": 0
        },
        "template": {
         "data": {
          "pie": [
           {
            "automargin": true,
            "type": "pie"
           }
          ],
          "scatter": [
           {
            "line": {
             "width": 3
            },
            "marker": {
             "size": 9
            },
            "type": "scatter"
           }
          ],
          "scatter3d": [
           {
            "line": {
             "width": 3
            },
            "marker": {
             "size": 9
            },
            "type": "scatter3d"
           }
          ],
          "scattergeo": [
           {
            "line": {
             "width": 3
            },
            "marker": {
             "size": 9
            },
            "type": "scattergeo"
           }
          ],
          "scattergl": [
           {
            "line": {
             "width": 3
            },
            "marker": {
             "size": 9
            },
            "type": "scattergl"
           }
          ],
          "scatterpolar": [
           {
            "line": {
             "width": 3
            },
            "marker": {
             "size": 9
            },
            "type": "scatterpolar"
           }
          ],
          "scatterpolargl": [
           {
            "line": {
             "width": 3
            },
            "marker": {
             "size": 9
            },
            "type": "scatterpolargl"
           }
          ],
          "scatterternary": [
           {
            "line": {
             "width": 3
            },
            "marker": {
             "size": 9
            },
            "type": "scatterternary"
           }
          ],
          "table": [
           {
            "cells": {
             "height": 30
            },
            "header": {
             "height": 36
            },
            "type": "table"
           }
          ]
         },
         "layout": {
          "font": {
           "size": 18
          },
          "xaxis": {
           "title": {
            "standoff": 15
           }
          },
          "yaxis": {
           "title": {
            "standoff": 15
           }
          }
         }
        },
        "width": 1200,
        "xaxis": {
         "autorange": true,
         "range": [
          0.04056943461215588,
          0.20920535530381051
         ],
         "tickmode": "array",
         "tickvals": [
          0.05,
          0.1,
          0.15,
          0.2
         ],
         "title": {
          "text": "Computation rate"
         },
         "type": "linear"
        },
        "yaxis": {
         "autorange": true,
         "range": [
          0.7578547972708557,
          1.0099773705613122
         ],
         "title": {
          "text": "Infection recall"
         },
         "type": "linear"
        }
       }
      }
     },
     "metadata": {},
     "output_type": "display_data"
    }
   ],
   "source": [
    "sub_fig = get_computation_rate_plot(\"infection_detection_rate\", depth_vs_breadth_search_evaluation, \"Infection recall\", legend=dict(\n",
    "            x=0.7,\n",
    "            y=0.1,\n",
    "            xanchor=\"left\",\n",
    "            yanchor=\"bottom\",\n",
    "            font=dict(size=35),\n",
    "        ))\n",
    "sub_fig.show()"
   ]
  },
  {
   "cell_type": "markdown",
   "id": "0ba52540-a7f4-449c-ad65-ad9780668c09",
   "metadata": {},
   "source": [
    "### Community ARI for different computation rates using depth search and breadth search (N and SNV frequency filter)"
   ]
  },
  {
   "cell_type": "code",
   "execution_count": 28,
   "id": "1248ca7b-aee5-4e18-a400-9e5be429770e",
   "metadata": {},
   "outputs": [
    {
     "data": {
      "application/vnd.plotly.v1+json": {
       "config": {
        "plotlyServerURL": "https://plot.ly"
       },
       "data": [
        {
         "line": {
          "color": "blue",
          "dash": "solid",
          "width": 4
         },
         "mode": "lines",
         "name": "Depth search",
         "type": "scatter",
         "x": [
          0.04999983993597439,
          0.1,
          0.14999983993597438,
          0.2
         ],
         "y": [
          0.49290124192858775,
          0.6921565580186992,
          0.787432471756631,
          0.8721203267054223
         ]
        },
        {
         "marker": {
          "color": "blue",
          "size": 8,
          "symbol": "circle"
         },
         "mode": "markers",
         "showlegend": false,
         "text": "",
         "type": "scatter",
         "x": [
          0.04999983993597439
         ],
         "y": [
          0.49290124192858775
         ]
        },
        {
         "marker": {
          "color": "blue",
          "size": 8,
          "symbol": "circle"
         },
         "mode": "markers",
         "showlegend": false,
         "text": "",
         "type": "scatter",
         "x": [
          0.1
         ],
         "y": [
          0.6921565580186992
         ]
        },
        {
         "marker": {
          "color": "blue",
          "size": 8,
          "symbol": "circle"
         },
         "mode": "markers",
         "showlegend": false,
         "text": "",
         "type": "scatter",
         "x": [
          0.14999983993597438
         ],
         "y": [
          0.787432471756631
         ]
        },
        {
         "marker": {
          "color": "blue",
          "size": 8,
          "symbol": "circle"
         },
         "mode": "markers",
         "showlegend": false,
         "text": "",
         "type": "scatter",
         "x": [
          0.2
         ],
         "y": [
          0.8721203267054223
         ]
        },
        {
         "line": {
          "color": "green",
          "dash": "solid",
          "width": 4
         },
         "mode": "lines",
         "name": "Breadth search",
         "type": "scatter",
         "x": [
          0.049774789915966386,
          0.09751900760304122,
          0.14477278911564626,
          0.19003601440576232
         ],
         "y": [
          0.4398360363571159,
          0.5582614551346012,
          0.6274350285136213,
          0.6875798064900099
         ]
        },
        {
         "marker": {
          "color": "green",
          "size": 8,
          "symbol": "circle"
         },
         "mode": "markers",
         "showlegend": false,
         "text": "",
         "type": "scatter",
         "x": [
          0.049774789915966386
         ],
         "y": [
          0.4398360363571159
         ]
        },
        {
         "marker": {
          "color": "green",
          "size": 8,
          "symbol": "circle"
         },
         "mode": "markers",
         "showlegend": false,
         "text": "",
         "type": "scatter",
         "x": [
          0.09751900760304122
         ],
         "y": [
          0.5582614551346012
         ]
        },
        {
         "marker": {
          "color": "green",
          "size": 8,
          "symbol": "circle"
         },
         "mode": "markers",
         "showlegend": false,
         "text": "",
         "type": "scatter",
         "x": [
          0.14477278911564626
         ],
         "y": [
          0.6274350285136213
         ]
        },
        {
         "marker": {
          "color": "green",
          "size": 8,
          "symbol": "circle"
         },
         "mode": "markers",
         "showlegend": false,
         "text": "",
         "type": "scatter",
         "x": [
          0.19003601440576232
         ],
         "y": [
          0.6875798064900099
         ]
        }
       ],
       "layout": {
        "font": {
         "size": 25
        },
        "height": 700,
        "legend": {
         "font": {
          "size": 35
         },
         "x": 0.7,
         "xanchor": "left",
         "y": 0.1,
         "yanchor": "bottom"
        },
        "margin": {
         "b": 80,
         "l": 110,
         "r": 0,
         "t": 0
        },
        "template": {
         "data": {
          "pie": [
           {
            "automargin": true,
            "type": "pie"
           }
          ],
          "scatter": [
           {
            "line": {
             "width": 3
            },
            "marker": {
             "size": 9
            },
            "type": "scatter"
           }
          ],
          "scatter3d": [
           {
            "line": {
             "width": 3
            },
            "marker": {
             "size": 9
            },
            "type": "scatter3d"
           }
          ],
          "scattergeo": [
           {
            "line": {
             "width": 3
            },
            "marker": {
             "size": 9
            },
            "type": "scattergeo"
           }
          ],
          "scattergl": [
           {
            "line": {
             "width": 3
            },
            "marker": {
             "size": 9
            },
            "type": "scattergl"
           }
          ],
          "scatterpolar": [
           {
            "line": {
             "width": 3
            },
            "marker": {
             "size": 9
            },
            "type": "scatterpolar"
           }
          ],
          "scatterpolargl": [
           {
            "line": {
             "width": 3
            },
            "marker": {
             "size": 9
            },
            "type": "scatterpolargl"
           }
          ],
          "scatterternary": [
           {
            "line": {
             "width": 3
            },
            "marker": {
             "size": 9
            },
            "type": "scatterternary"
           }
          ],
          "table": [
           {
            "cells": {
             "height": 30
            },
            "header": {
             "height": 36
            },
            "type": "table"
           }
          ]
         },
         "layout": {
          "font": {
           "size": 18
          },
          "xaxis": {
           "title": {
            "standoff": 15
           }
          },
          "yaxis": {
           "title": {
            "standoff": 15
           }
          }
         }
        },
        "width": 1200,
        "xaxis": {
         "autorange": true,
         "range": [
          0.04056943461215588,
          0.20920535530381051
         ],
         "tickmode": "array",
         "tickvals": [
          0.05,
          0.1,
          0.15,
          0.2
         ],
         "title": {
          "text": "Computation rate"
         },
         "type": "linear"
        },
        "yaxis": {
         "autorange": true,
         "range": [
          0.41143779830503735,
          0.9005185647575008
         ],
         "title": {
          "text": "Community ARI"
         },
         "type": "linear"
        }
       }
      }
     },
     "metadata": {},
     "output_type": "display_data"
    }
   ],
   "source": [
    "sub_fig = get_computation_rate_plot(\"adjusted_rand_index\", depth_vs_breadth_search_evaluation, \"Community ARI\", legend=dict(\n",
    "            x=0.7,\n",
    "            y=0.1,\n",
    "            xanchor=\"left\",\n",
    "            yanchor=\"bottom\",\n",
    "            font=dict(size=35),\n",
    "        ))\n",
    "sub_fig.show()"
   ]
  },
  {
   "cell_type": "code",
   "execution_count": null,
   "id": "84584521-a8b2-40c6-b42f-397e183b4846",
   "metadata": {},
   "outputs": [],
   "source": []
  },
  {
   "cell_type": "code",
   "execution_count": null,
   "id": "a3a30ee8-1cce-4821-bd42-122cbee2ef46",
   "metadata": {},
   "outputs": [],
   "source": []
  },
  {
   "cell_type": "code",
   "execution_count": null,
   "id": "147d0668-2ee5-427c-afad-9d5f89c180b0",
   "metadata": {},
   "outputs": [],
   "source": []
  }
 ],
 "metadata": {
  "kernelspec": {
   "display_name": "Python 3 (ipykernel)",
   "language": "python",
   "name": "python3"
  },
  "language_info": {
   "codemirror_mode": {
    "name": "ipython",
    "version": 3
   },
   "file_extension": ".py",
   "mimetype": "text/x-python",
   "name": "python",
   "nbconvert_exporter": "python",
   "pygments_lexer": "ipython3",
   "version": "3.12.5"
  }
 },
 "nbformat": 4,
 "nbformat_minor": 5
}
