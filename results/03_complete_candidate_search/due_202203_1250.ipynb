{
 "cells": [
  {
   "metadata": {},
   "cell_type": "markdown",
   "source": [
    "# Complete candidate search (due_202203, 1,250 sequences)\n",
    "This notebook contains the evaluation of the complete candidate search concerning the aggregate due_202203 with 1,250 sequences. Breadth search and depth search results were taken into account.\n",
    "The distance matrices were evaluated in terms of infection recall. Furthermore, the mst structure was evaluated based on community ARI, lineage purity and mean edge weight. MSTs were generated to compare the results with the MST of the optimized algorithm regarding the distribution of outbreak-related attributes."
   ],
   "id": "1c41332d30a3101b"
  },
  {
   "cell_type": "code",
   "execution_count": 1,
   "id": "b2c3d2f8-d7a0-4f5f-a76c-d484d076de38",
   "metadata": {},
   "outputs": [
    {
     "name": "stdout",
     "output_type": "stream",
     "text": [
      "\u001B[33mWARNING: Ignoring invalid distribution ~entrain (/Users/benkraling/Library/jupyterlab-desktop/jlab_server/lib/python3.12/site-packages)\u001B[0m\u001B[33m\n",
      "\u001B[0mProcessing /Users/benkraling/code/thesis/gentrain\n",
      "  Preparing metadata (setup.py) ... \u001B[?25ldone\n",
      "\u001B[?25hRequirement already satisfied: biopython in /Users/benkraling/Library/jupyterlab-desktop/jlab_server/lib/python3.12/site-packages (from gentrain==0.1.2) (1.85)\n",
      "Requirement already satisfied: networkx in /Users/benkraling/Library/jupyterlab-desktop/jlab_server/lib/python3.12/site-packages (from gentrain==0.1.2) (3.4.2)\n",
      "Requirement already satisfied: matplotlib in /Users/benkraling/Library/jupyterlab-desktop/jlab_server/lib/python3.12/site-packages (from gentrain==0.1.2) (3.9.2)\n",
      "Requirement already satisfied: pandas in /Users/benkraling/Library/jupyterlab-desktop/jlab_server/lib/python3.12/site-packages (from gentrain==0.1.2) (2.2.2)\n",
      "Requirement already satisfied: numpy in /Users/benkraling/Library/jupyterlab-desktop/jlab_server/lib/python3.12/site-packages (from gentrain==0.1.2) (2.1.0)\n",
      "Requirement already satisfied: contourpy>=1.0.1 in /Users/benkraling/Library/jupyterlab-desktop/jlab_server/lib/python3.12/site-packages (from matplotlib->gentrain==0.1.2) (1.2.1)\n",
      "Requirement already satisfied: cycler>=0.10 in /Users/benkraling/Library/jupyterlab-desktop/jlab_server/lib/python3.12/site-packages (from matplotlib->gentrain==0.1.2) (0.12.1)\n",
      "Requirement already satisfied: fonttools>=4.22.0 in /Users/benkraling/Library/jupyterlab-desktop/jlab_server/lib/python3.12/site-packages (from matplotlib->gentrain==0.1.2) (4.53.1)\n",
      "Requirement already satisfied: kiwisolver>=1.3.1 in /Users/benkraling/Library/jupyterlab-desktop/jlab_server/lib/python3.12/site-packages (from matplotlib->gentrain==0.1.2) (1.4.5)\n",
      "Requirement already satisfied: packaging>=20.0 in /Users/benkraling/Library/jupyterlab-desktop/jlab_server/lib/python3.12/site-packages (from matplotlib->gentrain==0.1.2) (25.0)\n",
      "Requirement already satisfied: pillow>=8 in /Users/benkraling/Library/jupyterlab-desktop/jlab_server/lib/python3.12/site-packages (from matplotlib->gentrain==0.1.2) (10.4.0)\n",
      "Requirement already satisfied: pyparsing>=2.3.1 in /Users/benkraling/Library/jupyterlab-desktop/jlab_server/lib/python3.12/site-packages (from matplotlib->gentrain==0.1.2) (3.1.4)\n",
      "Requirement already satisfied: python-dateutil>=2.7 in /Users/benkraling/Library/jupyterlab-desktop/jlab_server/lib/python3.12/site-packages (from matplotlib->gentrain==0.1.2) (2.9.0)\n",
      "Requirement already satisfied: pytz>=2020.1 in /Users/benkraling/Library/jupyterlab-desktop/jlab_server/lib/python3.12/site-packages (from pandas->gentrain==0.1.2) (2024.1)\n",
      "Requirement already satisfied: tzdata>=2022.7 in /Users/benkraling/Library/jupyterlab-desktop/jlab_server/lib/python3.12/site-packages (from pandas->gentrain==0.1.2) (2024.1)\n",
      "Requirement already satisfied: six>=1.5 in /Users/benkraling/Library/jupyterlab-desktop/jlab_server/lib/python3.12/site-packages (from python-dateutil>=2.7->matplotlib->gentrain==0.1.2) (1.16.0)\n",
      "Building wheels for collected packages: gentrain\n",
      "  Building wheel for gentrain (setup.py) ... \u001B[?25ldone\n",
      "\u001B[?25h  Created wheel for gentrain: filename=gentrain-0.1.2-py3-none-any.whl size=26677 sha256=ee7d072c4821a266c742643492cab23f599eadf561f7b434cc688c1b5cf756ff\n",
      "  Stored in directory: /private/var/folders/2h/923cq6912sqb0snfvqqfdnmm0000gn/T/pip-ephem-wheel-cache-8ak17129/wheels/cf/e4/57/91c03db2e8c043adeefe35dd0969d3049f61ae0218be0acc9f\n",
      "Successfully built gentrain\n",
      "\u001B[33mWARNING: Ignoring invalid distribution ~entrain (/Users/benkraling/Library/jupyterlab-desktop/jlab_server/lib/python3.12/site-packages)\u001B[0m\u001B[33m\n",
      "\u001B[0mInstalling collected packages: gentrain\n",
      "  Attempting uninstall: gentrain\n",
      "    Found existing installation: gentrain 0.1.2\n",
      "    Uninstalling gentrain-0.1.2:\n",
      "      Successfully uninstalled gentrain-0.1.2\n",
      "\u001B[33mWARNING: Ignoring invalid distribution ~entrain (/Users/benkraling/Library/jupyterlab-desktop/jlab_server/lib/python3.12/site-packages)\u001B[0m\u001B[33m\n",
      "\u001B[0mSuccessfully installed gentrain-0.1.2\n"
     ]
    }
   ],
   "source": [
    "!pip install ../../gentrain/."
   ]
  },
  {
   "cell_type": "code",
   "execution_count": 2,
   "id": "f44740de-5142-4e08-bce3-d5bc45c50668",
   "metadata": {},
   "outputs": [],
   "source": [
    "import pandas as pd\n",
    "import plotly.express as px\n",
    "import plotly.graph_objects as go\n",
    "import re\n",
    "from sklearn.preprocessing import MultiLabelBinarizer\n",
    "from sklearn.metrics import adjusted_rand_score\n",
    "from sklearn.preprocessing import LabelEncoder\n",
    "from collections import Counter\n",
    "import numpy as np\n",
    "import pickle\n",
    "from gentrain.evaluation import get_computation_rate_plot, candidate_evaluation_and_matrices, get_candidate_evaluation_and_export_mst\n",
    "from sklearn.preprocessing import MultiLabelBinarizer\n",
    "from sklearn.preprocessing import LabelEncoder\n",
    "from gentrain.encoding import get_nucleotide_sensitive_encodings, get_mutation_sensitive_encodings, generate_one_hot_encoding\n",
    "from gentrain.nextclade import get_mutations_from_dataframe\n",
    "from gentrain.candidate_sourcing import bitwise_xor_candidates\n",
    "from gentrain.graph import build_mst, export_graph_gexf, mean_edge_weight, get_outbreak_community_labels, build_graph\n",
    "from scipy.spatial.distance import pdist\n",
    "import community as community_louvain\n",
    "import umap\n",
    "import faiss\n",
    "from sklearn.cluster import DBSCAN\n",
    "from sklearn.metrics import pairwise_distances_argmin\n",
    "import os\n",
    "import shutil"
   ]
  },
  {
   "cell_type": "code",
   "execution_count": 3,
   "id": "5f2a8da5-9870-496c-a865-a88ad17c4e67",
   "metadata": {},
   "outputs": [],
   "source": [
    "aggregate = \"due_202203\"\n",
    "size = 1250"
   ]
  },
  {
   "cell_type": "code",
   "execution_count": 4,
   "id": "50d5222f-0e59-4b0c-a168-81ce45a7712b",
   "metadata": {},
   "outputs": [],
   "source": [
    "graph_path = f\"graphs/{aggregate}/{size}\"\n",
    "if os.path.exists(f\"graphs/{aggregate}/{size}\") and os.path.isdir(f\"graphs/{aggregate}/{size}\"):\n",
    "    shutil.rmtree(f\"graphs/{aggregate}/{size}\")\n",
    "if not os.path.exists(f\"graphs/{aggregate}\"):\n",
    "    os.mkdir(f\"graphs/{aggregate}\")\n",
    "os.mkdir(f\"graphs/{aggregate}/{size}\")"
   ]
  },
  {
   "cell_type": "code",
   "execution_count": 5,
   "id": "3cf8da80-ea93-4ca0-9697-f1eb2587b47e",
   "metadata": {},
   "outputs": [],
   "source": [
    "sequences_df = pd.read_csv(f\"../00_data_understanding_and_preparation/aggregates/{aggregate}/{size}/sequences_and_metadata.csv\", delimiter=\";\").set_index(\"igs_id\").sort_index()\n",
    "sequences_count = len(sequences_df)"
   ]
  },
  {
   "cell_type": "code",
   "execution_count": 6,
   "id": "078e2f36-de8b-4d3b-a2e9-9c87a45a71de",
   "metadata": {},
   "outputs": [],
   "source": [
    "mutations_df = get_mutations_from_dataframe(sequences_df)"
   ]
  },
  {
   "cell_type": "code",
   "execution_count": 7,
   "id": "d50663f5-014f-4f9f-9c78-d436762132db",
   "metadata": {},
   "outputs": [],
   "source": [
    "distance_matrix_df = pd.read_csv(f\"../01_algorithm_optimization/distance_matrices/{aggregate}/{size}/distance_matrix.csv\", delimiter=\";\",\n",
    "                                     index_col=\"Unnamed: 0\").sort_index()\n",
    "distance_matrix_df = distance_matrix_df[~distance_matrix_df.index.duplicated(keep=\"first\")]\n",
    "distance_matrix_df = distance_matrix_df.loc[sequences_df.index, sequences_df.index]\n",
    "distance_matrix = distance_matrix_df.to_numpy()"
   ]
  },
  {
   "cell_type": "code",
   "execution_count": 8,
   "id": "3b35e69d-4761-462e-9d3b-092b08fb6b4b",
   "metadata": {},
   "outputs": [
    {
     "name": "stdout",
     "output_type": "stream",
     "text": [
      "mst generation time: 1.69s\n"
     ]
    }
   ],
   "source": [
    "gentrain_graph = build_graph(distance_matrix)\n",
    "gentrain_mst = build_mst(gentrain_graph)\n",
    "gentrain_community_labels = get_outbreak_community_labels(gentrain_mst)\n",
    "datetime_sampling_dates = pd.to_datetime(sequences_df[\"date_of_sampling\"])\n",
    "numeric_dates = (datetime_sampling_dates - datetime_sampling_dates.min()).dt.days\n",
    "export_graph_gexf(gentrain_mst, gentrain_community_labels, sequences_df, f\"{graph_path}/brute_force_mst\")"
   ]
  },
  {
   "cell_type": "code",
   "execution_count": 9,
   "id": "6ef857c1-75ce-4297-8bf1-f3bea0b29ad6",
   "metadata": {},
   "outputs": [
    {
     "data": {
      "text/plain": [
       "70"
      ]
     },
     "execution_count": 9,
     "metadata": {},
     "output_type": "execute_result"
    }
   ],
   "source": [
    "communities_count = len(Counter(gentrain_community_labels))\n",
    "communities_count"
   ]
  },
  {
   "cell_type": "code",
   "execution_count": 10,
   "id": "c504fa21-2b4c-4180-b99c-a40c21076af3",
   "metadata": {},
   "outputs": [],
   "source": [
    "mask = np.triu(np.ones(distance_matrix_df.shape), k=1).astype(bool)\n",
    "filtered = distance_matrix_df.where(mask)\n",
    "infections_count = (filtered < 2).sum().sum()\n",
    "distances_count = filtered.count().sum()"
   ]
  },
  {
   "cell_type": "markdown",
   "id": "66f0ca76-b701-46c3-b74c-e42d9d0b5fbf",
   "metadata": {},
   "source": [
    "## Encoding"
   ]
  },
  {
   "cell_type": "code",
   "execution_count": 11,
   "id": "ac49fd8d-c708-423b-8e1d-5bcf1545e11a",
   "metadata": {},
   "outputs": [
    {
     "name": "stdout",
     "output_type": "stream",
     "text": [
      "execution time: 27.22s\n"
     ]
    }
   ],
   "source": [
    "encodings_N_frequency_filter = get_mutation_sensitive_encodings(sequences_df, exclude_indels=False, use_frequency_filtering=False, filter_N=True)"
   ]
  },
  {
   "cell_type": "code",
   "execution_count": 12,
   "id": "a4c9d825-a963-426d-99cb-adb91b379589",
   "metadata": {},
   "outputs": [
    {
     "name": "stdout",
     "output_type": "stream",
     "text": [
      "execution time: 28.73s\n"
     ]
    }
   ],
   "source": [
    "encodings_N_and_SNV_frequency_filter = get_mutation_sensitive_encodings(sequences_df, exclude_indels=False, use_frequency_filtering=True, filter_N=True)"
   ]
  },
  {
   "cell_type": "markdown",
   "id": "57fd76ff-715d-4385-afe0-9f1e29098bf0",
   "metadata": {},
   "source": [
    "## Accurate candidate search"
   ]
  },
  {
   "cell_type": "markdown",
   "id": "591d789d-df98-4206-9f1d-e3c5228e3611",
   "metadata": {},
   "source": [
    "### Depth search with N frequency filter"
   ]
  },
  {
   "cell_type": "code",
   "execution_count": 14,
   "id": "01485fed-0015-4967-8418-df04fead5129",
   "metadata": {},
   "outputs": [
    {
     "name": "stdout",
     "output_type": "stream",
     "text": [
      "execution time xor distance calculation: 1.76s\n",
      "execution time depth search: 0.5s\n",
      "execution time 39031: 2.36s\n",
      "mst generation time: 0.05s\n",
      "execution time xor distance calculation: 1.64s\n",
      "execution time depth search: 0.47s\n",
      "execution time 78062: 2.21s\n",
      "mst generation time: 0.19s\n",
      "execution time xor distance calculation: 1.72s\n",
      "execution time depth search: 0.45s\n",
      "execution time 117093: 2.25s\n",
      "mst generation time: 0.35s\n",
      "execution time xor distance calculation: 1.6s\n",
      "execution time depth search: 0.48s\n",
      "execution time 156125: 2.17s\n",
      "mst generation time: 0.44s\n"
     ]
    }
   ],
   "source": [
    "depth_search_N_frequency_filter = []\n",
    "for computation_rate in [0.05, 0.1, 0.15, 0.2]:\n",
    "    limit = int(computation_rate*distances_count)\n",
    "    candidates, runtime = bitwise_xor_candidates(encodings_N_frequency_filter, limit, \"depth\")\n",
    "    depth_search_N_frequency_filter.append(get_candidate_evaluation_and_export_mst(\"depth_N\", candidates, graph_path, distance_matrix, gentrain_community_labels, gentrain_mst, list(sequences_df[\"Nextclade_pango\"]), sequences_df, runtime))"
   ]
  },
  {
   "cell_type": "code",
   "execution_count": 15,
   "id": "50ea1450-35f7-4b56-bd2b-b2f1a1a76fd6",
   "metadata": {},
   "outputs": [
    {
     "data": {
      "text/html": [
       "<div>\n",
       "<style scoped>\n",
       "    .dataframe tbody tr th:only-of-type {\n",
       "        vertical-align: middle;\n",
       "    }\n",
       "\n",
       "    .dataframe tbody tr th {\n",
       "        vertical-align: top;\n",
       "    }\n",
       "\n",
       "    .dataframe thead th {\n",
       "        text-align: right;\n",
       "    }\n",
       "</style>\n",
       "<table border=\"1\" class=\"dataframe\">\n",
       "  <thead>\n",
       "    <tr style=\"text-align: right;\">\n",
       "      <th></th>\n",
       "      <th>computation_rate</th>\n",
       "      <th>infection_detection_rate</th>\n",
       "      <th>infection_recall</th>\n",
       "      <th>infection_precision</th>\n",
       "      <th>infection_f1</th>\n",
       "      <th>runtime</th>\n",
       "      <th>mean_edge_weight</th>\n",
       "      <th>mean_edge_weight_diff</th>\n",
       "      <th>max_edge_weight</th>\n",
       "      <th>subgraph_count</th>\n",
       "      <th>adjusted_rand_index</th>\n",
       "      <th>lineage_purity</th>\n",
       "      <th>lineage_purity_diff</th>\n",
       "    </tr>\n",
       "  </thead>\n",
       "  <tbody>\n",
       "    <tr>\n",
       "      <th>0</th>\n",
       "      <td>0.050000</td>\n",
       "      <td>0.734421</td>\n",
       "      <td>1.0</td>\n",
       "      <td>1.0</td>\n",
       "      <td>0.734421</td>\n",
       "      <td>2.36</td>\n",
       "      <td>1.336923</td>\n",
       "      <td>-0.670923</td>\n",
       "      <td>5.0</td>\n",
       "      <td>405</td>\n",
       "      <td>0.248136</td>\n",
       "      <td>0.957255</td>\n",
       "      <td>0.090855</td>\n",
       "    </tr>\n",
       "    <tr>\n",
       "      <th>1</th>\n",
       "      <td>0.099999</td>\n",
       "      <td>0.776944</td>\n",
       "      <td>1.0</td>\n",
       "      <td>1.0</td>\n",
       "      <td>0.776944</td>\n",
       "      <td>2.21</td>\n",
       "      <td>1.601502</td>\n",
       "      <td>-0.406345</td>\n",
       "      <td>8.0</td>\n",
       "      <td>251</td>\n",
       "      <td>0.333897</td>\n",
       "      <td>0.940661</td>\n",
       "      <td>0.074261</td>\n",
       "    </tr>\n",
       "    <tr>\n",
       "      <th>2</th>\n",
       "      <td>0.149999</td>\n",
       "      <td>0.807504</td>\n",
       "      <td>1.0</td>\n",
       "      <td>1.0</td>\n",
       "      <td>0.807504</td>\n",
       "      <td>2.25</td>\n",
       "      <td>1.772202</td>\n",
       "      <td>-0.235644</td>\n",
       "      <td>7.0</td>\n",
       "      <td>160</td>\n",
       "      <td>0.354640</td>\n",
       "      <td>0.923982</td>\n",
       "      <td>0.057582</td>\n",
       "    </tr>\n",
       "    <tr>\n",
       "      <th>3</th>\n",
       "      <td>0.200000</td>\n",
       "      <td>0.819141</td>\n",
       "      <td>1.0</td>\n",
       "      <td>1.0</td>\n",
       "      <td>0.819141</td>\n",
       "      <td>2.17</td>\n",
       "      <td>1.874647</td>\n",
       "      <td>-0.133200</td>\n",
       "      <td>8.0</td>\n",
       "      <td>118</td>\n",
       "      <td>0.375330</td>\n",
       "      <td>0.927384</td>\n",
       "      <td>0.060984</td>\n",
       "    </tr>\n",
       "  </tbody>\n",
       "</table>\n",
       "</div>"
      ],
      "text/plain": [
       "   computation_rate  infection_detection_rate  infection_recall  \\\n",
       "0          0.050000                  0.734421               1.0   \n",
       "1          0.099999                  0.776944               1.0   \n",
       "2          0.149999                  0.807504               1.0   \n",
       "3          0.200000                  0.819141               1.0   \n",
       "\n",
       "   infection_precision  infection_f1  runtime  mean_edge_weight  \\\n",
       "0                  1.0      0.734421     2.36          1.336923   \n",
       "1                  1.0      0.776944     2.21          1.601502   \n",
       "2                  1.0      0.807504     2.25          1.772202   \n",
       "3                  1.0      0.819141     2.17          1.874647   \n",
       "\n",
       "   mean_edge_weight_diff  max_edge_weight  subgraph_count  \\\n",
       "0              -0.670923              5.0             405   \n",
       "1              -0.406345              8.0             251   \n",
       "2              -0.235644              7.0             160   \n",
       "3              -0.133200              8.0             118   \n",
       "\n",
       "   adjusted_rand_index  lineage_purity  lineage_purity_diff  \n",
       "0             0.248136        0.957255             0.090855  \n",
       "1             0.333897        0.940661             0.074261  \n",
       "2             0.354640        0.923982             0.057582  \n",
       "3             0.375330        0.927384             0.060984  "
      ]
     },
     "execution_count": 15,
     "metadata": {},
     "output_type": "execute_result"
    }
   ],
   "source": [
    "pd.DataFrame(depth_search_N_frequency_filter)"
   ]
  },
  {
   "cell_type": "markdown",
   "id": "8fcc2ca5-54ca-4b7b-98df-db24eef06c19",
   "metadata": {},
   "source": [
    "### Breadth search with N frequency filter"
   ]
  },
  {
   "cell_type": "code",
   "execution_count": 16,
   "id": "347c5384-4535-4c9b-a5f1-8edb46ae0cfe",
   "metadata": {},
   "outputs": [
    {
     "name": "stdout",
     "output_type": "stream",
     "text": [
      "matrix generation time: 0.91s\n",
      "execution time distance collection: 0.65s\n",
      "execution time breadth search: 0.62s\n",
      "execution time 39031: 2.28s\n",
      "mst generation time: 0.05s\n",
      "matrix generation time: 0.92s\n",
      "execution time distance collection: 0.69s\n",
      "execution time breadth search: 0.66s\n",
      "execution time 78062: 2.37s\n",
      "mst generation time: 0.19s\n",
      "matrix generation time: 0.93s\n",
      "execution time distance collection: 0.66s\n",
      "execution time breadth search: 0.66s\n",
      "execution time 117093: 2.35s\n",
      "mst generation time: 0.25s\n",
      "matrix generation time: 0.97s\n",
      "execution time distance collection: 0.68s\n",
      "execution time breadth search: 0.65s\n",
      "execution time 156125: 2.4s\n",
      "mst generation time: 0.34s\n"
     ]
    }
   ],
   "source": [
    "breadth_search_N_frequency_filter = []\n",
    "for computation_rate in [0.05, 0.1, 0.15, 0.2]:\n",
    "    limit = int(computation_rate*distances_count)\n",
    "    candidates, runtime = bitwise_xor_candidates(encodings_N_frequency_filter, limit, \"breadth\")\n",
    "    breadth_search_N_frequency_filter.append(get_candidate_evaluation_and_export_mst(\"depth_N\", candidates, graph_path, distance_matrix, gentrain_community_labels, gentrain_mst, list(sequences_df[\"Nextclade_pango\"]), sequences_df, runtime))"
   ]
  },
  {
   "cell_type": "code",
   "execution_count": 17,
   "id": "b1395206-26ed-4505-aa61-c5e1d9a2f9aa",
   "metadata": {},
   "outputs": [
    {
     "data": {
      "text/html": [
       "<div>\n",
       "<style scoped>\n",
       "    .dataframe tbody tr th:only-of-type {\n",
       "        vertical-align: middle;\n",
       "    }\n",
       "\n",
       "    .dataframe tbody tr th {\n",
       "        vertical-align: top;\n",
       "    }\n",
       "\n",
       "    .dataframe thead th {\n",
       "        text-align: right;\n",
       "    }\n",
       "</style>\n",
       "<table border=\"1\" class=\"dataframe\">\n",
       "  <thead>\n",
       "    <tr style=\"text-align: right;\">\n",
       "      <th></th>\n",
       "      <th>computation_rate</th>\n",
       "      <th>infection_detection_rate</th>\n",
       "      <th>infection_recall</th>\n",
       "      <th>infection_precision</th>\n",
       "      <th>infection_f1</th>\n",
       "      <th>runtime</th>\n",
       "      <th>mean_edge_weight</th>\n",
       "      <th>mean_edge_weight_diff</th>\n",
       "      <th>max_edge_weight</th>\n",
       "      <th>subgraph_count</th>\n",
       "      <th>adjusted_rand_index</th>\n",
       "      <th>lineage_purity</th>\n",
       "      <th>lineage_purity_diff</th>\n",
       "    </tr>\n",
       "  </thead>\n",
       "  <tbody>\n",
       "    <tr>\n",
       "      <th>0</th>\n",
       "      <td>0.050565</td>\n",
       "      <td>0.477107</td>\n",
       "      <td>1.0</td>\n",
       "      <td>1.0</td>\n",
       "      <td>0.477107</td>\n",
       "      <td>2.28</td>\n",
       "      <td>2.193995</td>\n",
       "      <td>0.186149</td>\n",
       "      <td>12.0</td>\n",
       "      <td>1</td>\n",
       "      <td>0.181549</td>\n",
       "      <td>0.9104</td>\n",
       "      <td>0.0440</td>\n",
       "    </tr>\n",
       "    <tr>\n",
       "      <th>1</th>\n",
       "      <td>0.098298</td>\n",
       "      <td>0.654704</td>\n",
       "      <td>1.0</td>\n",
       "      <td>1.0</td>\n",
       "      <td>0.654704</td>\n",
       "      <td>2.37</td>\n",
       "      <td>2.160048</td>\n",
       "      <td>0.152202</td>\n",
       "      <td>12.0</td>\n",
       "      <td>1</td>\n",
       "      <td>0.177972</td>\n",
       "      <td>0.8896</td>\n",
       "      <td>0.0232</td>\n",
       "    </tr>\n",
       "    <tr>\n",
       "      <th>2</th>\n",
       "      <td>0.144801</td>\n",
       "      <td>0.751713</td>\n",
       "      <td>1.0</td>\n",
       "      <td>1.0</td>\n",
       "      <td>0.751713</td>\n",
       "      <td>2.35</td>\n",
       "      <td>2.138271</td>\n",
       "      <td>0.130424</td>\n",
       "      <td>12.0</td>\n",
       "      <td>1</td>\n",
       "      <td>0.198984</td>\n",
       "      <td>0.8968</td>\n",
       "      <td>0.0304</td>\n",
       "    </tr>\n",
       "    <tr>\n",
       "      <th>3</th>\n",
       "      <td>0.190072</td>\n",
       "      <td>0.802393</td>\n",
       "      <td>1.0</td>\n",
       "      <td>1.0</td>\n",
       "      <td>0.802393</td>\n",
       "      <td>2.40</td>\n",
       "      <td>2.124019</td>\n",
       "      <td>0.116173</td>\n",
       "      <td>11.0</td>\n",
       "      <td>1</td>\n",
       "      <td>0.218733</td>\n",
       "      <td>0.9056</td>\n",
       "      <td>0.0392</td>\n",
       "    </tr>\n",
       "  </tbody>\n",
       "</table>\n",
       "</div>"
      ],
      "text/plain": [
       "   computation_rate  infection_detection_rate  infection_recall  \\\n",
       "0          0.050565                  0.477107               1.0   \n",
       "1          0.098298                  0.654704               1.0   \n",
       "2          0.144801                  0.751713               1.0   \n",
       "3          0.190072                  0.802393               1.0   \n",
       "\n",
       "   infection_precision  infection_f1  runtime  mean_edge_weight  \\\n",
       "0                  1.0      0.477107     2.28          2.193995   \n",
       "1                  1.0      0.654704     2.37          2.160048   \n",
       "2                  1.0      0.751713     2.35          2.138271   \n",
       "3                  1.0      0.802393     2.40          2.124019   \n",
       "\n",
       "   mean_edge_weight_diff  max_edge_weight  subgraph_count  \\\n",
       "0               0.186149             12.0               1   \n",
       "1               0.152202             12.0               1   \n",
       "2               0.130424             12.0               1   \n",
       "3               0.116173             11.0               1   \n",
       "\n",
       "   adjusted_rand_index  lineage_purity  lineage_purity_diff  \n",
       "0             0.181549          0.9104               0.0440  \n",
       "1             0.177972          0.8896               0.0232  \n",
       "2             0.198984          0.8968               0.0304  \n",
       "3             0.218733          0.9056               0.0392  "
      ]
     },
     "execution_count": 17,
     "metadata": {},
     "output_type": "execute_result"
    }
   ],
   "source": [
    "pd.DataFrame(breadth_search_N_frequency_filter)"
   ]
  },
  {
   "cell_type": "markdown",
   "id": "44439e0e-6a3d-40f4-9b99-c7f28105d2ff",
   "metadata": {},
   "source": [
    "### Depth search with N and SNV frequency filter"
   ]
  },
  {
   "cell_type": "code",
   "execution_count": 18,
   "id": "313f3f19-82a5-4378-a621-687117e95cfb",
   "metadata": {},
   "outputs": [
    {
     "name": "stdout",
     "output_type": "stream",
     "text": [
      "execution time xor distance calculation: 0.94s\n",
      "execution time depth search: 0.54s\n",
      "execution time 39031: 1.83s\n",
      "mst generation time: 0.05s\n",
      "execution time xor distance calculation: 1.02s\n",
      "execution time depth search: 0.44s\n",
      "execution time 78062: 1.54s\n",
      "mst generation time: 0.19s\n",
      "execution time xor distance calculation: 0.96s\n",
      "execution time depth search: 0.45s\n",
      "execution time 117093: 1.48s\n",
      "mst generation time: 0.26s\n",
      "execution time xor distance calculation: 0.99s\n",
      "execution time depth search: 0.45s\n",
      "execution time 156125: 1.52s\n",
      "mst generation time: 0.43s\n"
     ]
    }
   ],
   "source": [
    "depth_search_N_and_SNV_frequency_filter = []\n",
    "for computation_rate in [0.05, 0.1, 0.15, 0.2]:\n",
    "    limit = int(computation_rate*distances_count)\n",
    "    candidates, runtime = bitwise_xor_candidates(encodings_N_and_SNV_frequency_filter, limit, \"depth\")\n",
    "    depth_search_N_and_SNV_frequency_filter.append(get_candidate_evaluation_and_export_mst(\"depth_N_and_SNV\", candidates, graph_path, distance_matrix, gentrain_community_labels, gentrain_mst, list(sequences_df[\"Nextclade_pango\"]), sequences_df, runtime))"
   ]
  },
  {
   "cell_type": "code",
   "execution_count": 19,
   "id": "581d199a-3264-49f2-9bde-485494cb5576",
   "metadata": {},
   "outputs": [
    {
     "data": {
      "text/html": [
       "<div>\n",
       "<style scoped>\n",
       "    .dataframe tbody tr th:only-of-type {\n",
       "        vertical-align: middle;\n",
       "    }\n",
       "\n",
       "    .dataframe tbody tr th {\n",
       "        vertical-align: top;\n",
       "    }\n",
       "\n",
       "    .dataframe thead th {\n",
       "        text-align: right;\n",
       "    }\n",
       "</style>\n",
       "<table border=\"1\" class=\"dataframe\">\n",
       "  <thead>\n",
       "    <tr style=\"text-align: right;\">\n",
       "      <th></th>\n",
       "      <th>computation_rate</th>\n",
       "      <th>infection_detection_rate</th>\n",
       "      <th>infection_recall</th>\n",
       "      <th>infection_precision</th>\n",
       "      <th>infection_f1</th>\n",
       "      <th>runtime</th>\n",
       "      <th>mean_edge_weight</th>\n",
       "      <th>mean_edge_weight_diff</th>\n",
       "      <th>max_edge_weight</th>\n",
       "      <th>subgraph_count</th>\n",
       "      <th>adjusted_rand_index</th>\n",
       "      <th>lineage_purity</th>\n",
       "      <th>lineage_purity_diff</th>\n",
       "    </tr>\n",
       "  </thead>\n",
       "  <tbody>\n",
       "    <tr>\n",
       "      <th>0</th>\n",
       "      <td>0.050000</td>\n",
       "      <td>0.786949</td>\n",
       "      <td>1.0</td>\n",
       "      <td>1.0</td>\n",
       "      <td>0.786949</td>\n",
       "      <td>1.83</td>\n",
       "      <td>1.898376</td>\n",
       "      <td>-0.109471</td>\n",
       "      <td>24.0</td>\n",
       "      <td>265</td>\n",
       "      <td>0.170468</td>\n",
       "      <td>0.966793</td>\n",
       "      <td>0.100393</td>\n",
       "    </tr>\n",
       "    <tr>\n",
       "      <th>1</th>\n",
       "      <td>0.099999</td>\n",
       "      <td>0.853725</td>\n",
       "      <td>1.0</td>\n",
       "      <td>1.0</td>\n",
       "      <td>0.853725</td>\n",
       "      <td>1.54</td>\n",
       "      <td>1.860654</td>\n",
       "      <td>-0.147192</td>\n",
       "      <td>19.0</td>\n",
       "      <td>180</td>\n",
       "      <td>0.310475</td>\n",
       "      <td>0.939716</td>\n",
       "      <td>0.073316</td>\n",
       "    </tr>\n",
       "    <tr>\n",
       "      <th>2</th>\n",
       "      <td>0.149999</td>\n",
       "      <td>0.903643</td>\n",
       "      <td>1.0</td>\n",
       "      <td>1.0</td>\n",
       "      <td>0.903643</td>\n",
       "      <td>1.48</td>\n",
       "      <td>1.915739</td>\n",
       "      <td>-0.092107</td>\n",
       "      <td>15.0</td>\n",
       "      <td>100</td>\n",
       "      <td>0.365239</td>\n",
       "      <td>0.930450</td>\n",
       "      <td>0.064050</td>\n",
       "    </tr>\n",
       "    <tr>\n",
       "      <th>3</th>\n",
       "      <td>0.200000</td>\n",
       "      <td>0.934965</td>\n",
       "      <td>1.0</td>\n",
       "      <td>1.0</td>\n",
       "      <td>0.934965</td>\n",
       "      <td>1.52</td>\n",
       "      <td>1.905155</td>\n",
       "      <td>-0.102692</td>\n",
       "      <td>15.0</td>\n",
       "      <td>86</td>\n",
       "      <td>0.444411</td>\n",
       "      <td>0.924433</td>\n",
       "      <td>0.058033</td>\n",
       "    </tr>\n",
       "  </tbody>\n",
       "</table>\n",
       "</div>"
      ],
      "text/plain": [
       "   computation_rate  infection_detection_rate  infection_recall  \\\n",
       "0          0.050000                  0.786949               1.0   \n",
       "1          0.099999                  0.853725               1.0   \n",
       "2          0.149999                  0.903643               1.0   \n",
       "3          0.200000                  0.934965               1.0   \n",
       "\n",
       "   infection_precision  infection_f1  runtime  mean_edge_weight  \\\n",
       "0                  1.0      0.786949     1.83          1.898376   \n",
       "1                  1.0      0.853725     1.54          1.860654   \n",
       "2                  1.0      0.903643     1.48          1.915739   \n",
       "3                  1.0      0.934965     1.52          1.905155   \n",
       "\n",
       "   mean_edge_weight_diff  max_edge_weight  subgraph_count  \\\n",
       "0              -0.109471             24.0             265   \n",
       "1              -0.147192             19.0             180   \n",
       "2              -0.092107             15.0             100   \n",
       "3              -0.102692             15.0              86   \n",
       "\n",
       "   adjusted_rand_index  lineage_purity  lineage_purity_diff  \n",
       "0             0.170468        0.966793             0.100393  \n",
       "1             0.310475        0.939716             0.073316  \n",
       "2             0.365239        0.930450             0.064050  \n",
       "3             0.444411        0.924433             0.058033  "
      ]
     },
     "execution_count": 19,
     "metadata": {},
     "output_type": "execute_result"
    }
   ],
   "source": [
    "pd.DataFrame(depth_search_N_and_SNV_frequency_filter)"
   ]
  },
  {
   "cell_type": "markdown",
   "id": "14227b79-424f-49c7-b4e3-a007f0f5a728",
   "metadata": {},
   "source": [
    "### Breadth search with N and SNV frequency filter"
   ]
  },
  {
   "cell_type": "code",
   "execution_count": 20,
   "id": "7447eed2-3d49-4d22-bb2f-ca69d594aab8",
   "metadata": {},
   "outputs": [
    {
     "name": "stdout",
     "output_type": "stream",
     "text": [
      "matrix generation time: 0.28s\n",
      "execution time distance collection: 0.64s\n",
      "execution time breadth search: 0.59s\n",
      "execution time 39031: 1.64s\n",
      "mst generation time: 0.14s\n",
      "matrix generation time: 0.31s\n",
      "execution time distance collection: 0.67s\n",
      "execution time breadth search: 0.6s\n",
      "execution time 78062: 1.68s\n",
      "mst generation time: 0.19s\n",
      "matrix generation time: 0.33s\n",
      "execution time distance collection: 0.66s\n",
      "execution time breadth search: 0.6s\n",
      "execution time 117093: 1.69s\n",
      "mst generation time: 0.26s\n",
      "matrix generation time: 0.28s\n",
      "execution time distance collection: 0.66s\n",
      "execution time breadth search: 0.61s\n",
      "execution time 156125: 1.64s\n",
      "mst generation time: 0.35s\n"
     ]
    }
   ],
   "source": [
    "breadth_search_N_and_SNV_frequency_filter = []\n",
    "for computation_rate in [0.05, 0.1, 0.15, 0.2]:\n",
    "    limit = int(computation_rate*distances_count)\n",
    "    candidates, runtime = bitwise_xor_candidates(encodings_N_and_SNV_frequency_filter, limit, \"breadth\")\n",
    "    breadth_search_N_and_SNV_frequency_filter.append(get_candidate_evaluation_and_export_mst(\"breadth_N_and_SNV\", candidates, graph_path, distance_matrix, gentrain_community_labels, gentrain_mst, list(sequences_df[\"Nextclade_pango\"]), sequences_df, runtime))"
   ]
  },
  {
   "cell_type": "code",
   "execution_count": 21,
   "id": "d3cb0ea4-d428-4ee4-bb7f-7f2dfbafc840",
   "metadata": {},
   "outputs": [
    {
     "data": {
      "text/html": [
       "<div>\n",
       "<style scoped>\n",
       "    .dataframe tbody tr th:only-of-type {\n",
       "        vertical-align: middle;\n",
       "    }\n",
       "\n",
       "    .dataframe tbody tr th {\n",
       "        vertical-align: top;\n",
       "    }\n",
       "\n",
       "    .dataframe thead th {\n",
       "        text-align: right;\n",
       "    }\n",
       "</style>\n",
       "<table border=\"1\" class=\"dataframe\">\n",
       "  <thead>\n",
       "    <tr style=\"text-align: right;\">\n",
       "      <th></th>\n",
       "      <th>computation_rate</th>\n",
       "      <th>infection_detection_rate</th>\n",
       "      <th>infection_recall</th>\n",
       "      <th>infection_precision</th>\n",
       "      <th>infection_f1</th>\n",
       "      <th>runtime</th>\n",
       "      <th>mean_edge_weight</th>\n",
       "      <th>mean_edge_weight_diff</th>\n",
       "      <th>max_edge_weight</th>\n",
       "      <th>subgraph_count</th>\n",
       "      <th>adjusted_rand_index</th>\n",
       "      <th>lineage_purity</th>\n",
       "      <th>lineage_purity_diff</th>\n",
       "    </tr>\n",
       "  </thead>\n",
       "  <tbody>\n",
       "    <tr>\n",
       "      <th>0</th>\n",
       "      <td>0.050565</td>\n",
       "      <td>0.364220</td>\n",
       "      <td>1.0</td>\n",
       "      <td>1.0</td>\n",
       "      <td>0.364220</td>\n",
       "      <td>1.64</td>\n",
       "      <td>2.213931</td>\n",
       "      <td>0.206085</td>\n",
       "      <td>20.0</td>\n",
       "      <td>1</td>\n",
       "      <td>0.175434</td>\n",
       "      <td>0.8968</td>\n",
       "      <td>0.0304</td>\n",
       "    </tr>\n",
       "    <tr>\n",
       "      <th>1</th>\n",
       "      <td>0.098298</td>\n",
       "      <td>0.550082</td>\n",
       "      <td>1.0</td>\n",
       "      <td>1.0</td>\n",
       "      <td>0.550082</td>\n",
       "      <td>1.68</td>\n",
       "      <td>2.159728</td>\n",
       "      <td>0.151882</td>\n",
       "      <td>19.0</td>\n",
       "      <td>1</td>\n",
       "      <td>0.216792</td>\n",
       "      <td>0.8984</td>\n",
       "      <td>0.0320</td>\n",
       "    </tr>\n",
       "    <tr>\n",
       "      <th>2</th>\n",
       "      <td>0.144801</td>\n",
       "      <td>0.665470</td>\n",
       "      <td>1.0</td>\n",
       "      <td>1.0</td>\n",
       "      <td>0.665470</td>\n",
       "      <td>1.69</td>\n",
       "      <td>2.136029</td>\n",
       "      <td>0.128183</td>\n",
       "      <td>17.0</td>\n",
       "      <td>1</td>\n",
       "      <td>0.265712</td>\n",
       "      <td>0.9064</td>\n",
       "      <td>0.0400</td>\n",
       "    </tr>\n",
       "    <tr>\n",
       "      <th>3</th>\n",
       "      <td>0.190072</td>\n",
       "      <td>0.747254</td>\n",
       "      <td>1.0</td>\n",
       "      <td>1.0</td>\n",
       "      <td>0.747254</td>\n",
       "      <td>1.64</td>\n",
       "      <td>2.113211</td>\n",
       "      <td>0.105364</td>\n",
       "      <td>15.0</td>\n",
       "      <td>1</td>\n",
       "      <td>0.257087</td>\n",
       "      <td>0.8944</td>\n",
       "      <td>0.0280</td>\n",
       "    </tr>\n",
       "  </tbody>\n",
       "</table>\n",
       "</div>"
      ],
      "text/plain": [
       "   computation_rate  infection_detection_rate  infection_recall  \\\n",
       "0          0.050565                  0.364220               1.0   \n",
       "1          0.098298                  0.550082               1.0   \n",
       "2          0.144801                  0.665470               1.0   \n",
       "3          0.190072                  0.747254               1.0   \n",
       "\n",
       "   infection_precision  infection_f1  runtime  mean_edge_weight  \\\n",
       "0                  1.0      0.364220     1.64          2.213931   \n",
       "1                  1.0      0.550082     1.68          2.159728   \n",
       "2                  1.0      0.665470     1.69          2.136029   \n",
       "3                  1.0      0.747254     1.64          2.113211   \n",
       "\n",
       "   mean_edge_weight_diff  max_edge_weight  subgraph_count  \\\n",
       "0               0.206085             20.0               1   \n",
       "1               0.151882             19.0               1   \n",
       "2               0.128183             17.0               1   \n",
       "3               0.105364             15.0               1   \n",
       "\n",
       "   adjusted_rand_index  lineage_purity  lineage_purity_diff  \n",
       "0             0.175434          0.8968               0.0304  \n",
       "1             0.216792          0.8984               0.0320  \n",
       "2             0.265712          0.9064               0.0400  \n",
       "3             0.257087          0.8944               0.0280  "
      ]
     },
     "execution_count": 21,
     "metadata": {},
     "output_type": "execute_result"
    }
   ],
   "source": [
    "pd.DataFrame(breadth_search_N_and_SNV_frequency_filter)"
   ]
  },
  {
   "cell_type": "code",
   "execution_count": 22,
   "id": "f4e54761-806d-47fb-8147-ed4329153159",
   "metadata": {},
   "outputs": [],
   "source": [
    "depth_search_evaluation = {\n",
    "    \"N frequency filter\": {\"values\": {evaluation[\"computation_rate\"]: evaluation for evaluation in depth_search_N_frequency_filter}, \"stroke\": \"dash\", \"color\": \"black\"},\n",
    "    \"N & SNV frequency filter\": {\"values\": {evaluation[\"computation_rate\"]: evaluation for evaluation in depth_search_N_and_SNV_frequency_filter}, \"stroke\": \"dot\", \"color\": \"black\"}\n",
    "}"
   ]
  },
  {
   "cell_type": "code",
   "execution_count": 23,
   "id": "20eb1f2e-87f0-473a-8349-9480f12cd8af",
   "metadata": {},
   "outputs": [],
   "source": [
    "breadth_search_evaluation = {\n",
    "    \"N frequency filter\": {\"values\": {evaluation[\"computation_rate\"]: evaluation for evaluation in breadth_search_N_frequency_filter}, \"stroke\": \"dash\", \"color\": \"black\"},\n",
    "    \"N & SNV frequency filter\": {\"values\": {evaluation[\"computation_rate\"]: evaluation for evaluation in breadth_search_N_and_SNV_frequency_filter}, \"stroke\": \"dot\", \"color\": \"black\"}\n",
    "}"
   ]
  },
  {
   "cell_type": "markdown",
   "id": "356535d0-0c8a-4b32-95e3-1e78a9f062fb",
   "metadata": {},
   "source": [
    "### Infection recall for different filters and computation rates using depth search"
   ]
  },
  {
   "cell_type": "code",
   "execution_count": 24,
   "id": "99cd3d30-cb22-4a18-9f38-c7efb78784ad",
   "metadata": {},
   "outputs": [
    {
     "data": {
      "application/vnd.plotly.v1+json": {
       "config": {
        "plotlyServerURL": "https://plot.ly"
       },
       "data": [
        {
         "line": {
          "color": "black",
          "dash": "dash",
          "width": 4
         },
         "mode": "lines",
         "name": "N frequency filter",
         "type": "scatter",
         "x": [
          0.04999967974379504,
          0.09999935948759008,
          0.1499990392313851,
          0.2
         ],
         "y": [
          0.73442088091354,
          0.7769439912996193,
          0.8075040783034257,
          0.8191408374116368
         ]
        },
        {
         "marker": {
          "color": "black",
          "size": 8,
          "symbol": "circle"
         },
         "mode": "markers",
         "showlegend": false,
         "text": "",
         "type": "scatter",
         "x": [
          0.04999967974379504
         ],
         "y": [
          0.73442088091354
         ]
        },
        {
         "marker": {
          "color": "black",
          "size": 8,
          "symbol": "circle"
         },
         "mode": "markers",
         "showlegend": false,
         "text": "",
         "type": "scatter",
         "x": [
          0.09999935948759008
         ],
         "y": [
          0.7769439912996193
         ]
        },
        {
         "marker": {
          "color": "black",
          "size": 8,
          "symbol": "circle"
         },
         "mode": "markers",
         "showlegend": false,
         "text": "",
         "type": "scatter",
         "x": [
          0.1499990392313851
         ],
         "y": [
          0.8075040783034257
         ]
        },
        {
         "marker": {
          "color": "black",
          "size": 8,
          "symbol": "circle"
         },
         "mode": "markers",
         "showlegend": false,
         "text": "",
         "type": "scatter",
         "x": [
          0.2
         ],
         "y": [
          0.8191408374116368
         ]
        },
        {
         "line": {
          "color": "black",
          "dash": "dot",
          "width": 4
         },
         "mode": "lines",
         "name": "N & SNV frequency filter",
         "type": "scatter",
         "x": [
          0.04999967974379504,
          0.09999935948759008,
          0.1499990392313851,
          0.2
         ],
         "y": [
          0.7869494290375204,
          0.8537248504622077,
          0.9036432843936922,
          0.9349646547036433
         ]
        },
        {
         "marker": {
          "color": "black",
          "size": 8,
          "symbol": "circle"
         },
         "mode": "markers",
         "showlegend": false,
         "text": "",
         "type": "scatter",
         "x": [
          0.04999967974379504
         ],
         "y": [
          0.7869494290375204
         ]
        },
        {
         "marker": {
          "color": "black",
          "size": 8,
          "symbol": "circle"
         },
         "mode": "markers",
         "showlegend": false,
         "text": "",
         "type": "scatter",
         "x": [
          0.09999935948759008
         ],
         "y": [
          0.8537248504622077
         ]
        },
        {
         "marker": {
          "color": "black",
          "size": 8,
          "symbol": "circle"
         },
         "mode": "markers",
         "showlegend": false,
         "text": "",
         "type": "scatter",
         "x": [
          0.1499990392313851
         ],
         "y": [
          0.9036432843936922
         ]
        },
        {
         "marker": {
          "color": "black",
          "size": 8,
          "symbol": "circle"
         },
         "mode": "markers",
         "showlegend": false,
         "text": "",
         "type": "scatter",
         "x": [
          0.2
         ],
         "y": [
          0.9349646547036433
         ]
        }
       ],
       "layout": {
        "font": {
         "size": 25
        },
        "height": 700,
        "legend": {
         "font": {
          "size": 30
         },
         "itemwidth": 60,
         "x": 0.85,
         "xanchor": "left",
         "y": 0,
         "yanchor": "bottom"
        },
        "margin": {
         "b": 80,
         "l": 110,
         "r": 0,
         "t": 0
        },
        "template": {
         "data": {
          "pie": [
           {
            "automargin": true,
            "type": "pie"
           }
          ],
          "scatter": [
           {
            "line": {
             "width": 3
            },
            "marker": {
             "size": 9
            },
            "type": "scatter"
           }
          ],
          "scatter3d": [
           {
            "line": {
             "width": 3
            },
            "marker": {
             "size": 9
            },
            "type": "scatter3d"
           }
          ],
          "scattergeo": [
           {
            "line": {
             "width": 3
            },
            "marker": {
             "size": 9
            },
            "type": "scattergeo"
           }
          ],
          "scattergl": [
           {
            "line": {
             "width": 3
            },
            "marker": {
             "size": 9
            },
            "type": "scattergl"
           }
          ],
          "scatterpolar": [
           {
            "line": {
             "width": 3
            },
            "marker": {
             "size": 9
            },
            "type": "scatterpolar"
           }
          ],
          "scatterpolargl": [
           {
            "line": {
             "width": 3
            },
            "marker": {
             "size": 9
            },
            "type": "scatterpolargl"
           }
          ],
          "scatterternary": [
           {
            "line": {
             "width": 3
            },
            "marker": {
             "size": 9
            },
            "type": "scatterternary"
           }
          ],
          "table": [
           {
            "cells": {
             "height": 30
            },
            "header": {
             "height": 36
            },
            "type": "table"
           }
          ]
         },
         "layout": {
          "font": {
           "size": 18
          },
          "xaxis": {
           "title": {
            "standoff": 15
           }
          },
          "yaxis": {
           "title": {
            "standoff": 15
           }
          }
         }
        },
        "width": 1200,
        "xaxis": {
         "autorange": true,
         "range": [
          0.04042992637433389,
          0.20956975336946115
         ],
         "tickmode": "array",
         "tickvals": [
          0.05,
          0.1,
          0.15,
          0.2
         ],
         "title": {
          "text": "Computation rate"
         },
         "type": "linear"
        },
        "yaxis": {
         "autorange": true,
         "range": [
          0.7212464724163798,
          0.9481390632008034
         ],
         "title": {
          "text": "Infection recall"
         },
         "type": "linear"
        }
       }
      }
     },
     "metadata": {},
     "output_type": "display_data"
    }
   ],
   "source": [
    "sub_fig = get_computation_rate_plot(\"infection_detection_rate\", depth_search_evaluation, \"Infection recall\", dict(\n",
    "            x=0.85,\n",
    "            y=0,\n",
    "            itemwidth=60,\n",
    "            xanchor=\"left\",\n",
    "            yanchor=\"bottom\",\n",
    "            font=dict(size=30),\n",
    "        ))\n",
    "\n",
    "sub_fig.show()"
   ]
  },
  {
   "cell_type": "markdown",
   "id": "60ae3e60-01c1-4d5c-a9ab-94a97468191b",
   "metadata": {},
   "source": [
    "### Community ARI for different filters and computation rates using depth search"
   ]
  },
  {
   "cell_type": "code",
   "execution_count": 25,
   "id": "908ca4d5-07c7-4b82-9db4-c723d72b4a56",
   "metadata": {},
   "outputs": [
    {
     "data": {
      "application/vnd.plotly.v1+json": {
       "config": {
        "plotlyServerURL": "https://plot.ly"
       },
       "data": [
        {
         "line": {
          "color": "black",
          "dash": "dash",
          "width": 4
         },
         "mode": "lines",
         "name": "N frequency filter",
         "type": "scatter",
         "x": [
          0.04999967974379504,
          0.09999935948759008,
          0.1499990392313851,
          0.2
         ],
         "y": [
          0.2481359835308043,
          0.3338969965396802,
          0.354639994923958,
          0.37533023152612277
         ]
        },
        {
         "marker": {
          "color": "black",
          "size": 8,
          "symbol": "circle"
         },
         "mode": "markers",
         "showlegend": false,
         "text": "",
         "type": "scatter",
         "x": [
          0.04999967974379504
         ],
         "y": [
          0.2481359835308043
         ]
        },
        {
         "marker": {
          "color": "black",
          "size": 8,
          "symbol": "circle"
         },
         "mode": "markers",
         "showlegend": false,
         "text": "",
         "type": "scatter",
         "x": [
          0.09999935948759008
         ],
         "y": [
          0.3338969965396802
         ]
        },
        {
         "marker": {
          "color": "black",
          "size": 8,
          "symbol": "circle"
         },
         "mode": "markers",
         "showlegend": false,
         "text": "",
         "type": "scatter",
         "x": [
          0.1499990392313851
         ],
         "y": [
          0.354639994923958
         ]
        },
        {
         "marker": {
          "color": "black",
          "size": 8,
          "symbol": "circle"
         },
         "mode": "markers",
         "showlegend": false,
         "text": "",
         "type": "scatter",
         "x": [
          0.2
         ],
         "y": [
          0.37533023152612277
         ]
        },
        {
         "line": {
          "color": "black",
          "dash": "dot",
          "width": 4
         },
         "mode": "lines",
         "name": "N & SNV frequency filter",
         "type": "scatter",
         "x": [
          0.04999967974379504,
          0.09999935948759008,
          0.1499990392313851,
          0.2
         ],
         "y": [
          0.17046825122618053,
          0.31047543887129797,
          0.36523939365974983,
          0.4444112395097614
         ]
        },
        {
         "marker": {
          "color": "black",
          "size": 8,
          "symbol": "circle"
         },
         "mode": "markers",
         "showlegend": false,
         "text": "",
         "type": "scatter",
         "x": [
          0.04999967974379504
         ],
         "y": [
          0.17046825122618053
         ]
        },
        {
         "marker": {
          "color": "black",
          "size": 8,
          "symbol": "circle"
         },
         "mode": "markers",
         "showlegend": false,
         "text": "",
         "type": "scatter",
         "x": [
          0.09999935948759008
         ],
         "y": [
          0.31047543887129797
         ]
        },
        {
         "marker": {
          "color": "black",
          "size": 8,
          "symbol": "circle"
         },
         "mode": "markers",
         "showlegend": false,
         "text": "",
         "type": "scatter",
         "x": [
          0.1499990392313851
         ],
         "y": [
          0.36523939365974983
         ]
        },
        {
         "marker": {
          "color": "black",
          "size": 8,
          "symbol": "circle"
         },
         "mode": "markers",
         "showlegend": false,
         "text": "",
         "type": "scatter",
         "x": [
          0.2
         ],
         "y": [
          0.4444112395097614
         ]
        }
       ],
       "layout": {
        "font": {
         "size": 25
        },
        "height": 700,
        "legend": {
         "font": {
          "size": 30
         },
         "itemwidth": 60,
         "x": 0.85,
         "xanchor": "left",
         "y": 0,
         "yanchor": "bottom"
        },
        "margin": {
         "b": 80,
         "l": 110,
         "r": 0,
         "t": 0
        },
        "template": {
         "data": {
          "pie": [
           {
            "automargin": true,
            "type": "pie"
           }
          ],
          "scatter": [
           {
            "line": {
             "width": 3
            },
            "marker": {
             "size": 9
            },
            "type": "scatter"
           }
          ],
          "scatter3d": [
           {
            "line": {
             "width": 3
            },
            "marker": {
             "size": 9
            },
            "type": "scatter3d"
           }
          ],
          "scattergeo": [
           {
            "line": {
             "width": 3
            },
            "marker": {
             "size": 9
            },
            "type": "scattergeo"
           }
          ],
          "scattergl": [
           {
            "line": {
             "width": 3
            },
            "marker": {
             "size": 9
            },
            "type": "scattergl"
           }
          ],
          "scatterpolar": [
           {
            "line": {
             "width": 3
            },
            "marker": {
             "size": 9
            },
            "type": "scatterpolar"
           }
          ],
          "scatterpolargl": [
           {
            "line": {
             "width": 3
            },
            "marker": {
             "size": 9
            },
            "type": "scatterpolargl"
           }
          ],
          "scatterternary": [
           {
            "line": {
             "width": 3
            },
            "marker": {
             "size": 9
            },
            "type": "scatterternary"
           }
          ],
          "table": [
           {
            "cells": {
             "height": 30
            },
            "header": {
             "height": 36
            },
            "type": "table"
           }
          ]
         },
         "layout": {
          "font": {
           "size": 18
          },
          "xaxis": {
           "title": {
            "standoff": 15
           }
          },
          "yaxis": {
           "title": {
            "standoff": 15
           }
          }
         }
        },
        "width": 1200,
        "xaxis": {
         "autorange": true,
         "range": [
          0.04042992637433389,
          0.20956975336946115
         ],
         "tickmode": "array",
         "tickvals": [
          0.05,
          0.1,
          0.15,
          0.2
         ],
         "title": {
          "text": "Computation rate"
         },
         "type": "linear"
        },
        "yaxis": {
         "autorange": true,
         "range": [
          0.15247199652141974,
          0.4624074942145222
         ],
         "title": {
          "text": "Community ARI"
         },
         "type": "linear"
        }
       }
      }
     },
     "metadata": {},
     "output_type": "display_data"
    }
   ],
   "source": [
    "sub_fig = get_computation_rate_plot(\"adjusted_rand_index\", depth_search_evaluation, \"Community ARI\", dict(\n",
    "            x=0.85,\n",
    "            y=0,\n",
    "            itemwidth=60,\n",
    "            xanchor=\"left\",\n",
    "            yanchor=\"bottom\",\n",
    "            font=dict(size=30),\n",
    "        ))\n",
    "\n",
    "sub_fig.show()"
   ]
  },
  {
   "cell_type": "markdown",
   "id": "2a0efc3b-1a9d-484c-9baf-c4b3a60944b6",
   "metadata": {},
   "source": [
    "### Infection recall for different filters and computation rates using breadth search"
   ]
  },
  {
   "cell_type": "code",
   "execution_count": 26,
   "id": "f729759c-183c-4d20-ba84-3aefe341f254",
   "metadata": {},
   "outputs": [
    {
     "data": {
      "application/vnd.plotly.v1+json": {
       "config": {
        "plotlyServerURL": "https://plot.ly"
       },
       "data": [
        {
         "line": {
          "color": "black",
          "dash": "dash",
          "width": 4
         },
         "mode": "lines",
         "name": "N frequency filter",
         "type": "scatter",
         "x": [
          0.05056461168935148,
          0.09829815852682146,
          0.14480064051240993,
          0.1900720576461169
         ],
         "y": [
          0.47710712343665035,
          0.6547036432843937,
          0.7517128874388255,
          0.8023926046764546
         ]
        },
        {
         "marker": {
          "color": "black",
          "size": 8,
          "symbol": "circle"
         },
         "mode": "markers",
         "showlegend": false,
         "text": "",
         "type": "scatter",
         "x": [
          0.05056461168935148
         ],
         "y": [
          0.47710712343665035
         ]
        },
        {
         "marker": {
          "color": "black",
          "size": 8,
          "symbol": "circle"
         },
         "mode": "markers",
         "showlegend": false,
         "text": "",
         "type": "scatter",
         "x": [
          0.09829815852682146
         ],
         "y": [
          0.6547036432843937
         ]
        },
        {
         "marker": {
          "color": "black",
          "size": 8,
          "symbol": "circle"
         },
         "mode": "markers",
         "showlegend": false,
         "text": "",
         "type": "scatter",
         "x": [
          0.14480064051240993
         ],
         "y": [
          0.7517128874388255
         ]
        },
        {
         "marker": {
          "color": "black",
          "size": 8,
          "symbol": "circle"
         },
         "mode": "markers",
         "showlegend": false,
         "text": "",
         "type": "scatter",
         "x": [
          0.1900720576461169
         ],
         "y": [
          0.8023926046764546
         ]
        },
        {
         "line": {
          "color": "black",
          "dash": "dot",
          "width": 4
         },
         "mode": "lines",
         "name": "N & SNV frequency filter",
         "type": "scatter",
         "x": [
          0.05056461168935148,
          0.09829815852682146,
          0.14480064051240993,
          0.1900720576461169
         ],
         "y": [
          0.36421968461120174,
          0.5500815660685155,
          0.6654703643284394,
          0.7472539423599782
         ]
        },
        {
         "marker": {
          "color": "black",
          "size": 8,
          "symbol": "circle"
         },
         "mode": "markers",
         "showlegend": false,
         "text": "",
         "type": "scatter",
         "x": [
          0.05056461168935148
         ],
         "y": [
          0.36421968461120174
         ]
        },
        {
         "marker": {
          "color": "black",
          "size": 8,
          "symbol": "circle"
         },
         "mode": "markers",
         "showlegend": false,
         "text": "",
         "type": "scatter",
         "x": [
          0.09829815852682146
         ],
         "y": [
          0.5500815660685155
         ]
        },
        {
         "marker": {
          "color": "black",
          "size": 8,
          "symbol": "circle"
         },
         "mode": "markers",
         "showlegend": false,
         "text": "",
         "type": "scatter",
         "x": [
          0.14480064051240993
         ],
         "y": [
          0.6654703643284394
         ]
        },
        {
         "marker": {
          "color": "black",
          "size": 8,
          "symbol": "circle"
         },
         "mode": "markers",
         "showlegend": false,
         "text": "",
         "type": "scatter",
         "x": [
          0.1900720576461169
         ],
         "y": [
          0.7472539423599782
         ]
        }
       ],
       "layout": {
        "font": {
         "size": 25
        },
        "height": 700,
        "legend": {
         "font": {
          "size": 35
         },
         "x": 0.65,
         "xanchor": "left",
         "y": 0.05,
         "yanchor": "bottom"
        },
        "margin": {
         "b": 80,
         "l": 110,
         "r": 0,
         "t": 0
        },
        "template": {
         "data": {
          "pie": [
           {
            "automargin": true,
            "type": "pie"
           }
          ],
          "scatter": [
           {
            "line": {
             "width": 3
            },
            "marker": {
             "size": 9
            },
            "type": "scatter"
           }
          ],
          "scatter3d": [
           {
            "line": {
             "width": 3
            },
            "marker": {
             "size": 9
            },
            "type": "scatter3d"
           }
          ],
          "scattergeo": [
           {
            "line": {
             "width": 3
            },
            "marker": {
             "size": 9
            },
            "type": "scattergeo"
           }
          ],
          "scattergl": [
           {
            "line": {
             "width": 3
            },
            "marker": {
             "size": 9
            },
            "type": "scattergl"
           }
          ],
          "scatterpolar": [
           {
            "line": {
             "width": 3
            },
            "marker": {
             "size": 9
            },
            "type": "scatterpolar"
           }
          ],
          "scatterpolargl": [
           {
            "line": {
             "width": 3
            },
            "marker": {
             "size": 9
            },
            "type": "scatterpolargl"
           }
          ],
          "scatterternary": [
           {
            "line": {
             "width": 3
            },
            "marker": {
             "size": 9
            },
            "type": "scatterternary"
           }
          ],
          "table": [
           {
            "cells": {
             "height": 30
            },
            "header": {
             "height": 36
            },
            "type": "table"
           }
          ]
         },
         "layout": {
          "font": {
           "size": 18
          },
          "xaxis": {
           "title": {
            "standoff": 15
           }
          },
          "yaxis": {
           "title": {
            "standoff": 15
           }
          }
         }
        },
        "width": 1200,
        "xaxis": {
         "autorange": true,
         "range": [
          0.04189207861232472,
          0.19874459072314365
         ],
         "tickmode": "array",
         "tickvals": [
          0.05,
          0.1,
          0.15,
          0.2
         ],
         "title": {
          "text": "Computation rate"
         },
         "type": "linear"
        },
        "yaxis": {
         "autorange": true,
         "range": [
          0.33543460227114863,
          0.8311776870165076
         ],
         "title": {
          "text": "Infection recall"
         },
         "type": "linear"
        }
       }
      }
     },
     "metadata": {},
     "output_type": "display_data"
    }
   ],
   "source": [
    "sub_fig = get_computation_rate_plot(\"infection_detection_rate\", breadth_search_evaluation, \"Infection recall\", legend=dict(\n",
    "            x=0.65,\n",
    "            y=0.05,\n",
    "            xanchor=\"left\",\n",
    "            yanchor=\"bottom\",\n",
    "            font=dict(size=35),\n",
    "        ))\n",
    "sub_fig.show()"
   ]
  },
  {
   "cell_type": "markdown",
   "id": "89420831-1def-4eca-824e-0da5a81e94b6",
   "metadata": {},
   "source": [
    "### Community ARI for different filters and computation rates using breadth search"
   ]
  },
  {
   "cell_type": "code",
   "execution_count": 27,
   "id": "203133c2-1c05-47b5-9f5d-5898432945c2",
   "metadata": {},
   "outputs": [
    {
     "data": {
      "application/vnd.plotly.v1+json": {
       "config": {
        "plotlyServerURL": "https://plot.ly"
       },
       "data": [
        {
         "line": {
          "color": "black",
          "dash": "dash",
          "width": 4
         },
         "mode": "lines",
         "name": "N frequency filter",
         "type": "scatter",
         "x": [
          0.05056461168935148,
          0.09829815852682146,
          0.14480064051240993,
          0.1900720576461169
         ],
         "y": [
          0.1815494235391612,
          0.17797169535247392,
          0.19898357438319605,
          0.2187332620473151
         ]
        },
        {
         "marker": {
          "color": "black",
          "size": 8,
          "symbol": "circle"
         },
         "mode": "markers",
         "showlegend": false,
         "text": "",
         "type": "scatter",
         "x": [
          0.05056461168935148
         ],
         "y": [
          0.1815494235391612
         ]
        },
        {
         "marker": {
          "color": "black",
          "size": 8,
          "symbol": "circle"
         },
         "mode": "markers",
         "showlegend": false,
         "text": "",
         "type": "scatter",
         "x": [
          0.09829815852682146
         ],
         "y": [
          0.17797169535247392
         ]
        },
        {
         "marker": {
          "color": "black",
          "size": 8,
          "symbol": "circle"
         },
         "mode": "markers",
         "showlegend": false,
         "text": "",
         "type": "scatter",
         "x": [
          0.14480064051240993
         ],
         "y": [
          0.19898357438319605
         ]
        },
        {
         "marker": {
          "color": "black",
          "size": 8,
          "symbol": "circle"
         },
         "mode": "markers",
         "showlegend": false,
         "text": "",
         "type": "scatter",
         "x": [
          0.1900720576461169
         ],
         "y": [
          0.2187332620473151
         ]
        },
        {
         "line": {
          "color": "black",
          "dash": "dot",
          "width": 4
         },
         "mode": "lines",
         "name": "N & SNV frequency filter",
         "type": "scatter",
         "x": [
          0.05056461168935148,
          0.09829815852682146,
          0.14480064051240993,
          0.1900720576461169
         ],
         "y": [
          0.17543412462861613,
          0.21679230936317148,
          0.2657121106371271,
          0.2570873658576151
         ]
        },
        {
         "marker": {
          "color": "black",
          "size": 8,
          "symbol": "circle"
         },
         "mode": "markers",
         "showlegend": false,
         "text": "",
         "type": "scatter",
         "x": [
          0.05056461168935148
         ],
         "y": [
          0.17543412462861613
         ]
        },
        {
         "marker": {
          "color": "black",
          "size": 8,
          "symbol": "circle"
         },
         "mode": "markers",
         "showlegend": false,
         "text": "",
         "type": "scatter",
         "x": [
          0.09829815852682146
         ],
         "y": [
          0.21679230936317148
         ]
        },
        {
         "marker": {
          "color": "black",
          "size": 8,
          "symbol": "circle"
         },
         "mode": "markers",
         "showlegend": false,
         "text": "",
         "type": "scatter",
         "x": [
          0.14480064051240993
         ],
         "y": [
          0.2657121106371271
         ]
        },
        {
         "marker": {
          "color": "black",
          "size": 8,
          "symbol": "circle"
         },
         "mode": "markers",
         "showlegend": false,
         "text": "",
         "type": "scatter",
         "x": [
          0.1900720576461169
         ],
         "y": [
          0.2570873658576151
         ]
        }
       ],
       "layout": {
        "font": {
         "size": 25
        },
        "height": 700,
        "legend": {
         "font": {
          "size": 35
         },
         "x": 0.55,
         "xanchor": "left",
         "y": 0.02,
         "yanchor": "bottom"
        },
        "margin": {
         "b": 80,
         "l": 110,
         "r": 0,
         "t": 0
        },
        "template": {
         "data": {
          "pie": [
           {
            "automargin": true,
            "type": "pie"
           }
          ],
          "scatter": [
           {
            "line": {
             "width": 3
            },
            "marker": {
             "size": 9
            },
            "type": "scatter"
           }
          ],
          "scatter3d": [
           {
            "line": {
             "width": 3
            },
            "marker": {
             "size": 9
            },
            "type": "scatter3d"
           }
          ],
          "scattergeo": [
           {
            "line": {
             "width": 3
            },
            "marker": {
             "size": 9
            },
            "type": "scattergeo"
           }
          ],
          "scattergl": [
           {
            "line": {
             "width": 3
            },
            "marker": {
             "size": 9
            },
            "type": "scattergl"
           }
          ],
          "scatterpolar": [
           {
            "line": {
             "width": 3
            },
            "marker": {
             "size": 9
            },
            "type": "scatterpolar"
           }
          ],
          "scatterpolargl": [
           {
            "line": {
             "width": 3
            },
            "marker": {
             "size": 9
            },
            "type": "scatterpolargl"
           }
          ],
          "scatterternary": [
           {
            "line": {
             "width": 3
            },
            "marker": {
             "size": 9
            },
            "type": "scatterternary"
           }
          ],
          "table": [
           {
            "cells": {
             "height": 30
            },
            "header": {
             "height": 36
            },
            "type": "table"
           }
          ]
         },
         "layout": {
          "font": {
           "size": 18
          },
          "xaxis": {
           "title": {
            "standoff": 15
           }
          },
          "yaxis": {
           "title": {
            "standoff": 15
           }
          }
         }
        },
        "width": 1200,
        "xaxis": {
         "autorange": true,
         "range": [
          0.04201600918221704,
          0.19862066015325133
         ],
         "tickmode": "array",
         "tickvals": [
          0.05,
          0.1,
          0.15,
          0.2
         ],
         "title": {
          "text": "Computation rate"
         },
         "type": "linear"
        },
        "yaxis": {
         "autorange": true,
         "range": [
          0.16950345401491834,
          0.27164278125082486
         ],
         "title": {
          "text": "Community ARI"
         },
         "type": "linear"
        }
       }
      }
     },
     "metadata": {},
     "output_type": "display_data"
    }
   ],
   "source": [
    "sub_fig = get_computation_rate_plot(\"adjusted_rand_index\", breadth_search_evaluation, \"Community ARI\", legend=dict(\n",
    "            x=0.55,\n",
    "            y=0.02,\n",
    "            xanchor=\"left\",\n",
    "            yanchor=\"bottom\",\n",
    "            font=dict(size=35),\n",
    "        ))\n",
    "sub_fig.show()"
   ]
  },
  {
   "cell_type": "code",
   "execution_count": 28,
   "id": "a2527af6-911c-4ba6-a4ff-ed2c416bc3b6",
   "metadata": {},
   "outputs": [],
   "source": [
    "depth_vs_breadth_search_evaluation = {\n",
    "    \"Depth search\": {\"values\": {evaluation[\"computation_rate\"]: evaluation for evaluation in depth_search_N_and_SNV_frequency_filter}, \"stroke\": \"solid\", \"color\": \"blue\"},\n",
    "    \"Breadth search\": {\"values\": {evaluation[\"computation_rate\"]: evaluation for evaluation in breadth_search_N_and_SNV_frequency_filter}, \"stroke\": \"solid\", \"color\": \"green\"},  \n",
    "}"
   ]
  },
  {
   "cell_type": "markdown",
   "id": "3ff60961-3a76-4abe-992b-3f351c87d047",
   "metadata": {},
   "source": [
    "### Infection recall for different computation rates using depth search and breadth search (N and SNV frequency filter)"
   ]
  },
  {
   "cell_type": "code",
   "execution_count": 29,
   "id": "a888b187-43f9-4e72-a7bb-e1d39756b694",
   "metadata": {},
   "outputs": [
    {
     "data": {
      "application/vnd.plotly.v1+json": {
       "config": {
        "plotlyServerURL": "https://plot.ly"
       },
       "data": [
        {
         "line": {
          "color": "blue",
          "dash": "solid",
          "width": 4
         },
         "mode": "lines",
         "name": "Depth search",
         "type": "scatter",
         "x": [
          0.04999967974379504,
          0.09999935948759008,
          0.1499990392313851,
          0.2
         ],
         "y": [
          0.7869494290375204,
          0.8537248504622077,
          0.9036432843936922,
          0.9349646547036433
         ]
        },
        {
         "marker": {
          "color": "blue",
          "size": 8,
          "symbol": "circle"
         },
         "mode": "markers",
         "showlegend": false,
         "text": "",
         "type": "scatter",
         "x": [
          0.04999967974379504
         ],
         "y": [
          0.7869494290375204
         ]
        },
        {
         "marker": {
          "color": "blue",
          "size": 8,
          "symbol": "circle"
         },
         "mode": "markers",
         "showlegend": false,
         "text": "",
         "type": "scatter",
         "x": [
          0.09999935948759008
         ],
         "y": [
          0.8537248504622077
         ]
        },
        {
         "marker": {
          "color": "blue",
          "size": 8,
          "symbol": "circle"
         },
         "mode": "markers",
         "showlegend": false,
         "text": "",
         "type": "scatter",
         "x": [
          0.1499990392313851
         ],
         "y": [
          0.9036432843936922
         ]
        },
        {
         "marker": {
          "color": "blue",
          "size": 8,
          "symbol": "circle"
         },
         "mode": "markers",
         "showlegend": false,
         "text": "",
         "type": "scatter",
         "x": [
          0.2
         ],
         "y": [
          0.9349646547036433
         ]
        },
        {
         "line": {
          "color": "green",
          "dash": "solid",
          "width": 4
         },
         "mode": "lines",
         "name": "Breadth search",
         "type": "scatter",
         "x": [
          0.05056461168935148,
          0.09829815852682146,
          0.14480064051240993,
          0.1900720576461169
         ],
         "y": [
          0.36421968461120174,
          0.5500815660685155,
          0.6654703643284394,
          0.7472539423599782
         ]
        },
        {
         "marker": {
          "color": "green",
          "size": 8,
          "symbol": "circle"
         },
         "mode": "markers",
         "showlegend": false,
         "text": "",
         "type": "scatter",
         "x": [
          0.05056461168935148
         ],
         "y": [
          0.36421968461120174
         ]
        },
        {
         "marker": {
          "color": "green",
          "size": 8,
          "symbol": "circle"
         },
         "mode": "markers",
         "showlegend": false,
         "text": "",
         "type": "scatter",
         "x": [
          0.09829815852682146
         ],
         "y": [
          0.5500815660685155
         ]
        },
        {
         "marker": {
          "color": "green",
          "size": 8,
          "symbol": "circle"
         },
         "mode": "markers",
         "showlegend": false,
         "text": "",
         "type": "scatter",
         "x": [
          0.14480064051240993
         ],
         "y": [
          0.6654703643284394
         ]
        },
        {
         "marker": {
          "color": "green",
          "size": 8,
          "symbol": "circle"
         },
         "mode": "markers",
         "showlegend": false,
         "text": "",
         "type": "scatter",
         "x": [
          0.1900720576461169
         ],
         "y": [
          0.7472539423599782
         ]
        }
       ],
       "layout": {
        "font": {
         "size": 25
        },
        "height": 700,
        "legend": {
         "font": {
          "size": 35
         },
         "x": 0.7,
         "xanchor": "left",
         "y": 0.1,
         "yanchor": "bottom"
        },
        "margin": {
         "b": 80,
         "l": 110,
         "r": 0,
         "t": 0
        },
        "template": {
         "data": {
          "pie": [
           {
            "automargin": true,
            "type": "pie"
           }
          ],
          "scatter": [
           {
            "line": {
             "width": 3
            },
            "marker": {
             "size": 9
            },
            "type": "scatter"
           }
          ],
          "scatter3d": [
           {
            "line": {
             "width": 3
            },
            "marker": {
             "size": 9
            },
            "type": "scatter3d"
           }
          ],
          "scattergeo": [
           {
            "line": {
             "width": 3
            },
            "marker": {
             "size": 9
            },
            "type": "scattergeo"
           }
          ],
          "scattergl": [
           {
            "line": {
             "width": 3
            },
            "marker": {
             "size": 9
            },
            "type": "scattergl"
           }
          ],
          "scatterpolar": [
           {
            "line": {
             "width": 3
            },
            "marker": {
             "size": 9
            },
            "type": "scatterpolar"
           }
          ],
          "scatterpolargl": [
           {
            "line": {
             "width": 3
            },
            "marker": {
             "size": 9
            },
            "type": "scatterpolargl"
           }
          ],
          "scatterternary": [
           {
            "line": {
             "width": 3
            },
            "marker": {
             "size": 9
            },
            "type": "scatterternary"
           }
          ],
          "table": [
           {
            "cells": {
             "height": 30
            },
            "header": {
             "height": 36
            },
            "type": "table"
           }
          ]
         },
         "layout": {
          "font": {
           "size": 18
          },
          "xaxis": {
           "title": {
            "standoff": 15
           }
          },
          "yaxis": {
           "title": {
            "standoff": 15
           }
          }
         }
        },
        "width": 1200,
        "xaxis": {
         "autorange": true,
         "range": [
          0.0408081050216074,
          0.20919157472218763
         ],
         "tickmode": "array",
         "tickvals": [
          0.05,
          0.1,
          0.15,
          0.2
         ],
         "title": {
          "text": "Computation rate"
         },
         "type": "linear"
        },
        "yaxis": {
         "autorange": true,
         "range": [
          0.3267254894956399,
          0.9724588498192052
         ],
         "title": {
          "text": "Infection recall"
         },
         "type": "linear"
        }
       }
      }
     },
     "metadata": {},
     "output_type": "display_data"
    }
   ],
   "source": [
    "sub_fig = get_computation_rate_plot(\"infection_detection_rate\", depth_vs_breadth_search_evaluation, \"Infection recall\", legend=dict(\n",
    "            x=0.7,\n",
    "            y=0.1,\n",
    "            xanchor=\"left\",\n",
    "            yanchor=\"bottom\",\n",
    "            font=dict(size=35),\n",
    "        ))\n",
    "sub_fig.show()"
   ]
  },
  {
   "cell_type": "markdown",
   "id": "0ba52540-a7f4-449c-ad65-ad9780668c09",
   "metadata": {},
   "source": [
    "### Community ARI for different computation rates using depth search and breadth search (N and SNV frequency filter)"
   ]
  },
  {
   "cell_type": "code",
   "execution_count": 30,
   "id": "1248ca7b-aee5-4e18-a400-9e5be429770e",
   "metadata": {},
   "outputs": [
    {
     "data": {
      "application/vnd.plotly.v1+json": {
       "config": {
        "plotlyServerURL": "https://plot.ly"
       },
       "data": [
        {
         "line": {
          "color": "blue",
          "dash": "solid",
          "width": 4
         },
         "mode": "lines",
         "name": "Depth search",
         "type": "scatter",
         "x": [
          0.04999967974379504,
          0.09999935948759008,
          0.1499990392313851,
          0.2
         ],
         "y": [
          0.17046825122618053,
          0.31047543887129797,
          0.36523939365974983,
          0.4444112395097614
         ]
        },
        {
         "marker": {
          "color": "blue",
          "size": 8,
          "symbol": "circle"
         },
         "mode": "markers",
         "showlegend": false,
         "text": "",
         "type": "scatter",
         "x": [
          0.04999967974379504
         ],
         "y": [
          0.17046825122618053
         ]
        },
        {
         "marker": {
          "color": "blue",
          "size": 8,
          "symbol": "circle"
         },
         "mode": "markers",
         "showlegend": false,
         "text": "",
         "type": "scatter",
         "x": [
          0.09999935948759008
         ],
         "y": [
          0.31047543887129797
         ]
        },
        {
         "marker": {
          "color": "blue",
          "size": 8,
          "symbol": "circle"
         },
         "mode": "markers",
         "showlegend": false,
         "text": "",
         "type": "scatter",
         "x": [
          0.1499990392313851
         ],
         "y": [
          0.36523939365974983
         ]
        },
        {
         "marker": {
          "color": "blue",
          "size": 8,
          "symbol": "circle"
         },
         "mode": "markers",
         "showlegend": false,
         "text": "",
         "type": "scatter",
         "x": [
          0.2
         ],
         "y": [
          0.4444112395097614
         ]
        },
        {
         "line": {
          "color": "green",
          "dash": "solid",
          "width": 4
         },
         "mode": "lines",
         "name": "Breadth search",
         "type": "scatter",
         "x": [
          0.05056461168935148,
          0.09829815852682146,
          0.14480064051240993,
          0.1900720576461169
         ],
         "y": [
          0.17543412462861613,
          0.21679230936317148,
          0.2657121106371271,
          0.2570873658576151
         ]
        },
        {
         "marker": {
          "color": "green",
          "size": 8,
          "symbol": "circle"
         },
         "mode": "markers",
         "showlegend": false,
         "text": "",
         "type": "scatter",
         "x": [
          0.05056461168935148
         ],
         "y": [
          0.17543412462861613
         ]
        },
        {
         "marker": {
          "color": "green",
          "size": 8,
          "symbol": "circle"
         },
         "mode": "markers",
         "showlegend": false,
         "text": "",
         "type": "scatter",
         "x": [
          0.09829815852682146
         ],
         "y": [
          0.21679230936317148
         ]
        },
        {
         "marker": {
          "color": "green",
          "size": 8,
          "symbol": "circle"
         },
         "mode": "markers",
         "showlegend": false,
         "text": "",
         "type": "scatter",
         "x": [
          0.14480064051240993
         ],
         "y": [
          0.2657121106371271
         ]
        },
        {
         "marker": {
          "color": "green",
          "size": 8,
          "symbol": "circle"
         },
         "mode": "markers",
         "showlegend": false,
         "text": "",
         "type": "scatter",
         "x": [
          0.1900720576461169
         ],
         "y": [
          0.2570873658576151
         ]
        }
       ],
       "layout": {
        "font": {
         "size": 25
        },
        "height": 700,
        "legend": {
         "font": {
          "size": 35
         },
         "x": 0.7,
         "xanchor": "left",
         "y": 0.1,
         "yanchor": "bottom"
        },
        "margin": {
         "b": 80,
         "l": 110,
         "r": 0,
         "t": 0
        },
        "template": {
         "data": {
          "pie": [
           {
            "automargin": true,
            "type": "pie"
           }
          ],
          "scatter": [
           {
            "line": {
             "width": 3
            },
            "marker": {
             "size": 9
            },
            "type": "scatter"
           }
          ],
          "scatter3d": [
           {
            "line": {
             "width": 3
            },
            "marker": {
             "size": 9
            },
            "type": "scatter3d"
           }
          ],
          "scattergeo": [
           {
            "line": {
             "width": 3
            },
            "marker": {
             "size": 9
            },
            "type": "scattergeo"
           }
          ],
          "scattergl": [
           {
            "line": {
             "width": 3
            },
            "marker": {
             "size": 9
            },
            "type": "scattergl"
           }
          ],
          "scatterpolar": [
           {
            "line": {
             "width": 3
            },
            "marker": {
             "size": 9
            },
            "type": "scatterpolar"
           }
          ],
          "scatterpolargl": [
           {
            "line": {
             "width": 3
            },
            "marker": {
             "size": 9
            },
            "type": "scatterpolargl"
           }
          ],
          "scatterternary": [
           {
            "line": {
             "width": 3
            },
            "marker": {
             "size": 9
            },
            "type": "scatterternary"
           }
          ],
          "table": [
           {
            "cells": {
             "height": 30
            },
            "header": {
             "height": 36
            },
            "type": "table"
           }
          ]
         },
         "layout": {
          "font": {
           "size": 18
          },
          "xaxis": {
           "title": {
            "standoff": 15
           }
          },
          "yaxis": {
           "title": {
            "standoff": 15
           }
          }
         }
        },
        "width": 1200,
        "xaxis": {
         "autorange": true,
         "range": [
          0.0408081050216074,
          0.20919157472218763
         ],
         "tickmode": "array",
         "tickvals": [
          0.05,
          0.1,
          0.15,
          0.2
         ],
         "title": {
          "text": "Computation rate"
         },
         "type": "linear"
        },
        "yaxis": {
         "autorange": true,
         "range": [
          0.15247199652141974,
          0.4624074942145222
         ],
         "title": {
          "text": "Community ARI"
         },
         "type": "linear"
        }
       }
      }
     },
     "metadata": {},
     "output_type": "display_data"
    }
   ],
   "source": [
    "sub_fig = get_computation_rate_plot(\"adjusted_rand_index\", depth_vs_breadth_search_evaluation, \"Community ARI\", legend=dict(\n",
    "            x=0.7,\n",
    "            y=0.1,\n",
    "            xanchor=\"left\",\n",
    "            yanchor=\"bottom\",\n",
    "            font=dict(size=35),\n",
    "        ))\n",
    "sub_fig.show()"
   ]
  },
  {
   "cell_type": "code",
   "execution_count": null,
   "id": "df22ea81-90c0-43ee-a047-f54f76db1ba7",
   "metadata": {},
   "outputs": [],
   "source": []
  }
 ],
 "metadata": {
  "kernelspec": {
   "display_name": "Python 3 (ipykernel)",
   "language": "python",
   "name": "python3"
  },
  "language_info": {
   "codemirror_mode": {
    "name": "ipython",
    "version": 3
   },
   "file_extension": ".py",
   "mimetype": "text/x-python",
   "name": "python",
   "nbconvert_exporter": "python",
   "pygments_lexer": "ipython3",
   "version": "3.12.5"
  }
 },
 "nbformat": 4,
 "nbformat_minor": 5
}
