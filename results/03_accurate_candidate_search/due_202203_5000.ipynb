{
 "cells": [
  {
   "cell_type": "code",
   "execution_count": 1,
   "id": "b2c3d2f8-d7a0-4f5f-a76c-d484d076de38",
   "metadata": {},
   "outputs": [
    {
     "name": "stdout",
     "output_type": "stream",
     "text": [
      "\u001b[33mWARNING: Ignoring invalid distribution ~entrain (/Users/benkraling/Library/jupyterlab-desktop/jlab_server/lib/python3.12/site-packages)\u001b[0m\u001b[33m\n",
      "\u001b[0mProcessing /Users/benkraling/code/thesis/gentrain\n",
      "  Preparing metadata (setup.py) ... \u001b[?25ldone\n",
      "\u001b[?25hRequirement already satisfied: biopython in /Users/benkraling/Library/jupyterlab-desktop/jlab_server/lib/python3.12/site-packages (from gentrain==0.1.2) (1.85)\n",
      "Requirement already satisfied: networkx in /Users/benkraling/Library/jupyterlab-desktop/jlab_server/lib/python3.12/site-packages (from gentrain==0.1.2) (3.4.2)\n",
      "Requirement already satisfied: matplotlib in /Users/benkraling/Library/jupyterlab-desktop/jlab_server/lib/python3.12/site-packages (from gentrain==0.1.2) (3.9.2)\n",
      "Requirement already satisfied: pandas in /Users/benkraling/Library/jupyterlab-desktop/jlab_server/lib/python3.12/site-packages (from gentrain==0.1.2) (2.2.2)\n",
      "Requirement already satisfied: numpy in /Users/benkraling/Library/jupyterlab-desktop/jlab_server/lib/python3.12/site-packages (from gentrain==0.1.2) (2.1.0)\n",
      "Requirement already satisfied: contourpy>=1.0.1 in /Users/benkraling/Library/jupyterlab-desktop/jlab_server/lib/python3.12/site-packages (from matplotlib->gentrain==0.1.2) (1.2.1)\n",
      "Requirement already satisfied: cycler>=0.10 in /Users/benkraling/Library/jupyterlab-desktop/jlab_server/lib/python3.12/site-packages (from matplotlib->gentrain==0.1.2) (0.12.1)\n",
      "Requirement already satisfied: fonttools>=4.22.0 in /Users/benkraling/Library/jupyterlab-desktop/jlab_server/lib/python3.12/site-packages (from matplotlib->gentrain==0.1.2) (4.53.1)\n",
      "Requirement already satisfied: kiwisolver>=1.3.1 in /Users/benkraling/Library/jupyterlab-desktop/jlab_server/lib/python3.12/site-packages (from matplotlib->gentrain==0.1.2) (1.4.5)\n",
      "Requirement already satisfied: packaging>=20.0 in /Users/benkraling/Library/jupyterlab-desktop/jlab_server/lib/python3.12/site-packages (from matplotlib->gentrain==0.1.2) (25.0)\n",
      "Requirement already satisfied: pillow>=8 in /Users/benkraling/Library/jupyterlab-desktop/jlab_server/lib/python3.12/site-packages (from matplotlib->gentrain==0.1.2) (10.4.0)\n",
      "Requirement already satisfied: pyparsing>=2.3.1 in /Users/benkraling/Library/jupyterlab-desktop/jlab_server/lib/python3.12/site-packages (from matplotlib->gentrain==0.1.2) (3.1.4)\n",
      "Requirement already satisfied: python-dateutil>=2.7 in /Users/benkraling/Library/jupyterlab-desktop/jlab_server/lib/python3.12/site-packages (from matplotlib->gentrain==0.1.2) (2.9.0)\n",
      "Requirement already satisfied: pytz>=2020.1 in /Users/benkraling/Library/jupyterlab-desktop/jlab_server/lib/python3.12/site-packages (from pandas->gentrain==0.1.2) (2024.1)\n",
      "Requirement already satisfied: tzdata>=2022.7 in /Users/benkraling/Library/jupyterlab-desktop/jlab_server/lib/python3.12/site-packages (from pandas->gentrain==0.1.2) (2024.1)\n",
      "Requirement already satisfied: six>=1.5 in /Users/benkraling/Library/jupyterlab-desktop/jlab_server/lib/python3.12/site-packages (from python-dateutil>=2.7->matplotlib->gentrain==0.1.2) (1.16.0)\n",
      "Building wheels for collected packages: gentrain\n",
      "  Building wheel for gentrain (setup.py) ... \u001b[?25ldone\n",
      "\u001b[?25h  Created wheel for gentrain: filename=gentrain-0.1.2-py3-none-any.whl size=26677 sha256=2c9d64e5977aeeeccf0a0aad3068439200148a673ac21eb5d8b08dc7fd97a0d1\n",
      "  Stored in directory: /private/var/folders/2h/923cq6912sqb0snfvqqfdnmm0000gn/T/pip-ephem-wheel-cache-yuct7ri2/wheels/cf/e4/57/91c03db2e8c043adeefe35dd0969d3049f61ae0218be0acc9f\n",
      "Successfully built gentrain\n",
      "\u001b[33mWARNING: Ignoring invalid distribution ~entrain (/Users/benkraling/Library/jupyterlab-desktop/jlab_server/lib/python3.12/site-packages)\u001b[0m\u001b[33m\n",
      "\u001b[0mInstalling collected packages: gentrain\n",
      "  Attempting uninstall: gentrain\n",
      "    Found existing installation: gentrain 0.1.2\n",
      "    Uninstalling gentrain-0.1.2:\n",
      "      Successfully uninstalled gentrain-0.1.2\n",
      "\u001b[33mWARNING: Ignoring invalid distribution ~entrain (/Users/benkraling/Library/jupyterlab-desktop/jlab_server/lib/python3.12/site-packages)\u001b[0m\u001b[33m\n",
      "\u001b[0mSuccessfully installed gentrain-0.1.2\n"
     ]
    }
   ],
   "source": [
    "!pip install ../../gentrain/."
   ]
  },
  {
   "cell_type": "code",
   "execution_count": 2,
   "id": "f44740de-5142-4e08-bce3-d5bc45c50668",
   "metadata": {},
   "outputs": [],
   "source": [
    "import pandas as pd\n",
    "import plotly.express as px\n",
    "import plotly.graph_objects as go\n",
    "import re\n",
    "from sklearn.preprocessing import MultiLabelBinarizer\n",
    "from sklearn.metrics import adjusted_rand_score\n",
    "from sklearn.preprocessing import LabelEncoder\n",
    "import numpy as np\n",
    "from collections import Counter\n",
    "import pickle\n",
    "from gentrain.evaluation import get_computation_rate_plot, candidate_evaluation_and_matrices, get_candidate_evaluation_and_export_mst\n",
    "from sklearn.preprocessing import MultiLabelBinarizer\n",
    "from sklearn.preprocessing import LabelEncoder\n",
    "from gentrain.encoding import get_nucleotide_sensitive_encodings, get_mutation_sensitive_encodings, generate_one_hot_encoding\n",
    "from gentrain.nextclade import get_mutations_from_dataframe\n",
    "from gentrain.candidate_sourcing import bitwise_xor_candidates\n",
    "from gentrain.graph import build_mst, export_graph_gexf, mean_edge_weight, get_outbreak_community_labels, build_graph\n",
    "from scipy.spatial.distance import pdist\n",
    "import community as community_louvain\n",
    "import umap\n",
    "import faiss\n",
    "from sklearn.cluster import DBSCAN\n",
    "from sklearn.metrics import pairwise_distances_argmin\n",
    "import os\n",
    "import shutil"
   ]
  },
  {
   "cell_type": "code",
   "execution_count": 3,
   "id": "5f2a8da5-9870-496c-a865-a88ad17c4e67",
   "metadata": {},
   "outputs": [],
   "source": [
    "aggregate = \"due_202203\"\n",
    "size = 5000"
   ]
  },
  {
   "cell_type": "code",
   "execution_count": 4,
   "id": "50d5222f-0e59-4b0c-a168-81ce45a7712b",
   "metadata": {},
   "outputs": [],
   "source": [
    "graph_path = f\"graphs/{aggregate}/{size}\"\n",
    "if os.path.exists(f\"graphs/{aggregate}/{size}\") and os.path.isdir(f\"graphs/{aggregate}/{size}\"):\n",
    "    shutil.rmtree(f\"graphs/{aggregate}/{size}\")\n",
    "if not os.path.exists(f\"graphs/{aggregate}\"):\n",
    "    os.mkdir(f\"graphs/{aggregate}\")\n",
    "os.mkdir(f\"graphs/{aggregate}/{size}\")"
   ]
  },
  {
   "cell_type": "code",
   "execution_count": 5,
   "id": "3cf8da80-ea93-4ca0-9697-f1eb2587b47e",
   "metadata": {},
   "outputs": [],
   "source": [
    "sequences_df = pd.read_csv(f\"../00_data_understanding_and_preparation/aggregates/{aggregate}/{size}/sequences_and_metadata.csv\", delimiter=\";\").set_index(\"igs_id\").sort_index()\n",
    "sequences_count = len(sequences_df)"
   ]
  },
  {
   "cell_type": "code",
   "execution_count": 6,
   "id": "078e2f36-de8b-4d3b-a2e9-9c87a45a71de",
   "metadata": {},
   "outputs": [],
   "source": [
    "mutations_df = get_mutations_from_dataframe(sequences_df)"
   ]
  },
  {
   "cell_type": "code",
   "execution_count": 7,
   "id": "d50663f5-014f-4f9f-9c78-d436762132db",
   "metadata": {},
   "outputs": [],
   "source": [
    "distance_matrix_df = pd.read_csv(f\"../01_algorithm_optimization/distance_matrices/{aggregate}/{size}/distance_matrix.csv\", delimiter=\";\",\n",
    "                                     index_col=\"Unnamed: 0\").sort_index()\n",
    "distance_matrix_df = distance_matrix_df[~distance_matrix_df.index.duplicated(keep='first')]\n",
    "distance_matrix_df = distance_matrix_df.loc[sequences_df.index, sequences_df.index]\n",
    "distance_matrix = distance_matrix_df.to_numpy()"
   ]
  },
  {
   "cell_type": "code",
   "execution_count": 8,
   "id": "3b35e69d-4761-462e-9d3b-092b08fb6b4b",
   "metadata": {},
   "outputs": [
    {
     "name": "stdout",
     "output_type": "stream",
     "text": [
      "mst generation time: 72.48s\n"
     ]
    }
   ],
   "source": [
    "gentrain_graph = build_graph(distance_matrix)\n",
    "gentrain_mst = build_mst(gentrain_graph)\n",
    "gentrain_community_labels = get_outbreak_community_labels(gentrain_mst)\n",
    "datetime_sampling_dates = pd.to_datetime(sequences_df[\"date_of_sampling\"])\n",
    "numeric_dates = (datetime_sampling_dates - datetime_sampling_dates.min()).dt.days\n",
    "export_graph_gexf(gentrain_mst, gentrain_community_labels, sequences_df, f\"{graph_path}/brute_force_mst\")"
   ]
  },
  {
   "cell_type": "code",
   "execution_count": 9,
   "id": "8e2f3898-6a9a-40e5-8066-67c77faaa1cd",
   "metadata": {},
   "outputs": [],
   "source": [
    "communities_count = len(Counter(gentrain_community_labels))"
   ]
  },
  {
   "cell_type": "code",
   "execution_count": 10,
   "id": "c504fa21-2b4c-4180-b99c-a40c21076af3",
   "metadata": {},
   "outputs": [],
   "source": [
    "mask = np.triu(np.ones(distance_matrix_df.shape), k=1).astype(bool)\n",
    "filtered = distance_matrix_df.where(mask)\n",
    "infections_count = (filtered < 2).sum().sum()\n",
    "distances_count = filtered.count().sum()"
   ]
  },
  {
   "cell_type": "markdown",
   "id": "66f0ca76-b701-46c3-b74c-e42d9d0b5fbf",
   "metadata": {},
   "source": [
    "## Encoding"
   ]
  },
  {
   "cell_type": "code",
   "execution_count": 11,
   "id": "ac49fd8d-c708-423b-8e1d-5bcf1545e11a",
   "metadata": {},
   "outputs": [
    {
     "name": "stdout",
     "output_type": "stream",
     "text": [
      "execution time: 103.19s\n"
     ]
    }
   ],
   "source": [
    "encodings_N_frequency_filter = get_mutation_sensitive_encodings(sequences_df, exclude_indels=False, use_frequency_filtering=False, filter_N=True)"
   ]
  },
  {
   "cell_type": "code",
   "execution_count": 12,
   "id": "a4c9d825-a963-426d-99cb-adb91b379589",
   "metadata": {},
   "outputs": [
    {
     "name": "stdout",
     "output_type": "stream",
     "text": [
      "execution time: 102.23s\n"
     ]
    }
   ],
   "source": [
    "encodings_N_and_SNV_frequency_filter = get_mutation_sensitive_encodings(sequences_df, exclude_indels=False, use_frequency_filtering=True, filter_N=True)"
   ]
  },
  {
   "cell_type": "markdown",
   "id": "57fd76ff-715d-4385-afe0-9f1e29098bf0",
   "metadata": {},
   "source": [
    "## Accurate candidate search"
   ]
  },
  {
   "cell_type": "markdown",
   "id": "591d789d-df98-4206-9f1d-e3c5228e3611",
   "metadata": {},
   "source": [
    "### Depth search with N frequency filter"
   ]
  },
  {
   "cell_type": "code",
   "execution_count": 13,
   "id": "01485fed-0015-4967-8418-df04fead5129",
   "metadata": {},
   "outputs": [
    {
     "name": "stdout",
     "output_type": "stream",
     "text": [
      "execution time xor distance calculation: 83.23s\n",
      "execution time depth search: 10.59s\n",
      "execution time 624875: 95.97s\n",
      "mst generation time: 4.42s\n",
      "execution time xor distance calculation: 76.47s\n",
      "execution time depth search: 11.24s\n",
      "execution time 1249750: 89.64s\n",
      "mst generation time: 8.42s\n",
      "execution time xor distance calculation: 81.0s\n",
      "execution time depth search: 12.11s\n",
      "execution time 1874625: 95.05s\n",
      "mst generation time: 12.89s\n",
      "execution time xor distance calculation: 82.06s\n",
      "execution time depth search: 16.4s\n",
      "execution time 2499500: 100.44s\n",
      "mst generation time: 19.11s\n"
     ]
    }
   ],
   "source": [
    "depth_search_N_frequency_filter = []\n",
    "for computation_rate in [0.05, 0.1, 0.15, 0.2]:\n",
    "    limit = int(computation_rate*distances_count)\n",
    "    candidates, runtime = bitwise_xor_candidates(encodings_N_frequency_filter, limit, \"depth\")\n",
    "    depth_search_N_frequency_filter.append(get_candidate_evaluation_and_export_mst(\"depth_N\", candidates, graph_path, distance_matrix, gentrain_community_labels, gentrain_mst, list(sequences_df[\"Nextclade_pango\"]), sequences_df, runtime))"
   ]
  },
  {
   "cell_type": "code",
   "execution_count": 14,
   "id": "50ea1450-35f7-4b56-bd2b-b2f1a1a76fd6",
   "metadata": {},
   "outputs": [
    {
     "data": {
      "text/html": [
       "<div>\n",
       "<style scoped>\n",
       "    .dataframe tbody tr th:only-of-type {\n",
       "        vertical-align: middle;\n",
       "    }\n",
       "\n",
       "    .dataframe tbody tr th {\n",
       "        vertical-align: top;\n",
       "    }\n",
       "\n",
       "    .dataframe thead th {\n",
       "        text-align: right;\n",
       "    }\n",
       "</style>\n",
       "<table border=\"1\" class=\"dataframe\">\n",
       "  <thead>\n",
       "    <tr style=\"text-align: right;\">\n",
       "      <th></th>\n",
       "      <th>computation_rate</th>\n",
       "      <th>infection_detection_rate</th>\n",
       "      <th>infection_recall</th>\n",
       "      <th>infection_precision</th>\n",
       "      <th>infection_f1</th>\n",
       "      <th>runtime</th>\n",
       "      <th>mean_edge_weight</th>\n",
       "      <th>mean_edge_weight_diff</th>\n",
       "      <th>max_edge_weight</th>\n",
       "      <th>subgraph_count</th>\n",
       "      <th>adjusted_rand_index</th>\n",
       "      <th>lineage_purity</th>\n",
       "      <th>lineage_purity_diff</th>\n",
       "    </tr>\n",
       "  </thead>\n",
       "  <tbody>\n",
       "    <tr>\n",
       "      <th>0</th>\n",
       "      <td>0.05</td>\n",
       "      <td>0.695703</td>\n",
       "      <td>1.0</td>\n",
       "      <td>1.0</td>\n",
       "      <td>0.695703</td>\n",
       "      <td>95.97</td>\n",
       "      <td>0.965122</td>\n",
       "      <td>-0.358342</td>\n",
       "      <td>7.0</td>\n",
       "      <td>1072</td>\n",
       "      <td>0.207985</td>\n",
       "      <td>0.939424</td>\n",
       "      <td>0.050624</td>\n",
       "    </tr>\n",
       "    <tr>\n",
       "      <th>1</th>\n",
       "      <td>0.10</td>\n",
       "      <td>0.743299</td>\n",
       "      <td>1.0</td>\n",
       "      <td>1.0</td>\n",
       "      <td>0.743299</td>\n",
       "      <td>89.64</td>\n",
       "      <td>1.135038</td>\n",
       "      <td>-0.188427</td>\n",
       "      <td>6.0</td>\n",
       "      <td>639</td>\n",
       "      <td>0.222916</td>\n",
       "      <td>0.919901</td>\n",
       "      <td>0.031101</td>\n",
       "    </tr>\n",
       "    <tr>\n",
       "      <th>2</th>\n",
       "      <td>0.15</td>\n",
       "      <td>0.760276</td>\n",
       "      <td>1.0</td>\n",
       "      <td>1.0</td>\n",
       "      <td>0.760276</td>\n",
       "      <td>95.05</td>\n",
       "      <td>1.261499</td>\n",
       "      <td>-0.061966</td>\n",
       "      <td>13.0</td>\n",
       "      <td>369</td>\n",
       "      <td>0.251514</td>\n",
       "      <td>0.908294</td>\n",
       "      <td>0.019494</td>\n",
       "    </tr>\n",
       "    <tr>\n",
       "      <th>3</th>\n",
       "      <td>0.20</td>\n",
       "      <td>0.771006</td>\n",
       "      <td>1.0</td>\n",
       "      <td>1.0</td>\n",
       "      <td>0.771006</td>\n",
       "      <td>100.44</td>\n",
       "      <td>1.325453</td>\n",
       "      <td>0.001988</td>\n",
       "      <td>15.0</td>\n",
       "      <td>250</td>\n",
       "      <td>0.266668</td>\n",
       "      <td>0.896234</td>\n",
       "      <td>0.007434</td>\n",
       "    </tr>\n",
       "  </tbody>\n",
       "</table>\n",
       "</div>"
      ],
      "text/plain": [
       "   computation_rate  infection_detection_rate  infection_recall  \\\n",
       "0              0.05                  0.695703               1.0   \n",
       "1              0.10                  0.743299               1.0   \n",
       "2              0.15                  0.760276               1.0   \n",
       "3              0.20                  0.771006               1.0   \n",
       "\n",
       "   infection_precision  infection_f1  runtime  mean_edge_weight  \\\n",
       "0                  1.0      0.695703    95.97          0.965122   \n",
       "1                  1.0      0.743299    89.64          1.135038   \n",
       "2                  1.0      0.760276    95.05          1.261499   \n",
       "3                  1.0      0.771006   100.44          1.325453   \n",
       "\n",
       "   mean_edge_weight_diff  max_edge_weight  subgraph_count  \\\n",
       "0              -0.358342              7.0            1072   \n",
       "1              -0.188427              6.0             639   \n",
       "2              -0.061966             13.0             369   \n",
       "3               0.001988             15.0             250   \n",
       "\n",
       "   adjusted_rand_index  lineage_purity  lineage_purity_diff  \n",
       "0             0.207985        0.939424             0.050624  \n",
       "1             0.222916        0.919901             0.031101  \n",
       "2             0.251514        0.908294             0.019494  \n",
       "3             0.266668        0.896234             0.007434  "
      ]
     },
     "execution_count": 14,
     "metadata": {},
     "output_type": "execute_result"
    }
   ],
   "source": [
    "pd.DataFrame(depth_search_N_frequency_filter)"
   ]
  },
  {
   "cell_type": "markdown",
   "id": "8fcc2ca5-54ca-4b7b-98df-db24eef06c19",
   "metadata": {},
   "source": [
    "### Breadth search with N frequency filter"
   ]
  },
  {
   "cell_type": "code",
   "execution_count": 15,
   "id": "347c5384-4535-4c9b-a5f1-8edb46ae0cfe",
   "metadata": {},
   "outputs": [
    {
     "name": "stdout",
     "output_type": "stream",
     "text": [
      "matrix generation time: 56.02s\n",
      "execution time distance collection: 21.98s\n",
      "execution time breadth search: 16.42s\n",
      "execution time 624875: 96.58s\n",
      "mst generation time: 5.95s\n",
      "matrix generation time: 62.99s\n",
      "execution time distance collection: 23.92s\n",
      "execution time breadth search: 17.23s\n",
      "execution time 1249750: 106.43s\n",
      "mst generation time: 10.99s\n",
      "matrix generation time: 66.62s\n",
      "execution time distance collection: 25.2s\n",
      "execution time breadth search: 18.05s\n",
      "execution time 1874625: 112.29s\n",
      "mst generation time: 14.03s\n",
      "matrix generation time: 56.77s\n",
      "execution time distance collection: 21.46s\n",
      "execution time breadth search: 17.95s\n",
      "execution time 2499500: 99.0s\n",
      "mst generation time: 25.02s\n"
     ]
    }
   ],
   "source": [
    "breadth_search_N_frequency_filter = []\n",
    "for computation_rate in [0.05, 0.1, 0.15, 0.2]:\n",
    "    limit = int(computation_rate*distances_count)\n",
    "    candidates, runtime = bitwise_xor_candidates(encodings_N_frequency_filter, limit, \"breadth\")\n",
    "    breadth_search_N_frequency_filter.append(get_candidate_evaluation_and_export_mst(\"depth_N\", candidates, graph_path, distance_matrix, gentrain_community_labels, gentrain_mst, list(sequences_df[\"Nextclade_pango\"]), sequences_df, runtime))"
   ]
  },
  {
   "cell_type": "code",
   "execution_count": 16,
   "id": "b1395206-26ed-4505-aa61-c5e1d9a2f9aa",
   "metadata": {},
   "outputs": [
    {
     "data": {
      "text/html": [
       "<div>\n",
       "<style scoped>\n",
       "    .dataframe tbody tr th:only-of-type {\n",
       "        vertical-align: middle;\n",
       "    }\n",
       "\n",
       "    .dataframe tbody tr th {\n",
       "        vertical-align: top;\n",
       "    }\n",
       "\n",
       "    .dataframe thead th {\n",
       "        text-align: right;\n",
       "    }\n",
       "</style>\n",
       "<table border=\"1\" class=\"dataframe\">\n",
       "  <thead>\n",
       "    <tr style=\"text-align: right;\">\n",
       "      <th></th>\n",
       "      <th>computation_rate</th>\n",
       "      <th>infection_detection_rate</th>\n",
       "      <th>infection_recall</th>\n",
       "      <th>infection_precision</th>\n",
       "      <th>infection_f1</th>\n",
       "      <th>runtime</th>\n",
       "      <th>mean_edge_weight</th>\n",
       "      <th>mean_edge_weight_diff</th>\n",
       "      <th>max_edge_weight</th>\n",
       "      <th>subgraph_count</th>\n",
       "      <th>adjusted_rand_index</th>\n",
       "      <th>lineage_purity</th>\n",
       "      <th>lineage_purity_diff</th>\n",
       "    </tr>\n",
       "  </thead>\n",
       "  <tbody>\n",
       "    <tr>\n",
       "      <th>0</th>\n",
       "      <td>0.049380</td>\n",
       "      <td>0.435922</td>\n",
       "      <td>1.0</td>\n",
       "      <td>1.0</td>\n",
       "      <td>0.435922</td>\n",
       "      <td>96.58</td>\n",
       "      <td>1.479376</td>\n",
       "      <td>0.155911</td>\n",
       "      <td>44.0</td>\n",
       "      <td>1</td>\n",
       "      <td>0.159989</td>\n",
       "      <td>0.8788</td>\n",
       "      <td>-0.0100</td>\n",
       "    </tr>\n",
       "    <tr>\n",
       "      <th>1</th>\n",
       "      <td>0.097510</td>\n",
       "      <td>0.596675</td>\n",
       "      <td>1.0</td>\n",
       "      <td>1.0</td>\n",
       "      <td>0.596675</td>\n",
       "      <td>106.43</td>\n",
       "      <td>1.435347</td>\n",
       "      <td>0.111882</td>\n",
       "      <td>44.0</td>\n",
       "      <td>1</td>\n",
       "      <td>0.199714</td>\n",
       "      <td>0.8832</td>\n",
       "      <td>-0.0056</td>\n",
       "    </tr>\n",
       "    <tr>\n",
       "      <th>2</th>\n",
       "      <td>0.144389</td>\n",
       "      <td>0.694608</td>\n",
       "      <td>1.0</td>\n",
       "      <td>1.0</td>\n",
       "      <td>0.694608</td>\n",
       "      <td>112.29</td>\n",
       "      <td>1.412843</td>\n",
       "      <td>0.089378</td>\n",
       "      <td>44.0</td>\n",
       "      <td>1</td>\n",
       "      <td>0.232690</td>\n",
       "      <td>0.8754</td>\n",
       "      <td>-0.0134</td>\n",
       "    </tr>\n",
       "    <tr>\n",
       "      <th>3</th>\n",
       "      <td>0.190018</td>\n",
       "      <td>0.747806</td>\n",
       "      <td>1.0</td>\n",
       "      <td>1.0</td>\n",
       "      <td>0.747806</td>\n",
       "      <td>99.00</td>\n",
       "      <td>1.398420</td>\n",
       "      <td>0.074955</td>\n",
       "      <td>24.0</td>\n",
       "      <td>1</td>\n",
       "      <td>0.256396</td>\n",
       "      <td>0.8890</td>\n",
       "      <td>0.0002</td>\n",
       "    </tr>\n",
       "  </tbody>\n",
       "</table>\n",
       "</div>"
      ],
      "text/plain": [
       "   computation_rate  infection_detection_rate  infection_recall  \\\n",
       "0          0.049380                  0.435922               1.0   \n",
       "1          0.097510                  0.596675               1.0   \n",
       "2          0.144389                  0.694608               1.0   \n",
       "3          0.190018                  0.747806               1.0   \n",
       "\n",
       "   infection_precision  infection_f1  runtime  mean_edge_weight  \\\n",
       "0                  1.0      0.435922    96.58          1.479376   \n",
       "1                  1.0      0.596675   106.43          1.435347   \n",
       "2                  1.0      0.694608   112.29          1.412843   \n",
       "3                  1.0      0.747806    99.00          1.398420   \n",
       "\n",
       "   mean_edge_weight_diff  max_edge_weight  subgraph_count  \\\n",
       "0               0.155911             44.0               1   \n",
       "1               0.111882             44.0               1   \n",
       "2               0.089378             44.0               1   \n",
       "3               0.074955             24.0               1   \n",
       "\n",
       "   adjusted_rand_index  lineage_purity  lineage_purity_diff  \n",
       "0             0.159989          0.8788              -0.0100  \n",
       "1             0.199714          0.8832              -0.0056  \n",
       "2             0.232690          0.8754              -0.0134  \n",
       "3             0.256396          0.8890               0.0002  "
      ]
     },
     "execution_count": 16,
     "metadata": {},
     "output_type": "execute_result"
    }
   ],
   "source": [
    "pd.DataFrame(breadth_search_N_frequency_filter)"
   ]
  },
  {
   "cell_type": "markdown",
   "id": "44439e0e-6a3d-40f4-9b99-c7f28105d2ff",
   "metadata": {},
   "source": [
    "### Depth search with N and SNV frequency filter"
   ]
  },
  {
   "cell_type": "code",
   "execution_count": 17,
   "id": "313f3f19-82a5-4378-a621-687117e95cfb",
   "metadata": {},
   "outputs": [
    {
     "name": "stdout",
     "output_type": "stream",
     "text": [
      "execution time xor distance calculation: 62.48s\n",
      "execution time depth search: 13.04s\n",
      "execution time 624875: 77.81s\n",
      "mst generation time: 6.02s\n",
      "execution time xor distance calculation: 48.27s\n",
      "execution time depth search: 11.97s\n",
      "execution time 1249750: 62.06s\n",
      "mst generation time: 8.98s\n",
      "execution time xor distance calculation: 47.09s\n",
      "execution time depth search: 11.19s\n",
      "execution time 1874625: 60.01s\n",
      "mst generation time: 13.69s\n",
      "execution time xor distance calculation: 47.77s\n",
      "execution time depth search: 11.5s\n",
      "execution time 2499500: 61.04s\n",
      "mst generation time: 20.57s\n"
     ]
    }
   ],
   "source": [
    "depth_search_N_and_SNV_frequency_filter = []\n",
    "for computation_rate in [0.05, 0.1, 0.15, 0.2]:\n",
    "    limit = int(computation_rate*distances_count)\n",
    "    candidates, runtime = bitwise_xor_candidates(encodings_N_and_SNV_frequency_filter, limit, \"depth\")\n",
    "    depth_search_N_and_SNV_frequency_filter.append(get_candidate_evaluation_and_export_mst(\"depth_N_and_SNV\", candidates, graph_path, distance_matrix, gentrain_community_labels, gentrain_mst, list(sequences_df[\"Nextclade_pango\"]), sequences_df, runtime))"
   ]
  },
  {
   "cell_type": "code",
   "execution_count": 18,
   "id": "581d199a-3264-49f2-9bde-485494cb5576",
   "metadata": {},
   "outputs": [
    {
     "data": {
      "text/html": [
       "<div>\n",
       "<style scoped>\n",
       "    .dataframe tbody tr th:only-of-type {\n",
       "        vertical-align: middle;\n",
       "    }\n",
       "\n",
       "    .dataframe tbody tr th {\n",
       "        vertical-align: top;\n",
       "    }\n",
       "\n",
       "    .dataframe thead th {\n",
       "        text-align: right;\n",
       "    }\n",
       "</style>\n",
       "<table border=\"1\" class=\"dataframe\">\n",
       "  <thead>\n",
       "    <tr style=\"text-align: right;\">\n",
       "      <th></th>\n",
       "      <th>computation_rate</th>\n",
       "      <th>infection_detection_rate</th>\n",
       "      <th>infection_recall</th>\n",
       "      <th>infection_precision</th>\n",
       "      <th>infection_f1</th>\n",
       "      <th>runtime</th>\n",
       "      <th>mean_edge_weight</th>\n",
       "      <th>mean_edge_weight_diff</th>\n",
       "      <th>max_edge_weight</th>\n",
       "      <th>subgraph_count</th>\n",
       "      <th>adjusted_rand_index</th>\n",
       "      <th>lineage_purity</th>\n",
       "      <th>lineage_purity_diff</th>\n",
       "    </tr>\n",
       "  </thead>\n",
       "  <tbody>\n",
       "    <tr>\n",
       "      <th>0</th>\n",
       "      <td>0.05</td>\n",
       "      <td>0.767382</td>\n",
       "      <td>1.0</td>\n",
       "      <td>1.0</td>\n",
       "      <td>0.767382</td>\n",
       "      <td>77.81</td>\n",
       "      <td>1.144070</td>\n",
       "      <td>-0.179395</td>\n",
       "      <td>17.0</td>\n",
       "      <td>759</td>\n",
       "      <td>0.275030</td>\n",
       "      <td>0.952508</td>\n",
       "      <td>0.063708</td>\n",
       "    </tr>\n",
       "    <tr>\n",
       "      <th>1</th>\n",
       "      <td>0.10</td>\n",
       "      <td>0.825945</td>\n",
       "      <td>1.0</td>\n",
       "      <td>1.0</td>\n",
       "      <td>0.825945</td>\n",
       "      <td>62.06</td>\n",
       "      <td>1.264210</td>\n",
       "      <td>-0.059255</td>\n",
       "      <td>21.0</td>\n",
       "      <td>387</td>\n",
       "      <td>0.263431</td>\n",
       "      <td>0.932225</td>\n",
       "      <td>0.043425</td>\n",
       "    </tr>\n",
       "    <tr>\n",
       "      <th>2</th>\n",
       "      <td>0.15</td>\n",
       "      <td>0.869406</td>\n",
       "      <td>1.0</td>\n",
       "      <td>1.0</td>\n",
       "      <td>0.869406</td>\n",
       "      <td>60.01</td>\n",
       "      <td>1.312302</td>\n",
       "      <td>-0.011163</td>\n",
       "      <td>21.0</td>\n",
       "      <td>204</td>\n",
       "      <td>0.333407</td>\n",
       "      <td>0.922950</td>\n",
       "      <td>0.034150</td>\n",
       "    </tr>\n",
       "    <tr>\n",
       "      <th>3</th>\n",
       "      <td>0.20</td>\n",
       "      <td>0.908936</td>\n",
       "      <td>1.0</td>\n",
       "      <td>1.0</td>\n",
       "      <td>0.908936</td>\n",
       "      <td>61.04</td>\n",
       "      <td>1.336759</td>\n",
       "      <td>0.013294</td>\n",
       "      <td>21.0</td>\n",
       "      <td>125</td>\n",
       "      <td>0.336221</td>\n",
       "      <td>0.922218</td>\n",
       "      <td>0.033418</td>\n",
       "    </tr>\n",
       "  </tbody>\n",
       "</table>\n",
       "</div>"
      ],
      "text/plain": [
       "   computation_rate  infection_detection_rate  infection_recall  \\\n",
       "0              0.05                  0.767382               1.0   \n",
       "1              0.10                  0.825945               1.0   \n",
       "2              0.15                  0.869406               1.0   \n",
       "3              0.20                  0.908936               1.0   \n",
       "\n",
       "   infection_precision  infection_f1  runtime  mean_edge_weight  \\\n",
       "0                  1.0      0.767382    77.81          1.144070   \n",
       "1                  1.0      0.825945    62.06          1.264210   \n",
       "2                  1.0      0.869406    60.01          1.312302   \n",
       "3                  1.0      0.908936    61.04          1.336759   \n",
       "\n",
       "   mean_edge_weight_diff  max_edge_weight  subgraph_count  \\\n",
       "0              -0.179395             17.0             759   \n",
       "1              -0.059255             21.0             387   \n",
       "2              -0.011163             21.0             204   \n",
       "3               0.013294             21.0             125   \n",
       "\n",
       "   adjusted_rand_index  lineage_purity  lineage_purity_diff  \n",
       "0             0.275030        0.952508             0.063708  \n",
       "1             0.263431        0.932225             0.043425  \n",
       "2             0.333407        0.922950             0.034150  \n",
       "3             0.336221        0.922218             0.033418  "
      ]
     },
     "execution_count": 18,
     "metadata": {},
     "output_type": "execute_result"
    }
   ],
   "source": [
    "pd.DataFrame(depth_search_N_and_SNV_frequency_filter)"
   ]
  },
  {
   "cell_type": "markdown",
   "id": "14227b79-424f-49c7-b4e3-a007f0f5a728",
   "metadata": {},
   "source": [
    "### Breadth search with N and SNV frequency filter"
   ]
  },
  {
   "cell_type": "code",
   "execution_count": 19,
   "id": "7447eed2-3d49-4d22-bb2f-ca69d594aab8",
   "metadata": {},
   "outputs": [
    {
     "name": "stdout",
     "output_type": "stream",
     "text": [
      "matrix generation time: 21.74s\n",
      "execution time distance collection: 19.48s\n",
      "execution time breadth search: 14.83s\n",
      "execution time 624875: 58.08s\n",
      "mst generation time: 6.07s\n",
      "matrix generation time: 22.52s\n",
      "execution time distance collection: 20.66s\n",
      "execution time breadth search: 14.85s\n",
      "execution time 1249750: 60.07s\n",
      "mst generation time: 11.23s\n",
      "matrix generation time: 25.13s\n",
      "execution time distance collection: 20.54s\n",
      "execution time breadth search: 15.56s\n",
      "execution time 1874625: 63.33s\n",
      "mst generation time: 13.53s\n",
      "matrix generation time: 22.03s\n",
      "execution time distance collection: 19.98s\n",
      "execution time breadth search: 15.28s\n",
      "execution time 2499500: 59.27s\n",
      "mst generation time: 17.64s\n"
     ]
    }
   ],
   "source": [
    "breadth_search_N_and_SNV_frequency_filter = []\n",
    "for computation_rate in [0.05, 0.1, 0.15, 0.2]:\n",
    "    limit = int(computation_rate*distances_count)\n",
    "    candidates, runtime = bitwise_xor_candidates(encodings_N_and_SNV_frequency_filter, limit, \"breadth\")\n",
    "    breadth_search_N_and_SNV_frequency_filter.append(get_candidate_evaluation_and_export_mst(\"breadth_N_and_SNV\", candidates, graph_path, distance_matrix, gentrain_community_labels, gentrain_mst, list(sequences_df[\"Nextclade_pango\"]), sequences_df, runtime))"
   ]
  },
  {
   "cell_type": "code",
   "execution_count": 20,
   "id": "d3cb0ea4-d428-4ee4-bb7f-7f2dfbafc840",
   "metadata": {},
   "outputs": [
    {
     "data": {
      "text/html": [
       "<div>\n",
       "<style scoped>\n",
       "    .dataframe tbody tr th:only-of-type {\n",
       "        vertical-align: middle;\n",
       "    }\n",
       "\n",
       "    .dataframe tbody tr th {\n",
       "        vertical-align: top;\n",
       "    }\n",
       "\n",
       "    .dataframe thead th {\n",
       "        text-align: right;\n",
       "    }\n",
       "</style>\n",
       "<table border=\"1\" class=\"dataframe\">\n",
       "  <thead>\n",
       "    <tr style=\"text-align: right;\">\n",
       "      <th></th>\n",
       "      <th>computation_rate</th>\n",
       "      <th>infection_detection_rate</th>\n",
       "      <th>infection_recall</th>\n",
       "      <th>infection_precision</th>\n",
       "      <th>infection_f1</th>\n",
       "      <th>runtime</th>\n",
       "      <th>mean_edge_weight</th>\n",
       "      <th>mean_edge_weight_diff</th>\n",
       "      <th>max_edge_weight</th>\n",
       "      <th>subgraph_count</th>\n",
       "      <th>adjusted_rand_index</th>\n",
       "      <th>lineage_purity</th>\n",
       "      <th>lineage_purity_diff</th>\n",
       "    </tr>\n",
       "  </thead>\n",
       "  <tbody>\n",
       "    <tr>\n",
       "      <th>0</th>\n",
       "      <td>0.049380</td>\n",
       "      <td>0.411334</td>\n",
       "      <td>1.0</td>\n",
       "      <td>1.0</td>\n",
       "      <td>0.411334</td>\n",
       "      <td>58.08</td>\n",
       "      <td>1.452671</td>\n",
       "      <td>0.129206</td>\n",
       "      <td>44.0</td>\n",
       "      <td>1</td>\n",
       "      <td>0.176665</td>\n",
       "      <td>0.9008</td>\n",
       "      <td>0.0120</td>\n",
       "    </tr>\n",
       "    <tr>\n",
       "      <th>1</th>\n",
       "      <td>0.097510</td>\n",
       "      <td>0.590606</td>\n",
       "      <td>1.0</td>\n",
       "      <td>1.0</td>\n",
       "      <td>0.590606</td>\n",
       "      <td>60.07</td>\n",
       "      <td>1.410842</td>\n",
       "      <td>0.087377</td>\n",
       "      <td>44.0</td>\n",
       "      <td>1</td>\n",
       "      <td>0.227970</td>\n",
       "      <td>0.8928</td>\n",
       "      <td>0.0040</td>\n",
       "    </tr>\n",
       "    <tr>\n",
       "      <th>2</th>\n",
       "      <td>0.144389</td>\n",
       "      <td>0.703910</td>\n",
       "      <td>1.0</td>\n",
       "      <td>1.0</td>\n",
       "      <td>0.703910</td>\n",
       "      <td>63.33</td>\n",
       "      <td>1.393739</td>\n",
       "      <td>0.070274</td>\n",
       "      <td>44.0</td>\n",
       "      <td>1</td>\n",
       "      <td>0.263546</td>\n",
       "      <td>0.8782</td>\n",
       "      <td>-0.0106</td>\n",
       "    </tr>\n",
       "    <tr>\n",
       "      <th>3</th>\n",
       "      <td>0.190018</td>\n",
       "      <td>0.785902</td>\n",
       "      <td>1.0</td>\n",
       "      <td>1.0</td>\n",
       "      <td>0.785902</td>\n",
       "      <td>59.27</td>\n",
       "      <td>1.386557</td>\n",
       "      <td>0.063093</td>\n",
       "      <td>44.0</td>\n",
       "      <td>1</td>\n",
       "      <td>0.294397</td>\n",
       "      <td>0.8686</td>\n",
       "      <td>-0.0202</td>\n",
       "    </tr>\n",
       "  </tbody>\n",
       "</table>\n",
       "</div>"
      ],
      "text/plain": [
       "   computation_rate  infection_detection_rate  infection_recall  \\\n",
       "0          0.049380                  0.411334               1.0   \n",
       "1          0.097510                  0.590606               1.0   \n",
       "2          0.144389                  0.703910               1.0   \n",
       "3          0.190018                  0.785902               1.0   \n",
       "\n",
       "   infection_precision  infection_f1  runtime  mean_edge_weight  \\\n",
       "0                  1.0      0.411334    58.08          1.452671   \n",
       "1                  1.0      0.590606    60.07          1.410842   \n",
       "2                  1.0      0.703910    63.33          1.393739   \n",
       "3                  1.0      0.785902    59.27          1.386557   \n",
       "\n",
       "   mean_edge_weight_diff  max_edge_weight  subgraph_count  \\\n",
       "0               0.129206             44.0               1   \n",
       "1               0.087377             44.0               1   \n",
       "2               0.070274             44.0               1   \n",
       "3               0.063093             44.0               1   \n",
       "\n",
       "   adjusted_rand_index  lineage_purity  lineage_purity_diff  \n",
       "0             0.176665          0.9008               0.0120  \n",
       "1             0.227970          0.8928               0.0040  \n",
       "2             0.263546          0.8782              -0.0106  \n",
       "3             0.294397          0.8686              -0.0202  "
      ]
     },
     "execution_count": 20,
     "metadata": {},
     "output_type": "execute_result"
    }
   ],
   "source": [
    "pd.DataFrame(breadth_search_N_and_SNV_frequency_filter)"
   ]
  },
  {
   "cell_type": "code",
   "execution_count": 21,
   "id": "f4e54761-806d-47fb-8147-ed4329153159",
   "metadata": {},
   "outputs": [],
   "source": [
    "depth_search_evaluation = {\n",
    "    \"N frequency filter\": {\"values\": {evaluation[\"computation_rate\"]: evaluation for evaluation in depth_search_N_frequency_filter}, \"stroke\": \"dash\", \"color\": \"black\"},\n",
    "    \"N & SNV frequency filter\": {\"values\": {evaluation[\"computation_rate\"]: evaluation for evaluation in depth_search_N_and_SNV_frequency_filter}, \"stroke\": \"dot\", \"color\": \"black\"}\n",
    "}"
   ]
  },
  {
   "cell_type": "code",
   "execution_count": 22,
   "id": "20eb1f2e-87f0-473a-8349-9480f12cd8af",
   "metadata": {},
   "outputs": [],
   "source": [
    "breadth_search_evaluation = {\n",
    "    \"N frequency filter\": {\"values\": {evaluation[\"computation_rate\"]: evaluation for evaluation in breadth_search_N_frequency_filter}, \"stroke\": \"dash\", \"color\": \"black\"},\n",
    "    \"N & SNV frequency filter\": {\"values\": {evaluation[\"computation_rate\"]: evaluation for evaluation in breadth_search_N_and_SNV_frequency_filter}, \"stroke\": \"dot\", \"color\": \"black\"}\n",
    "}"
   ]
  },
  {
   "cell_type": "markdown",
   "id": "356535d0-0c8a-4b32-95e3-1e78a9f062fb",
   "metadata": {},
   "source": [
    "### Infection recall for different filters and computation rates using depth search"
   ]
  },
  {
   "cell_type": "code",
   "execution_count": 23,
   "id": "99cd3d30-cb22-4a18-9f38-c7efb78784ad",
   "metadata": {},
   "outputs": [
    {
     "data": {
      "application/vnd.plotly.v1+json": {
       "config": {
        "plotlyServerURL": "https://plot.ly"
       },
       "data": [
        {
         "line": {
          "color": "black",
          "dash": "dash",
          "width": 4
         },
         "mode": "lines",
         "name": "N frequency filter",
         "type": "scatter",
         "x": [
          0.05,
          0.1,
          0.15,
          0.2
         ],
         "y": [
          0.6957025523497365,
          0.7432990416685338,
          0.7602762965002017,
          0.7710055118463085
         ]
        },
        {
         "marker": {
          "color": "black",
          "size": 8,
          "symbol": "circle"
         },
         "mode": "markers",
         "showlegend": false,
         "text": "",
         "type": "scatter",
         "x": [
          0.05
         ],
         "y": [
          0.6957025523497365
         ]
        },
        {
         "marker": {
          "color": "black",
          "size": 8,
          "symbol": "circle"
         },
         "mode": "markers",
         "showlegend": false,
         "text": "",
         "type": "scatter",
         "x": [
          0.1
         ],
         "y": [
          0.7432990416685338
         ]
        },
        {
         "marker": {
          "color": "black",
          "size": 8,
          "symbol": "circle"
         },
         "mode": "markers",
         "showlegend": false,
         "text": "",
         "type": "scatter",
         "x": [
          0.15
         ],
         "y": [
          0.7602762965002017
         ]
        },
        {
         "marker": {
          "color": "black",
          "size": 8,
          "symbol": "circle"
         },
         "mode": "markers",
         "showlegend": false,
         "text": "",
         "type": "scatter",
         "x": [
          0.2
         ],
         "y": [
          0.7710055118463085
         ]
        },
        {
         "line": {
          "color": "black",
          "dash": "dot",
          "width": 4
         },
         "mode": "lines",
         "name": "N & SNV frequency filter",
         "type": "scatter",
         "x": [
          0.05,
          0.1,
          0.15,
          0.2
         ],
         "y": [
          0.7673821610790671,
          0.8259447278966001,
          0.8694057320640937,
          0.9089361048339084
         ]
        },
        {
         "marker": {
          "color": "black",
          "size": 8,
          "symbol": "circle"
         },
         "mode": "markers",
         "showlegend": false,
         "text": "",
         "type": "scatter",
         "x": [
          0.05
         ],
         "y": [
          0.7673821610790671
         ]
        },
        {
         "marker": {
          "color": "black",
          "size": 8,
          "symbol": "circle"
         },
         "mode": "markers",
         "showlegend": false,
         "text": "",
         "type": "scatter",
         "x": [
          0.1
         ],
         "y": [
          0.8259447278966001
         ]
        },
        {
         "marker": {
          "color": "black",
          "size": 8,
          "symbol": "circle"
         },
         "mode": "markers",
         "showlegend": false,
         "text": "",
         "type": "scatter",
         "x": [
          0.15
         ],
         "y": [
          0.8694057320640937
         ]
        },
        {
         "marker": {
          "color": "black",
          "size": 8,
          "symbol": "circle"
         },
         "mode": "markers",
         "showlegend": false,
         "text": "",
         "type": "scatter",
         "x": [
          0.2
         ],
         "y": [
          0.9089361048339084
         ]
        }
       ],
       "layout": {
        "font": {
         "size": 25
        },
        "height": 700,
        "legend": {
         "font": {
          "size": 30
         },
         "itemwidth": 60,
         "x": 0.85,
         "xanchor": "left",
         "y": 0,
         "yanchor": "bottom"
        },
        "margin": {
         "b": 80,
         "l": 110,
         "r": 0,
         "t": 0
        },
        "template": {
         "data": {
          "pie": [
           {
            "automargin": true,
            "type": "pie"
           }
          ],
          "scatter": [
           {
            "line": {
             "width": 3
            },
            "marker": {
             "size": 9
            },
            "type": "scatter"
           }
          ],
          "scatter3d": [
           {
            "line": {
             "width": 3
            },
            "marker": {
             "size": 9
            },
            "type": "scatter3d"
           }
          ],
          "scattergeo": [
           {
            "line": {
             "width": 3
            },
            "marker": {
             "size": 9
            },
            "type": "scattergeo"
           }
          ],
          "scattergl": [
           {
            "line": {
             "width": 3
            },
            "marker": {
             "size": 9
            },
            "type": "scattergl"
           }
          ],
          "scatterpolar": [
           {
            "line": {
             "width": 3
            },
            "marker": {
             "size": 9
            },
            "type": "scatterpolar"
           }
          ],
          "scatterpolargl": [
           {
            "line": {
             "width": 3
            },
            "marker": {
             "size": 9
            },
            "type": "scatterpolargl"
           }
          ],
          "scatterternary": [
           {
            "line": {
             "width": 3
            },
            "marker": {
             "size": 9
            },
            "type": "scatterternary"
           }
          ],
          "table": [
           {
            "cells": {
             "height": 30
            },
            "header": {
             "height": 36
            },
            "type": "table"
           }
          ]
         },
         "layout": {
          "font": {
           "size": 18
          },
          "xaxis": {
           "title": {
            "standoff": 15
           }
          },
          "yaxis": {
           "title": {
            "standoff": 15
           }
          }
         }
        },
        "width": 1200,
        "xaxis": {
         "autorange": true,
         "range": [
          0.04043026706231454,
          0.20956973293768547
         ],
         "tickmode": "array",
         "tickvals": [
          0.05,
          0.1,
          0.15,
          0.2
         ],
         "title": {
          "text": "Computation rate"
         },
         "type": "linear"
        },
        "yaxis": {
         "autorange": true,
         "range": [
          0.6816945087558859,
          0.9229441484277591
         ],
         "title": {
          "text": "Infection recall"
         },
         "type": "linear"
        }
       }
      }
     },
     "metadata": {},
     "output_type": "display_data"
    }
   ],
   "source": [
    "sub_fig = get_computation_rate_plot(\"infection_detection_rate\", depth_search_evaluation, \"Infection recall\", dict(\n",
    "            x=0.85,\n",
    "            y=0,\n",
    "            itemwidth=60,\n",
    "            xanchor='left',\n",
    "            yanchor='bottom',\n",
    "            font=dict(size=30),\n",
    "        ))\n",
    "\n",
    "sub_fig.show()"
   ]
  },
  {
   "cell_type": "markdown",
   "id": "60ae3e60-01c1-4d5c-a9ab-94a97468191b",
   "metadata": {},
   "source": [
    "### Community ARI for different filters and computation rates using depth search"
   ]
  },
  {
   "cell_type": "code",
   "execution_count": 24,
   "id": "908ca4d5-07c7-4b82-9db4-c723d72b4a56",
   "metadata": {},
   "outputs": [
    {
     "data": {
      "application/vnd.plotly.v1+json": {
       "config": {
        "plotlyServerURL": "https://plot.ly"
       },
       "data": [
        {
         "line": {
          "color": "black",
          "dash": "dash",
          "width": 4
         },
         "mode": "lines",
         "name": "N frequency filter",
         "type": "scatter",
         "x": [
          0.05,
          0.1,
          0.15,
          0.2
         ],
         "y": [
          0.20798532800499525,
          0.22291553598221223,
          0.2515135060596663,
          0.2666675953941647
         ]
        },
        {
         "marker": {
          "color": "black",
          "size": 8,
          "symbol": "circle"
         },
         "mode": "markers",
         "showlegend": false,
         "text": "",
         "type": "scatter",
         "x": [
          0.05
         ],
         "y": [
          0.20798532800499525
         ]
        },
        {
         "marker": {
          "color": "black",
          "size": 8,
          "symbol": "circle"
         },
         "mode": "markers",
         "showlegend": false,
         "text": "",
         "type": "scatter",
         "x": [
          0.1
         ],
         "y": [
          0.22291553598221223
         ]
        },
        {
         "marker": {
          "color": "black",
          "size": 8,
          "symbol": "circle"
         },
         "mode": "markers",
         "showlegend": false,
         "text": "",
         "type": "scatter",
         "x": [
          0.15
         ],
         "y": [
          0.2515135060596663
         ]
        },
        {
         "marker": {
          "color": "black",
          "size": 8,
          "symbol": "circle"
         },
         "mode": "markers",
         "showlegend": false,
         "text": "",
         "type": "scatter",
         "x": [
          0.2
         ],
         "y": [
          0.2666675953941647
         ]
        },
        {
         "line": {
          "color": "black",
          "dash": "dot",
          "width": 4
         },
         "mode": "lines",
         "name": "N & SNV frequency filter",
         "type": "scatter",
         "x": [
          0.05,
          0.1,
          0.15,
          0.2
         ],
         "y": [
          0.27503038678662983,
          0.2634314217413327,
          0.33340739524318125,
          0.3362214743669505
         ]
        },
        {
         "marker": {
          "color": "black",
          "size": 8,
          "symbol": "circle"
         },
         "mode": "markers",
         "showlegend": false,
         "text": "",
         "type": "scatter",
         "x": [
          0.05
         ],
         "y": [
          0.27503038678662983
         ]
        },
        {
         "marker": {
          "color": "black",
          "size": 8,
          "symbol": "circle"
         },
         "mode": "markers",
         "showlegend": false,
         "text": "",
         "type": "scatter",
         "x": [
          0.1
         ],
         "y": [
          0.2634314217413327
         ]
        },
        {
         "marker": {
          "color": "black",
          "size": 8,
          "symbol": "circle"
         },
         "mode": "markers",
         "showlegend": false,
         "text": "",
         "type": "scatter",
         "x": [
          0.15
         ],
         "y": [
          0.33340739524318125
         ]
        },
        {
         "marker": {
          "color": "black",
          "size": 8,
          "symbol": "circle"
         },
         "mode": "markers",
         "showlegend": false,
         "text": "",
         "type": "scatter",
         "x": [
          0.2
         ],
         "y": [
          0.3362214743669505
         ]
        }
       ],
       "layout": {
        "font": {
         "size": 25
        },
        "height": 700,
        "legend": {
         "font": {
          "size": 30
         },
         "itemwidth": 60,
         "x": 0.85,
         "xanchor": "left",
         "y": 0,
         "yanchor": "bottom"
        },
        "margin": {
         "b": 80,
         "l": 110,
         "r": 0,
         "t": 0
        },
        "template": {
         "data": {
          "pie": [
           {
            "automargin": true,
            "type": "pie"
           }
          ],
          "scatter": [
           {
            "line": {
             "width": 3
            },
            "marker": {
             "size": 9
            },
            "type": "scatter"
           }
          ],
          "scatter3d": [
           {
            "line": {
             "width": 3
            },
            "marker": {
             "size": 9
            },
            "type": "scatter3d"
           }
          ],
          "scattergeo": [
           {
            "line": {
             "width": 3
            },
            "marker": {
             "size": 9
            },
            "type": "scattergeo"
           }
          ],
          "scattergl": [
           {
            "line": {
             "width": 3
            },
            "marker": {
             "size": 9
            },
            "type": "scattergl"
           }
          ],
          "scatterpolar": [
           {
            "line": {
             "width": 3
            },
            "marker": {
             "size": 9
            },
            "type": "scatterpolar"
           }
          ],
          "scatterpolargl": [
           {
            "line": {
             "width": 3
            },
            "marker": {
             "size": 9
            },
            "type": "scatterpolargl"
           }
          ],
          "scatterternary": [
           {
            "line": {
             "width": 3
            },
            "marker": {
             "size": 9
            },
            "type": "scatterternary"
           }
          ],
          "table": [
           {
            "cells": {
             "height": 30
            },
            "header": {
             "height": 36
            },
            "type": "table"
           }
          ]
         },
         "layout": {
          "font": {
           "size": 18
          },
          "xaxis": {
           "title": {
            "standoff": 15
           }
          },
          "yaxis": {
           "title": {
            "standoff": 15
           }
          }
         }
        },
        "width": 1200,
        "xaxis": {
         "autorange": true,
         "range": [
          0.04043026706231454,
          0.20956973293768547
         ],
         "tickmode": "array",
         "tickvals": [
          0.05,
          0.1,
          0.15,
          0.2
         ],
         "title": {
          "text": "Computation rate"
         },
         "type": "linear"
        },
        "yaxis": {
         "autorange": true,
         "range": [
          0.19956105561625367,
          0.3446457467556921
         ],
         "title": {
          "text": "Community ARI"
         },
         "type": "linear"
        }
       }
      }
     },
     "metadata": {},
     "output_type": "display_data"
    }
   ],
   "source": [
    "sub_fig = get_computation_rate_plot(\"adjusted_rand_index\", depth_search_evaluation, \"Community ARI\", dict(\n",
    "            x=0.85,\n",
    "            y=0,\n",
    "            itemwidth=60,\n",
    "            xanchor='left',\n",
    "            yanchor='bottom',\n",
    "            font=dict(size=30),\n",
    "        ))\n",
    "\n",
    "sub_fig.show()"
   ]
  },
  {
   "cell_type": "markdown",
   "id": "2a0efc3b-1a9d-484c-9baf-c4b3a60944b6",
   "metadata": {},
   "source": [
    "### Infection recall for different filters and computation rates using breadth search"
   ]
  },
  {
   "cell_type": "code",
   "execution_count": 25,
   "id": "f729759c-183c-4d20-ba84-3aefe341f254",
   "metadata": {},
   "outputs": [
    {
     "data": {
      "application/vnd.plotly.v1+json": {
       "config": {
        "plotlyServerURL": "https://plot.ly"
       },
       "data": [
        {
         "line": {
          "color": "black",
          "dash": "dash",
          "width": 4
         },
         "mode": "lines",
         "name": "N frequency filter",
         "type": "scatter",
         "x": [
          0.04937987597519504,
          0.09750950190038007,
          0.14438887777555512,
          0.19001800360072013
         ],
         "y": [
          0.43592238603409533,
          0.596674967511475,
          0.6946078651038032,
          0.7478058242482828
         ]
        },
        {
         "marker": {
          "color": "black",
          "size": 8,
          "symbol": "circle"
         },
         "mode": "markers",
         "showlegend": false,
         "text": "",
         "type": "scatter",
         "x": [
          0.04937987597519504
         ],
         "y": [
          0.43592238603409533
         ]
        },
        {
         "marker": {
          "color": "black",
          "size": 8,
          "symbol": "circle"
         },
         "mode": "markers",
         "showlegend": false,
         "text": "",
         "type": "scatter",
         "x": [
          0.09750950190038007
         ],
         "y": [
          0.596674967511475
         ]
        },
        {
         "marker": {
          "color": "black",
          "size": 8,
          "symbol": "circle"
         },
         "mode": "markers",
         "showlegend": false,
         "text": "",
         "type": "scatter",
         "x": [
          0.14438887777555512
         ],
         "y": [
          0.6946078651038032
         ]
        },
        {
         "marker": {
          "color": "black",
          "size": 8,
          "symbol": "circle"
         },
         "mode": "markers",
         "showlegend": false,
         "text": "",
         "type": "scatter",
         "x": [
          0.19001800360072013
         ],
         "y": [
          0.7478058242482828
         ]
        },
        {
         "line": {
          "color": "black",
          "dash": "dot",
          "width": 4
         },
         "mode": "lines",
         "name": "N & SNV frequency filter",
         "type": "scatter",
         "x": [
          0.04937987597519504,
          0.09750950190038007,
          0.14438887777555512,
          0.19001800360072013
         ],
         "y": [
          0.41133353391930044,
          0.5906061750603359,
          0.7039095058543362,
          0.7859022207427229
         ]
        },
        {
         "marker": {
          "color": "black",
          "size": 8,
          "symbol": "circle"
         },
         "mode": "markers",
         "showlegend": false,
         "text": "",
         "type": "scatter",
         "x": [
          0.04937987597519504
         ],
         "y": [
          0.41133353391930044
         ]
        },
        {
         "marker": {
          "color": "black",
          "size": 8,
          "symbol": "circle"
         },
         "mode": "markers",
         "showlegend": false,
         "text": "",
         "type": "scatter",
         "x": [
          0.09750950190038007
         ],
         "y": [
          0.5906061750603359
         ]
        },
        {
         "marker": {
          "color": "black",
          "size": 8,
          "symbol": "circle"
         },
         "mode": "markers",
         "showlegend": false,
         "text": "",
         "type": "scatter",
         "x": [
          0.14438887777555512
         ],
         "y": [
          0.7039095058543362
         ]
        },
        {
         "marker": {
          "color": "black",
          "size": 8,
          "symbol": "circle"
         },
         "mode": "markers",
         "showlegend": false,
         "text": "",
         "type": "scatter",
         "x": [
          0.19001800360072013
         ],
         "y": [
          0.7859022207427229
         ]
        }
       ],
       "layout": {
        "font": {
         "size": 25
        },
        "height": 700,
        "legend": {
         "font": {
          "size": 35
         },
         "x": 0.65,
         "xanchor": "left",
         "y": 0.05,
         "yanchor": "bottom"
        },
        "margin": {
         "b": 80,
         "l": 110,
         "r": 0,
         "t": 0
        },
        "template": {
         "data": {
          "pie": [
           {
            "automargin": true,
            "type": "pie"
           }
          ],
          "scatter": [
           {
            "line": {
             "width": 3
            },
            "marker": {
             "size": 9
            },
            "type": "scatter"
           }
          ],
          "scatter3d": [
           {
            "line": {
             "width": 3
            },
            "marker": {
             "size": 9
            },
            "type": "scatter3d"
           }
          ],
          "scattergeo": [
           {
            "line": {
             "width": 3
            },
            "marker": {
             "size": 9
            },
            "type": "scattergeo"
           }
          ],
          "scattergl": [
           {
            "line": {
             "width": 3
            },
            "marker": {
             "size": 9
            },
            "type": "scattergl"
           }
          ],
          "scatterpolar": [
           {
            "line": {
             "width": 3
            },
            "marker": {
             "size": 9
            },
            "type": "scatterpolar"
           }
          ],
          "scatterpolargl": [
           {
            "line": {
             "width": 3
            },
            "marker": {
             "size": 9
            },
            "type": "scatterpolargl"
           }
          ],
          "scatterternary": [
           {
            "line": {
             "width": 3
            },
            "marker": {
             "size": 9
            },
            "type": "scatterternary"
           }
          ],
          "table": [
           {
            "cells": {
             "height": 30
            },
            "header": {
             "height": 36
            },
            "type": "table"
           }
          ]
         },
         "layout": {
          "font": {
           "size": 18
          },
          "xaxis": {
           "title": {
            "standoff": 15
           }
          },
          "yaxis": {
           "title": {
            "standoff": 15
           }
          }
         }
        },
        "width": 1200,
        "xaxis": {
         "autorange": true,
         "range": [
          0.040637053645113316,
          0.19876082593080185
         ],
         "tickmode": "array",
         "tickvals": [
          0.05,
          0.1,
          0.15,
          0.2
         ],
         "title": {
          "text": "Computation rate"
         },
         "type": "linear"
        },
        "yaxis": {
         "autorange": true,
         "range": [
          0.386726831865207,
          0.8105089227968163
         ],
         "title": {
          "text": "Infection recall"
         },
         "type": "linear"
        }
       }
      }
     },
     "metadata": {},
     "output_type": "display_data"
    }
   ],
   "source": [
    "sub_fig = get_computation_rate_plot(\"infection_detection_rate\", breadth_search_evaluation, \"Infection recall\", legend=dict(\n",
    "            x=0.65,\n",
    "            y=0.05,\n",
    "            xanchor='left',\n",
    "            yanchor='bottom',\n",
    "            font=dict(size=35),\n",
    "        ))\n",
    "sub_fig.show()"
   ]
  },
  {
   "cell_type": "markdown",
   "id": "89420831-1def-4eca-824e-0da5a81e94b6",
   "metadata": {},
   "source": [
    "### Community ARI for different filters and computation rates using breadth search"
   ]
  },
  {
   "cell_type": "code",
   "execution_count": 26,
   "id": "203133c2-1c05-47b5-9f5d-5898432945c2",
   "metadata": {},
   "outputs": [
    {
     "data": {
      "application/vnd.plotly.v1+json": {
       "config": {
        "plotlyServerURL": "https://plot.ly"
       },
       "data": [
        {
         "line": {
          "color": "black",
          "dash": "dash",
          "width": 4
         },
         "mode": "lines",
         "name": "N frequency filter",
         "type": "scatter",
         "x": [
          0.04937987597519504,
          0.09750950190038007,
          0.14438887777555512,
          0.19001800360072013
         ],
         "y": [
          0.15998916431153654,
          0.19971356750459707,
          0.23268955970561375,
          0.25639648735720716
         ]
        },
        {
         "marker": {
          "color": "black",
          "size": 8,
          "symbol": "circle"
         },
         "mode": "markers",
         "showlegend": false,
         "text": "",
         "type": "scatter",
         "x": [
          0.04937987597519504
         ],
         "y": [
          0.15998916431153654
         ]
        },
        {
         "marker": {
          "color": "black",
          "size": 8,
          "symbol": "circle"
         },
         "mode": "markers",
         "showlegend": false,
         "text": "",
         "type": "scatter",
         "x": [
          0.09750950190038007
         ],
         "y": [
          0.19971356750459707
         ]
        },
        {
         "marker": {
          "color": "black",
          "size": 8,
          "symbol": "circle"
         },
         "mode": "markers",
         "showlegend": false,
         "text": "",
         "type": "scatter",
         "x": [
          0.14438887777555512
         ],
         "y": [
          0.23268955970561375
         ]
        },
        {
         "marker": {
          "color": "black",
          "size": 8,
          "symbol": "circle"
         },
         "mode": "markers",
         "showlegend": false,
         "text": "",
         "type": "scatter",
         "x": [
          0.19001800360072013
         ],
         "y": [
          0.25639648735720716
         ]
        },
        {
         "line": {
          "color": "black",
          "dash": "dot",
          "width": 4
         },
         "mode": "lines",
         "name": "N & SNV frequency filter",
         "type": "scatter",
         "x": [
          0.04937987597519504,
          0.09750950190038007,
          0.14438887777555512,
          0.19001800360072013
         ],
         "y": [
          0.17666479730629567,
          0.2279702168963392,
          0.2635463537439821,
          0.29439702328127254
         ]
        },
        {
         "marker": {
          "color": "black",
          "size": 8,
          "symbol": "circle"
         },
         "mode": "markers",
         "showlegend": false,
         "text": "",
         "type": "scatter",
         "x": [
          0.04937987597519504
         ],
         "y": [
          0.17666479730629567
         ]
        },
        {
         "marker": {
          "color": "black",
          "size": 8,
          "symbol": "circle"
         },
         "mode": "markers",
         "showlegend": false,
         "text": "",
         "type": "scatter",
         "x": [
          0.09750950190038007
         ],
         "y": [
          0.2279702168963392
         ]
        },
        {
         "marker": {
          "color": "black",
          "size": 8,
          "symbol": "circle"
         },
         "mode": "markers",
         "showlegend": false,
         "text": "",
         "type": "scatter",
         "x": [
          0.14438887777555512
         ],
         "y": [
          0.2635463537439821
         ]
        },
        {
         "marker": {
          "color": "black",
          "size": 8,
          "symbol": "circle"
         },
         "mode": "markers",
         "showlegend": false,
         "text": "",
         "type": "scatter",
         "x": [
          0.19001800360072013
         ],
         "y": [
          0.29439702328127254
         ]
        }
       ],
       "layout": {
        "font": {
         "size": 25
        },
        "height": 700,
        "legend": {
         "font": {
          "size": 35
         },
         "x": 0.55,
         "xanchor": "left",
         "y": 0.02,
         "yanchor": "bottom"
        },
        "margin": {
         "b": 80,
         "l": 110,
         "r": 0,
         "t": 0
        },
        "template": {
         "data": {
          "pie": [
           {
            "automargin": true,
            "type": "pie"
           }
          ],
          "scatter": [
           {
            "line": {
             "width": 3
            },
            "marker": {
             "size": 9
            },
            "type": "scatter"
           }
          ],
          "scatter3d": [
           {
            "line": {
             "width": 3
            },
            "marker": {
             "size": 9
            },
            "type": "scatter3d"
           }
          ],
          "scattergeo": [
           {
            "line": {
             "width": 3
            },
            "marker": {
             "size": 9
            },
            "type": "scattergeo"
           }
          ],
          "scattergl": [
           {
            "line": {
             "width": 3
            },
            "marker": {
             "size": 9
            },
            "type": "scattergl"
           }
          ],
          "scatterpolar": [
           {
            "line": {
             "width": 3
            },
            "marker": {
             "size": 9
            },
            "type": "scatterpolar"
           }
          ],
          "scatterpolargl": [
           {
            "line": {
             "width": 3
            },
            "marker": {
             "size": 9
            },
            "type": "scatterpolargl"
           }
          ],
          "scatterternary": [
           {
            "line": {
             "width": 3
            },
            "marker": {
             "size": 9
            },
            "type": "scatterternary"
           }
          ],
          "table": [
           {
            "cells": {
             "height": 30
            },
            "header": {
             "height": 36
            },
            "type": "table"
           }
          ]
         },
         "layout": {
          "font": {
           "size": 18
          },
          "xaxis": {
           "title": {
            "standoff": 15
           }
          },
          "yaxis": {
           "title": {
            "standoff": 15
           }
          }
         }
        },
        "width": 1200,
        "xaxis": {
         "autorange": true,
         "range": [
          0.04076198864901714,
          0.19863589092689804
         ],
         "tickmode": "array",
         "tickvals": [
          0.05,
          0.1,
          0.15,
          0.2
         ],
         "title": {
          "text": "Computation rate"
         },
         "type": "linear"
        },
        "yaxis": {
         "autorange": true,
         "range": [
          0.15115945094856117,
          0.3032267366442479
         ],
         "title": {
          "text": "Community ARI"
         },
         "type": "linear"
        }
       }
      }
     },
     "metadata": {},
     "output_type": "display_data"
    }
   ],
   "source": [
    "sub_fig = get_computation_rate_plot(\"adjusted_rand_index\", breadth_search_evaluation, \"Community ARI\", legend=dict(\n",
    "            x=0.55,\n",
    "            y=0.02,\n",
    "            xanchor='left',\n",
    "            yanchor='bottom',\n",
    "            font=dict(size=35),\n",
    "        ))\n",
    "sub_fig.show()"
   ]
  },
  {
   "cell_type": "code",
   "execution_count": 27,
   "id": "a2527af6-911c-4ba6-a4ff-ed2c416bc3b6",
   "metadata": {},
   "outputs": [],
   "source": [
    "depth_vs_breadth_search_evaluation = {\n",
    "    \"Depth search\": {\"values\": {evaluation[\"computation_rate\"]: evaluation for evaluation in depth_search_N_and_SNV_frequency_filter}, \"stroke\": \"solid\", \"color\": \"blue\"},\n",
    "    \"Breadth search\": {\"values\": {evaluation[\"computation_rate\"]: evaluation for evaluation in breadth_search_N_and_SNV_frequency_filter}, \"stroke\": \"solid\", \"color\": \"green\"},  \n",
    "}"
   ]
  },
  {
   "cell_type": "markdown",
   "id": "3ff60961-3a76-4abe-992b-3f351c87d047",
   "metadata": {},
   "source": [
    "### Infection recall for different computation rates using depth search and breadth search (N and SNV frequency filter)"
   ]
  },
  {
   "cell_type": "code",
   "execution_count": 28,
   "id": "a888b187-43f9-4e72-a7bb-e1d39756b694",
   "metadata": {},
   "outputs": [
    {
     "data": {
      "application/vnd.plotly.v1+json": {
       "config": {
        "plotlyServerURL": "https://plot.ly"
       },
       "data": [
        {
         "line": {
          "color": "blue",
          "dash": "solid",
          "width": 4
         },
         "mode": "lines",
         "name": "Depth search",
         "type": "scatter",
         "x": [
          0.05,
          0.1,
          0.15,
          0.2
         ],
         "y": [
          0.7673821610790671,
          0.8259447278966001,
          0.8694057320640937,
          0.9089361048339084
         ]
        },
        {
         "marker": {
          "color": "blue",
          "size": 8,
          "symbol": "circle"
         },
         "mode": "markers",
         "showlegend": false,
         "text": "",
         "type": "scatter",
         "x": [
          0.05
         ],
         "y": [
          0.7673821610790671
         ]
        },
        {
         "marker": {
          "color": "blue",
          "size": 8,
          "symbol": "circle"
         },
         "mode": "markers",
         "showlegend": false,
         "text": "",
         "type": "scatter",
         "x": [
          0.1
         ],
         "y": [
          0.8259447278966001
         ]
        },
        {
         "marker": {
          "color": "blue",
          "size": 8,
          "symbol": "circle"
         },
         "mode": "markers",
         "showlegend": false,
         "text": "",
         "type": "scatter",
         "x": [
          0.15
         ],
         "y": [
          0.8694057320640937
         ]
        },
        {
         "marker": {
          "color": "blue",
          "size": 8,
          "symbol": "circle"
         },
         "mode": "markers",
         "showlegend": false,
         "text": "",
         "type": "scatter",
         "x": [
          0.2
         ],
         "y": [
          0.9089361048339084
         ]
        },
        {
         "line": {
          "color": "green",
          "dash": "solid",
          "width": 4
         },
         "mode": "lines",
         "name": "Breadth search",
         "type": "scatter",
         "x": [
          0.04937987597519504,
          0.09750950190038007,
          0.14438887777555512,
          0.19001800360072013
         ],
         "y": [
          0.41133353391930044,
          0.5906061750603359,
          0.7039095058543362,
          0.7859022207427229
         ]
        },
        {
         "marker": {
          "color": "green",
          "size": 8,
          "symbol": "circle"
         },
         "mode": "markers",
         "showlegend": false,
         "text": "",
         "type": "scatter",
         "x": [
          0.04937987597519504
         ],
         "y": [
          0.41133353391930044
         ]
        },
        {
         "marker": {
          "color": "green",
          "size": 8,
          "symbol": "circle"
         },
         "mode": "markers",
         "showlegend": false,
         "text": "",
         "type": "scatter",
         "x": [
          0.09750950190038007
         ],
         "y": [
          0.5906061750603359
         ]
        },
        {
         "marker": {
          "color": "green",
          "size": 8,
          "symbol": "circle"
         },
         "mode": "markers",
         "showlegend": false,
         "text": "",
         "type": "scatter",
         "x": [
          0.14438887777555512
         ],
         "y": [
          0.7039095058543362
         ]
        },
        {
         "marker": {
          "color": "green",
          "size": 8,
          "symbol": "circle"
         },
         "mode": "markers",
         "showlegend": false,
         "text": "",
         "type": "scatter",
         "x": [
          0.19001800360072013
         ],
         "y": [
          0.7859022207427229
         ]
        }
       ],
       "layout": {
        "font": {
         "size": 25
        },
        "height": 700,
        "legend": {
         "font": {
          "size": 35
         },
         "x": 0.7,
         "xanchor": "left",
         "y": 0.1,
         "yanchor": "bottom"
        },
        "margin": {
         "b": 80,
         "l": 110,
         "r": 0,
         "t": 0
        },
        "template": {
         "data": {
          "pie": [
           {
            "automargin": true,
            "type": "pie"
           }
          ],
          "scatter": [
           {
            "line": {
             "width": 3
            },
            "marker": {
             "size": 9
            },
            "type": "scatter"
           }
          ],
          "scatter3d": [
           {
            "line": {
             "width": 3
            },
            "marker": {
             "size": 9
            },
            "type": "scatter3d"
           }
          ],
          "scattergeo": [
           {
            "line": {
             "width": 3
            },
            "marker": {
             "size": 9
            },
            "type": "scattergeo"
           }
          ],
          "scattergl": [
           {
            "line": {
             "width": 3
            },
            "marker": {
             "size": 9
            },
            "type": "scattergl"
           }
          ],
          "scatterpolar": [
           {
            "line": {
             "width": 3
            },
            "marker": {
             "size": 9
            },
            "type": "scatterpolar"
           }
          ],
          "scatterpolargl": [
           {
            "line": {
             "width": 3
            },
            "marker": {
             "size": 9
            },
            "type": "scatterpolargl"
           }
          ],
          "scatterternary": [
           {
            "line": {
             "width": 3
            },
            "marker": {
             "size": 9
            },
            "type": "scatterternary"
           }
          ],
          "table": [
           {
            "cells": {
             "height": 30
            },
            "header": {
             "height": 36
            },
            "type": "table"
           }
          ]
         },
         "layout": {
          "font": {
           "size": 18
          },
          "xaxis": {
           "title": {
            "standoff": 15
           }
          },
          "yaxis": {
           "title": {
            "standoff": 15
           }
          }
         }
        },
        "width": 1200,
        "xaxis": {
         "autorange": true,
         "range": [
          0.04015032151641451,
          0.20922955445878055
         ],
         "tickmode": "array",
         "tickvals": [
          0.05,
          0.1,
          0.15,
          0.2
         ],
         "title": {
          "text": "Computation rate"
         },
         "type": "linear"
        },
        "yaxis": {
         "autorange": true,
         "range": [
          0.37864431393220943,
          0.9416253248209995
         ],
         "title": {
          "text": "Infection recall"
         },
         "type": "linear"
        }
       }
      }
     },
     "metadata": {},
     "output_type": "display_data"
    }
   ],
   "source": [
    "sub_fig = get_computation_rate_plot(\"infection_detection_rate\", depth_vs_breadth_search_evaluation, \"Infection recall\", legend=dict(\n",
    "            x=0.7,\n",
    "            y=0.1,\n",
    "            xanchor='left',\n",
    "            yanchor='bottom',\n",
    "            font=dict(size=35),\n",
    "        ))\n",
    "sub_fig.show()"
   ]
  },
  {
   "cell_type": "markdown",
   "id": "0ba52540-a7f4-449c-ad65-ad9780668c09",
   "metadata": {},
   "source": [
    "### Community ARI for different computation rates using depth search and breadth search (N and SNV frequency filter)"
   ]
  },
  {
   "cell_type": "code",
   "execution_count": 29,
   "id": "1248ca7b-aee5-4e18-a400-9e5be429770e",
   "metadata": {},
   "outputs": [
    {
     "data": {
      "application/vnd.plotly.v1+json": {
       "config": {
        "plotlyServerURL": "https://plot.ly"
       },
       "data": [
        {
         "line": {
          "color": "blue",
          "dash": "solid",
          "width": 4
         },
         "mode": "lines",
         "name": "Depth search",
         "type": "scatter",
         "x": [
          0.05,
          0.1,
          0.15,
          0.2
         ],
         "y": [
          0.27503038678662983,
          0.2634314217413327,
          0.33340739524318125,
          0.3362214743669505
         ]
        },
        {
         "marker": {
          "color": "blue",
          "size": 8,
          "symbol": "circle"
         },
         "mode": "markers",
         "showlegend": false,
         "text": "",
         "type": "scatter",
         "x": [
          0.05
         ],
         "y": [
          0.27503038678662983
         ]
        },
        {
         "marker": {
          "color": "blue",
          "size": 8,
          "symbol": "circle"
         },
         "mode": "markers",
         "showlegend": false,
         "text": "",
         "type": "scatter",
         "x": [
          0.1
         ],
         "y": [
          0.2634314217413327
         ]
        },
        {
         "marker": {
          "color": "blue",
          "size": 8,
          "symbol": "circle"
         },
         "mode": "markers",
         "showlegend": false,
         "text": "",
         "type": "scatter",
         "x": [
          0.15
         ],
         "y": [
          0.33340739524318125
         ]
        },
        {
         "marker": {
          "color": "blue",
          "size": 8,
          "symbol": "circle"
         },
         "mode": "markers",
         "showlegend": false,
         "text": "",
         "type": "scatter",
         "x": [
          0.2
         ],
         "y": [
          0.3362214743669505
         ]
        },
        {
         "line": {
          "color": "green",
          "dash": "solid",
          "width": 4
         },
         "mode": "lines",
         "name": "Breadth search",
         "type": "scatter",
         "x": [
          0.04937987597519504,
          0.09750950190038007,
          0.14438887777555512,
          0.19001800360072013
         ],
         "y": [
          0.17666479730629567,
          0.2279702168963392,
          0.2635463537439821,
          0.29439702328127254
         ]
        },
        {
         "marker": {
          "color": "green",
          "size": 8,
          "symbol": "circle"
         },
         "mode": "markers",
         "showlegend": false,
         "text": "",
         "type": "scatter",
         "x": [
          0.04937987597519504
         ],
         "y": [
          0.17666479730629567
         ]
        },
        {
         "marker": {
          "color": "green",
          "size": 8,
          "symbol": "circle"
         },
         "mode": "markers",
         "showlegend": false,
         "text": "",
         "type": "scatter",
         "x": [
          0.09750950190038007
         ],
         "y": [
          0.2279702168963392
         ]
        },
        {
         "marker": {
          "color": "green",
          "size": 8,
          "symbol": "circle"
         },
         "mode": "markers",
         "showlegend": false,
         "text": "",
         "type": "scatter",
         "x": [
          0.14438887777555512
         ],
         "y": [
          0.2635463537439821
         ]
        },
        {
         "marker": {
          "color": "green",
          "size": 8,
          "symbol": "circle"
         },
         "mode": "markers",
         "showlegend": false,
         "text": "",
         "type": "scatter",
         "x": [
          0.19001800360072013
         ],
         "y": [
          0.29439702328127254
         ]
        }
       ],
       "layout": {
        "font": {
         "size": 25
        },
        "height": 700,
        "legend": {
         "font": {
          "size": 35
         },
         "x": 0.7,
         "xanchor": "left",
         "y": 0.1,
         "yanchor": "bottom"
        },
        "margin": {
         "b": 80,
         "l": 110,
         "r": 0,
         "t": 0
        },
        "template": {
         "data": {
          "pie": [
           {
            "automargin": true,
            "type": "pie"
           }
          ],
          "scatter": [
           {
            "line": {
             "width": 3
            },
            "marker": {
             "size": 9
            },
            "type": "scatter"
           }
          ],
          "scatter3d": [
           {
            "line": {
             "width": 3
            },
            "marker": {
             "size": 9
            },
            "type": "scatter3d"
           }
          ],
          "scattergeo": [
           {
            "line": {
             "width": 3
            },
            "marker": {
             "size": 9
            },
            "type": "scattergeo"
           }
          ],
          "scattergl": [
           {
            "line": {
             "width": 3
            },
            "marker": {
             "size": 9
            },
            "type": "scattergl"
           }
          ],
          "scatterpolar": [
           {
            "line": {
             "width": 3
            },
            "marker": {
             "size": 9
            },
            "type": "scatterpolar"
           }
          ],
          "scatterpolargl": [
           {
            "line": {
             "width": 3
            },
            "marker": {
             "size": 9
            },
            "type": "scatterpolargl"
           }
          ],
          "scatterternary": [
           {
            "line": {
             "width": 3
            },
            "marker": {
             "size": 9
            },
            "type": "scatterternary"
           }
          ],
          "table": [
           {
            "cells": {
             "height": 30
            },
            "header": {
             "height": 36
            },
            "type": "table"
           }
          ]
         },
         "layout": {
          "font": {
           "size": 18
          },
          "xaxis": {
           "title": {
            "standoff": 15
           }
          },
          "yaxis": {
           "title": {
            "standoff": 15
           }
          }
         }
        },
        "width": 1200,
        "xaxis": {
         "autorange": true,
         "range": [
          0.04015032151641451,
          0.20922955445878055
         ],
         "tickmode": "array",
         "tickvals": [
          0.05,
          0.1,
          0.15,
          0.2
         ],
         "title": {
          "text": "Computation rate"
         },
         "type": "linear"
        },
        "yaxis": {
         "autorange": true,
         "range": [
          0.16618297180596067,
          0.3467032998672855
         ],
         "title": {
          "text": "Community ARI"
         },
         "type": "linear"
        }
       }
      }
     },
     "metadata": {},
     "output_type": "display_data"
    }
   ],
   "source": [
    "sub_fig = get_computation_rate_plot(\"adjusted_rand_index\", depth_vs_breadth_search_evaluation, \"Community ARI\", legend=dict(\n",
    "            x=0.7,\n",
    "            y=0.1,\n",
    "            xanchor='left',\n",
    "            yanchor='bottom',\n",
    "            font=dict(size=35),\n",
    "        ))\n",
    "sub_fig.show()"
   ]
  },
  {
   "cell_type": "code",
   "execution_count": null,
   "id": "df22ea81-90c0-43ee-a047-f54f76db1ba7",
   "metadata": {},
   "outputs": [],
   "source": []
  }
 ],
 "metadata": {
  "kernelspec": {
   "display_name": "Python 3 (ipykernel)",
   "language": "python",
   "name": "python3"
  },
  "language_info": {
   "codemirror_mode": {
    "name": "ipython",
    "version": 3
   },
   "file_extension": ".py",
   "mimetype": "text/x-python",
   "name": "python",
   "nbconvert_exporter": "python",
   "pygments_lexer": "ipython3",
   "version": "3.12.5"
  }
 },
 "nbformat": 4,
 "nbformat_minor": 5
}
