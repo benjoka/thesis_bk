{
 "cells": [
  {
   "cell_type": "code",
   "execution_count": 1,
   "id": "b2c3d2f8-d7a0-4f5f-a76c-d484d076de38",
   "metadata": {},
   "outputs": [
    {
     "name": "stdout",
     "output_type": "stream",
     "text": [
      "\u001b[33mWARNING: Ignoring invalid distribution ~entrain (/Users/benkraling/Library/jupyterlab-desktop/jlab_server/lib/python3.12/site-packages)\u001b[0m\u001b[33m\n",
      "\u001b[0mProcessing /Users/benkraling/code/thesis/gentrain\n",
      "  Preparing metadata (setup.py) ... \u001b[?25ldone\n",
      "\u001b[?25hRequirement already satisfied: biopython in /Users/benkraling/Library/jupyterlab-desktop/jlab_server/lib/python3.12/site-packages (from gentrain==0.1.2) (1.85)\n",
      "Requirement already satisfied: networkx in /Users/benkraling/Library/jupyterlab-desktop/jlab_server/lib/python3.12/site-packages (from gentrain==0.1.2) (3.4.2)\n",
      "Requirement already satisfied: matplotlib in /Users/benkraling/Library/jupyterlab-desktop/jlab_server/lib/python3.12/site-packages (from gentrain==0.1.2) (3.9.2)\n",
      "Requirement already satisfied: pandas in /Users/benkraling/Library/jupyterlab-desktop/jlab_server/lib/python3.12/site-packages (from gentrain==0.1.2) (2.2.2)\n",
      "Requirement already satisfied: numpy in /Users/benkraling/Library/jupyterlab-desktop/jlab_server/lib/python3.12/site-packages (from gentrain==0.1.2) (2.1.0)\n",
      "Requirement already satisfied: contourpy>=1.0.1 in /Users/benkraling/Library/jupyterlab-desktop/jlab_server/lib/python3.12/site-packages (from matplotlib->gentrain==0.1.2) (1.2.1)\n",
      "Requirement already satisfied: cycler>=0.10 in /Users/benkraling/Library/jupyterlab-desktop/jlab_server/lib/python3.12/site-packages (from matplotlib->gentrain==0.1.2) (0.12.1)\n",
      "Requirement already satisfied: fonttools>=4.22.0 in /Users/benkraling/Library/jupyterlab-desktop/jlab_server/lib/python3.12/site-packages (from matplotlib->gentrain==0.1.2) (4.53.1)\n",
      "Requirement already satisfied: kiwisolver>=1.3.1 in /Users/benkraling/Library/jupyterlab-desktop/jlab_server/lib/python3.12/site-packages (from matplotlib->gentrain==0.1.2) (1.4.5)\n",
      "Requirement already satisfied: packaging>=20.0 in /Users/benkraling/Library/jupyterlab-desktop/jlab_server/lib/python3.12/site-packages (from matplotlib->gentrain==0.1.2) (25.0)\n",
      "Requirement already satisfied: pillow>=8 in /Users/benkraling/Library/jupyterlab-desktop/jlab_server/lib/python3.12/site-packages (from matplotlib->gentrain==0.1.2) (10.4.0)\n",
      "Requirement already satisfied: pyparsing>=2.3.1 in /Users/benkraling/Library/jupyterlab-desktop/jlab_server/lib/python3.12/site-packages (from matplotlib->gentrain==0.1.2) (3.1.4)\n",
      "Requirement already satisfied: python-dateutil>=2.7 in /Users/benkraling/Library/jupyterlab-desktop/jlab_server/lib/python3.12/site-packages (from matplotlib->gentrain==0.1.2) (2.9.0)\n",
      "Requirement already satisfied: pytz>=2020.1 in /Users/benkraling/Library/jupyterlab-desktop/jlab_server/lib/python3.12/site-packages (from pandas->gentrain==0.1.2) (2024.1)\n",
      "Requirement already satisfied: tzdata>=2022.7 in /Users/benkraling/Library/jupyterlab-desktop/jlab_server/lib/python3.12/site-packages (from pandas->gentrain==0.1.2) (2024.1)\n",
      "Requirement already satisfied: six>=1.5 in /Users/benkraling/Library/jupyterlab-desktop/jlab_server/lib/python3.12/site-packages (from python-dateutil>=2.7->matplotlib->gentrain==0.1.2) (1.16.0)\n",
      "Building wheels for collected packages: gentrain\n",
      "  Building wheel for gentrain (setup.py) ... \u001b[?25ldone\n",
      "\u001b[?25h  Created wheel for gentrain: filename=gentrain-0.1.2-py3-none-any.whl size=27325 sha256=736576c4d4cd56125e68f4c8e9b3017c1780f1e5120c9554b4fb3a391ea269a7\n",
      "  Stored in directory: /private/var/folders/2h/923cq6912sqb0snfvqqfdnmm0000gn/T/pip-ephem-wheel-cache-5eza5ddx/wheels/cf/e4/57/91c03db2e8c043adeefe35dd0969d3049f61ae0218be0acc9f\n",
      "Successfully built gentrain\n",
      "\u001b[33mWARNING: Ignoring invalid distribution ~entrain (/Users/benkraling/Library/jupyterlab-desktop/jlab_server/lib/python3.12/site-packages)\u001b[0m\u001b[33m\n",
      "\u001b[0mInstalling collected packages: gentrain\n",
      "  Attempting uninstall: gentrain\n",
      "    Found existing installation: gentrain 0.1.2\n",
      "    Uninstalling gentrain-0.1.2:\n",
      "      Successfully uninstalled gentrain-0.1.2\n",
      "\u001b[33mWARNING: Ignoring invalid distribution ~entrain (/Users/benkraling/Library/jupyterlab-desktop/jlab_server/lib/python3.12/site-packages)\u001b[0m\u001b[33m\n",
      "\u001b[0mSuccessfully installed gentrain-0.1.2\n"
     ]
    }
   ],
   "source": [
    "!pip install ../../gentrain/."
   ]
  },
  {
   "cell_type": "code",
   "execution_count": 2,
   "id": "f44740de-5142-4e08-bce3-d5bc45c50668",
   "metadata": {},
   "outputs": [],
   "source": [
    "import pandas as pd\n",
    "import plotly.express as px\n",
    "import plotly.graph_objects as go\n",
    "import re\n",
    "from sklearn.preprocessing import MultiLabelBinarizer\n",
    "from sklearn.metrics import adjusted_rand_score\n",
    "from sklearn.preprocessing import LabelEncoder\n",
    "import numpy as np\n",
    "from collections import Counter\n",
    "import pickle\n",
    "from gentrain.evaluation import get_computation_rate_plot, candidate_evaluation_and_matrices, get_candidate_evaluation_and_export_mst, get_baseline_evaluation_and_export_mst\n",
    "from sklearn.preprocessing import MultiLabelBinarizer\n",
    "from sklearn.preprocessing import LabelEncoder\n",
    "from gentrain.encoding import get_nucleotide_sensitive_encodings, get_mutation_sensitive_encodings, generate_one_hot_encoding\n",
    "from gentrain.nextclade import get_mutations_from_dataframe\n",
    "from gentrain.candidate_sourcing import bitwise_xor_candidates\n",
    "from gentrain.graph import build_mst, export_graph_gexf, mean_edge_weight, get_outbreak_community_labels, build_graph\n",
    "from scipy.spatial.distance import pdist\n",
    "import community as community_louvain\n",
    "import umap\n",
    "import faiss\n",
    "from sklearn.cluster import DBSCAN\n",
    "from sklearn.metrics import pairwise_distances_argmin\n",
    "import os\n",
    "import shutil"
   ]
  },
  {
   "cell_type": "code",
   "execution_count": 3,
   "id": "5f2a8da5-9870-496c-a865-a88ad17c4e67",
   "metadata": {},
   "outputs": [],
   "source": [
    "aggregate = \"due_202203\"\n",
    "size = 5000"
   ]
  },
  {
   "cell_type": "code",
   "execution_count": 4,
   "id": "50d5222f-0e59-4b0c-a168-81ce45a7712b",
   "metadata": {},
   "outputs": [],
   "source": [
    "graph_path = f\"graphs/{aggregate}/{size}\"\n",
    "if os.path.exists(f\"graphs/{aggregate}/{size}\") and os.path.isdir(f\"graphs/{aggregate}/{size}\"):\n",
    "    shutil.rmtree(f\"graphs/{aggregate}/{size}\")\n",
    "if not os.path.exists(f\"graphs/{aggregate}\"):\n",
    "    os.mkdir(f\"graphs/{aggregate}\")\n",
    "os.mkdir(f\"graphs/{aggregate}/{size}\")"
   ]
  },
  {
   "cell_type": "code",
   "execution_count": 5,
   "id": "3cf8da80-ea93-4ca0-9697-f1eb2587b47e",
   "metadata": {},
   "outputs": [],
   "source": [
    "sequences_df = pd.read_csv(f\"../00_data_understanding_and_preparation/aggregates/{aggregate}/{size}/sequences_and_metadata.csv\", delimiter=\";\").set_index(\"igs_id\").sort_index()\n",
    "sequences_count = len(sequences_df)"
   ]
  },
  {
   "cell_type": "code",
   "execution_count": 6,
   "id": "078e2f36-de8b-4d3b-a2e9-9c87a45a71de",
   "metadata": {},
   "outputs": [],
   "source": [
    "mutations_df = get_mutations_from_dataframe(sequences_df)"
   ]
  },
  {
   "cell_type": "code",
   "execution_count": 7,
   "id": "d50663f5-014f-4f9f-9c78-d436762132db",
   "metadata": {},
   "outputs": [],
   "source": [
    "distance_matrix_df = pd.read_csv(f\"../01_algorithm_optimization/distance_matrices/{aggregate}/{size}/distance_matrix.csv\", delimiter=\";\",\n",
    "                                     index_col=\"Unnamed: 0\").sort_index()\n",
    "distance_matrix_df = distance_matrix_df[~distance_matrix_df.index.duplicated(keep='first')]\n",
    "distance_matrix_df = distance_matrix_df.loc[sequences_df.index, sequences_df.index]\n",
    "distance_matrix = distance_matrix_df.to_numpy()"
   ]
  },
  {
   "cell_type": "code",
   "execution_count": 8,
   "id": "3b35e69d-4761-462e-9d3b-092b08fb6b4b",
   "metadata": {},
   "outputs": [
    {
     "name": "stdout",
     "output_type": "stream",
     "text": [
      "mst generation time: 66.7s\n"
     ]
    }
   ],
   "source": [
    "gentrain_graph = build_graph(distance_matrix)\n",
    "gentrain_mst = build_mst(gentrain_graph)\n",
    "gentrain_community_labels = get_outbreak_community_labels(gentrain_mst)\n",
    "datetime_sampling_dates = pd.to_datetime(sequences_df[\"date_of_sampling\"])\n",
    "numeric_dates = (datetime_sampling_dates - datetime_sampling_dates.min()).dt.days\n",
    "export_graph_gexf(gentrain_mst, gentrain_community_labels, sequences_df, f\"{graph_path}/brute_force_mst\")"
   ]
  },
  {
   "cell_type": "code",
   "execution_count": 9,
   "id": "8e2f3898-6a9a-40e5-8066-67c77faaa1cd",
   "metadata": {},
   "outputs": [],
   "source": [
    "communities_count = len(Counter(gentrain_community_labels))"
   ]
  },
  {
   "cell_type": "code",
   "execution_count": 10,
   "id": "c504fa21-2b4c-4180-b99c-a40c21076af3",
   "metadata": {},
   "outputs": [],
   "source": [
    "mask = np.triu(np.ones(distance_matrix_df.shape), k=1).astype(bool)\n",
    "filtered = distance_matrix_df.where(mask)\n",
    "infections_count = (filtered < 2).sum().sum()\n",
    "distances_count = filtered.count().sum()"
   ]
  },
  {
   "cell_type": "markdown",
   "id": "66f0ca76-b701-46c3-b74c-e42d9d0b5fbf",
   "metadata": {},
   "source": [
    "## Encoding"
   ]
  },
  {
   "cell_type": "code",
   "execution_count": 11,
   "id": "ac49fd8d-c708-423b-8e1d-5bcf1545e11a",
   "metadata": {},
   "outputs": [
    {
     "name": "stdout",
     "output_type": "stream",
     "text": [
      "execution time: 70.58s\n"
     ]
    }
   ],
   "source": [
    "encodings_N_frequency_filter = get_mutation_sensitive_encodings(sequences_df, exclude_indels=False, use_frequency_filtering=False, filter_N=True)"
   ]
  },
  {
   "cell_type": "code",
   "execution_count": 12,
   "id": "a4c9d825-a963-426d-99cb-adb91b379589",
   "metadata": {},
   "outputs": [
    {
     "name": "stdout",
     "output_type": "stream",
     "text": [
      "execution time: 67.52s\n"
     ]
    }
   ],
   "source": [
    "encodings_N_and_SNV_frequency_filter = get_mutation_sensitive_encodings(sequences_df, exclude_indels=False, use_frequency_filtering=True, filter_N=True)"
   ]
  },
  {
   "cell_type": "markdown",
   "id": "57fd76ff-715d-4385-afe0-9f1e29098bf0",
   "metadata": {},
   "source": [
    "## Accurate candidate search"
   ]
  },
  {
   "cell_type": "markdown",
   "id": "591d789d-df98-4206-9f1d-e3c5228e3611",
   "metadata": {},
   "source": [
    "### Depth search with N frequency filter"
   ]
  },
  {
   "cell_type": "code",
   "execution_count": 13,
   "id": "01485fed-0015-4967-8418-df04fead5129",
   "metadata": {},
   "outputs": [
    {
     "name": "stdout",
     "output_type": "stream",
     "text": [
      "execution time xor distance calculation: 53.03s\n",
      "execution time depth search: 8.16s\n",
      "execution time 624875: 62.72s\n"
     ]
    },
    {
     "ename": "TypeError",
     "evalue": "get_candidate_evaluation_and_export_mst() missing 1 required positional argument: 'runtime'",
     "output_type": "error",
     "traceback": [
      "\u001b[0;31m---------------------------------------------------------------------------\u001b[0m",
      "\u001b[0;31mTypeError\u001b[0m                                 Traceback (most recent call last)",
      "Cell \u001b[0;32mIn[13], line 5\u001b[0m\n\u001b[1;32m      3\u001b[0m limit \u001b[38;5;241m=\u001b[39m \u001b[38;5;28mint\u001b[39m(computation_rate\u001b[38;5;241m*\u001b[39mdistances_count)\n\u001b[1;32m      4\u001b[0m candidates, runtime \u001b[38;5;241m=\u001b[39m bitwise_xor_candidates(encodings_N_frequency_filter, limit, \u001b[38;5;124m\"\u001b[39m\u001b[38;5;124mdepth\u001b[39m\u001b[38;5;124m\"\u001b[39m)\n\u001b[0;32m----> 5\u001b[0m depth_search_N_frequency_filter\u001b[38;5;241m.\u001b[39mappend(\u001b[43mget_candidate_evaluation_and_export_mst\u001b[49m\u001b[43m(\u001b[49m\u001b[38;5;124;43m\"\u001b[39;49m\u001b[38;5;124;43mdepth_N\u001b[39;49m\u001b[38;5;124;43m\"\u001b[39;49m\u001b[43m,\u001b[49m\u001b[43m \u001b[49m\u001b[43mcandidates\u001b[49m\u001b[43m,\u001b[49m\u001b[43m \u001b[49m\u001b[43mgraph_path\u001b[49m\u001b[43m,\u001b[49m\u001b[43m \u001b[49m\u001b[43mdistance_matrix\u001b[49m\u001b[43m,\u001b[49m\u001b[43m \u001b[49m\u001b[43mgentrain_community_labels\u001b[49m\u001b[43m,\u001b[49m\u001b[43m \u001b[49m\u001b[43msequences_df\u001b[49m\u001b[43m,\u001b[49m\u001b[43m \u001b[49m\u001b[43mruntime\u001b[49m\u001b[43m)\u001b[49m)\n",
      "\u001b[0;31mTypeError\u001b[0m: get_candidate_evaluation_and_export_mst() missing 1 required positional argument: 'runtime'"
     ]
    }
   ],
   "source": [
    "depth_search_N_frequency_filter = []\n",
    "for computation_rate in [0.05, 0.1, 0.15, 0.2]:\n",
    "    limit = int(computation_rate*distances_count)\n",
    "    candidates, runtime = bitwise_xor_candidates(encodings_N_frequency_filter, limit, \"depth\")\n",
    "    depth_search_N_frequency_filter.append(get_candidate_evaluation_and_export_mst(\"depth_N\", candidates, graph_path, distance_matrix, gentrain_community_labels, gentrain_mst, list(sequences_df[\"Nextclade_pango\"]), sequences_df, runtime))"
   ]
  },
  {
   "cell_type": "code",
   "execution_count": null,
   "id": "50ea1450-35f7-4b56-bd2b-b2f1a1a76fd6",
   "metadata": {},
   "outputs": [],
   "source": [
    "pd.DataFrame(depth_search_N_frequency_filter)"
   ]
  },
  {
   "cell_type": "markdown",
   "id": "8fcc2ca5-54ca-4b7b-98df-db24eef06c19",
   "metadata": {},
   "source": [
    "### Breadth search with N frequency filter"
   ]
  },
  {
   "cell_type": "code",
   "execution_count": null,
   "id": "347c5384-4535-4c9b-a5f1-8edb46ae0cfe",
   "metadata": {},
   "outputs": [],
   "source": [
    "breadth_search_N_frequency_filter = []\n",
    "for computation_rate in [0.05, 0.1, 0.15, 0.2]:\n",
    "    limit = int(computation_rate*distances_count)\n",
    "    candidates, runtime = bitwise_xor_candidates(encodings_N_frequency_filter, limit, \"breadth\")\n",
    "    breadth_search_N_frequency_filter.append(get_candidate_evaluation_and_export_mst(\"depth_N\", candidates, graph_path, distance_matrix, gentrain_community_labels, gentrain_mst, list(sequences_df[\"Nextclade_pango\"]), sequences_df, runtime))"
   ]
  },
  {
   "cell_type": "code",
   "execution_count": null,
   "id": "b1395206-26ed-4505-aa61-c5e1d9a2f9aa",
   "metadata": {},
   "outputs": [],
   "source": [
    "pd.DataFrame(breadth_search_N_frequency_filter)"
   ]
  },
  {
   "cell_type": "markdown",
   "id": "44439e0e-6a3d-40f4-9b99-c7f28105d2ff",
   "metadata": {},
   "source": [
    "### Depth search with N and SNV frequency filter"
   ]
  },
  {
   "cell_type": "code",
   "execution_count": null,
   "id": "313f3f19-82a5-4378-a621-687117e95cfb",
   "metadata": {},
   "outputs": [],
   "source": [
    "depth_search_N_and_SNV_frequency_filter = []\n",
    "for computation_rate in [0.05, 0.1, 0.15, 0.2]:\n",
    "    limit = int(computation_rate*distances_count)\n",
    "    candidates, runtime = bitwise_xor_candidates(encodings_N_and_SNV_frequency_filter, limit, \"depth\")\n",
    "    depth_search_N_and_SNV_frequency_filter.append(get_candidate_evaluation_and_export_mst(\"depth_N_and_SNV\", candidates, graph_path, distance_matrix, gentrain_community_labels, gentrain_mst, list(sequences_df[\"Nextclade_pango\"]), sequences_df, runtime))"
   ]
  },
  {
   "cell_type": "code",
   "execution_count": null,
   "id": "581d199a-3264-49f2-9bde-485494cb5576",
   "metadata": {},
   "outputs": [],
   "source": [
    "pd.DataFrame(depth_search_N_and_SNV_frequency_filter)"
   ]
  },
  {
   "cell_type": "markdown",
   "id": "14227b79-424f-49c7-b4e3-a007f0f5a728",
   "metadata": {},
   "source": [
    "### Breadth search with N and SNV frequency filter"
   ]
  },
  {
   "cell_type": "code",
   "execution_count": null,
   "id": "7447eed2-3d49-4d22-bb2f-ca69d594aab8",
   "metadata": {},
   "outputs": [],
   "source": [
    "breadth_search_N_and_SNV_frequency_filter = []\n",
    "for computation_rate in [0.05, 0.1, 0.15, 0.2]:\n",
    "    limit = int(computation_rate*distances_count)\n",
    "    candidates, runtime = bitwise_xor_candidates(encodings_N_and_SNV_frequency_filter, limit, \"breadth\")\n",
    "    breadth_search_N_and_SNV_frequency_filter.append(get_candidate_evaluation_and_export_mst(\"breadth_N_and_SNV\", candidates, graph_path, distance_matrix, gentrain_community_labels, gentrain_mst, list(sequences_df[\"Nextclade_pango\"]), sequences_df, runtime))"
   ]
  },
  {
   "cell_type": "code",
   "execution_count": null,
   "id": "d3cb0ea4-d428-4ee4-bb7f-7f2dfbafc840",
   "metadata": {},
   "outputs": [],
   "source": [
    "pd.DataFrame(breadth_search_N_and_SNV_frequency_filter)"
   ]
  },
  {
   "cell_type": "code",
   "execution_count": null,
   "id": "f4e54761-806d-47fb-8147-ed4329153159",
   "metadata": {},
   "outputs": [],
   "source": [
    "depth_search_evaluation = {\n",
    "    \"N frequency filter\": {\"values\": {evaluation[\"computation_rate\"]: evaluation for evaluation in depth_search_N_frequency_filter}, \"stroke\": \"dash\", \"color\": \"black\"},\n",
    "    \"N & SNV frequency filter\": {\"values\": {evaluation[\"computation_rate\"]: evaluation for evaluation in depth_search_N_and_SNV_frequency_filter}, \"stroke\": \"dot\", \"color\": \"black\"}\n",
    "}"
   ]
  },
  {
   "cell_type": "code",
   "execution_count": null,
   "id": "20eb1f2e-87f0-473a-8349-9480f12cd8af",
   "metadata": {},
   "outputs": [],
   "source": [
    "breadth_search_evaluation = {\n",
    "    \"N frequency filter\": {\"values\": {evaluation[\"computation_rate\"]: evaluation for evaluation in breadth_search_N_frequency_filter}, \"stroke\": \"dash\", \"color\": \"black\"},\n",
    "    \"N & SNV frequency filter\": {\"values\": {evaluation[\"computation_rate\"]: evaluation for evaluation in breadth_search_N_and_SNV_frequency_filter}, \"stroke\": \"dot\", \"color\": \"black\"}\n",
    "}"
   ]
  },
  {
   "cell_type": "markdown",
   "id": "356535d0-0c8a-4b32-95e3-1e78a9f062fb",
   "metadata": {},
   "source": [
    "### Infection recall for different filters and computation rates using depth search"
   ]
  },
  {
   "cell_type": "code",
   "execution_count": null,
   "id": "99cd3d30-cb22-4a18-9f38-c7efb78784ad",
   "metadata": {},
   "outputs": [],
   "source": [
    "sub_fig = get_computation_rate_plot(\"infection_detection_rate\", depth_search_evaluation, \"Infection recall\", dict(\n",
    "            x=0.85,\n",
    "            y=0,\n",
    "            itemwidth=60,\n",
    "            xanchor='left',\n",
    "            yanchor='bottom',\n",
    "            font=dict(size=30),\n",
    "        ))\n",
    "\n",
    "sub_fig.show()"
   ]
  },
  {
   "cell_type": "markdown",
   "id": "60ae3e60-01c1-4d5c-a9ab-94a97468191b",
   "metadata": {},
   "source": [
    "### Community ARI for different filters and computation rates using depth search"
   ]
  },
  {
   "cell_type": "code",
   "execution_count": null,
   "id": "908ca4d5-07c7-4b82-9db4-c723d72b4a56",
   "metadata": {},
   "outputs": [],
   "source": [
    "sub_fig = get_computation_rate_plot(\"adjusted_rand_index\", depth_search_evaluation, \"Community ARI\", dict(\n",
    "            x=0.85,\n",
    "            y=0,\n",
    "            itemwidth=60,\n",
    "            xanchor='left',\n",
    "            yanchor='bottom',\n",
    "            font=dict(size=30),\n",
    "        ))\n",
    "\n",
    "sub_fig.show()"
   ]
  },
  {
   "cell_type": "markdown",
   "id": "2a0efc3b-1a9d-484c-9baf-c4b3a60944b6",
   "metadata": {},
   "source": [
    "### Infection recall for different filters and computation rates using breadth search"
   ]
  },
  {
   "cell_type": "code",
   "execution_count": null,
   "id": "f729759c-183c-4d20-ba84-3aefe341f254",
   "metadata": {},
   "outputs": [],
   "source": [
    "sub_fig = get_computation_rate_plot(\"infection_detection_rate\", breadth_search_evaluation, \"Infection recall\", legend=dict(\n",
    "            x=0.65,\n",
    "            y=0.05,\n",
    "            xanchor='left',\n",
    "            yanchor='bottom',\n",
    "            font=dict(size=35),\n",
    "        ))\n",
    "sub_fig.show()"
   ]
  },
  {
   "cell_type": "markdown",
   "id": "89420831-1def-4eca-824e-0da5a81e94b6",
   "metadata": {},
   "source": [
    "### Community ARI for different filters and computation rates using breadth search"
   ]
  },
  {
   "cell_type": "code",
   "execution_count": null,
   "id": "203133c2-1c05-47b5-9f5d-5898432945c2",
   "metadata": {},
   "outputs": [],
   "source": [
    "sub_fig = get_computation_rate_plot(\"adjusted_rand_index\", breadth_search_evaluation, \"Community ARI\", legend=dict(\n",
    "            x=0.55,\n",
    "            y=0.02,\n",
    "            xanchor='left',\n",
    "            yanchor='bottom',\n",
    "            font=dict(size=35),\n",
    "        ))\n",
    "sub_fig.show()"
   ]
  },
  {
   "cell_type": "code",
   "execution_count": null,
   "id": "a2527af6-911c-4ba6-a4ff-ed2c416bc3b6",
   "metadata": {},
   "outputs": [],
   "source": [
    "depth_vs_breadth_search_evaluation = {\n",
    "    \"Depth search\": {\"values\": {evaluation[\"computation_rate\"]: evaluation for evaluation in depth_search_N_and_SNV_frequency_filter}, \"stroke\": \"solid\", \"color\": \"blue\"},\n",
    "    \"Breadth search\": {\"values\": {evaluation[\"computation_rate\"]: evaluation for evaluation in breadth_search_N_and_SNV_frequency_filter}, \"stroke\": \"solid\", \"color\": \"green\"},  \n",
    "}"
   ]
  },
  {
   "cell_type": "markdown",
   "id": "3ff60961-3a76-4abe-992b-3f351c87d047",
   "metadata": {},
   "source": [
    "### Infection recall for different computation rates using depth search and breadth search (N and SNV frequency filter)"
   ]
  },
  {
   "cell_type": "code",
   "execution_count": null,
   "id": "a888b187-43f9-4e72-a7bb-e1d39756b694",
   "metadata": {},
   "outputs": [],
   "source": [
    "sub_fig = get_computation_rate_plot(\"infection_detection_rate\", depth_vs_breadth_search_evaluation, \"Infection recall\", legend=dict(\n",
    "            x=0.7,\n",
    "            y=0.1,\n",
    "            xanchor='left',\n",
    "            yanchor='bottom',\n",
    "            font=dict(size=35),\n",
    "        ))\n",
    "sub_fig.show()"
   ]
  },
  {
   "cell_type": "markdown",
   "id": "0ba52540-a7f4-449c-ad65-ad9780668c09",
   "metadata": {},
   "source": [
    "### Community ARI for different computation rates using depth search and breadth search (N and SNV frequency filter)"
   ]
  },
  {
   "cell_type": "code",
   "execution_count": null,
   "id": "1248ca7b-aee5-4e18-a400-9e5be429770e",
   "metadata": {},
   "outputs": [],
   "source": [
    "sub_fig = get_computation_rate_plot(\"adjusted_rand_index\", depth_vs_breadth_search_evaluation, \"Community ARI\", legend=dict(\n",
    "            x=0.7,\n",
    "            y=0.1,\n",
    "            xanchor='left',\n",
    "            yanchor='bottom',\n",
    "            font=dict(size=35),\n",
    "        ))\n",
    "sub_fig.show()"
   ]
  },
  {
   "cell_type": "code",
   "execution_count": null,
   "id": "df22ea81-90c0-43ee-a047-f54f76db1ba7",
   "metadata": {},
   "outputs": [],
   "source": []
  }
 ],
 "metadata": {
  "kernelspec": {
   "display_name": "Python 3 (ipykernel)",
   "language": "python",
   "name": "python3"
  },
  "language_info": {
   "codemirror_mode": {
    "name": "ipython",
    "version": 3
   },
   "file_extension": ".py",
   "mimetype": "text/x-python",
   "name": "python",
   "nbconvert_exporter": "python",
   "pygments_lexer": "ipython3",
   "version": "3.12.5"
  }
 },
 "nbformat": 4,
 "nbformat_minor": 5
}
