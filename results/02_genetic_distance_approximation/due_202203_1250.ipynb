{
 "cells": [
  {
   "metadata": {},
   "cell_type": "markdown",
   "source": [
    "# Genetic Distance Approximation (due_202203, 1250 sequences)\n",
    "This notebook contains the evaluation of the genetic distance approximation concerning the aggregate due_202203 with 1,250 sequences. The distance matrices were evaluated in terms of correlation, errors, as well as infection recall and precision.\n"
   ],
   "id": "dc86b2bddc3312aa"
  },
  {
   "cell_type": "code",
   "execution_count": 1,
   "id": "b2c3d2f8-d7a0-4f5f-a76c-d484d076de38",
   "metadata": {},
   "outputs": [
    {
     "name": "stdout",
     "output_type": "stream",
     "text": [
      "\u001B[33mWARNING: Ignoring invalid distribution ~entrain (/Users/benkraling/Library/jupyterlab-desktop/jlab_server/lib/python3.12/site-packages)\u001B[0m\u001B[33m\n",
      "\u001B[0mProcessing /Users/benkraling/code/thesis/gentrain\n",
      "  Preparing metadata (setup.py) ... \u001B[?25ldone\n",
      "\u001B[?25hRequirement already satisfied: biopython in /Users/benkraling/Library/jupyterlab-desktop/jlab_server/lib/python3.12/site-packages (from gentrain==0.1.2) (1.85)\n",
      "Requirement already satisfied: networkx in /Users/benkraling/Library/jupyterlab-desktop/jlab_server/lib/python3.12/site-packages (from gentrain==0.1.2) (3.4.2)\n",
      "Requirement already satisfied: matplotlib in /Users/benkraling/Library/jupyterlab-desktop/jlab_server/lib/python3.12/site-packages (from gentrain==0.1.2) (3.9.2)\n",
      "Requirement already satisfied: pandas in /Users/benkraling/Library/jupyterlab-desktop/jlab_server/lib/python3.12/site-packages (from gentrain==0.1.2) (2.2.2)\n",
      "Requirement already satisfied: numpy in /Users/benkraling/Library/jupyterlab-desktop/jlab_server/lib/python3.12/site-packages (from gentrain==0.1.2) (2.1.0)\n",
      "Requirement already satisfied: contourpy>=1.0.1 in /Users/benkraling/Library/jupyterlab-desktop/jlab_server/lib/python3.12/site-packages (from matplotlib->gentrain==0.1.2) (1.2.1)\n",
      "Requirement already satisfied: cycler>=0.10 in /Users/benkraling/Library/jupyterlab-desktop/jlab_server/lib/python3.12/site-packages (from matplotlib->gentrain==0.1.2) (0.12.1)\n",
      "Requirement already satisfied: fonttools>=4.22.0 in /Users/benkraling/Library/jupyterlab-desktop/jlab_server/lib/python3.12/site-packages (from matplotlib->gentrain==0.1.2) (4.53.1)\n",
      "Requirement already satisfied: kiwisolver>=1.3.1 in /Users/benkraling/Library/jupyterlab-desktop/jlab_server/lib/python3.12/site-packages (from matplotlib->gentrain==0.1.2) (1.4.5)\n",
      "Requirement already satisfied: packaging>=20.0 in /Users/benkraling/Library/jupyterlab-desktop/jlab_server/lib/python3.12/site-packages (from matplotlib->gentrain==0.1.2) (25.0)\n",
      "Requirement already satisfied: pillow>=8 in /Users/benkraling/Library/jupyterlab-desktop/jlab_server/lib/python3.12/site-packages (from matplotlib->gentrain==0.1.2) (10.4.0)\n",
      "Requirement already satisfied: pyparsing>=2.3.1 in /Users/benkraling/Library/jupyterlab-desktop/jlab_server/lib/python3.12/site-packages (from matplotlib->gentrain==0.1.2) (3.1.4)\n",
      "Requirement already satisfied: python-dateutil>=2.7 in /Users/benkraling/Library/jupyterlab-desktop/jlab_server/lib/python3.12/site-packages (from matplotlib->gentrain==0.1.2) (2.9.0)\n",
      "Requirement already satisfied: pytz>=2020.1 in /Users/benkraling/Library/jupyterlab-desktop/jlab_server/lib/python3.12/site-packages (from pandas->gentrain==0.1.2) (2024.1)\n",
      "Requirement already satisfied: tzdata>=2022.7 in /Users/benkraling/Library/jupyterlab-desktop/jlab_server/lib/python3.12/site-packages (from pandas->gentrain==0.1.2) (2024.1)\n",
      "Requirement already satisfied: six>=1.5 in /Users/benkraling/Library/jupyterlab-desktop/jlab_server/lib/python3.12/site-packages (from python-dateutil>=2.7->matplotlib->gentrain==0.1.2) (1.16.0)\n",
      "Building wheels for collected packages: gentrain\n",
      "  Building wheel for gentrain (setup.py) ... \u001B[?25ldone\n",
      "\u001B[?25h  Created wheel for gentrain: filename=gentrain-0.1.2-py3-none-any.whl size=27239 sha256=4f64cca541a9e1aa9126336cf32ac717bb3dce88811a4cec6c64399e38e1724e\n",
      "  Stored in directory: /private/var/folders/2h/923cq6912sqb0snfvqqfdnmm0000gn/T/pip-ephem-wheel-cache-tcwce4e6/wheels/cf/e4/57/91c03db2e8c043adeefe35dd0969d3049f61ae0218be0acc9f\n",
      "Successfully built gentrain\n",
      "\u001B[33mWARNING: Ignoring invalid distribution ~entrain (/Users/benkraling/Library/jupyterlab-desktop/jlab_server/lib/python3.12/site-packages)\u001B[0m\u001B[33m\n",
      "\u001B[0mInstalling collected packages: gentrain\n",
      "  Attempting uninstall: gentrain\n",
      "    Found existing installation: gentrain 0.1.2\n",
      "    Uninstalling gentrain-0.1.2:\n",
      "      Successfully uninstalled gentrain-0.1.2\n",
      "\u001B[33mWARNING: Ignoring invalid distribution ~entrain (/Users/benkraling/Library/jupyterlab-desktop/jlab_server/lib/python3.12/site-packages)\u001B[0m\u001B[33m\n",
      "\u001B[0mSuccessfully installed gentrain-0.1.2\n"
     ]
    }
   ],
   "source": [
    "!pip install ../../gentrain/."
   ]
  },
  {
   "cell_type": "code",
   "execution_count": 2,
   "id": "814dcdad-c84b-42fe-aa93-709c55ae5a47",
   "metadata": {},
   "outputs": [],
   "source": [
    "import pandas as pd\n",
    "import plotly.express as px\n",
    "import plotly.graph_objects as go\n",
    "import re\n",
    "from sklearn.metrics import adjusted_rand_score\n",
    "import numpy as np\n",
    "from gentrain.evaluation import candidate_evaluation_and_matrices, get_candidate_evaluation_and_export_mst, get_infection_detection_scores, get_lineage_purity\n",
    "from gentrain.encoding import get_nucleotide_sensitive_encodings, get_mutation_sensitive_encodings, generate_one_hot_encoding\n",
    "from gentrain.nextclade import get_mutations_from_dataframe\n",
    "from gentrain.candidate_sourcing import bitwise_xor_candidates\n",
    "from gentrain.graph import build_mst, export_graph_gexf, mean_edge_weight, get_outbreak_community_labels, build_graph\n",
    "from gentrain.distance_matrix import get_bitwise_xor_distance_matrix, get_kendall_tau_correlation, get_infection_recall, get_infection_precision, get_infection_f1, get_signed_rmse, get_signed_infection_rmse\n",
    "import os\n",
    "import shutil\n",
    "import plotly.express as px"
   ]
  },
  {
   "cell_type": "code",
   "execution_count": 3,
   "id": "7e8f4e08-ca7e-47b1-8300-08df1d9f5e7f",
   "metadata": {},
   "outputs": [],
   "source": [
    "import plotly.io as pio\n",
    "pio.renderers.default = \"png\""
   ]
  },
  {
   "cell_type": "code",
   "execution_count": 4,
   "id": "5f2a8da5-9870-496c-a865-a88ad17c4e67",
   "metadata": {},
   "outputs": [],
   "source": [
    "aggregate = \"due_202203\"\n",
    "size = 1250"
   ]
  },
  {
   "cell_type": "code",
   "execution_count": 5,
   "id": "50d5222f-0e59-4b0c-a168-81ce45a7712b",
   "metadata": {},
   "outputs": [],
   "source": [
    "graph_path = f\"graphs/{aggregate}/{size}\"\n",
    "if os.path.exists(f\"graphs/{aggregate}/{size}\") and os.path.isdir(f\"graphs/{aggregate}/{size}\"):\n",
    "    shutil.rmtree(f\"graphs/{aggregate}/{size}\")\n",
    "if not os.path.exists(f\"graphs/{aggregate}\"):\n",
    "    os.mkdir(f\"graphs/{aggregate}\")\n",
    "os.mkdir(f\"graphs/{aggregate}/{size}\")"
   ]
  },
  {
   "cell_type": "code",
   "execution_count": 6,
   "id": "3cf8da80-ea93-4ca0-9697-f1eb2587b47e",
   "metadata": {},
   "outputs": [],
   "source": [
    "sequences_df = pd.read_csv(f\"../00_data_understanding_and_preparation/aggregates/{aggregate}/{size}/sequences_and_metadata.csv\", delimiter=\";\").set_index(\"igs_id\").sort_index()\n",
    "sequences_count = len(sequences_df)"
   ]
  },
  {
   "cell_type": "code",
   "execution_count": 7,
   "id": "078e2f36-de8b-4d3b-a2e9-9c87a45a71de",
   "metadata": {},
   "outputs": [],
   "source": [
    "mutations_df = get_mutations_from_dataframe(sequences_df)"
   ]
  },
  {
   "cell_type": "code",
   "execution_count": 8,
   "id": "d50663f5-014f-4f9f-9c78-d436762132db",
   "metadata": {},
   "outputs": [],
   "source": [
    "distance_matrix_df = pd.read_csv(f\"../01_algorithm_optimization/distance_matrices/{aggregate}/{size}/distance_matrix.csv\", delimiter=\";\",\n",
    "                                     index_col=\"Unnamed: 0\").sort_index()\n",
    "distance_matrix_df = distance_matrix_df[~distance_matrix_df.index.duplicated(keep=\"first\")]\n",
    "distance_matrix_df = distance_matrix_df.loc[sequences_df.index, sequences_df.index]\n",
    "distance_matrix = distance_matrix_df.to_numpy()"
   ]
  },
  {
   "cell_type": "code",
   "execution_count": 9,
   "id": "3b35e69d-4761-462e-9d3b-092b08fb6b4b",
   "metadata": {},
   "outputs": [
    {
     "name": "stdout",
     "output_type": "stream",
     "text": [
      "mst generation time: 1.75s\n"
     ]
    }
   ],
   "source": [
    "gentrain_graph = build_graph(distance_matrix)\n",
    "gentrain_mst = build_mst(gentrain_graph)\n",
    "gentrain_community_labels = get_outbreak_community_labels(gentrain_mst)\n",
    "datetime_sampling_dates = pd.to_datetime(sequences_df[\"date_of_sampling\"])\n",
    "numeric_dates = (datetime_sampling_dates - datetime_sampling_dates.min()).dt.days\n",
    "export_graph_gexf(gentrain_mst, gentrain_community_labels, sequences_df, f\"{graph_path}/gentrain\")"
   ]
  },
  {
   "cell_type": "code",
   "execution_count": 10,
   "id": "bf6b1734-54ba-435c-9dea-d28587c051c4",
   "metadata": {},
   "outputs": [
    {
     "data": {
      "text/plain": [
       "(np.float64(8.0), np.float64(2.0078462770216103), 70)"
      ]
     },
     "execution_count": 10,
     "metadata": {},
     "output_type": "execute_result"
    }
   ],
   "source": [
    "from collections import Counter\n",
    "np.median(distance_matrix), mean_edge_weight(gentrain_mst), len(Counter(gentrain_community_labels))"
   ]
  },
  {
   "cell_type": "code",
   "execution_count": 11,
   "id": "c504fa21-2b4c-4180-b99c-a40c21076af3",
   "metadata": {},
   "outputs": [],
   "source": [
    "mask = np.triu(np.ones(distance_matrix_df.shape), k=1).astype(bool)\n",
    "filtered = distance_matrix_df.where(mask)\n",
    "infections_count = (filtered < 2).sum().sum()\n",
    "distances_count = filtered.count().sum()"
   ]
  },
  {
   "cell_type": "code",
   "execution_count": 12,
   "id": "ac49fd8d-c708-423b-8e1d-5bcf1545e11a",
   "metadata": {},
   "outputs": [
    {
     "name": "stdout",
     "output_type": "stream",
     "text": [
      "execution time: 24.73s\n",
      "execution time: 27.07s\n",
      "execution time: 26.1s\n"
     ]
    }
   ],
   "source": [
    "encodings_no_filter = get_mutation_sensitive_encodings(sequences_df, exclude_indels=False, use_frequency_filtering=False, filter_N=False)\n",
    "encodings_N_frequency_filtering = get_mutation_sensitive_encodings(sequences_df, exclude_indels=False, use_frequency_filtering=False, filter_N=True)\n",
    "encodings_N_and_SNV_frequency_filtering = get_mutation_sensitive_encodings(sequences_df, exclude_indels=False, use_frequency_filtering=True, filter_N=True)"
   ]
  },
  {
   "cell_type": "code",
   "execution_count": 13,
   "id": "ecfe95c4-7da1-4fb5-9b4e-2c96eec41e97",
   "metadata": {},
   "outputs": [],
   "source": [
    "evaluation = []"
   ]
  },
  {
   "cell_type": "code",
   "execution_count": 14,
   "id": "3864a6ad-c11d-4178-b625-f72bdd8290cd",
   "metadata": {},
   "outputs": [
    {
     "name": "stdout",
     "output_type": "stream",
     "text": [
      "matrix generation time: 1.03s\n",
      "mst generation time: 1.95s\n"
     ]
    },
    {
     "name": "stderr",
     "output_type": "stream",
     "text": [
      "/Users/benkraling/Library/jupyterlab-desktop/jlab_server/lib/python3.12/site-packages/community/community_louvain.py:487: RuntimeWarning:\n",
      "\n",
      "overflow encountered in scalar negative\n",
      "\n"
     ]
    },
    {
     "data": {
      "text/plain": [
       "(np.float64(1.9664531625300308), np.float64(-0.1552))"
      ]
     },
     "execution_count": 14,
     "metadata": {},
     "output_type": "execute_result"
    }
   ],
   "source": [
    "observed_matrix = get_bitwise_xor_distance_matrix(encodings_no_filter)\n",
    "observed_graph = build_graph(observed_matrix)\n",
    "observed_mst = build_mst(observed_graph)\n",
    "observed_community_labels = get_outbreak_community_labels(observed_mst)\n",
    "lineage_purity = get_lineage_purity(list(sequences_df[\"Nextclade_pango\"]), observed_community_labels)\n",
    "export_graph_gexf(observed_mst, gentrain_community_labels, sequences_df, f\"{graph_path}/no_filter\")\n",
    "\n",
    "evaluation.append({\n",
    "    \"label\": \"No Filter\",\n",
    "    \"correlation\": get_kendall_tau_correlation(distance_matrix, observed_matrix), \n",
    "    \"signed_rmse\": get_signed_rmse(distance_matrix, observed_matrix), \n",
    "    \"signed_infection_rmse\": get_signed_infection_rmse(distance_matrix, observed_matrix), \n",
    "    \"infection_recall\": get_infection_recall(distance_matrix, observed_matrix), \n",
    "    \"infection_precision\": get_infection_precision(distance_matrix, observed_matrix), \n",
    "    \"infection_f1\": get_infection_f1(distance_matrix, observed_matrix), \n",
    "    \"median_distance\": np.median(observed_matrix),\n",
    "    \"community_count_diff\": len(Counter(observed_community_labels))-len(Counter(gentrain_community_labels)),\n",
    "    \"adjusted_rand_index\": adjusted_rand_score(gentrain_community_labels, observed_community_labels),\n",
    "    \"mean_edge_weight\": mean_edge_weight(observed_mst),\n",
    "    \"lineage_purity\": lineage_purity,\n",
    "    \"encoding_length\": len(encodings_no_filter[0])\n",
    "})\n",
    "mean_edge_weight(observed_mst)-mean_edge_weight(gentrain_mst),lineage_purity-get_lineage_purity(list(sequences_df[\"clade\"]), gentrain_community_labels)"
   ]
  },
  {
   "cell_type": "code",
   "execution_count": 15,
   "id": "2ae34ace-52e7-4092-bd6f-5aeb16c8f6f3",
   "metadata": {},
   "outputs": [
    {
     "name": "stdout",
     "output_type": "stream",
     "text": [
      "matrix generation time: 0.9s\n",
      "mst generation time: 1.84s\n"
     ]
    },
    {
     "name": "stderr",
     "output_type": "stream",
     "text": [
      "/Users/benkraling/Library/jupyterlab-desktop/jlab_server/lib/python3.12/site-packages/community/community_louvain.py:487: RuntimeWarning:\n",
      "\n",
      "overflow encountered in scalar negative\n",
      "\n"
     ]
    },
    {
     "data": {
      "text/plain": [
       "(np.float64(0.7587670136108846), np.float64(-0.060799999999999965))"
      ]
     },
     "execution_count": 15,
     "metadata": {},
     "output_type": "execute_result"
    }
   ],
   "source": [
    "observed_matrix = get_bitwise_xor_distance_matrix(encodings_N_frequency_filtering)\n",
    "observed_graph = build_graph(observed_matrix)\n",
    "observed_mst = build_mst(observed_graph)\n",
    "observed_community_labels = get_outbreak_community_labels(observed_mst)\n",
    "lineage_purity = get_lineage_purity(list(sequences_df[\"Nextclade_pango\"]), observed_community_labels)\n",
    "export_graph_gexf(observed_mst, gentrain_community_labels, sequences_df, f\"{graph_path}/N_frequency_filtering\")\n",
    "\n",
    "evaluation.append({\n",
    "    \"label\": \"N Filter\",\n",
    "    \"correlation\": get_kendall_tau_correlation(distance_matrix, observed_matrix), \n",
    "    \"signed_rmse\": get_signed_rmse(distance_matrix, observed_matrix), \n",
    "    \"signed_infection_rmse\": get_signed_infection_rmse(distance_matrix, observed_matrix), \n",
    "    \"infection_recall\": get_infection_recall(distance_matrix, observed_matrix), \n",
    "    \"infection_precision\": get_infection_precision(distance_matrix, observed_matrix), \n",
    "    \"infection_f1\": get_infection_f1(distance_matrix, observed_matrix), \n",
    "    \"median_distance\": np.median(observed_matrix),\n",
    "    \"community_count_diff\": len(Counter(observed_community_labels))-len(Counter(gentrain_community_labels)),\n",
    "    \"adjusted_rand_index\": adjusted_rand_score(gentrain_community_labels, observed_community_labels),\n",
    "    \"mean_edge_weight\": mean_edge_weight(observed_mst),\n",
    "    \"lineage_purity\": lineage_purity,\n",
    "    \"encoding_length\": len(encodings_N_frequency_filtering[0])\n",
    "})\n",
    "mean_edge_weight(observed_mst)-mean_edge_weight(gentrain_mst),lineage_purity-get_lineage_purity(list(sequences_df[\"clade\"]), gentrain_community_labels)"
   ]
  },
  {
   "cell_type": "code",
   "execution_count": 16,
   "id": "0be2f775-f416-474b-9342-2e9c08dc76a8",
   "metadata": {},
   "outputs": [
    {
     "name": "stdout",
     "output_type": "stream",
     "text": [
      "matrix generation time: 0.26s\n",
      "mst generation time: 1.73s\n"
     ]
    },
    {
     "name": "stderr",
     "output_type": "stream",
     "text": [
      "/Users/benkraling/Library/jupyterlab-desktop/jlab_server/lib/python3.12/site-packages/community/community_louvain.py:487: RuntimeWarning:\n",
      "\n",
      "overflow encountered in scalar negative\n",
      "\n"
     ]
    },
    {
     "data": {
      "text/plain": [
       "(np.float64(-0.8703763010408303), np.float64(-0.012800000000000034))"
      ]
     },
     "execution_count": 16,
     "metadata": {},
     "output_type": "execute_result"
    }
   ],
   "source": [
    "observed_matrix = get_bitwise_xor_distance_matrix(encodings_N_and_SNV_frequency_filtering)\n",
    "observed_graph = build_graph(observed_matrix)\n",
    "observed_mst = build_mst(observed_graph)\n",
    "observed_community_labels = get_outbreak_community_labels(observed_mst)\n",
    "lineage_purity = get_lineage_purity(list(sequences_df[\"Nextclade_pango\"]), observed_community_labels)\n",
    "export_graph_gexf(observed_mst, gentrain_community_labels, sequences_df, f\"{graph_path}/N_and_SNV_frequency_filtering\")\n",
    "\n",
    "evaluation.append({\n",
    "    \"label\": \"N and SNV Filter\",\n",
    "    \"correlation\": get_kendall_tau_correlation(distance_matrix, observed_matrix), \n",
    "    \"signed_rmse\": get_signed_rmse(distance_matrix, observed_matrix), \n",
    "    \"signed_infection_rmse\": get_signed_infection_rmse(distance_matrix, observed_matrix), \n",
    "    \"infection_recall\": get_infection_recall(distance_matrix, observed_matrix), \n",
    "    \"infection_precision\": get_infection_precision(distance_matrix, observed_matrix), \n",
    "    \"infection_f1\": get_infection_f1(distance_matrix, observed_matrix), \n",
    "    \"median_distance\": np.median(observed_matrix),\n",
    "    \"community_count_diff\": len(Counter(observed_community_labels))-len(Counter(gentrain_community_labels)),\n",
    "    \"adjusted_rand_index\": adjusted_rand_score(gentrain_community_labels, observed_community_labels),\n",
    "    \"mean_edge_weight\": mean_edge_weight(observed_mst),\n",
    "    \"lineage_purity\": lineage_purity,\n",
    "    \"encoding_length\": len(encodings_N_and_SNV_frequency_filtering[0])\n",
    "})\n",
    "mean_edge_weight(observed_mst)-mean_edge_weight(gentrain_mst),lineage_purity-get_lineage_purity(list(sequences_df[\"clade\"]), gentrain_community_labels)"
   ]
  },
  {
   "cell_type": "code",
   "execution_count": 17,
   "id": "e9624dad-6d3f-4d2e-863c-4df38cda2e9d",
   "metadata": {},
   "outputs": [
    {
     "data": {
      "text/html": [
       "<div>\n",
       "<style scoped>\n",
       "    .dataframe tbody tr th:only-of-type {\n",
       "        vertical-align: middle;\n",
       "    }\n",
       "\n",
       "    .dataframe tbody tr th {\n",
       "        vertical-align: top;\n",
       "    }\n",
       "\n",
       "    .dataframe thead th {\n",
       "        text-align: right;\n",
       "    }\n",
       "</style>\n",
       "<table border=\"1\" class=\"dataframe\">\n",
       "  <thead>\n",
       "    <tr style=\"text-align: right;\">\n",
       "      <th></th>\n",
       "      <th>label</th>\n",
       "      <th>correlation</th>\n",
       "      <th>signed_rmse</th>\n",
       "      <th>signed_infection_rmse</th>\n",
       "      <th>infection_recall</th>\n",
       "      <th>infection_precision</th>\n",
       "      <th>infection_f1</th>\n",
       "      <th>median_distance</th>\n",
       "      <th>community_count_diff</th>\n",
       "      <th>adjusted_rand_index</th>\n",
       "      <th>mean_edge_weight</th>\n",
       "      <th>lineage_purity</th>\n",
       "      <th>encoding_length</th>\n",
       "    </tr>\n",
       "  </thead>\n",
       "  <tbody>\n",
       "    <tr>\n",
       "      <th>0</th>\n",
       "      <td>No Filter</td>\n",
       "      <td>0.670808</td>\n",
       "      <td>10.579679</td>\n",
       "      <td>12.729306</td>\n",
       "      <td>0.135726</td>\n",
       "      <td>0.910949</td>\n",
       "      <td>0.236252</td>\n",
       "      <td>17.0</td>\n",
       "      <td>-54</td>\n",
       "      <td>0.127023</td>\n",
       "      <td>3.974299</td>\n",
       "      <td>0.8064</td>\n",
       "      <td>2048</td>\n",
       "    </tr>\n",
       "    <tr>\n",
       "      <th>1</th>\n",
       "      <td>N Filter</td>\n",
       "      <td>0.815802</td>\n",
       "      <td>-3.832490</td>\n",
       "      <td>7.142669</td>\n",
       "      <td>0.517781</td>\n",
       "      <td>0.799228</td>\n",
       "      <td>0.628432</td>\n",
       "      <td>10.0</td>\n",
       "      <td>23</td>\n",
       "      <td>0.177467</td>\n",
       "      <td>2.766613</td>\n",
       "      <td>0.9008</td>\n",
       "      <td>1936</td>\n",
       "    </tr>\n",
       "    <tr>\n",
       "      <th>2</th>\n",
       "      <td>N and SNV Filter</td>\n",
       "      <td>0.745165</td>\n",
       "      <td>-21.422286</td>\n",
       "      <td>1.236872</td>\n",
       "      <td>0.785753</td>\n",
       "      <td>0.194891</td>\n",
       "      <td>0.312318</td>\n",
       "      <td>6.0</td>\n",
       "      <td>9</td>\n",
       "      <td>0.200300</td>\n",
       "      <td>1.137470</td>\n",
       "      <td>0.9488</td>\n",
       "      <td>624</td>\n",
       "    </tr>\n",
       "  </tbody>\n",
       "</table>\n",
       "</div>"
      ],
      "text/plain": [
       "              label  correlation  signed_rmse  signed_infection_rmse  \\\n",
       "0         No Filter     0.670808    10.579679              12.729306   \n",
       "1          N Filter     0.815802    -3.832490               7.142669   \n",
       "2  N and SNV Filter     0.745165   -21.422286               1.236872   \n",
       "\n",
       "   infection_recall  infection_precision  infection_f1  median_distance  \\\n",
       "0          0.135726             0.910949      0.236252             17.0   \n",
       "1          0.517781             0.799228      0.628432             10.0   \n",
       "2          0.785753             0.194891      0.312318              6.0   \n",
       "\n",
       "   community_count_diff  adjusted_rand_index  mean_edge_weight  \\\n",
       "0                   -54             0.127023          3.974299   \n",
       "1                    23             0.177467          2.766613   \n",
       "2                     9             0.200300          1.137470   \n",
       "\n",
       "   lineage_purity  encoding_length  \n",
       "0          0.8064             2048  \n",
       "1          0.9008             1936  \n",
       "2          0.9488              624  "
      ]
     },
     "execution_count": 17,
     "metadata": {},
     "output_type": "execute_result"
    }
   ],
   "source": [
    "pd.DataFrame(evaluation)"
   ]
  },
  {
   "cell_type": "code",
   "execution_count": 18,
   "id": "6eadd26a-9ca0-476a-afce-6466cd0516ef",
   "metadata": {},
   "outputs": [
    {
     "data": {
      "image/png": "[encoded data removed]"
     },
     "metadata": {},
     "output_type": "display_data"
    }
   ],
   "source": [
    "gentrain_flatten = distance_matrix.flatten()\n",
    "approximated_flatten = observed_matrix.flatten()\n",
    "data = pd.DataFrame({\n",
    "    \"gentrain\": gentrain_flatten,\n",
    "    \"optimized\": approximated_flatten\n",
    "})\n",
    "\n",
    "\n",
    "data = data.groupby([\"gentrain\", \"optimized\"]).size().reset_index(name=\"count\")\n",
    "\n",
    "fig = px.scatter(data, x=\"gentrain\", y=\"optimized\", color=\"count\", color_continuous_scale=[[0, \"#f1f1f1\"], [1, \"#000000\"]], labels={\"count\": \"Count\"})\n",
    "\n",
    "fig.add_shape(\n",
    "    type=\"line\",\n",
    "    x0=min(gentrain_flatten.min(), approximated_flatten.min()),\n",
    "    y0=min(gentrain_flatten.min(), approximated_flatten.min()),\n",
    "    x1=max(gentrain_flatten.max(), approximated_flatten.max()),\n",
    "    y1=max(gentrain_flatten.max(), approximated_flatten.max()),\n",
    "    line=dict(color=\"black\", width=2, dash=\"dash\"),\n",
    "    name=\"y = x\",\n",
    ")\n",
    "fig.update_layout(width=1000, height=1000,template=\"presentation\",font=dict(size=30),  xaxis=dict(\n",
    "        title=dict(\n",
    "              text=\"Optimized algorithm distance\",\n",
    "            standoff=40\n",
    "        ),\n",
    "        tickangle=0\n",
    "    ),\n",
    "    margin=dict(l=120,r=0,t=0,b=120),\n",
    "    yaxis=dict(\n",
    "        title=dict(\n",
    "            text=\"Genetic distance approximation\",\n",
    "            standoff=40\n",
    "        ),\n",
    "        tickangle=0\n",
    "    ),)\n",
    "fig.show()\n",
    "fig.write_image(\"figures/approximation_offset_due_202203.svg\", width=1000, height=1000)"
   ]
  }
 ],
 "metadata": {
  "kernelspec": {
   "display_name": "Python 3 (ipykernel)",
   "language": "python",
   "name": "python3"
  },
  "language_info": {
   "codemirror_mode": {
    "name": "ipython",
    "version": 3
   },
   "file_extension": ".py",
   "mimetype": "text/x-python",
   "name": "python",
   "nbconvert_exporter": "python",
   "pygments_lexer": "ipython3",
   "version": "3.12.5"
  }
 },
 "nbformat": 4,
 "nbformat_minor": 5
}
