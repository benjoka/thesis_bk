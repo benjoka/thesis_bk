{
 "cells": [
  {
   "cell_type": "code",
   "execution_count": 1,
   "id": "9cac7eac-6e85-4147-a97f-bde02ceb3855",
   "metadata": {},
   "outputs": [],
   "source": [
    "import plotly.express as px\n",
    "import pandas as pd\n",
    "import networkx as nx\n",
    "import community as community_louvain\n",
    "from gentrain.nextclade import get_mutations_from_dataframe\n",
    "from collections import Counter\n",
    "import numpy as np"
   ]
  },
  {
   "cell_type": "markdown",
   "id": "408d65e4-90cb-447e-b235-c50f64d305d6",
   "metadata": {},
   "source": [
    "## Duesseldorf 2022"
   ]
  },
  {
   "cell_type": "code",
   "execution_count": 2,
   "id": "44b98ca8-29c5-4ab9-b1b2-dafc27936c90",
   "metadata": {},
   "outputs": [],
   "source": [
    "dataset_name = \"duesseldorf_2022\""
   ]
  },
  {
   "cell_type": "code",
   "execution_count": 3,
   "id": "0bc4e774-d1ea-4c71-b24a-312b77937e38",
   "metadata": {},
   "outputs": [],
   "source": [
    "distance_matrix_df = pd.read_csv(f\"../../data/{dataset_name}/distance_matrix.csv\", delimiter=\";\", index_col=\"Unnamed: 0\").sort_index()\n",
    "distance_matrix = distance_matrix_df.to_numpy()"
   ]
  },
  {
   "cell_type": "code",
   "execution_count": 4,
   "id": "c8968c52-ecf4-499c-a010-a54498569c16",
   "metadata": {},
   "outputs": [],
   "source": [
    "isolates_df = pd.read_csv(f\"../../data/{dataset_name}/sequences_and_metadata.csv\", delimiter=\";\").set_index(\"igs_id\").sort_index()\n",
    "mutations_df = get_mutations_from_dataframe(isolates_df).reset_index()"
   ]
  },
  {
   "cell_type": "code",
   "execution_count": 5,
   "id": "b4fbbefb-5a11-41c7-a28d-47da57d1fe98",
   "metadata": {},
   "outputs": [],
   "source": [
    "complete_graph = nx.Graph()\n",
    "n = distance_matrix.shape[0]\n",
    "complete_graph.add_nodes_from(range(n))\n",
    "for i in range(n):\n",
    "    for j in range(i + 1, n):\n",
    "        distance = distance_matrix[i][j]\n",
    "        complete_graph.add_edge(i, j, weight=distance)"
   ]
  },
  {
   "cell_type": "code",
   "execution_count": 6,
   "id": "5de4b2fd-073a-4432-b986-edf8aacac2b3",
   "metadata": {},
   "outputs": [],
   "source": [
    "mst = nx.minimum_spanning_tree(complete_graph, algorithm=\"prim\")"
   ]
  },
  {
   "cell_type": "code",
   "execution_count": 7,
   "id": "269e031b-e2d2-4386-99e1-b9c44276d4f4",
   "metadata": {},
   "outputs": [],
   "source": [
    "partition = community_louvain.best_partition(mst)"
   ]
  },
  {
   "cell_type": "code",
   "execution_count": 8,
   "id": "5864724d-c24f-4577-a7d2-97f78f8cd7ac",
   "metadata": {},
   "outputs": [],
   "source": [
    "communities = {}\n",
    "for isolate_id, community_id in partition.items():\n",
    "    if community_id not in communities:\n",
    "        communities[community_id] = []\n",
    "    communities[community_id].append(isolate_id)"
   ]
  },
  {
   "cell_type": "code",
   "execution_count": 9,
   "id": "579ce91f-f775-419b-8d41-9a0ea6c22127",
   "metadata": {},
   "outputs": [],
   "source": [
    "cluster_mutations = []\n",
    "tick_vals = []\n",
    "tick_texts = []\n",
    "for community_id, community_isolates in communities.items():\n",
    "    mutation_strings = mutations_df.loc[community_isolates][\"substitutions\"].sum()\n",
    "    mutation_counts = Counter(mutation_strings)\n",
    "    cluster_mutations.append({k for k, v in mutation_counts.items() if v > 1})"
   ]
  },
  {
   "cell_type": "markdown",
   "id": "9d8458ea-6e8c-4b7a-adb3-8f54d5dd448f",
   "metadata": {},
   "source": [
    "## Analysing characteristic mutations"
   ]
  },
  {
   "cell_type": "code",
   "execution_count": 10,
   "id": "9e9f0211-2046-4adf-9c67-2af9f92c2c46",
   "metadata": {},
   "outputs": [],
   "source": [
    "characteristic_mutations = []\n",
    "for i, mutations_in_cluster in enumerate(cluster_mutations):\n",
    "    before = cluster_mutations[:i]\n",
    "    after = cluster_mutations[i+1:]\n",
    "    union_other = set().union(*(before+after))\n",
    "    characteristic_mutations.append(mutations_in_cluster - union_other)"
   ]
  },
  {
   "cell_type": "code",
   "execution_count": 11,
   "id": "28764b44-ce61-494f-b5af-b8c36b82c7f7",
   "metadata": {},
   "outputs": [],
   "source": [
    "characteristic_subsitution_counts = {}\n",
    "substitution_counts = mutations_df[\"substitutions\"].explode().value_counts()\n",
    "for characteristic_mutations_in_cluster in characteristic_mutations:\n",
    "    for substitution in characteristic_mutations_in_cluster:\n",
    "        characteristic_subsitution_counts[substitution] = substitution_counts[substitution]"
   ]
  },
  {
   "cell_type": "code",
   "execution_count": 12,
   "id": "dfa54d24-b3db-4a51-a47f-1c7bf3b3c05a",
   "metadata": {
    "scrolled": true
   },
   "outputs": [
    {
     "data": {
      "text/plain": [
       "'Mean ocurrency count through characteristic mutations: 4.822094691535151'"
      ]
     },
     "execution_count": 12,
     "metadata": {},
     "output_type": "execute_result"
    }
   ],
   "source": [
    "mean_occurency_count = sum(characteristic_subsitution_counts.values()) / len(characteristic_subsitution_counts)\n",
    "f\"Mean ocurrency count through characteristic mutations: {mean_occurency_count}\""
   ]
  },
  {
   "cell_type": "code",
   "execution_count": 13,
   "id": "c881f1db-59a1-45be-87b3-9d004fa02faa",
   "metadata": {},
   "outputs": [
    {
     "data": {
      "text/plain": [
       "'Max ocurrency count through characteristic mutations: 36'"
      ]
     },
     "execution_count": 13,
     "metadata": {},
     "output_type": "execute_result"
    }
   ],
   "source": [
    "max_occurency_count = max(characteristic_subsitution_counts.values())\n",
    "f\"Max ocurrency count through characteristic mutations: {max_occurency_count}\""
   ]
  },
  {
   "cell_type": "code",
   "execution_count": 14,
   "id": "0217a849-e295-4d06-bdaa-bf9c257db2ac",
   "metadata": {},
   "outputs": [
    {
     "data": {
      "text/plain": [
       "'Clean max ocurrency count through characteristic mutations: 24'"
      ]
     },
     "execution_count": 14,
     "metadata": {},
     "output_type": "execute_result"
    }
   ],
   "source": [
    "cleaned_max_occurency_count = round(np.percentile(list(characteristic_subsitution_counts.values()), 99))\n",
    "f\"Clean max ocurrency count through characteristic mutations: {cleaned_max_occurency_count}\""
   ]
  },
  {
   "cell_type": "code",
   "execution_count": 15,
   "id": "89cce9a2-c140-4fc3-8d4c-4e79eaffc1a9",
   "metadata": {},
   "outputs": [
    {
     "data": {
      "text/plain": [
       "'Min ocurrency count through characteristic mutations: 2'"
      ]
     },
     "execution_count": 15,
     "metadata": {},
     "output_type": "execute_result"
    }
   ],
   "source": [
    "min_occurency_count = min(characteristic_subsitution_counts.values())\n",
    "f\"Min ocurrency count through characteristic mutations: {min_occurency_count}\""
   ]
  },
  {
   "cell_type": "code",
   "execution_count": 16,
   "id": "18ec901b-2016-471c-b6fc-3e1681b82fdf",
   "metadata": {
    "scrolled": true
   },
   "outputs": [
    {
     "data": {
      "text/plain": [
       "'Characteristic mutations occur in max 0.72% of all sequences.'"
      ]
     },
     "execution_count": 16,
     "metadata": {},
     "output_type": "execute_result"
    }
   ],
   "source": [
    "f\"Characteristic mutations occur in max {round((max_occurency_count/len(isolates_df)) * 100, 2)}% of all sequences.\""
   ]
  },
  {
   "cell_type": "code",
   "execution_count": 17,
   "id": "42bbb5da-9efc-4d91-95eb-88de19ba4345",
   "metadata": {},
   "outputs": [
    {
     "data": {
      "text/plain": [
       "'Cleaned characteristic mutations occur in max 0.48% of all sequences.'"
      ]
     },
     "execution_count": 17,
     "metadata": {},
     "output_type": "execute_result"
    }
   ],
   "source": [
    "f\"Cleaned characteristic mutations occur in max {round((cleaned_max_occurency_count/len(isolates_df)) * 100, 2)}% of all sequences.\""
   ]
  },
  {
   "cell_type": "markdown",
   "id": "87b616c0-cd36-41a6-b771-344cf3f203e1",
   "metadata": {},
   "source": [
    "## Duesseldorf 202203"
   ]
  },
  {
   "cell_type": "code",
   "execution_count": 18,
   "id": "7bcfd6f3-1bf5-44bb-852b-3d74c387e784",
   "metadata": {},
   "outputs": [],
   "source": [
    "dataset_name = \"duesseldorf_202203\""
   ]
  },
  {
   "cell_type": "code",
   "execution_count": 19,
   "id": "cf3739e3-6c92-4fef-9ca8-49bd93fe712d",
   "metadata": {},
   "outputs": [],
   "source": [
    "distance_matrix_df = pd.read_csv(f\"../../data/{dataset_name}/distance_matrix.csv\", delimiter=\";\", index_col=\"Unnamed: 0\").sort_index()\n",
    "distance_matrix = distance_matrix_df.to_numpy()"
   ]
  },
  {
   "cell_type": "code",
   "execution_count": 20,
   "id": "1b7bc940-2899-4a6a-b630-88f09f86401c",
   "metadata": {},
   "outputs": [],
   "source": [
    "isolates_df = pd.read_csv(f\"../../data/{dataset_name}/sequences_and_metadata.csv\", delimiter=\";\").set_index(\"igs_id\").sort_index()\n",
    "mutations_df = get_mutations_from_dataframe(isolates_df).reset_index()"
   ]
  },
  {
   "cell_type": "code",
   "execution_count": 21,
   "id": "0cf37a31-fe79-4e9c-903f-6cee90b4165b",
   "metadata": {},
   "outputs": [],
   "source": [
    "complete_graph = nx.Graph()\n",
    "n = distance_matrix.shape[0]\n",
    "complete_graph.add_nodes_from(range(n))\n",
    "for i in range(n):\n",
    "    for j in range(i + 1, n):\n",
    "        distance = distance_matrix[i][j]\n",
    "        complete_graph.add_edge(i, j, weight=distance)"
   ]
  },
  {
   "cell_type": "code",
   "execution_count": 22,
   "id": "cdd8acb0-069e-4e03-827b-2eb9a5c30cf3",
   "metadata": {},
   "outputs": [],
   "source": [
    "mst = nx.minimum_spanning_tree(complete_graph, algorithm=\"prim\")"
   ]
  },
  {
   "cell_type": "code",
   "execution_count": 23,
   "id": "f2748afe-224e-4449-8088-40e6c9473eb4",
   "metadata": {},
   "outputs": [],
   "source": [
    "partition = community_louvain.best_partition(mst)"
   ]
  },
  {
   "cell_type": "code",
   "execution_count": 24,
   "id": "35556cc9-c3ca-45e7-b946-4f7a96b432ed",
   "metadata": {},
   "outputs": [],
   "source": [
    "communities = {}\n",
    "for isolate_id, community_id in partition.items():\n",
    "    if community_id not in communities:\n",
    "        communities[community_id] = []\n",
    "    communities[community_id].append(isolate_id)"
   ]
  },
  {
   "cell_type": "code",
   "execution_count": 25,
   "id": "f3427fa2-1eab-427e-86c8-fdc99a4409af",
   "metadata": {},
   "outputs": [],
   "source": [
    "cluster_mutations = []\n",
    "tick_vals = []\n",
    "tick_texts = []\n",
    "for community_id, community_isolates in communities.items():\n",
    "    mutation_strings = mutations_df.loc[community_isolates][\"substitutions\"].sum()\n",
    "    mutation_counts = Counter(mutation_strings)\n",
    "    cluster_mutations.append({k for k, v in mutation_counts.items() if v > 1})"
   ]
  },
  {
   "cell_type": "markdown",
   "id": "c367779a-9446-4fb7-a99d-82575ffd16ca",
   "metadata": {},
   "source": [
    "## Analysing characteristic mutations"
   ]
  },
  {
   "cell_type": "code",
   "execution_count": 26,
   "id": "4c8ca17c-7748-470f-8129-f8490026d3c8",
   "metadata": {},
   "outputs": [],
   "source": [
    "characteristic_mutations = []\n",
    "for i, mutations_in_cluster in enumerate(cluster_mutations):\n",
    "    before = cluster_mutations[:i]\n",
    "    after = cluster_mutations[i+1:]\n",
    "    union_other = set().union(*(before+after))\n",
    "    characteristic_mutations.append(mutations_in_cluster - union_other)"
   ]
  },
  {
   "cell_type": "code",
   "execution_count": 27,
   "id": "4d1ce0a7-0c3a-40a8-b74a-2e15daf69ab3",
   "metadata": {},
   "outputs": [],
   "source": [
    "characteristic_subsitution_counts = {}\n",
    "substitution_counts = mutations_df[\"substitutions\"].explode().value_counts()\n",
    "for characteristic_mutations_in_cluster in characteristic_mutations:\n",
    "    for substitution in characteristic_mutations_in_cluster:\n",
    "        characteristic_subsitution_counts[substitution] = substitution_counts[substitution]"
   ]
  },
  {
   "cell_type": "code",
   "execution_count": 28,
   "id": "3dea9666-f1a9-48b3-9915-ef37be1a9f8b",
   "metadata": {
    "scrolled": true
   },
   "outputs": [
    {
     "data": {
      "text/plain": [
       "'Mean ocurrency count through characteristic mutations: 4.74163783160323'"
      ]
     },
     "execution_count": 28,
     "metadata": {},
     "output_type": "execute_result"
    }
   ],
   "source": [
    "mean_occurency_count = sum(characteristic_subsitution_counts.values()) / len(characteristic_subsitution_counts)\n",
    "f\"Mean ocurrency count through characteristic mutations: {mean_occurency_count}\""
   ]
  },
  {
   "cell_type": "code",
   "execution_count": 29,
   "id": "dfc01374-f565-4255-ab3a-0e4973138c9f",
   "metadata": {},
   "outputs": [
    {
     "data": {
      "text/plain": [
       "'Max ocurrency count through characteristic mutations: 27'"
      ]
     },
     "execution_count": 29,
     "metadata": {},
     "output_type": "execute_result"
    }
   ],
   "source": [
    "max_occurency_count = max(characteristic_subsitution_counts.values())\n",
    "f\"Max ocurrency count through characteristic mutations: {max_occurency_count}\""
   ]
  },
  {
   "cell_type": "code",
   "execution_count": 30,
   "id": "48a8ca5f-374e-4a29-b295-208176179f96",
   "metadata": {},
   "outputs": [
    {
     "data": {
      "text/plain": [
       "'Clean max ocurrency count through characteristic mutations: 18'"
      ]
     },
     "execution_count": 30,
     "metadata": {},
     "output_type": "execute_result"
    }
   ],
   "source": [
    "cleaned_max_occurency_count = round(np.percentile(list(characteristic_subsitution_counts.values()), 99))\n",
    "f\"Clean max ocurrency count through characteristic mutations: {cleaned_max_occurency_count}\""
   ]
  },
  {
   "cell_type": "code",
   "execution_count": 31,
   "id": "e44a444f-641f-45d2-bfe0-cdf6085015d0",
   "metadata": {},
   "outputs": [
    {
     "data": {
      "text/plain": [
       "'Min ocurrency count through characteristic mutations: 2'"
      ]
     },
     "execution_count": 31,
     "metadata": {},
     "output_type": "execute_result"
    }
   ],
   "source": [
    "min_occurency_count = min(characteristic_subsitution_counts.values())\n",
    "f\"Min ocurrency count through characteristic mutations: {min_occurency_count}\""
   ]
  },
  {
   "cell_type": "code",
   "execution_count": 32,
   "id": "ae68221d-0e5e-4f86-80ce-b27a28b9e500",
   "metadata": {
    "scrolled": true
   },
   "outputs": [
    {
     "data": {
      "text/plain": [
       "'Characteristic mutations occur in max 0.64% of all sequences.'"
      ]
     },
     "execution_count": 32,
     "metadata": {},
     "output_type": "execute_result"
    }
   ],
   "source": [
    "f\"Characteristic mutations occur in max {round((max_occurency_count/len(isolates_df)) * 100, 2)}% of all sequences.\""
   ]
  },
  {
   "cell_type": "code",
   "execution_count": 33,
   "id": "47c6124e-be76-40db-8e22-4c80e4963da4",
   "metadata": {},
   "outputs": [
    {
     "data": {
      "text/plain": [
       "'Cleaned characteristic mutations occur in max 0.42% of all sequences.'"
      ]
     },
     "execution_count": 33,
     "metadata": {},
     "output_type": "execute_result"
    }
   ],
   "source": [
    "f\"Cleaned characteristic mutations occur in max {round((cleaned_max_occurency_count/len(isolates_df)) * 100, 2)}% of all sequences.\""
   ]
  },
  {
   "cell_type": "markdown",
   "id": "d2793f11-076f-418e-bdc2-871878823cbe",
   "metadata": {},
   "source": [
    "## Duesseldorf 202203w1"
   ]
  },
  {
   "cell_type": "code",
   "execution_count": 34,
   "id": "fd9d85e0-8740-40dc-aee2-90b5ff799f5b",
   "metadata": {},
   "outputs": [],
   "source": [
    "dataset_name = \"duesseldorf_202203w1\""
   ]
  },
  {
   "cell_type": "code",
   "execution_count": 35,
   "id": "c7aabc3a-cdc8-4793-9a2d-31ee79777153",
   "metadata": {},
   "outputs": [],
   "source": [
    "distance_matrix_df = pd.read_csv(f\"../../data/{dataset_name}/distance_matrix.csv\", delimiter=\";\", index_col=\"Unnamed: 0\").sort_index()\n",
    "distance_matrix = distance_matrix_df.to_numpy()"
   ]
  },
  {
   "cell_type": "code",
   "execution_count": 36,
   "id": "ab22740b-5aa4-4f81-b93a-925ee4f5a2e0",
   "metadata": {},
   "outputs": [],
   "source": [
    "isolates_df = pd.read_csv(f\"../../data/{dataset_name}/sequences_and_metadata.csv\", delimiter=\";\").set_index(\"igs_id\").sort_index()\n",
    "mutations_df = get_mutations_from_dataframe(isolates_df).reset_index()"
   ]
  },
  {
   "cell_type": "code",
   "execution_count": 37,
   "id": "50bc7e03-9abc-44c3-af3e-2412a9941b09",
   "metadata": {},
   "outputs": [],
   "source": [
    "complete_graph = nx.Graph()\n",
    "n = distance_matrix.shape[0]\n",
    "complete_graph.add_nodes_from(range(n))\n",
    "for i in range(n):\n",
    "    for j in range(i + 1, n):\n",
    "        distance = distance_matrix[i][j]\n",
    "        complete_graph.add_edge(i, j, weight=distance)"
   ]
  },
  {
   "cell_type": "code",
   "execution_count": 38,
   "id": "5861b2e0-b781-401a-aabc-4664c93003c0",
   "metadata": {},
   "outputs": [],
   "source": [
    "mst = nx.minimum_spanning_tree(complete_graph, algorithm=\"prim\")"
   ]
  },
  {
   "cell_type": "code",
   "execution_count": 39,
   "id": "f4daf3a0-476e-48fc-ab28-929cf567868c",
   "metadata": {},
   "outputs": [],
   "source": [
    "partition = community_louvain.best_partition(mst)"
   ]
  },
  {
   "cell_type": "code",
   "execution_count": 40,
   "id": "5b0b4fbe-3d30-4f27-b50d-929c48bedd2d",
   "metadata": {},
   "outputs": [],
   "source": [
    "communities = {}\n",
    "for isolate_id, community_id in partition.items():\n",
    "    if community_id not in communities:\n",
    "        communities[community_id] = []\n",
    "    communities[community_id].append(isolate_id)"
   ]
  },
  {
   "cell_type": "code",
   "execution_count": 41,
   "id": "a65ddac0-2ff0-413d-8ec1-cf821f14989f",
   "metadata": {},
   "outputs": [],
   "source": [
    "cluster_mutations = []\n",
    "tick_vals = []\n",
    "tick_texts = []\n",
    "for community_id, community_isolates in communities.items():\n",
    "    mutation_strings = mutations_df.loc[community_isolates][\"substitutions\"].sum()\n",
    "    mutation_counts = Counter(mutation_strings)\n",
    "    cluster_mutations.append({k for k, v in mutation_counts.items() if v > 1})"
   ]
  },
  {
   "cell_type": "markdown",
   "id": "3839b827-e914-4935-8094-8faa330a0851",
   "metadata": {},
   "source": [
    "## Analysing characteristic mutations"
   ]
  },
  {
   "cell_type": "code",
   "execution_count": 42,
   "id": "8d573a7f-a485-425f-951b-828e496a0a44",
   "metadata": {},
   "outputs": [],
   "source": [
    "characteristic_mutations = []\n",
    "for i, mutations_in_cluster in enumerate(cluster_mutations):\n",
    "    before = cluster_mutations[:i]\n",
    "    after = cluster_mutations[i+1:]\n",
    "    union_other = set().union(*(before+after))\n",
    "    characteristic_mutations.append(mutations_in_cluster - union_other)"
   ]
  },
  {
   "cell_type": "code",
   "execution_count": 43,
   "id": "3474b8fa-2d53-4f64-8d3d-02cf169c94d2",
   "metadata": {},
   "outputs": [],
   "source": [
    "characteristic_subsitution_counts = {}\n",
    "substitution_counts = mutations_df[\"substitutions\"].explode().value_counts()\n",
    "for characteristic_mutations_in_cluster in characteristic_mutations:\n",
    "    for substitution in characteristic_mutations_in_cluster:\n",
    "        characteristic_subsitution_counts[substitution] = substitution_counts[substitution]"
   ]
  },
  {
   "cell_type": "code",
   "execution_count": 44,
   "id": "288d8493-0160-4db8-a385-4c6facf7f404",
   "metadata": {
    "scrolled": true
   },
   "outputs": [
    {
     "data": {
      "text/plain": [
       "'Mean ocurrency count through characteristic mutations: 3.789285714285714'"
      ]
     },
     "execution_count": 44,
     "metadata": {},
     "output_type": "execute_result"
    }
   ],
   "source": [
    "mean_occurency_count = sum(characteristic_subsitution_counts.values()) / len(characteristic_subsitution_counts)\n",
    "f\"Mean ocurrency count through characteristic mutations: {mean_occurency_count}\""
   ]
  },
  {
   "cell_type": "code",
   "execution_count": 45,
   "id": "1ccbe7d5-ff4c-4039-a3fc-cc8228cd323f",
   "metadata": {},
   "outputs": [
    {
     "data": {
      "text/plain": [
       "'Max ocurrency count through characteristic mutations: 17'"
      ]
     },
     "execution_count": 45,
     "metadata": {},
     "output_type": "execute_result"
    }
   ],
   "source": [
    "max_occurency_count = max(characteristic_subsitution_counts.values())\n",
    "f\"Max ocurrency count through characteristic mutations: {max_occurency_count}\""
   ]
  },
  {
   "cell_type": "code",
   "execution_count": 46,
   "id": "39aae6f8-cde2-4f2a-a5e7-afa18c9ac5fc",
   "metadata": {},
   "outputs": [
    {
     "data": {
      "text/plain": [
       "'Clean max ocurrency count through characteristic mutations: 13'"
      ]
     },
     "execution_count": 46,
     "metadata": {},
     "output_type": "execute_result"
    }
   ],
   "source": [
    "cleaned_max_occurency_count = round(np.percentile(list(characteristic_subsitution_counts.values()), 99))\n",
    "f\"Clean max ocurrency count through characteristic mutations: {cleaned_max_occurency_count}\""
   ]
  },
  {
   "cell_type": "code",
   "execution_count": 47,
   "id": "4296c20e-ccaf-4e1c-9b38-04a2fb7fa401",
   "metadata": {},
   "outputs": [
    {
     "data": {
      "text/plain": [
       "'Min ocurrency count through characteristic mutations: 2'"
      ]
     },
     "execution_count": 47,
     "metadata": {},
     "output_type": "execute_result"
    }
   ],
   "source": [
    "min_occurency_count = min(characteristic_subsitution_counts.values())\n",
    "f\"Min ocurrency count through characteristic mutations: {min_occurency_count}\""
   ]
  },
  {
   "cell_type": "code",
   "execution_count": 48,
   "id": "7cad71c4-4570-4954-81e1-5163e5615797",
   "metadata": {
    "scrolled": true
   },
   "outputs": [
    {
     "data": {
      "text/plain": [
       "'Characteristic mutations occur in max 1.31% of all sequences.'"
      ]
     },
     "execution_count": 48,
     "metadata": {},
     "output_type": "execute_result"
    }
   ],
   "source": [
    "f\"Characteristic mutations occur in max {round((max_occurency_count/len(isolates_df)) * 100, 2)}% of all sequences.\""
   ]
  },
  {
   "cell_type": "code",
   "execution_count": 49,
   "id": "bef4e66a-ee9a-46a0-aa88-a12ddc7dad5e",
   "metadata": {},
   "outputs": [
    {
     "data": {
      "text/plain": [
       "'Cleaned characteristic mutations occur in max 1.0% of all sequences.'"
      ]
     },
     "execution_count": 49,
     "metadata": {},
     "output_type": "execute_result"
    }
   ],
   "source": [
    "f\"Cleaned characteristic mutations occur in max {round((cleaned_max_occurency_count/len(isolates_df)) * 100, 2)}% of all sequences.\""
   ]
  },
  {
   "cell_type": "markdown",
   "id": "022cdb2d-a813-4f49-be26-b64658fee913",
   "metadata": {},
   "source": [
    "## NRW 2022"
   ]
  },
  {
   "cell_type": "code",
   "execution_count": 50,
   "id": "50c3465f-24d2-42ed-a9c7-3a9f7687fd83",
   "metadata": {},
   "outputs": [],
   "source": [
    "dataset_name = \"nrw_2022\""
   ]
  },
  {
   "cell_type": "code",
   "execution_count": 51,
   "id": "7476e291-4077-4aa6-8d1c-95fb5f2642ef",
   "metadata": {},
   "outputs": [],
   "source": [
    "distance_matrix_df = pd.read_csv(f\"../../data/{dataset_name}/distance_matrix.csv\", delimiter=\";\", index_col=\"Unnamed: 0\").sort_index()\n",
    "distance_matrix = distance_matrix_df.to_numpy()"
   ]
  },
  {
   "cell_type": "code",
   "execution_count": 52,
   "id": "f788ead1-5ece-46d5-ab88-1477dfa868f3",
   "metadata": {},
   "outputs": [],
   "source": [
    "isolates_df = pd.read_csv(f\"../../data/{dataset_name}/sequences_and_metadata.csv\", delimiter=\";\").set_index(\"igs_id\").sort_index()\n",
    "mutations_df = get_mutations_from_dataframe(isolates_df).reset_index()"
   ]
  },
  {
   "cell_type": "code",
   "execution_count": 53,
   "id": "3d45e9e4",
   "metadata": {},
   "outputs": [],
   "source": [
    "complete_graph = nx.Graph()\n",
    "n = distance_matrix.shape[0]\n",
    "complete_graph.add_nodes_from(range(n))\n",
    "for i in range(n):\n",
    "    for j in range(i + 1, n):\n",
    "        distance = distance_matrix[i][j]\n",
    "        complete_graph.add_edge(i, j, weight=distance)"
   ]
  },
  {
   "cell_type": "code",
   "execution_count": 54,
   "id": "b7e31f6e",
   "metadata": {},
   "outputs": [],
   "source": [
    "mst = nx.minimum_spanning_tree(complete_graph, algorithm=\"prim\")"
   ]
  },
  {
   "cell_type": "code",
   "execution_count": 55,
   "id": "8b20f449",
   "metadata": {},
   "outputs": [],
   "source": [
    "partition = community_louvain.best_partition(mst)"
   ]
  },
  {
   "cell_type": "code",
   "execution_count": 56,
   "id": "c57d8fec",
   "metadata": {},
   "outputs": [],
   "source": [
    "communities = {}\n",
    "for isolate_id, community_id in partition.items():\n",
    "    if community_id not in communities:\n",
    "        communities[community_id] = []\n",
    "    communities[community_id].append(isolate_id)"
   ]
  },
  {
   "cell_type": "code",
   "execution_count": 57,
   "id": "e7c5fb64-0d1d-49ed-ad09-17904e48fb99",
   "metadata": {},
   "outputs": [],
   "source": [
    "cluster_mutations = []\n",
    "tick_vals = []\n",
    "tick_texts = []\n",
    "for community_id, community_isolates in communities.items():\n",
    "    mutation_strings = mutations_df.loc[community_isolates][\"substitutions\"].sum()\n",
    "    mutation_counts = Counter(mutation_strings)\n",
    "    cluster_mutations.append({k for k, v in mutation_counts.items() if v > 1})"
   ]
  },
  {
   "cell_type": "markdown",
   "id": "d3be334d-2788-4be5-9743-192f0222cf98",
   "metadata": {},
   "source": [
    "## Analysing characteristic mutations"
   ]
  },
  {
   "cell_type": "code",
   "execution_count": 58,
   "id": "a34f000a-d634-47e5-a69c-947a28ef1886",
   "metadata": {},
   "outputs": [],
   "source": [
    "characteristic_mutations = []\n",
    "for i, mutations_in_cluster in enumerate(cluster_mutations):\n",
    "    before = cluster_mutations[:i]\n",
    "    after = cluster_mutations[i+1:]\n",
    "    union_other = set().union(*(before+after))\n",
    "    characteristic_mutations.append(mutations_in_cluster - union_other)"
   ]
  },
  {
   "cell_type": "code",
   "execution_count": 59,
   "id": "08f8f5da-28ef-40a2-a296-6d8cb5af8fb5",
   "metadata": {},
   "outputs": [],
   "source": [
    "characteristic_subsitution_counts = {}\n",
    "substitution_counts = mutations_df[\"substitutions\"].explode().value_counts()\n",
    "for characteristic_mutations_in_cluster in characteristic_mutations:\n",
    "    for substitution in characteristic_mutations_in_cluster:\n",
    "        characteristic_subsitution_counts[substitution] = substitution_counts[substitution]"
   ]
  },
  {
   "cell_type": "code",
   "execution_count": 60,
   "id": "1ff666cc-61f0-463d-9a66-cd231d778b5a",
   "metadata": {},
   "outputs": [
    {
     "data": {
      "text/plain": [
       "'Mean ocurrency count through characteristic mutations: 5.022488755622189'"
      ]
     },
     "execution_count": 60,
     "metadata": {},
     "output_type": "execute_result"
    }
   ],
   "source": [
    "mean_occurency_count = sum(characteristic_subsitution_counts.values()) / len(characteristic_subsitution_counts)\n",
    "f\"Mean ocurrency count through characteristic mutations: {mean_occurency_count}\""
   ]
  },
  {
   "cell_type": "code",
   "execution_count": 61,
   "id": "a6a140c5-ad52-456c-8a7d-07cba6acea65",
   "metadata": {},
   "outputs": [
    {
     "data": {
      "text/plain": [
       "'Max ocurrency count through characteristic mutations: 55'"
      ]
     },
     "execution_count": 61,
     "metadata": {},
     "output_type": "execute_result"
    }
   ],
   "source": [
    "max_occurency_count = max(characteristic_subsitution_counts.values())\n",
    "f\"Max ocurrency count through characteristic mutations: {max_occurency_count}\""
   ]
  },
  {
   "cell_type": "code",
   "execution_count": 62,
   "id": "da096b9e-e2e1-44b9-8f06-c936a9cc7d26",
   "metadata": {},
   "outputs": [
    {
     "data": {
      "text/plain": [
       "'Clean max ocurrency count through characteristic mutations: 30'"
      ]
     },
     "execution_count": 62,
     "metadata": {},
     "output_type": "execute_result"
    }
   ],
   "source": [
    "cleaned_max_occurency_count = round(np.percentile(list(characteristic_subsitution_counts.values()), 99))\n",
    "f\"Clean max ocurrency count through characteristic mutations: {cleaned_max_occurency_count}\""
   ]
  },
  {
   "cell_type": "code",
   "execution_count": 63,
   "id": "2b05933a-2d6f-4eed-8ac9-d88e5d11883c",
   "metadata": {},
   "outputs": [
    {
     "data": {
      "text/plain": [
       "'Min ocurrency count through characteristic mutations: 2'"
      ]
     },
     "execution_count": 63,
     "metadata": {},
     "output_type": "execute_result"
    }
   ],
   "source": [
    "min_occurency_count = min(characteristic_subsitution_counts.values())\n",
    "f\"Min ocurrency count through characteristic mutations: {min_occurency_count}\""
   ]
  },
  {
   "cell_type": "code",
   "execution_count": 64,
   "id": "338f8cc5-1d79-4cb0-a7da-60c5c3c5dc2a",
   "metadata": {
    "scrolled": true
   },
   "outputs": [
    {
     "data": {
      "text/plain": [
       "'Characteristic mutations occur in max 1.11% of all sequences.'"
      ]
     },
     "execution_count": 64,
     "metadata": {},
     "output_type": "execute_result"
    }
   ],
   "source": [
    "f\"Characteristic mutations occur in max {round((max_occurency_count/len(isolates_df)) * 100, 2)}% of all sequences.\""
   ]
  },
  {
   "cell_type": "code",
   "execution_count": 65,
   "id": "143f67c0-aa1c-4fe3-8a5c-6a442577c5bf",
   "metadata": {},
   "outputs": [
    {
     "data": {
      "text/plain": [
       "'Cleaned characteristic mutations occur in max 0.61% of all sequences.'"
      ]
     },
     "execution_count": 65,
     "metadata": {},
     "output_type": "execute_result"
    }
   ],
   "source": [
    "f\"Cleaned characteristic mutations occur in max {round((cleaned_max_occurency_count/len(isolates_df)) * 100, 2)}% of all sequences.\""
   ]
  },
  {
   "cell_type": "markdown",
   "id": "3ab25516-ee74-406c-912c-35154736afbd",
   "metadata": {},
   "source": [
    "## NRW 202203"
   ]
  },
  {
   "cell_type": "code",
   "execution_count": 66,
   "id": "f2ba6a29-4a6d-411a-9fb8-63f91b0f0afa",
   "metadata": {},
   "outputs": [],
   "source": [
    "dataset_name = \"nrw_202203\""
   ]
  },
  {
   "cell_type": "code",
   "execution_count": 67,
   "id": "db9efa0f-710c-44f3-b4c5-3f72da83ff08",
   "metadata": {},
   "outputs": [],
   "source": [
    "distance_matrix_df = pd.read_csv(f\"../../data/{dataset_name}/distance_matrix.csv\", delimiter=\";\", index_col=\"Unnamed: 0\").sort_index()\n",
    "distance_matrix = distance_matrix_df.to_numpy()"
   ]
  },
  {
   "cell_type": "code",
   "execution_count": 68,
   "id": "6fc077a6-5e31-4e03-bfee-d4ac54695d23",
   "metadata": {},
   "outputs": [],
   "source": [
    "isolates_df = pd.read_csv(f\"../../data/{dataset_name}/sequences_and_metadata.csv\", delimiter=\";\").set_index(\"igs_id\").sort_index()\n",
    "mutations_df = get_mutations_from_dataframe(isolates_df).reset_index()"
   ]
  },
  {
   "cell_type": "code",
   "execution_count": 69,
   "id": "aa4faba7-54ee-44ed-9cb8-8d349f1d3373",
   "metadata": {},
   "outputs": [],
   "source": [
    "complete_graph = nx.Graph()\n",
    "n = distance_matrix.shape[0]\n",
    "complete_graph.add_nodes_from(range(n))\n",
    "for i in range(n):\n",
    "    for j in range(i + 1, n):\n",
    "        distance = distance_matrix[i][j]\n",
    "        complete_graph.add_edge(i, j, weight=distance)"
   ]
  },
  {
   "cell_type": "code",
   "execution_count": 70,
   "id": "6e457b6e-ebdf-45da-98eb-1e2d62b1afb8",
   "metadata": {},
   "outputs": [],
   "source": [
    "mst = nx.minimum_spanning_tree(complete_graph, algorithm=\"prim\")"
   ]
  },
  {
   "cell_type": "code",
   "execution_count": 71,
   "id": "3177c9e8-6bd5-4e24-b4c3-61c84dbe6d96",
   "metadata": {},
   "outputs": [],
   "source": [
    "partition = community_louvain.best_partition(mst)"
   ]
  },
  {
   "cell_type": "code",
   "execution_count": 72,
   "id": "1b79742c-e5aa-4973-8c4a-131e898446ce",
   "metadata": {},
   "outputs": [],
   "source": [
    "communities = {}\n",
    "for isolate_id, community_id in partition.items():\n",
    "    if community_id not in communities:\n",
    "        communities[community_id] = []\n",
    "    communities[community_id].append(isolate_id)"
   ]
  },
  {
   "cell_type": "code",
   "execution_count": 73,
   "id": "7294ce3b-b218-4a43-8ff6-2612d238c80d",
   "metadata": {},
   "outputs": [],
   "source": [
    "cluster_mutations = []\n",
    "tick_vals = []\n",
    "tick_texts = []\n",
    "for community_id, community_isolates in communities.items():\n",
    "    mutation_strings = mutations_df.loc[community_isolates][\"substitutions\"].sum()\n",
    "    mutation_counts = Counter(mutation_strings)\n",
    "    cluster_mutations.append({k for k, v in mutation_counts.items() if v > 1})"
   ]
  },
  {
   "cell_type": "markdown",
   "id": "2a21c9f1-c6a6-4b4f-899f-69aa789d0f38",
   "metadata": {},
   "source": [
    "## Analysing characteristic mutations"
   ]
  },
  {
   "cell_type": "code",
   "execution_count": 74,
   "id": "643f8922-a86d-4c89-baa8-6f253a733b14",
   "metadata": {},
   "outputs": [],
   "source": [
    "characteristic_mutations = []\n",
    "for i, mutations_in_cluster in enumerate(cluster_mutations):\n",
    "    before = cluster_mutations[:i]\n",
    "    after = cluster_mutations[i+1:]\n",
    "    union_other = set().union(*(before+after))\n",
    "    characteristic_mutations.append(mutations_in_cluster - union_other)"
   ]
  },
  {
   "cell_type": "code",
   "execution_count": 75,
   "id": "07dc6c30-612e-4773-9f8a-e82b80f7e45d",
   "metadata": {},
   "outputs": [],
   "source": [
    "characteristic_subsitution_counts = {}\n",
    "substitution_counts = mutations_df[\"substitutions\"].explode().value_counts()\n",
    "for characteristic_mutations_in_cluster in characteristic_mutations:\n",
    "    for substitution in characteristic_mutations_in_cluster:\n",
    "        characteristic_subsitution_counts[substitution] = substitution_counts[substitution]"
   ]
  },
  {
   "cell_type": "code",
   "execution_count": 76,
   "id": "171893d4-91af-47bb-8df8-8c042e6a9ff3",
   "metadata": {},
   "outputs": [
    {
     "data": {
      "text/plain": [
       "'Mean ocurrency count through characteristic mutations: 4.332865168539326'"
      ]
     },
     "execution_count": 76,
     "metadata": {},
     "output_type": "execute_result"
    }
   ],
   "source": [
    "mean_occurency_count = sum(characteristic_subsitution_counts.values()) / len(characteristic_subsitution_counts)\n",
    "f\"Mean ocurrency count through characteristic mutations: {mean_occurency_count}\""
   ]
  },
  {
   "cell_type": "code",
   "execution_count": 77,
   "id": "b4af724c-3c91-4466-ae22-58c9f1530504",
   "metadata": {},
   "outputs": [
    {
     "data": {
      "text/plain": [
       "'Max ocurrency count through characteristic mutations: 22'"
      ]
     },
     "execution_count": 77,
     "metadata": {},
     "output_type": "execute_result"
    }
   ],
   "source": [
    "max_occurency_count = max(characteristic_subsitution_counts.values())\n",
    "f\"Max ocurrency count through characteristic mutations: {max_occurency_count}\""
   ]
  },
  {
   "cell_type": "code",
   "execution_count": 78,
   "id": "23b3148f-eff6-4a06-a48e-6e1a3acaee47",
   "metadata": {},
   "outputs": [
    {
     "data": {
      "text/plain": [
       "'Clean max ocurrency count through characteristic mutations: 14'"
      ]
     },
     "execution_count": 78,
     "metadata": {},
     "output_type": "execute_result"
    }
   ],
   "source": [
    "cleaned_max_occurency_count = round(np.percentile(list(characteristic_subsitution_counts.values()), 99))\n",
    "f\"Clean max ocurrency count through characteristic mutations: {cleaned_max_occurency_count}\""
   ]
  },
  {
   "cell_type": "code",
   "execution_count": 79,
   "id": "ef1e8de3-6db3-47b9-b3b3-53c3f95fddc6",
   "metadata": {},
   "outputs": [
    {
     "data": {
      "text/plain": [
       "'Min ocurrency count through characteristic mutations: 2'"
      ]
     },
     "execution_count": 79,
     "metadata": {},
     "output_type": "execute_result"
    }
   ],
   "source": [
    "min_occurency_count = min(characteristic_subsitution_counts.values())\n",
    "f\"Min ocurrency count through characteristic mutations: {min_occurency_count}\""
   ]
  },
  {
   "cell_type": "code",
   "execution_count": 80,
   "id": "044f00f7-460e-4c18-8454-2df747aa07e9",
   "metadata": {
    "scrolled": true
   },
   "outputs": [
    {
     "data": {
      "text/plain": [
       "'Characteristic mutations occur in max 0.54% of all sequences.'"
      ]
     },
     "execution_count": 80,
     "metadata": {},
     "output_type": "execute_result"
    }
   ],
   "source": [
    "f\"Characteristic mutations occur in max {round((max_occurency_count/len(isolates_df)) * 100, 2)}% of all sequences.\""
   ]
  },
  {
   "cell_type": "code",
   "execution_count": 81,
   "id": "c517693e-6d59-4687-9784-595f50b718fd",
   "metadata": {
    "scrolled": true
   },
   "outputs": [
    {
     "data": {
      "text/plain": [
       "'Cleaned characteristic mutations occur in max 0.35% of all sequences.'"
      ]
     },
     "execution_count": 81,
     "metadata": {},
     "output_type": "execute_result"
    }
   ],
   "source": [
    "f\"Cleaned characteristic mutations occur in max {round((cleaned_max_occurency_count/len(isolates_df)) * 100, 2)}% of all sequences.\""
   ]
  },
  {
   "cell_type": "markdown",
   "id": "243551cb-53f1-4da0-8034-5bbc17639c90",
   "metadata": {},
   "source": [
    "## NRW 202203w1"
   ]
  },
  {
   "cell_type": "code",
   "execution_count": 82,
   "id": "7d75e621-80bd-4d4a-b0bf-2bd92b0b64f3",
   "metadata": {},
   "outputs": [],
   "source": [
    "dataset_name = \"nrw_202203w1\""
   ]
  },
  {
   "cell_type": "code",
   "execution_count": 83,
   "id": "e7108dca-226c-41c6-b953-58700773f49a",
   "metadata": {},
   "outputs": [],
   "source": [
    "distance_matrix_df = pd.read_csv(f\"../../data/{dataset_name}/distance_matrix.csv\", delimiter=\";\", index_col=\"Unnamed: 0\").sort_index()\n",
    "distance_matrix = distance_matrix_df.to_numpy()"
   ]
  },
  {
   "cell_type": "code",
   "execution_count": 84,
   "id": "665426dc-379c-4b8e-945c-87798783f6d8",
   "metadata": {},
   "outputs": [],
   "source": [
    "isolates_df = pd.read_csv(f\"../../data/{dataset_name}/sequences_and_metadata.csv\", delimiter=\";\").set_index(\"igs_id\").sort_index()\n",
    "mutations_df = get_mutations_from_dataframe(isolates_df).reset_index()"
   ]
  },
  {
   "cell_type": "code",
   "execution_count": 85,
   "id": "264282be-0a03-4955-9729-ebe4cda88bb2",
   "metadata": {},
   "outputs": [],
   "source": [
    "complete_graph = nx.Graph()\n",
    "n = distance_matrix.shape[0]\n",
    "complete_graph.add_nodes_from(range(n))\n",
    "for i in range(n):\n",
    "    for j in range(i + 1, n):\n",
    "        distance = distance_matrix[i][j]\n",
    "        complete_graph.add_edge(i, j, weight=distance)"
   ]
  },
  {
   "cell_type": "code",
   "execution_count": 86,
   "id": "84307da9-6417-4158-bc55-72e548d7f419",
   "metadata": {},
   "outputs": [],
   "source": [
    "mst = nx.minimum_spanning_tree(complete_graph, algorithm=\"prim\")"
   ]
  },
  {
   "cell_type": "code",
   "execution_count": 87,
   "id": "787e6f62-6127-4243-a093-488b31fe93dc",
   "metadata": {},
   "outputs": [],
   "source": [
    "partition = community_louvain.best_partition(mst)"
   ]
  },
  {
   "cell_type": "code",
   "execution_count": 88,
   "id": "54e46d8e-976a-46c6-b13f-b65050d8f29e",
   "metadata": {},
   "outputs": [],
   "source": [
    "communities = {}\n",
    "for isolate_id, community_id in partition.items():\n",
    "    if community_id not in communities:\n",
    "        communities[community_id] = []\n",
    "    communities[community_id].append(isolate_id)"
   ]
  },
  {
   "cell_type": "code",
   "execution_count": 89,
   "id": "51e3a32b-11c0-48a4-9292-b8cbd31e8a02",
   "metadata": {},
   "outputs": [],
   "source": [
    "cluster_mutations = []\n",
    "tick_vals = []\n",
    "tick_texts = []\n",
    "for community_id, community_isolates in communities.items():\n",
    "    mutation_strings = mutations_df.loc[community_isolates][\"substitutions\"].sum()\n",
    "    mutation_counts = Counter(mutation_strings)\n",
    "    cluster_mutations.append({k for k, v in mutation_counts.items() if v > 1})"
   ]
  },
  {
   "cell_type": "markdown",
   "id": "be0e1805-43fa-4210-92f7-6a1f9897772e",
   "metadata": {},
   "source": [
    "## Analysing characteristic mutations"
   ]
  },
  {
   "cell_type": "code",
   "execution_count": 90,
   "id": "937ef219-640b-479f-a382-fda86ea52934",
   "metadata": {},
   "outputs": [],
   "source": [
    "characteristic_mutations = []\n",
    "for i, mutations_in_cluster in enumerate(cluster_mutations):\n",
    "    before = cluster_mutations[:i]\n",
    "    after = cluster_mutations[i+1:]\n",
    "    union_other = set().union(*(before+after))\n",
    "    characteristic_mutations.append(mutations_in_cluster - union_other)"
   ]
  },
  {
   "cell_type": "code",
   "execution_count": 91,
   "id": "35dc85fd-de49-47c2-9bd6-378fcd435690",
   "metadata": {},
   "outputs": [],
   "source": [
    "characteristic_subsitution_counts = {}\n",
    "substitution_counts = mutations_df[\"substitutions\"].explode().value_counts()\n",
    "for characteristic_mutations_in_cluster in characteristic_mutations:\n",
    "    for substitution in characteristic_mutations_in_cluster:\n",
    "        characteristic_subsitution_counts[substitution] = substitution_counts[substitution]"
   ]
  },
  {
   "cell_type": "code",
   "execution_count": 92,
   "id": "39b4df2a-1727-40d8-bbcc-44b9147aaaff",
   "metadata": {},
   "outputs": [
    {
     "data": {
      "text/plain": [
       "'Mean ocurrency count through characteristic mutations: 4.0013927576601676'"
      ]
     },
     "execution_count": 92,
     "metadata": {},
     "output_type": "execute_result"
    }
   ],
   "source": [
    "mean_occurency_count = sum(characteristic_subsitution_counts.values()) / len(characteristic_subsitution_counts)\n",
    "f\"Mean ocurrency count through characteristic mutations: {mean_occurency_count}\""
   ]
  },
  {
   "cell_type": "code",
   "execution_count": 93,
   "id": "5970335d-67ca-4417-8387-7aa245dd9518",
   "metadata": {},
   "outputs": [
    {
     "data": {
      "text/plain": [
       "'Max ocurrency count through characteristic mutations: 23'"
      ]
     },
     "execution_count": 93,
     "metadata": {},
     "output_type": "execute_result"
    }
   ],
   "source": [
    "max_occurency_count = max(characteristic_subsitution_counts.values())\n",
    "f\"Max ocurrency count through characteristic mutations: {max_occurency_count}\""
   ]
  },
  {
   "cell_type": "code",
   "execution_count": 94,
   "id": "93585879-c601-4f6e-bec2-af7d8a0d552e",
   "metadata": {},
   "outputs": [
    {
     "data": {
      "text/plain": [
       "'Clean max ocurrency count through characteristic mutations: 13'"
      ]
     },
     "execution_count": 94,
     "metadata": {},
     "output_type": "execute_result"
    }
   ],
   "source": [
    "cleaned_max_occurency_count = round(np.percentile(list(characteristic_subsitution_counts.values()), 99))\n",
    "f\"Clean max ocurrency count through characteristic mutations: {cleaned_max_occurency_count}\""
   ]
  },
  {
   "cell_type": "code",
   "execution_count": 95,
   "id": "891732ba-bf68-4e31-ba3d-d886f3635210",
   "metadata": {},
   "outputs": [
    {
     "data": {
      "text/plain": [
       "'Min ocurrency count through characteristic mutations: 2'"
      ]
     },
     "execution_count": 95,
     "metadata": {},
     "output_type": "execute_result"
    }
   ],
   "source": [
    "min_occurency_count = min(characteristic_subsitution_counts.values())\n",
    "f\"Min ocurrency count through characteristic mutations: {min_occurency_count}\""
   ]
  },
  {
   "cell_type": "code",
   "execution_count": 96,
   "id": "836de076-00f4-417b-b9d8-0183fc507ca0",
   "metadata": {
    "scrolled": true
   },
   "outputs": [
    {
     "data": {
      "text/plain": [
       "'Characteristic mutations occur in max 0.57% of all sequences.'"
      ]
     },
     "execution_count": 96,
     "metadata": {},
     "output_type": "execute_result"
    }
   ],
   "source": [
    "f\"Characteristic mutations occur in max {round((max_occurency_count/len(isolates_df)) * 100, 2)}% of all sequences.\""
   ]
  },
  {
   "cell_type": "code",
   "execution_count": 97,
   "id": "fa3c3d4b-502e-4311-bb31-498b79f41949",
   "metadata": {},
   "outputs": [
    {
     "data": {
      "text/plain": [
       "'Cleaned characteristic mutations occur in max 0.32% of all sequences.'"
      ]
     },
     "execution_count": 97,
     "metadata": {},
     "output_type": "execute_result"
    }
   ],
   "source": [
    "f\"Cleaned characteristic mutations occur in max {round((cleaned_max_occurency_count/len(isolates_df)) * 100, 2)}% of all sequences.\""
   ]
  },
  {
   "cell_type": "markdown",
   "id": "4ff96d04-b3ad-4470-8062-d24cc73cc60f",
   "metadata": {},
   "source": [
    "## Germany 2022"
   ]
  },
  {
   "cell_type": "code",
   "execution_count": 98,
   "id": "b53fec4e-b400-411e-b733-ac97a1258616",
   "metadata": {},
   "outputs": [],
   "source": [
    "dataset_name = \"germany_2022\""
   ]
  },
  {
   "cell_type": "code",
   "execution_count": 99,
   "id": "6cccf3dc-430e-479f-b170-8ce0fc974e2c",
   "metadata": {},
   "outputs": [],
   "source": [
    "distance_matrix_df = pd.read_csv(f\"../../data/{dataset_name}/distance_matrix.csv\", delimiter=\";\", index_col=\"Unnamed: 0\").sort_index()\n",
    "distance_matrix = distance_matrix_df.to_numpy()"
   ]
  },
  {
   "cell_type": "code",
   "execution_count": 100,
   "id": "2a106560-e3cb-485b-8e8e-321be09bce0e",
   "metadata": {},
   "outputs": [],
   "source": [
    "isolates_df = pd.read_csv(f\"../../data/{dataset_name}/sequences_and_metadata.csv\", delimiter=\";\").set_index(\"igs_id\").sort_index()\n",
    "mutations_df = get_mutations_from_dataframe(isolates_df).reset_index()"
   ]
  },
  {
   "cell_type": "code",
   "execution_count": 101,
   "id": "43125223-9057-44c5-ae08-99963ed02960",
   "metadata": {},
   "outputs": [],
   "source": [
    "complete_graph = nx.Graph()\n",
    "n = distance_matrix.shape[0]\n",
    "complete_graph.add_nodes_from(range(n))\n",
    "for i in range(n):\n",
    "    for j in range(i + 1, n):\n",
    "        distance = distance_matrix[i][j]\n",
    "        complete_graph.add_edge(i, j, weight=distance)"
   ]
  },
  {
   "cell_type": "code",
   "execution_count": null,
   "id": "f52a2c1c-b067-4720-b40f-bf28c6ad48e1",
   "metadata": {},
   "outputs": [],
   "source": [
    "mst = nx.minimum_spanning_tree(complete_graph, algorithm=\"prim\")"
   ]
  },
  {
   "cell_type": "code",
   "execution_count": null,
   "id": "44410ce6-0605-44d3-90c5-ae4fc31a26a6",
   "metadata": {},
   "outputs": [],
   "source": [
    "partition = community_louvain.best_partition(mst)"
   ]
  },
  {
   "cell_type": "code",
   "execution_count": null,
   "id": "bd625c2e-0d22-4557-9666-811e8bfa3f92",
   "metadata": {},
   "outputs": [],
   "source": [
    "communities = {}\n",
    "for isolate_id, community_id in partition.items():\n",
    "    if community_id not in communities:\n",
    "        communities[community_id] = []\n",
    "    communities[community_id].append(isolate_id)"
   ]
  },
  {
   "cell_type": "code",
   "execution_count": null,
   "id": "fc6cfded-44bf-491d-9df5-796e0c65297a",
   "metadata": {},
   "outputs": [],
   "source": [
    "cluster_mutations = []\n",
    "tick_vals = []\n",
    "tick_texts = []\n",
    "for community_id, community_isolates in communities.items():\n",
    "    mutation_strings = mutations_df.loc[community_isolates][\"substitutions\"].sum()\n",
    "    mutation_counts = Counter(mutation_strings)\n",
    "    cluster_mutations.append({k for k, v in mutation_counts.items() if v > 1})"
   ]
  },
  {
   "cell_type": "markdown",
   "id": "6c429322-0a3a-47a9-8b4e-39f5b4a168db",
   "metadata": {},
   "source": [
    "## Analysing characteristic mutations"
   ]
  },
  {
   "cell_type": "code",
   "execution_count": null,
   "id": "9223e440-0f09-446a-ad7f-7e6ad20187d0",
   "metadata": {},
   "outputs": [],
   "source": [
    "characteristic_mutations = []\n",
    "for i, mutations_in_cluster in enumerate(cluster_mutations):\n",
    "    before = cluster_mutations[:i]\n",
    "    after = cluster_mutations[i+1:]\n",
    "    union_other = set().union(*(before+after))\n",
    "    characteristic_mutations.append(mutations_in_cluster - union_other)"
   ]
  },
  {
   "cell_type": "code",
   "execution_count": null,
   "id": "736bbd55-13a0-4ee5-b050-1400d2fe977b",
   "metadata": {},
   "outputs": [],
   "source": [
    "characteristic_subsitution_counts = {}\n",
    "substitution_counts = mutations_df[\"substitutions\"].explode().value_counts()\n",
    "for characteristic_mutations_in_cluster in characteristic_mutations:\n",
    "    for substitution in characteristic_mutations_in_cluster:\n",
    "        characteristic_subsitution_counts[substitution] = substitution_counts[substitution]"
   ]
  },
  {
   "cell_type": "code",
   "execution_count": null,
   "id": "8c7e0f73-55d5-4522-8905-91e86e8d8b76",
   "metadata": {},
   "outputs": [],
   "source": [
    "mean_occurency_count = sum(characteristic_subsitution_counts.values()) / len(characteristic_subsitution_counts)\n",
    "f\"Mean ocurrency count through characteristic mutations: {mean_occurency_count}\""
   ]
  },
  {
   "cell_type": "code",
   "execution_count": null,
   "id": "b925d5af-875c-4b08-8ce6-ae0e61f30da7",
   "metadata": {},
   "outputs": [],
   "source": [
    "max_occurency_count = max(characteristic_subsitution_counts.values())\n",
    "f\"Max ocurrency count through characteristic mutations: {max_occurency_count}\""
   ]
  },
  {
   "cell_type": "code",
   "execution_count": null,
   "id": "50cfbefd-2227-48a9-8ab9-1601a70127f1",
   "metadata": {},
   "outputs": [],
   "source": [
    "cleaned_max_occurency_count = round(np.percentile(list(characteristic_subsitution_counts.values()), 99))\n",
    "f\"Clean max ocurrency count through characteristic mutations: {cleaned_max_occurency_count}\""
   ]
  },
  {
   "cell_type": "code",
   "execution_count": null,
   "id": "f8e02f07-253e-4b47-a21b-7b733861babe",
   "metadata": {},
   "outputs": [],
   "source": [
    "min_occurency_count = min(characteristic_subsitution_counts.values())\n",
    "f\"Min ocurrency count through characteristic mutations: {min_occurency_count}\""
   ]
  },
  {
   "cell_type": "code",
   "execution_count": null,
   "id": "b84de8e7-31a5-4639-88e3-9702d522a84b",
   "metadata": {
    "scrolled": true
   },
   "outputs": [],
   "source": [
    "f\"Characteristic mutations occur in max {round((max_occurency_count/len(isolates_df)) * 100, 2)}% of all sequences.\""
   ]
  },
  {
   "cell_type": "code",
   "execution_count": null,
   "id": "d24397be-b8b0-4bc0-a52d-4db98769edd7",
   "metadata": {
    "scrolled": true
   },
   "outputs": [],
   "source": [
    "f\"Cleaned characteristic mutations occur in max {round((cleaned_max_occurency_count/len(isolates_df)) * 100, 2)}% of all sequences.\""
   ]
  },
  {
   "cell_type": "markdown",
   "id": "d3d67b0b-1164-4f63-8b03-1bd250e4a07c",
   "metadata": {},
   "source": [
    "## Germany 202203"
   ]
  },
  {
   "cell_type": "code",
   "execution_count": null,
   "id": "484d521c-0cde-4758-a847-7ad355983e8a",
   "metadata": {},
   "outputs": [],
   "source": [
    "dataset_name = \"germany_202203\""
   ]
  },
  {
   "cell_type": "code",
   "execution_count": null,
   "id": "993f5479-82c0-4b6d-85d8-b3b3b425d890",
   "metadata": {},
   "outputs": [],
   "source": [
    "distance_matrix_df = pd.read_csv(f\"../../data/{dataset_name}/distance_matrix.csv\", delimiter=\";\", index_col=\"Unnamed: 0\").sort_index()\n",
    "distance_matrix = distance_matrix_df.to_numpy()"
   ]
  },
  {
   "cell_type": "code",
   "execution_count": null,
   "id": "32740474-843f-4142-b7a7-760641645ace",
   "metadata": {},
   "outputs": [],
   "source": [
    "isolates_df = pd.read_csv(f\"../../data/{dataset_name}/sequences_and_metadata.csv\", delimiter=\";\").set_index(\"igs_id\").sort_index()\n",
    "mutations_df = get_mutations_from_dataframe(isolates_df).reset_index()"
   ]
  },
  {
   "cell_type": "code",
   "execution_count": null,
   "id": "550e8dea-a168-4c66-b1e2-e12503143017",
   "metadata": {},
   "outputs": [],
   "source": [
    "complete_graph = nx.Graph()\n",
    "n = distance_matrix.shape[0]\n",
    "complete_graph.add_nodes_from(range(n))\n",
    "for i in range(n):\n",
    "    for j in range(i + 1, n):\n",
    "        distance = distance_matrix[i][j]\n",
    "        complete_graph.add_edge(i, j, weight=distance)"
   ]
  },
  {
   "cell_type": "code",
   "execution_count": null,
   "id": "f8361cd2-6374-4666-b00a-01458ed212e4",
   "metadata": {},
   "outputs": [],
   "source": [
    "mst = nx.minimum_spanning_tree(complete_graph, algorithm=\"prim\")"
   ]
  },
  {
   "cell_type": "code",
   "execution_count": null,
   "id": "899053df-af2f-42e9-81d2-29c46776d7a4",
   "metadata": {},
   "outputs": [],
   "source": [
    "partition = community_louvain.best_partition(mst)"
   ]
  },
  {
   "cell_type": "code",
   "execution_count": null,
   "id": "c3ab8f7e-1004-4e2b-9a66-eb222ec171d9",
   "metadata": {},
   "outputs": [],
   "source": [
    "communities = {}\n",
    "for isolate_id, community_id in partition.items():\n",
    "    if community_id not in communities:\n",
    "        communities[community_id] = []\n",
    "    communities[community_id].append(isolate_id)"
   ]
  },
  {
   "cell_type": "code",
   "execution_count": null,
   "id": "4ba387ca-7e4e-4f61-8980-1c92eb6a94bb",
   "metadata": {},
   "outputs": [],
   "source": [
    "cluster_mutations = []\n",
    "tick_vals = []\n",
    "tick_texts = []\n",
    "for community_id, community_isolates in communities.items():\n",
    "    mutation_strings = mutations_df.loc[community_isolates][\"substitutions\"].sum()\n",
    "    mutation_counts = Counter(mutation_strings)\n",
    "    cluster_mutations.append({k for k, v in mutation_counts.items() if v > 1})"
   ]
  },
  {
   "cell_type": "markdown",
   "id": "6ca27df7-3ec3-4db8-ab67-9156bab51076",
   "metadata": {},
   "source": [
    "## Analysing characteristic mutations"
   ]
  },
  {
   "cell_type": "code",
   "execution_count": null,
   "id": "9994967d-8b10-4763-9b7c-f9a3150ee677",
   "metadata": {},
   "outputs": [],
   "source": [
    "characteristic_mutations = []\n",
    "for i, mutations_in_cluster in enumerate(cluster_mutations):\n",
    "    before = cluster_mutations[:i]\n",
    "    after = cluster_mutations[i+1:]\n",
    "    union_other = set().union(*(before+after))\n",
    "    characteristic_mutations.append(mutations_in_cluster - union_other)"
   ]
  },
  {
   "cell_type": "code",
   "execution_count": null,
   "id": "e37ac3ad-a223-4db2-93be-a235aefb2f03",
   "metadata": {},
   "outputs": [],
   "source": [
    "characteristic_subsitution_counts = {}\n",
    "substitution_counts = mutations_df[\"substitutions\"].explode().value_counts()\n",
    "for characteristic_mutations_in_cluster in characteristic_mutations:\n",
    "    for substitution in characteristic_mutations_in_cluster:\n",
    "        characteristic_subsitution_counts[substitution] = substitution_counts[substitution]"
   ]
  },
  {
   "cell_type": "code",
   "execution_count": null,
   "id": "5650f0b9-17af-4f05-b6c9-d9a43aee2391",
   "metadata": {},
   "outputs": [],
   "source": [
    "mean_occurency_count = sum(characteristic_subsitution_counts.values()) / len(characteristic_subsitution_counts)\n",
    "f\"Mean ocurrency count through characteristic mutations: {mean_occurency_count}\""
   ]
  },
  {
   "cell_type": "code",
   "execution_count": null,
   "id": "7d31f81d-1003-4184-97f4-622790545886",
   "metadata": {},
   "outputs": [],
   "source": [
    "max_occurency_count = max(characteristic_subsitution_counts.values())\n",
    "f\"Max ocurrency count through characteristic mutations: {max_occurency_count}\""
   ]
  },
  {
   "cell_type": "code",
   "execution_count": null,
   "id": "f742e6e1-37a7-40fd-896b-d3c6e941779c",
   "metadata": {},
   "outputs": [],
   "source": [
    "cleaned_max_occurency_count = round(np.percentile(list(characteristic_subsitution_counts.values()), 99))\n",
    "f\"Clean max ocurrency count through characteristic mutations: {cleaned_max_occurency_count}\""
   ]
  },
  {
   "cell_type": "code",
   "execution_count": null,
   "id": "6423fa27-efd9-4428-bc62-b1c6bc36ad9f",
   "metadata": {},
   "outputs": [],
   "source": [
    "min_occurency_count = min(characteristic_subsitution_counts.values())\n",
    "f\"Min ocurrency count through characteristic mutations: {min_occurency_count}\""
   ]
  },
  {
   "cell_type": "code",
   "execution_count": null,
   "id": "129c31b7-99ba-47a0-93d3-cb92b0b3abf4",
   "metadata": {
    "scrolled": true
   },
   "outputs": [],
   "source": [
    "f\"Characteristic mutations occur in max {round((max_occurency_count/len(isolates_df)) * 100, 2)}% of all sequences.\""
   ]
  },
  {
   "cell_type": "code",
   "execution_count": null,
   "id": "6d892e66-276f-455c-a1ce-96c9df4073f6",
   "metadata": {},
   "outputs": [],
   "source": [
    "f\"Cleaned characteristic mutations occur in max {round((cleaned_max_occurency_count/len(isolates_df)) * 100, 2)}% of all sequences.\""
   ]
  },
  {
   "cell_type": "markdown",
   "id": "2c76a7f8-3584-46d9-8187-52d22efcc7f0",
   "metadata": {},
   "source": [
    "## Germany 202203w1"
   ]
  },
  {
   "cell_type": "code",
   "execution_count": null,
   "id": "9eabc457-5fca-47a1-831f-79e8e990580d",
   "metadata": {},
   "outputs": [],
   "source": [
    "dataset_name = \"germany_202203w1\""
   ]
  },
  {
   "cell_type": "code",
   "execution_count": null,
   "id": "e456147f-8946-4300-8d11-2db0738dcccd",
   "metadata": {},
   "outputs": [],
   "source": [
    "distance_matrix_df = pd.read_csv(f\"../../data/{dataset_name}/distance_matrix.csv\", delimiter=\";\", index_col=\"Unnamed: 0\").sort_index()\n",
    "distance_matrix = distance_matrix_df.to_numpy()"
   ]
  },
  {
   "cell_type": "code",
   "execution_count": null,
   "id": "5a29cacc-ecf6-4e65-a770-1b80ac4a6633",
   "metadata": {},
   "outputs": [],
   "source": [
    "isolates_df = pd.read_csv(f\"../../data/{dataset_name}/sequences_and_metadata.csv\", delimiter=\";\").set_index(\"igs_id\").sort_index()\n",
    "mutations_df = get_mutations_from_dataframe(isolates_df).reset_index()"
   ]
  },
  {
   "cell_type": "code",
   "execution_count": null,
   "id": "26033a85-2078-47c0-a3c1-4c4d5e28b6f8",
   "metadata": {},
   "outputs": [],
   "source": [
    "complete_graph = nx.Graph()\n",
    "n = distance_matrix.shape[0]\n",
    "complete_graph.add_nodes_from(range(n))\n",
    "for i in range(n):\n",
    "    for j in range(i + 1, n):\n",
    "        distance = distance_matrix[i][j]\n",
    "        complete_graph.add_edge(i, j, weight=distance)"
   ]
  },
  {
   "cell_type": "code",
   "execution_count": null,
   "id": "f97e9603-f224-4314-bb21-93cde9ab4f09",
   "metadata": {},
   "outputs": [],
   "source": [
    "mst = nx.minimum_spanning_tree(complete_graph, algorithm=\"prim\")"
   ]
  },
  {
   "cell_type": "code",
   "execution_count": null,
   "id": "37c67c3b-4a58-4b0b-952d-f9d548042a47",
   "metadata": {},
   "outputs": [],
   "source": [
    "partition = community_louvain.best_partition(mst)"
   ]
  },
  {
   "cell_type": "code",
   "execution_count": null,
   "id": "c52d460b-5a11-448e-9413-86b145632d0b",
   "metadata": {},
   "outputs": [],
   "source": [
    "communities = {}\n",
    "for isolate_id, community_id in partition.items():\n",
    "    if community_id not in communities:\n",
    "        communities[community_id] = []\n",
    "    communities[community_id].append(isolate_id)"
   ]
  },
  {
   "cell_type": "code",
   "execution_count": null,
   "id": "ed5b7a57-82b0-448d-8826-498ba9c28683",
   "metadata": {},
   "outputs": [],
   "source": [
    "cluster_mutations = []\n",
    "tick_vals = []\n",
    "tick_texts = []\n",
    "for community_id, community_isolates in communities.items():\n",
    "    mutation_strings = mutations_df.loc[community_isolates][\"substitutions\"].sum()\n",
    "    mutation_counts = Counter(mutation_strings)\n",
    "    cluster_mutations.append({k for k, v in mutation_counts.items() if v > 1})"
   ]
  },
  {
   "cell_type": "markdown",
   "id": "25feb4e8-ef07-4479-b04e-62b52e47612f",
   "metadata": {},
   "source": [
    "## Analysing characteristic mutations"
   ]
  },
  {
   "cell_type": "code",
   "execution_count": null,
   "id": "1656c27b-2eb7-46b6-951a-6278e5622384",
   "metadata": {},
   "outputs": [],
   "source": [
    "characteristic_mutations = []\n",
    "for i, mutations_in_cluster in enumerate(cluster_mutations):\n",
    "    before = cluster_mutations[:i]\n",
    "    after = cluster_mutations[i+1:]\n",
    "    union_other = set().union(*(before+after))\n",
    "    characteristic_mutations.append(mutations_in_cluster - union_other)"
   ]
  },
  {
   "cell_type": "code",
   "execution_count": null,
   "id": "c15168f3-66f0-426d-a047-391029acb6b4",
   "metadata": {},
   "outputs": [],
   "source": [
    "characteristic_subsitution_counts = {}\n",
    "substitution_counts = mutations_df[\"substitutions\"].explode().value_counts()\n",
    "for characteristic_mutations_in_cluster in characteristic_mutations:\n",
    "    for substitution in characteristic_mutations_in_cluster:\n",
    "        characteristic_subsitution_counts[substitution] = substitution_counts[substitution]"
   ]
  },
  {
   "cell_type": "code",
   "execution_count": null,
   "id": "3c93748c-1b88-4841-a284-f0221115cfb0",
   "metadata": {},
   "outputs": [],
   "source": [
    "mean_occurency_count = sum(characteristic_subsitution_counts.values()) / len(characteristic_subsitution_counts)\n",
    "f\"Mean ocurrency count through characteristic mutations: {mean_occurency_count}\""
   ]
  },
  {
   "cell_type": "code",
   "execution_count": null,
   "id": "4bf82eb9-3e6b-4453-8167-831fc073b78d",
   "metadata": {},
   "outputs": [],
   "source": [
    "max_occurency_count = max(characteristic_subsitution_counts.values())\n",
    "f\"Max ocurrency count through characteristic mutations: {max_occurency_count}\""
   ]
  },
  {
   "cell_type": "code",
   "execution_count": null,
   "id": "1b32fea7-03fa-4e00-bf6b-543fd423e76e",
   "metadata": {},
   "outputs": [],
   "source": [
    "cleaned_max_occurency_count = round(np.percentile(list(characteristic_subsitution_counts.values()), 99))\n",
    "f\"Clean max ocurrency count through characteristic mutations: {cleaned_max_occurency_count}\""
   ]
  },
  {
   "cell_type": "code",
   "execution_count": null,
   "id": "cddd4321-ebeb-4cfd-b91b-381b163b1539",
   "metadata": {},
   "outputs": [],
   "source": [
    "min_occurency_count = min(characteristic_subsitution_counts.values())\n",
    "f\"Min ocurrency count through characteristic mutations: {min_occurency_count}\""
   ]
  },
  {
   "cell_type": "code",
   "execution_count": null,
   "id": "60a73862-e8f6-43e2-87ba-0273f45c5ad2",
   "metadata": {
    "scrolled": true
   },
   "outputs": [],
   "source": [
    "f\"Characteristic mutations occur in max {round((max_occurency_count/len(isolates_df)) * 100, 2)}% of all sequences.\""
   ]
  },
  {
   "cell_type": "code",
   "execution_count": null,
   "id": "15218d7a-d79f-4502-8f33-51f585fc225c",
   "metadata": {},
   "outputs": [],
   "source": [
    "f\"Cleaned characteristic mutations occur in max {round((cleaned_max_occurency_count/len(isolates_df)) * 100, 2)}% of all sequences.\""
   ]
  }
 ],
 "metadata": {
  "kernelspec": {
   "display_name": "Python 3 (ipykernel)",
   "language": "python",
   "name": "python3"
  },
  "language_info": {
   "codemirror_mode": {
    "name": "ipython",
    "version": 3
   },
   "file_extension": ".py",
   "mimetype": "text/x-python",
   "name": "python",
   "nbconvert_exporter": "python",
   "pygments_lexer": "ipython3",
   "version": "3.12.5"
  }
 },
 "nbformat": 4,
 "nbformat_minor": 5
}
