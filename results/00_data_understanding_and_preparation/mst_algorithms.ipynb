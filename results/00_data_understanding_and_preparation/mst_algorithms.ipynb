{
 "cells": [
  {
   "cell_type": "code",
   "id": "11061670",
   "metadata": {
    "ExecuteTime": {
     "end_time": "2025-07-25T09:44:27.058904Z",
     "start_time": "2025-07-25T09:44:25.811638Z"
    }
   },
   "source": [
    "!pip install ../../gentrain/."
   ],
   "outputs": [
    {
     "name": "stdout",
     "output_type": "stream",
     "text": [
      "Processing /Users/benkraling/code/thesis/gentrain\r\n",
      "  Preparing metadata (setup.py) ... \u001B[?25ldone\r\n",
      "\u001B[?25hRequirement already satisfied: biopython in /opt/anaconda3/envs/thesis/lib/python3.12/site-packages (from gentrain==0.1.2) (1.85)\r\n",
      "Requirement already satisfied: networkx in /opt/anaconda3/envs/thesis/lib/python3.12/site-packages (from gentrain==0.1.2) (3.4.2)\r\n",
      "Requirement already satisfied: matplotlib in /opt/anaconda3/envs/thesis/lib/python3.12/site-packages (from gentrain==0.1.2) (3.10.0)\r\n",
      "Requirement already satisfied: pandas in /opt/anaconda3/envs/thesis/lib/python3.12/site-packages (from gentrain==0.1.2) (2.2.3)\r\n",
      "Requirement already satisfied: numpy in /opt/anaconda3/envs/thesis/lib/python3.12/site-packages (from gentrain==0.1.2) (2.0.0)\r\n",
      "Requirement already satisfied: contourpy>=1.0.1 in /opt/anaconda3/envs/thesis/lib/python3.12/site-packages (from matplotlib->gentrain==0.1.2) (1.3.1)\r\n",
      "Requirement already satisfied: cycler>=0.10 in /opt/anaconda3/envs/thesis/lib/python3.12/site-packages (from matplotlib->gentrain==0.1.2) (0.12.1)\r\n",
      "Requirement already satisfied: fonttools>=4.22.0 in /opt/anaconda3/envs/thesis/lib/python3.12/site-packages (from matplotlib->gentrain==0.1.2) (4.55.3)\r\n",
      "Requirement already satisfied: kiwisolver>=1.3.1 in /opt/anaconda3/envs/thesis/lib/python3.12/site-packages (from matplotlib->gentrain==0.1.2) (1.4.8)\r\n",
      "Requirement already satisfied: packaging>=20.0 in /opt/anaconda3/envs/thesis/lib/python3.12/site-packages (from matplotlib->gentrain==0.1.2) (24.2)\r\n",
      "Requirement already satisfied: pillow>=8 in /opt/anaconda3/envs/thesis/lib/python3.12/site-packages (from matplotlib->gentrain==0.1.2) (11.0.0)\r\n",
      "Requirement already satisfied: pyparsing>=2.3.1 in /opt/anaconda3/envs/thesis/lib/python3.12/site-packages (from matplotlib->gentrain==0.1.2) (3.2.1)\r\n",
      "Requirement already satisfied: python-dateutil>=2.7 in /opt/anaconda3/envs/thesis/lib/python3.12/site-packages (from matplotlib->gentrain==0.1.2) (2.9.0.post0)\r\n",
      "Requirement already satisfied: pytz>=2020.1 in /opt/anaconda3/envs/thesis/lib/python3.12/site-packages (from pandas->gentrain==0.1.2) (2025.1)\r\n",
      "Requirement already satisfied: tzdata>=2022.7 in /opt/anaconda3/envs/thesis/lib/python3.12/site-packages (from pandas->gentrain==0.1.2) (2025.1)\r\n",
      "Requirement already satisfied: six>=1.5 in /opt/anaconda3/envs/thesis/lib/python3.12/site-packages (from python-dateutil>=2.7->matplotlib->gentrain==0.1.2) (1.17.0)\r\n",
      "Building wheels for collected packages: gentrain\r\n",
      "  Building wheel for gentrain (setup.py) ... \u001B[?25ldone\r\n",
      "\u001B[?25h  Created wheel for gentrain: filename=gentrain-0.1.2-py3-none-any.whl size=26704 sha256=05f14a0585efc511d2e3ee8ca22c6dd9b17ec654823ac03ad278139f548d832c\r\n",
      "  Stored in directory: /private/var/folders/2h/923cq6912sqb0snfvqqfdnmm0000gn/T/pip-ephem-wheel-cache-9yjotp_a/wheels/cf/e4/57/91c03db2e8c043adeefe35dd0969d3049f61ae0218be0acc9f\r\n",
      "Successfully built gentrain\r\n",
      "Installing collected packages: gentrain\r\n",
      "  Attempting uninstall: gentrain\r\n",
      "    Found existing installation: gentrain 0.1.2\r\n",
      "    Uninstalling gentrain-0.1.2:\r\n",
      "      Successfully uninstalled gentrain-0.1.2\r\n",
      "Successfully installed gentrain-0.1.2\r\n"
     ]
    }
   ],
   "execution_count": 1
  },
  {
   "cell_type": "code",
   "id": "01441cbd-d3ae-4f5c-b68a-e7a0d12df5c4",
   "metadata": {
    "ExecuteTime": {
     "end_time": "2025-07-25T09:44:27.506945Z",
     "start_time": "2025-07-25T09:44:27.065828Z"
    }
   },
   "source": [
    "import pandas as pd\n",
    "from gentrain.graph import build_mst, export_graph_gexf, mean_edge_weight, get_outbreak_community_labels, build_graph"
   ],
   "outputs": [],
   "execution_count": 2
  },
  {
   "cell_type": "markdown",
   "id": "53cdfa5c-6b24-4ba5-8ea0-27cad2d08c70",
   "metadata": {},
   "source": [
    "## due_202203"
   ]
  },
  {
   "cell_type": "code",
   "id": "93f5140f-23b1-4414-9a4c-3b0b75cd62e1",
   "metadata": {
    "ExecuteTime": {
     "end_time": "2025-07-25T09:44:27.587681Z",
     "start_time": "2025-07-25T09:44:27.584642Z"
    }
   },
   "source": [
    "aggregate = \"due_202203\""
   ],
   "outputs": [],
   "execution_count": 3
  },
  {
   "cell_type": "markdown",
   "id": "709559bb-c84c-41d4-bc39-68e8832dc608",
   "metadata": {},
   "source": [
    "### 1,250 sequences"
   ]
  },
  {
   "cell_type": "code",
   "id": "1f8c2d3e-8df5-4a06-8ee9-c2f604431c33",
   "metadata": {
    "ExecuteTime": {
     "end_time": "2025-07-25T09:44:27.597666Z",
     "start_time": "2025-07-25T09:44:27.595103Z"
    }
   },
   "source": [
    "size = 1250"
   ],
   "outputs": [],
   "execution_count": 4
  },
  {
   "cell_type": "code",
   "id": "f6b1a610-3e3e-465f-b4fc-903cb937d14e",
   "metadata": {
    "ExecuteTime": {
     "end_time": "2025-07-25T09:44:27.678918Z",
     "start_time": "2025-07-25T09:44:27.605969Z"
    }
   },
   "source": [
    "distance_matrix_df = pd.read_csv(f\"../01_algorithm_optimization/distance_matrices/{aggregate}/{size}/distance_matrix.csv\", delimiter=\";\",\n",
    "                                     index_col=\"Unnamed: 0\").sort_index()\n",
    "distance_matrix_df = distance_matrix_df[~distance_matrix_df.index.duplicated(keep='first')]\n",
    "distance_matrix = distance_matrix_df.to_numpy()"
   ],
   "outputs": [],
   "execution_count": 5
  },
  {
   "cell_type": "code",
   "id": "1e249ce7-82a2-4c8f-9731-cf6aab3557c5",
   "metadata": {
    "ExecuteTime": {
     "end_time": "2025-07-25T09:44:30.690436Z",
     "start_time": "2025-07-25T09:44:27.690070Z"
    }
   },
   "source": [
    "gentrain_graph = build_graph(distance_matrix)\n",
    "gentrain_mst = build_mst(gentrain_graph)"
   ],
   "outputs": [
    {
     "name": "stdout",
     "output_type": "stream",
     "text": [
      "mst generation time: 1.91s\n"
     ]
    }
   ],
   "execution_count": 6
  },
  {
   "cell_type": "markdown",
   "id": "a9e03515-8a2a-4aca-b7eb-b4fe166804b1",
   "metadata": {},
   "source": [
    "### 2,500 sequences"
   ]
  },
  {
   "cell_type": "code",
   "id": "1f4b03ec-3732-4177-8d5f-72c5af5dd623",
   "metadata": {
    "ExecuteTime": {
     "end_time": "2025-07-25T09:44:30.765383Z",
     "start_time": "2025-07-25T09:44:30.762989Z"
    }
   },
   "source": [
    "size = 2500"
   ],
   "outputs": [],
   "execution_count": 7
  },
  {
   "cell_type": "code",
   "id": "60908827-aafe-4cb6-8ab8-667a6eb79346",
   "metadata": {
    "ExecuteTime": {
     "end_time": "2025-07-25T09:44:31.044084Z",
     "start_time": "2025-07-25T09:44:30.781574Z"
    }
   },
   "source": [
    "distance_matrix_df = pd.read_csv(f\"../01_algorithm_optimization/distance_matrices/{aggregate}/{size}/distance_matrix.csv\", delimiter=\";\",\n",
    "                                     index_col=\"Unnamed: 0\").sort_index()\n",
    "distance_matrix_df = distance_matrix_df[~distance_matrix_df.index.duplicated(keep='first')]\n",
    "distance_matrix = distance_matrix_df.to_numpy()"
   ],
   "outputs": [],
   "execution_count": 8
  },
  {
   "cell_type": "code",
   "id": "a0063e60-bb8f-4383-a7a4-ff3960eb2578",
   "metadata": {
    "ExecuteTime": {
     "end_time": "2025-07-25T09:44:44.103475Z",
     "start_time": "2025-07-25T09:44:31.064477Z"
    }
   },
   "source": [
    "gentrain_graph = build_graph(distance_matrix)\n",
    "gentrain_mst = build_mst(gentrain_graph)"
   ],
   "outputs": [
    {
     "name": "stdout",
     "output_type": "stream",
     "text": [
      "mst generation time: 8.62s\n"
     ]
    }
   ],
   "execution_count": 9
  },
  {
   "cell_type": "markdown",
   "id": "fcaf6a44-f230-43d1-a3d3-4e49380dcc0f",
   "metadata": {},
   "source": [
    "### 5,000 sequences"
   ]
  },
  {
   "cell_type": "code",
   "id": "a2bc2a5d-8946-404d-b5dc-a99e22d1f283",
   "metadata": {
    "ExecuteTime": {
     "end_time": "2025-07-25T09:44:44.114661Z",
     "start_time": "2025-07-25T09:44:44.112612Z"
    }
   },
   "source": [
    "size = 5000"
   ],
   "outputs": [],
   "execution_count": 10
  },
  {
   "cell_type": "code",
   "id": "30859194-daee-4df0-8f19-41609b623e57",
   "metadata": {
    "ExecuteTime": {
     "end_time": "2025-07-25T09:44:45.316461Z",
     "start_time": "2025-07-25T09:44:44.125041Z"
    }
   },
   "source": [
    "distance_matrix_df = pd.read_csv(f\"../01_algorithm_optimization/distance_matrices/{aggregate}/{size}/distance_matrix.csv\", delimiter=\";\",\n",
    "                                     index_col=\"Unnamed: 0\").sort_index()\n",
    "distance_matrix_df = distance_matrix_df[~distance_matrix_df.index.duplicated(keep='first')]\n",
    "distance_matrix = distance_matrix_df.to_numpy()"
   ],
   "outputs": [],
   "execution_count": 11
  },
  {
   "cell_type": "code",
   "id": "0a568486-7b83-4d58-b9f5-e07a16c5d364",
   "metadata": {
    "ExecuteTime": {
     "end_time": "2025-07-25T09:45:43.390977Z",
     "start_time": "2025-07-25T09:44:45.326186Z"
    }
   },
   "source": [
    "gentrain_graph = build_graph(distance_matrix)\n",
    "gentrain_mst = build_mst(gentrain_graph)"
   ],
   "outputs": [
    {
     "name": "stdout",
     "output_type": "stream",
     "text": [
      "mst generation time: 40.74s\n"
     ]
    }
   ],
   "execution_count": 12
  },
  {
   "cell_type": "markdown",
   "id": "56defd4e-f5b3-4b70-9332-33b8251a6c53",
   "metadata": {},
   "source": [
    "## nrw_2022"
   ]
  },
  {
   "cell_type": "code",
   "id": "1098432b-f754-4c6c-8523-570baea499c2",
   "metadata": {
    "ExecuteTime": {
     "end_time": "2025-07-25T09:45:43.506327Z",
     "start_time": "2025-07-25T09:45:43.504678Z"
    }
   },
   "source": [
    "aggregate = \"nrw_2022\""
   ],
   "outputs": [],
   "execution_count": 14
  },
  {
   "cell_type": "markdown",
   "id": "947a5146-8970-4158-8466-3b0257a03fc7",
   "metadata": {},
   "source": [
    "### 1,250 sequences"
   ]
  },
  {
   "cell_type": "code",
   "id": "7864d6a2-a3c9-4fb4-8bee-8df5c8c08a69",
   "metadata": {
    "ExecuteTime": {
     "end_time": "2025-07-25T09:45:43.529702Z",
     "start_time": "2025-07-25T09:45:43.527611Z"
    }
   },
   "source": [
    "size = 1250"
   ],
   "outputs": [],
   "execution_count": 15
  },
  {
   "cell_type": "code",
   "id": "583a5422-b20d-4151-9d2b-2b55ce9f1fce",
   "metadata": {
    "ExecuteTime": {
     "end_time": "2025-07-25T09:45:43.607100Z",
     "start_time": "2025-07-25T09:45:43.533670Z"
    }
   },
   "source": [
    "distance_matrix_df = pd.read_csv(f\"../01_algorithm_optimization/distance_matrices/{aggregate}/{size}/distance_matrix.csv\", delimiter=\";\",\n",
    "                                     index_col=\"Unnamed: 0\").sort_index()\n",
    "distance_matrix_df = distance_matrix_df[~distance_matrix_df.index.duplicated(keep='first')]\n",
    "distance_matrix = distance_matrix_df.to_numpy()"
   ],
   "outputs": [],
   "execution_count": 16
  },
  {
   "cell_type": "code",
   "id": "320a5126-ed06-41e9-a477-473ce3c6b6a7",
   "metadata": {
    "ExecuteTime": {
     "end_time": "2025-07-25T09:45:46.075493Z",
     "start_time": "2025-07-25T09:45:43.617736Z"
    }
   },
   "source": [
    "gentrain_graph = build_graph(distance_matrix)\n",
    "gentrain_mst = build_mst(gentrain_graph)"
   ],
   "outputs": [
    {
     "name": "stdout",
     "output_type": "stream",
     "text": [
      "mst generation time: 1.49s\n"
     ]
    }
   ],
   "execution_count": 17
  },
  {
   "cell_type": "markdown",
   "id": "442a0a09-9242-474d-8f53-a24596fec787",
   "metadata": {},
   "source": [
    "### 2,500 sequences"
   ]
  },
  {
   "cell_type": "code",
   "id": "7561c9a3-eb53-4f2e-a811-40e19bcecbfe",
   "metadata": {
    "ExecuteTime": {
     "end_time": "2025-07-25T09:45:46.148563Z",
     "start_time": "2025-07-25T09:45:46.146431Z"
    }
   },
   "source": [
    "size = 2500"
   ],
   "outputs": [],
   "execution_count": 18
  },
  {
   "cell_type": "code",
   "id": "fa4f2a54-e71d-4050-a51f-505fece97edb",
   "metadata": {
    "ExecuteTime": {
     "end_time": "2025-07-25T09:45:46.405802Z",
     "start_time": "2025-07-25T09:45:46.163552Z"
    }
   },
   "source": [
    "distance_matrix_df = pd.read_csv(f\"../01_algorithm_optimization/distance_matrices/{aggregate}/{size}/distance_matrix.csv\", delimiter=\";\",\n",
    "                                     index_col=\"Unnamed: 0\").sort_index()\n",
    "distance_matrix_df = distance_matrix_df[~distance_matrix_df.index.duplicated(keep='first')]\n",
    "distance_matrix = distance_matrix_df.to_numpy()"
   ],
   "outputs": [],
   "execution_count": 19
  },
  {
   "cell_type": "code",
   "id": "06248666-02db-4f8d-81ba-6a8af219331e",
   "metadata": {
    "ExecuteTime": {
     "end_time": "2025-07-25T09:46:04.999786Z",
     "start_time": "2025-07-25T09:45:46.414681Z"
    }
   },
   "source": [
    "gentrain_graph = build_graph(distance_matrix)\n",
    "gentrain_mst = build_mst(gentrain_graph)"
   ],
   "outputs": [
    {
     "name": "stdout",
     "output_type": "stream",
     "text": [
      "mst generation time: 14.63s\n"
     ]
    }
   ],
   "execution_count": 20
  },
  {
   "cell_type": "markdown",
   "id": "4d4f78d5-e087-4beb-af44-82fa66181c00",
   "metadata": {},
   "source": [
    "### 5,000 sequences"
   ]
  },
  {
   "cell_type": "code",
   "id": "1e359b0e-1348-468a-9d3a-847adae4191c",
   "metadata": {
    "ExecuteTime": {
     "end_time": "2025-07-25T09:46:05.012498Z",
     "start_time": "2025-07-25T09:46:05.009315Z"
    }
   },
   "source": [
    "size = 5000"
   ],
   "outputs": [],
   "execution_count": 21
  },
  {
   "cell_type": "code",
   "id": "4b51b089-4e6d-427d-933a-c8a7689e93e0",
   "metadata": {
    "ExecuteTime": {
     "end_time": "2025-07-25T09:46:06.188624Z",
     "start_time": "2025-07-25T09:46:05.023053Z"
    }
   },
   "source": [
    "distance_matrix_df = pd.read_csv(f\"../01_algorithm_optimization/distance_matrices/{aggregate}/{size}/distance_matrix.csv\", delimiter=\";\",\n",
    "                                     index_col=\"Unnamed: 0\").sort_index()\n",
    "distance_matrix_df = distance_matrix_df[~distance_matrix_df.index.duplicated(keep='first')]\n",
    "distance_matrix = distance_matrix_df.to_numpy()"
   ],
   "outputs": [],
   "execution_count": 22
  },
  {
   "cell_type": "code",
   "id": "a931d567-f2dd-4e82-93ba-85fdc83be79c",
   "metadata": {
    "ExecuteTime": {
     "end_time": "2025-07-25T09:47:22.142969Z",
     "start_time": "2025-07-25T09:46:06.197697Z"
    }
   },
   "source": [
    "gentrain_graph = build_graph(distance_matrix)\n",
    "gentrain_mst = build_mst(gentrain_graph)"
   ],
   "outputs": [
    {
     "name": "stdout",
     "output_type": "stream",
     "text": [
      "mst generation time: 59.43s\n"
     ]
    }
   ],
   "execution_count": 23
  },
  {
   "cell_type": "markdown",
   "id": "a0bad888-90d4-4cc1-8a08-d153c823b633",
   "metadata": {},
   "source": [
    "### 10,000 sequences"
   ]
  },
  {
   "cell_type": "code",
   "id": "47834507-b1dc-449e-8544-b679b2de063a",
   "metadata": {
    "ExecuteTime": {
     "end_time": "2025-07-25T09:47:22.222816Z",
     "start_time": "2025-07-25T09:47:22.219973Z"
    }
   },
   "source": [
    "size = 10000"
   ],
   "outputs": [],
   "execution_count": 24
  },
  {
   "cell_type": "code",
   "id": "a60eeb5a-3c2d-4ad2-9d3f-c3748721a13e",
   "metadata": {
    "ExecuteTime": {
     "end_time": "2025-07-25T09:47:29.760287Z",
     "start_time": "2025-07-25T09:47:22.240717Z"
    }
   },
   "source": [
    "distance_matrix_df = pd.read_csv(f\"../01_algorithm_optimization/distance_matrices/{aggregate}/{size}/distance_matrix.csv\", delimiter=\";\",\n",
    "                                     index_col=\"Unnamed: 0\").sort_index()\n",
    "distance_matrix_df = distance_matrix_df[~distance_matrix_df.index.duplicated(keep='first')]\n",
    "distance_matrix = distance_matrix_df.to_numpy()"
   ],
   "outputs": [],
   "execution_count": 25
  },
  {
   "cell_type": "code",
   "id": "a88e7de3-51df-49d6-9a4b-ba86c8f5ad65",
   "metadata": {
    "ExecuteTime": {
     "end_time": "2025-07-25T10:37:30.345127Z",
     "start_time": "2025-07-25T09:47:29.775290Z"
    }
   },
   "source": [
    "gentrain_graph = build_graph(distance_matrix)\n",
    "gentrain_mst = build_mst(gentrain_graph)"
   ],
   "outputs": [
    {
     "name": "stdout",
     "output_type": "stream",
     "text": [
      "mst generation time: 2926.82s\n"
     ]
    }
   ],
   "execution_count": 26
  }
 ],
 "metadata": {
  "kernelspec": {
   "display_name": "3.9.14",
   "language": "python",
   "name": "python3"
  },
  "language_info": {
   "codemirror_mode": {
    "name": "ipython",
    "version": 3
   },
   "file_extension": ".py",
   "mimetype": "text/x-python",
   "name": "python",
   "nbconvert_exporter": "python",
   "pygments_lexer": "ipython3",
   "version": "3.9.14"
  }
 },
 "nbformat": 4,
 "nbformat_minor": 5
}
